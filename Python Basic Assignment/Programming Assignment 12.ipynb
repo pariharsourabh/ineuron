{
 "cells": [
  {
   "cell_type": "code",
   "execution_count": 1,
   "id": "87bb8f89-8754-4bdd-8cef-c1862ab244c5",
   "metadata": {},
   "outputs": [],
   "source": [
    "# 1.\tWrite a Python program to Extract Unique values dictionary values?"
   ]
  },
  {
   "cell_type": "code",
   "execution_count": 2,
   "id": "8c209988-2f81-4fb3-931b-8225f4fc4ce9",
   "metadata": {},
   "outputs": [],
   "source": [
    "def extract_unique_values(dictionary):\n",
    "    unique_values = set()\n",
    "    for values in dictionary.values():\n",
    "        unique_values.update(values)\n",
    "    \n",
    "    return unique_values"
   ]
  },
  {
   "cell_type": "code",
   "execution_count": 3,
   "id": "d78b70df-be2c-49c7-ba26-c9f9906d0d47",
   "metadata": {},
   "outputs": [
    {
     "data": {
      "text/plain": [
       "{1, 2, 3, 4, 5}"
      ]
     },
     "execution_count": 3,
     "metadata": {},
     "output_type": "execute_result"
    }
   ],
   "source": [
    "my_dict = {\n",
    "    'key1': [1, 2, 3],\n",
    "    'key2': [2, 3, 4],\n",
    "    'key3': [3, 4, 5]\n",
    "}\n",
    "extract_unique_values(my_dict)"
   ]
  },
  {
   "cell_type": "code",
   "execution_count": 4,
   "id": "5e49709d-9c56-4f63-ad3e-6654fb99aab1",
   "metadata": {},
   "outputs": [],
   "source": [
    "# 2.\tWrite a Python program to find the sum of all items in a dictionary?"
   ]
  },
  {
   "cell_type": "code",
   "execution_count": 5,
   "id": "d52d7aae-6426-458a-964e-5603fda90a80",
   "metadata": {},
   "outputs": [],
   "source": [
    "def sum_of_items(dictionary):\n",
    "    total = 0\n",
    "    for item  in dictionary.values():\n",
    "        total += item\n",
    "    return total"
   ]
  },
  {
   "cell_type": "code",
   "execution_count": 7,
   "id": "cc93087c-b04e-4015-9b4e-e711190abb4f",
   "metadata": {},
   "outputs": [
    {
     "data": {
      "text/plain": [
       "90"
      ]
     },
     "execution_count": 7,
     "metadata": {},
     "output_type": "execute_result"
    }
   ],
   "source": [
    "my_dict= {'a1':20,'a2':30,'a3':40}\n",
    "sum_of_items(my_dict)"
   ]
  },
  {
   "cell_type": "code",
   "execution_count": 8,
   "id": "6399d4c7-9177-4c8f-bb19-d2436e05388e",
   "metadata": {},
   "outputs": [],
   "source": [
    "# 3.\tWrite a Python program to Merging two Dictionaries?"
   ]
  },
  {
   "cell_type": "code",
   "execution_count": 9,
   "id": "352d33bf-8db8-4726-829a-e30040fa7d90",
   "metadata": {},
   "outputs": [],
   "source": [
    "def merging(dict1, dict2):\n",
    "    merged_dict= {**dict1, **dict2}\n",
    "    return merged_dict"
   ]
  },
  {
   "cell_type": "code",
   "execution_count": 10,
   "id": "facf8e83-8e68-49de-947d-bd59456f6f75",
   "metadata": {},
   "outputs": [
    {
     "data": {
      "text/plain": [
       "{'a': 1, 'b': 2, 'c': 3, 'd': 4}"
      ]
     },
     "execution_count": 10,
     "metadata": {},
     "output_type": "execute_result"
    }
   ],
   "source": [
    "dict1 = {'a':1,'b':2}\n",
    "dict2 = {'c':3,'d':4}\n",
    "merging(dict1,dict2)"
   ]
  },
  {
   "cell_type": "code",
   "execution_count": 11,
   "id": "bc6fce9f-7e1e-443d-8ad2-428e2e85e718",
   "metadata": {},
   "outputs": [],
   "source": [
    "# 4.\tWrite a Python program to convert key-values list to flat dictionary?"
   ]
  },
  {
   "cell_type": "code",
   "execution_count": 14,
   "id": "48ae5e1f-4057-4fbe-a102-02b61e2d5f98",
   "metadata": {},
   "outputs": [],
   "source": [
    "def convert_to_flat_dictionary(lst):\n",
    "    flat_dict = {}\n",
    "    for key, value in lst:\n",
    "        flat_dict[key] = value\n",
    "    return flat_dict"
   ]
  },
  {
   "cell_type": "code",
   "execution_count": 15,
   "id": "31eef38e-8d7c-47db-b760-92e3d6503a7b",
   "metadata": {},
   "outputs": [
    {
     "data": {
      "text/plain": [
       "{'a': 1, 'b': 2, 'c': 3}"
      ]
     },
     "execution_count": 15,
     "metadata": {},
     "output_type": "execute_result"
    }
   ],
   "source": [
    "key_value_list = [(\"a\", 1), (\"b\", 2), (\"c\", 3)]\n",
    "convert_to_flat_dictionary(key_value_list)"
   ]
  },
  {
   "cell_type": "code",
   "execution_count": 16,
   "id": "3be7f66c-265a-4f21-b70d-9effddc2f2db",
   "metadata": {},
   "outputs": [],
   "source": [
    "# 5.\tWrite a Python program to insertion at the beginning in OrderedDict?"
   ]
  },
  {
   "cell_type": "code",
   "execution_count": 17,
   "id": "7f209ff4-a4dc-4933-9685-8e7d8b2c5f3b",
   "metadata": {},
   "outputs": [],
   "source": [
    "from collections import OrderedDict\n",
    "\n",
    "def insert_at_beginning(ordered_dict, key, value):\n",
    "    updated_dict = OrderedDict([(key, value)])\n",
    "    updated_dict.update(ordered_dict)\n",
    "    \n",
    "    return updated_dict"
   ]
  },
  {
   "cell_type": "code",
   "execution_count": 18,
   "id": "ac473be5-665e-4ad6-bc8a-b9d621f2db30",
   "metadata": {},
   "outputs": [
    {
     "data": {
      "text/plain": [
       "OrderedDict([('x', 10), ('a', 1), ('b', 2), ('c', 3)])"
      ]
     },
     "execution_count": 18,
     "metadata": {},
     "output_type": "execute_result"
    }
   ],
   "source": [
    "my_ordered_dict = OrderedDict([('a', 1), ('b', 2), ('c', 3)])\n",
    "key = 'x'\n",
    "value = 10\n",
    "insert_at_beginning(my_ordered_dict, key, value)"
   ]
  },
  {
   "cell_type": "code",
   "execution_count": 19,
   "id": "08cdd76a-6c12-42fd-9b75-bbbde517bc8a",
   "metadata": {},
   "outputs": [],
   "source": [
    "# 6.\tWrite a Python program to check order of character in string using OrderedDict()?"
   ]
  },
  {
   "cell_type": "code",
   "execution_count": 25,
   "id": "1274f600-1e63-45a6-8376-37a68750e40c",
   "metadata": {},
   "outputs": [],
   "source": [
    "from collections import OrderedDict\n",
    "\n",
    "def check_order_of_characters(string, pattern):\n",
    "    char_order = OrderedDict.fromkeys(string)\n",
    "    for char in pattern:\n",
    "        if char in char_order:\n",
    "            char_order[char] = 1\n",
    "        else:\n",
    "            return False\n",
    "    return True"
   ]
  },
  {
   "cell_type": "code",
   "execution_count": 26,
   "id": "85523c43-50d6-4dda-a0a2-f9cb48484056",
   "metadata": {},
   "outputs": [
    {
     "data": {
      "text/plain": [
       "True"
      ]
     },
     "execution_count": 26,
     "metadata": {},
     "output_type": "execute_result"
    }
   ],
   "source": [
    "my_string = \"Hello, World!\"\n",
    "my_pattern = \"or\"\n",
    "check_order_of_characters(my_string, my_pattern)"
   ]
  },
  {
   "cell_type": "code",
   "execution_count": 27,
   "id": "62fdc0e4-5fc3-4bf5-8ba1-90d91f01a166",
   "metadata": {},
   "outputs": [],
   "source": [
    "# 7.\tWrite a Python program to sort Python Dictionaries by Key or Value?"
   ]
  },
  {
   "cell_type": "code",
   "execution_count": 28,
   "id": "ee69a336-528f-4c0e-805f-06dd0464f9b3",
   "metadata": {},
   "outputs": [],
   "source": [
    "def sort_dictionary_by_key(dictionary):\n",
    "    sorted_dict = dict(sorted(dictionary.items()))\n",
    "    return sorted_dict\n",
    "\n",
    "def sort_dictionary_by_value(dictionary):\n",
    "    sorted_dict = dict(sorted(dictionary.items(), key=lambda item: item[1]))\n",
    "    return sorted_dict"
   ]
  },
  {
   "cell_type": "code",
   "execution_count": 30,
   "id": "1c103551-25ca-43e0-b9b8-6cbfb27bc2e0",
   "metadata": {},
   "outputs": [
    {
     "name": "stdout",
     "output_type": "stream",
     "text": [
      "Dictionary sorted by key:\n",
      "{'a': 2, 'b': 3, 'c': 1, 'd': 3}\n",
      "Dictionary sorted by value:\n",
      "{'c': 1, 'a': 2, 'b': 3, 'd': 3}\n"
     ]
    }
   ],
   "source": [
    "my_dict = {'b': 3, 'a': 2, 'd': 3, 'c': 1}\n",
    "sorted_by_key = sort_dictionary_by_key(my_dict)\n",
    "print(\"Dictionary sorted by key:\")\n",
    "print(sorted_by_key)\n",
    "sorted_by_value = sort_dictionary_by_value(my_dict)\n",
    "print(\"Dictionary sorted by value:\")\n",
    "print(sorted_by_value)"
   ]
  },
  {
   "cell_type": "code",
   "execution_count": null,
   "id": "072144db-157a-4383-9a96-a9aae57cbd2a",
   "metadata": {},
   "outputs": [],
   "source": []
  }
 ],
 "metadata": {
  "kernelspec": {
   "display_name": "Python 3 (ipykernel)",
   "language": "python",
   "name": "python3"
  },
  "language_info": {
   "codemirror_mode": {
    "name": "ipython",
    "version": 3
   },
   "file_extension": ".py",
   "mimetype": "text/x-python",
   "name": "python",
   "nbconvert_exporter": "python",
   "pygments_lexer": "ipython3",
   "version": "3.10.6"
  }
 },
 "nbformat": 4,
 "nbformat_minor": 5
}
