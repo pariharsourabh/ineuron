{
 "cells": [
  {
   "cell_type": "code",
   "execution_count": 1,
   "id": "206d4433",
   "metadata": {},
   "outputs": [],
   "source": [
    "# 1. What is the name of the feature responsible for generating Regex objects?"
   ]
  },
  {
   "cell_type": "code",
   "execution_count": 2,
   "id": "cfa2915e-6a49-4d7e-bbc5-5bfeefbfd054",
   "metadata": {},
   "outputs": [
    {
     "name": "stdout",
     "output_type": "stream",
     "text": [
      "['dog', 'dog']\n"
     ]
    }
   ],
   "source": [
    "import re\n",
    "rex = re.compile(r'dog')\n",
    "t = \"i have a dog and my dog is big\"\n",
    "m = rex.findall(t)\n",
    "print(m)"
   ]
  },
  {
   "cell_type": "code",
   "execution_count": 2,
   "id": "dd997dad",
   "metadata": {},
   "outputs": [],
   "source": [
    "# 2. Why do raw strings often appear in Regex objects?"
   ]
  },
  {
   "cell_type": "code",
   "execution_count": 3,
   "id": "eb118561",
   "metadata": {},
   "outputs": [],
   "source": [
    "# Raw strings are often used in Regex objects because they allow backslashes to be interpreted as literal characters rather than escape sequences."
   ]
  },
  {
   "cell_type": "code",
   "execution_count": 4,
   "id": "5ebc521c",
   "metadata": {},
   "outputs": [],
   "source": [
    "# 3. What is the return value of the search() method?"
   ]
  },
  {
   "cell_type": "code",
   "execution_count": 5,
   "id": "eefa234c",
   "metadata": {},
   "outputs": [],
   "source": [
    "# The search() method returns a Match object if the pattern is found in the searched string, or None if it is not found."
   ]
  },
  {
   "cell_type": "code",
   "execution_count": 6,
   "id": "d83422df",
   "metadata": {},
   "outputs": [],
   "source": [
    "# 4. From a Match item, how do you get the actual strings that match the pattern?"
   ]
  },
  {
   "cell_type": "code",
   "execution_count": 7,
   "id": "23414668",
   "metadata": {},
   "outputs": [],
   "source": [
    "# The group() method can be used to retrieve the actual strings that match the pattern from a Match object."
   ]
  },
  {
   "cell_type": "code",
   "execution_count": 8,
   "id": "6e956cf2",
   "metadata": {},
   "outputs": [],
   "source": [
    "# 5. In the regex which created from the r'(\\d\\d\\d)-(\\d\\d\\d-\\d\\d\\d\\d)', what does group zero cover?\n",
    "# Group 2? Group 1?"
   ]
  },
  {
   "cell_type": "code",
   "execution_count": 5,
   "id": "f58c1072-7040-42aa-b967-aab0b45e83b5",
   "metadata": {},
   "outputs": [
    {
     "name": "stdout",
     "output_type": "stream",
     "text": [
      "665-555-8994\n",
      "665\n",
      "555-8994\n"
     ]
    }
   ],
   "source": [
    "import re\n",
    "regex = re.compile(r'(\\d\\d\\d)-(\\d\\d\\d-\\d\\d\\d\\d)')\n",
    "text = \"your number is 665-555-8994.\"\n",
    "match = regex.search(text)\n",
    "print(match.group())\n",
    "print(match.group(1))\n",
    "print(match.group(2))"
   ]
  },
  {
   "cell_type": "code",
   "execution_count": 9,
   "id": "7bbe27fe",
   "metadata": {},
   "outputs": [],
   "source": [
    "# 6. In standard expression syntax, parentheses and intervals have distinct meanings. How can you tell a regex that you want it to fit real parentheses and periods?"
   ]
  },
  {
   "cell_type": "code",
   "execution_count": 11,
   "id": "55b81f4a-4a25-4b4b-b503-64eae49b1d37",
   "metadata": {},
   "outputs": [
    {
     "name": "stdout",
     "output_type": "stream",
     "text": [
      "(efa.com)\n"
     ]
    }
   ],
   "source": [
    "import re\n",
    "a = re.compile(r'\\(efa\\.com\\)')\n",
    "t = \"faknf faf (efa.com)\"\n",
    "m = a.search(t)\n",
    "print(m.group())"
   ]
  },
  {
   "cell_type": "code",
   "execution_count": 10,
   "id": "85713790",
   "metadata": {},
   "outputs": [],
   "source": [
    "# 7. The findall() method returns a string list or a list of string tuples. What causes it to return one of the two options?"
   ]
  },
  {
   "cell_type": "code",
   "execution_count": 11,
   "id": "e573ee99",
   "metadata": {},
   "outputs": [],
   "source": [
    "# The findall() method returns a list of string tuples if the pattern contains one or more groups. If the pattern does not contain any groups, it returns a list of strings."
   ]
  },
  {
   "cell_type": "code",
   "execution_count": 12,
   "id": "b1eda925",
   "metadata": {},
   "outputs": [],
   "source": [
    "# 8. In standard expressions, what does the | character mean?"
   ]
  },
  {
   "cell_type": "code",
   "execution_count": 13,
   "id": "3873f395",
   "metadata": {},
   "outputs": [],
   "source": [
    "# In regular expressions, the | character is used to denote alternation. It allows you to match one pattern or another."
   ]
  },
  {
   "cell_type": "code",
   "execution_count": 14,
   "id": "33e48c43",
   "metadata": {},
   "outputs": [],
   "source": [
    "# 9. In regular expressions, what does the character stand for?"
   ]
  },
  {
   "cell_type": "code",
   "execution_count": 15,
   "id": "a6c26237",
   "metadata": {},
   "outputs": [],
   "source": [
    "# . (dot) - Matches any character except a newline.\n",
    "# ^ (caret) - Matches the start of a string or line.\n",
    "# $ (dollar) - Matches the end of a string or line.\n",
    "# * (asterisk) - Matches zero or more occurrences of the previous character or group.\n",
    "# + (plus) - Matches one or more occurrences of the previous character or group.\n",
    "# ? (question mark) - Matches zero or one occurrence of the previous character or group.\n",
    "# | (pipe) - Matches either the expression before or after the pipe.\n",
    "# [] (square brackets) - Matches any single character within the brackets.\n",
    "# () (parentheses) - Creates a capturing group for the enclosed expression."
   ]
  },
  {
   "cell_type": "code",
   "execution_count": 16,
   "id": "fd7ef2dd",
   "metadata": {},
   "outputs": [],
   "source": [
    "# 10.In regular expressions, what is the difference between the + and * characters?"
   ]
  },
  {
   "cell_type": "code",
   "execution_count": 17,
   "id": "df75f8a9",
   "metadata": {},
   "outputs": [],
   "source": [
    "# * (asterisk) - Matches zero or more occurrences of the previous character or group.\n",
    "# + (plus) - Matches one or more occurrences of the previous character or group."
   ]
  },
  {
   "cell_type": "code",
   "execution_count": 18,
   "id": "478f2fc4",
   "metadata": {},
   "outputs": [],
   "source": [
    "# 11. What is the difference between {4} and {4,5} in regular expression?"
   ]
  },
  {
   "cell_type": "code",
   "execution_count": 19,
   "id": "c273049d",
   "metadata": {},
   "outputs": [],
   "source": [
    "# {4} specifies that the preceding expression must be matched exactly four times, while {4,5} specifies that it must be matched between four and five times."
   ]
  },
  {
   "cell_type": "code",
   "execution_count": 20,
   "id": "38f3974e",
   "metadata": {},
   "outputs": [],
   "source": [
    "# 12. What do you mean by the \\d, \\w, and \\s shorthand character classes signify in regular expressions?"
   ]
  },
  {
   "cell_type": "code",
   "execution_count": 21,
   "id": "b8941ad5",
   "metadata": {},
   "outputs": [],
   "source": [
    "# \\d: Matches any digit character. This is equivalent to the character class [0-9].\n",
    "# \\w: Matches any word character, which includes digits, letters, and underscores. This is equivalent to the character class [a-zA-Z0-9_].\n",
    "# \\s: Matches any whitespace character, which includes spaces, tabs, and newline characters."
   ]
  },
  {
   "cell_type": "code",
   "execution_count": 22,
   "id": "4a0c3205",
   "metadata": {},
   "outputs": [],
   "source": [
    "# 13. What do means by \\D, \\W, and \\S shorthand character classes signify in regular expressions?"
   ]
  },
  {
   "cell_type": "code",
   "execution_count": 23,
   "id": "fab4b3d7",
   "metadata": {},
   "outputs": [],
   "source": [
    "# \\D: Matches any character that is not a digit character. This is equivalent to the character class [^0-9].\n",
    "# \\W: Matches any character that is not a word character. This is equivalent to the character class [^a-zA-Z0-9_].\n",
    "# \\S: Matches any character that is not a whitespace character."
   ]
  },
  {
   "cell_type": "code",
   "execution_count": 24,
   "id": "c619f49f",
   "metadata": {},
   "outputs": [],
   "source": [
    "# 14. What is the difference between .*? and .*?"
   ]
  },
  {
   "cell_type": "code",
   "execution_count": null,
   "id": "04b2d785-05be-48c6-a756-6c62853b4a99",
   "metadata": {},
   "outputs": [],
   "source": []
  },
  {
   "cell_type": "code",
   "execution_count": 25,
   "id": "71121a14",
   "metadata": {},
   "outputs": [],
   "source": [
    "# 15. What is the syntax for matching both numbers and lowercase letters with a character class?"
   ]
  },
  {
   "cell_type": "code",
   "execution_count": 26,
   "id": "aacd58c4",
   "metadata": {},
   "outputs": [],
   "source": [
    "# [0-9a-z]"
   ]
  },
  {
   "cell_type": "code",
   "execution_count": 27,
   "id": "cfff791d",
   "metadata": {},
   "outputs": [],
   "source": [
    "# 16. What is the procedure for making a normal expression in regax case insensitive?"
   ]
  },
  {
   "cell_type": "code",
   "execution_count": 14,
   "id": "c1c40a7c-2ad3-4f20-adb8-0c2c3272d484",
   "metadata": {},
   "outputs": [
    {
     "name": "stdout",
     "output_type": "stream",
     "text": [
      "['Hello']\n"
     ]
    }
   ],
   "source": [
    "import re\n",
    "pattern = re.compile(r\"hello\", re.IGNORECASE)\n",
    "text = \"Hello world!\"\n",
    "matches = pattern.findall(text)\n",
    "print(matches) "
   ]
  },
  {
   "cell_type": "code",
   "execution_count": 28,
   "id": "1c641a6c",
   "metadata": {},
   "outputs": [],
   "source": [
    "# 17. What does the . character normally match? What does it match if re.DOTALL is passed as 2nd argument in re.compile()?"
   ]
  },
  {
   "cell_type": "code",
   "execution_count": 15,
   "id": "eedb1b6c-3bea-41c8-8c72-7c4f606d290a",
   "metadata": {},
   "outputs": [
    {
     "name": "stdout",
     "output_type": "stream",
     "text": [
      "multi-line\n",
      "string\n"
     ]
    }
   ],
   "source": [
    "import re\n",
    "pattern = re.compile(r'\"(.*)\"', re.DOTALL)\n",
    "text = 'This is a \"multi-line\\nstring\" example.'\n",
    "match = pattern.search(text)\n",
    "print(match.group(1))"
   ]
  },
  {
   "cell_type": "code",
   "execution_count": 29,
   "id": "eac31c04",
   "metadata": {},
   "outputs": [],
   "source": [
    "# 18. If numReg = re.compile(r'\\d+'), what will numRegex.sub('X', '11 drummers, 10 pipers, five rings, 4 hen') return?"
   ]
  },
  {
   "cell_type": "code",
   "execution_count": 16,
   "id": "c1773b67-a4c3-4970-863d-c702f95df10b",
   "metadata": {},
   "outputs": [],
   "source": [
    "numReg = re.compile(r'\\d+')"
   ]
  },
  {
   "cell_type": "code",
   "execution_count": 18,
   "id": "1ca29ac6-ddb7-49da-8e0f-d8fa2069dcfd",
   "metadata": {},
   "outputs": [
    {
     "data": {
      "text/plain": [
       "'X drummers, X pipers, five rings, X hen'"
      ]
     },
     "execution_count": 18,
     "metadata": {},
     "output_type": "execute_result"
    }
   ],
   "source": [
    "numReg.sub('X', '11 drummers, 10 pipers, five rings, 4 hen')"
   ]
  },
  {
   "cell_type": "code",
   "execution_count": 30,
   "id": "5f55483f",
   "metadata": {},
   "outputs": [],
   "source": [
    "# 19. What does passing re.VERBOSE as the 2nd argument to re.compile() allow to do?"
   ]
  },
  {
   "cell_type": "code",
   "execution_count": 31,
   "id": "eae30741",
   "metadata": {},
   "outputs": [],
   "source": [
    "# Passing re.VERBOSE as the second argument to re.compile() allows you to write the regular expression with comments and white space, which can make it more readable and easier to maintain."
   ]
  },
  {
   "cell_type": "code",
   "execution_count": 32,
   "id": "f7bb7c1d",
   "metadata": {},
   "outputs": [],
   "source": [
    "# 20. How would you write a regex that match a number with comma for every three digits? It must match the given following:\n",
    "# '42'\n",
    "# '1,234'\n",
    "# '6,368,745'\n",
    "# but not the following:\n",
    "# '12,34,567' (which has only two digits between the commas)\n",
    "# '1234' (which lacks commas)"
   ]
  },
  {
   "cell_type": "code",
   "execution_count": 19,
   "id": "30133ef0-fed2-4cc8-b22b-380a4d0e61ec",
   "metadata": {},
   "outputs": [
    {
     "name": "stdout",
     "output_type": "stream",
     "text": [
      "<re.Match object; span=(0, 2), match='42'>\n",
      "<re.Match object; span=(0, 5), match='1,234'>\n",
      "<re.Match object; span=(0, 9), match='6,368,745'>\n",
      "None\n",
      "None\n"
     ]
    }
   ],
   "source": [
    "import re\n",
    "\n",
    "pattern = re.compile(r'^\\d{1,3}(,\\d{3})*$')\n",
    "print(pattern.match('42'))          # Output: <re.Match object; span=(0, 2), match='42'>\n",
    "print(pattern.match('1,234'))       # Output: <re.Match object; span=(0, 6), match='1,234'>\n",
    "print(pattern.match('6,368,745'))   # Output: <re.Match object; span=(0, 9), match='6,368,745'>\n",
    "print(pattern.match('12,34,567'))   # Output: None\n",
    "print(pattern.match('1234'))        # Output: None\n"
   ]
  },
  {
   "cell_type": "code",
   "execution_count": 34,
   "id": "6de5497d",
   "metadata": {},
   "outputs": [],
   "source": [
    "# 21. How would you write a regex that matches the full name of someone whose last name is Watanabe? You can assume that the first name that comes before it will always be one word that begins with a capital letter. The regex must match the following:\n",
    "# 'Haruto Watanabe'\n",
    "# 'Alice Watanabe'\n",
    "# 'RoboCop Watanabe'\n",
    "# but not the following:\n",
    "# 'haruto Watanabe' (where the first name is not capitalized)\n",
    "# 'Mr. Watanabe' (where the preceding word has a nonletter character)\n",
    "# 'Watanabe' (which has no first name)\n",
    "# 'Haruto watanabe' (where Watanabe is not capitalized)"
   ]
  },
  {
   "cell_type": "code",
   "execution_count": 27,
   "id": "329de413-b47f-4c1f-907c-577474abea79",
   "metadata": {},
   "outputs": [
    {
     "name": "stdout",
     "output_type": "stream",
     "text": [
      "Haruto Watanabe matches the pattern\n",
      "Alice Watanabe matches the pattern\n",
      "RoboCop Watanabe matches the pattern\n",
      "haruto Watanabe does not match the pattern\n",
      "Mr. Watanabe does not match the pattern\n",
      "Watanabe does not match the pattern\n",
      "Haruto watanabe does not match the pattern\n"
     ]
    }
   ],
   "source": [
    "import re\n",
    "pattern = r'[A-Z][a-zA-Z]*\\sWatanabe'\n",
    "regex = re.compile(pattern)\n",
    "names = ['Haruto Watanabe', 'Alice Watanabe', 'RoboCop Watanabe', 'haruto Watanabe', 'Mr. Watanabe', 'Watanabe', 'Haruto watanabe']\n",
    "for name in names:\n",
    "    if regex.match(name):\n",
    "        print(name, 'matches the pattern')\n",
    "    else:\n",
    "        print(name, 'does not match the pattern')"
   ]
  },
  {
   "cell_type": "code",
   "execution_count": 35,
   "id": "2b013f0d",
   "metadata": {},
   "outputs": [],
   "source": [
    "# 22. How would you write a regex that matches a sentence where the first word is either Alice, Bob, or Carol; the second word is either eats, pets, or throws; the third word is apples, cats, or baseballs; and the sentence ends with a period? This regex should be case-insensitive. It must match the following:\n",
    "# 'Alice eats apples.'\n",
    "# 'Bob pets cats.'\n",
    "# 'Carol throws baseballs.'\n",
    "# 'Alice throws Apples.'\n",
    "# 'BOB EATS CATS.'\n",
    "# but not the following:\n",
    "# 'RoboCop eats apples.'\n",
    "# 'ALICE THROWS FOOTBALLS.'\n",
    "# 'Carol eats 7 cats.'"
   ]
  },
  {
   "cell_type": "code",
   "execution_count": 30,
   "id": "ca6f4b9a-d7e0-4820-9298-e330b40feff8",
   "metadata": {},
   "outputs": [
    {
     "name": "stdout",
     "output_type": "stream",
     "text": [
      "<re.Match object; span=(0, 18), match='Alice eats apples.'>\n",
      "<re.Match object; span=(0, 14), match='Bob pets cats.'>\n",
      "<re.Match object; span=(0, 23), match='Carol throws baseballs.'>\n",
      "<re.Match object; span=(0, 20), match='Alice throws Apples.'>\n",
      "<re.Match object; span=(0, 14), match='BOB EATS CATS.'>\n",
      "None\n",
      "None\n",
      "None\n"
     ]
    }
   ],
   "source": [
    "import re\n",
    "regex = re.compile(r'^(Alice|Bob|Carol)\\s+(eats|pets|throws)\\s+(apples|cats|baseballs)\\.$', re.IGNORECASE)\n",
    "print(regex.match('Alice eats apples.'))\n",
    "print(regex.match('Bob pets cats.'))\n",
    "print(regex.match('Carol throws baseballs.'))\n",
    "print(regex.match('Alice throws Apples.'))\n",
    "print(regex.match('BOB EATS CATS.'))\n",
    "print(regex.match('RoboCop eats apples.'))\n",
    "print(regex.match('ALICE THROWS FOOTBALLS.'))\n",
    "print(regex.match('Carol eats 7 cats.'))"
   ]
  },
  {
   "cell_type": "code",
   "execution_count": null,
   "id": "2490024e-aff6-476f-b5dc-ed7de3fdecc2",
   "metadata": {},
   "outputs": [],
   "source": []
  }
 ],
 "metadata": {
  "kernelspec": {
   "display_name": "Python 3 (ipykernel)",
   "language": "python",
   "name": "python3"
  },
  "language_info": {
   "codemirror_mode": {
    "name": "ipython",
    "version": 3
   },
   "file_extension": ".py",
   "mimetype": "text/x-python",
   "name": "python",
   "nbconvert_exporter": "python",
   "pygments_lexer": "ipython3",
   "version": "3.9.13"
  }
 },
 "nbformat": 4,
 "nbformat_minor": 5
}
