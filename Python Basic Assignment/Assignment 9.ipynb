{
 "cells": [
  {
   "cell_type": "raw",
   "id": "4217fb2d-87ff-40d2-b984-d5c3affbe188",
   "metadata": {},
   "source": [
    "1. To what does a relative path refer?"
   ]
  },
  {
   "cell_type": "raw",
   "id": "1cdc9979-fd5a-4a90-b637-018919b4b3ca",
   "metadata": {},
   "source": [
    "A relative path refers to the path of a file or directory"
   ]
  },
  {
   "cell_type": "raw",
   "id": "5781a6c5-e897-4759-827c-88b29f939c7f",
   "metadata": {},
   "source": [
    "2. What does an absolute path start with your operating system?"
   ]
  },
  {
   "cell_type": "code",
   "execution_count": 7,
   "id": "63767e7d-a0d4-4f52-b436-dc8f019e3314",
   "metadata": {},
   "outputs": [],
   "source": [
    "import os"
   ]
  },
  {
   "cell_type": "code",
   "execution_count": 8,
   "id": "5f175571-3753-4471-a5b9-eae3692fa517",
   "metadata": {},
   "outputs": [
    {
     "data": {
      "text/plain": [
       "'/home/jovyan/work/Assignment '"
      ]
     },
     "execution_count": 8,
     "metadata": {},
     "output_type": "execute_result"
    }
   ],
   "source": [
    "os.getcwd()"
   ]
  },
  {
   "cell_type": "raw",
   "id": "00a5a9d9-28e2-430f-9c1e-9b65293d68db",
   "metadata": {},
   "source": [
    "3. What do the functions os.getcwd() and os.chdir() do?"
   ]
  },
  {
   "cell_type": "code",
   "execution_count": 9,
   "id": "0806c928-cb21-4040-ae79-eebf46ba8c58",
   "metadata": {},
   "outputs": [
    {
     "data": {
      "text/plain": [
       "'/home/jovyan/work/Assignment '"
      ]
     },
     "execution_count": 9,
     "metadata": {},
     "output_type": "execute_result"
    }
   ],
   "source": [
    "os.getcwd() # give current working directory"
   ]
  },
  {
   "cell_type": "code",
   "execution_count": null,
   "id": "a0d5c7e9-b2b8-48af-a9df-760e1924e5e7",
   "metadata": {},
   "outputs": [],
   "source": [
    "os.chdir() # change working directory to specific path"
   ]
  },
  {
   "cell_type": "raw",
   "id": "67237b41-3075-4276-b9cf-370b78f21636",
   "metadata": {},
   "source": [
    "4. What are the . and .. folders?"
   ]
  },
  {
   "cell_type": "raw",
   "id": "74882d67-72f8-42da-8f06-0b89f6917710",
   "metadata": {},
   "source": [
    ".  -> folder represent current directory\n",
    ".. -> folder represent parent directory"
   ]
  },
  {
   "cell_type": "raw",
   "id": "543f5f51-3b5c-48e6-b174-5856418722bf",
   "metadata": {},
   "source": [
    "5. In C:\\bacon\\eggs\\spam.txt, which part is the dir name, and which part is the base name?"
   ]
  },
  {
   "cell_type": "raw",
   "id": "343bc968-82a6-42b2-90e3-27f96bf1a410",
   "metadata": {},
   "source": [
    "\"C:\\bacon\\eggs\" -> dir name\n",
    "\"spam.txt\" -> base name"
   ]
  },
  {
   "cell_type": "raw",
   "id": "c0a113bd-3dc8-4a8e-9529-5cd04b1825e8",
   "metadata": {},
   "source": [
    "6. What are the three “mode” arguments that can be passed to the open() function?"
   ]
  },
  {
   "cell_type": "raw",
   "id": "30ad6d34-49cc-4d91-9d49-1988f8f2130d",
   "metadata": {},
   "source": [
    "r - to read\n",
    "w -> to write\n",
    "a -> to append"
   ]
  },
  {
   "cell_type": "raw",
   "id": "29582da5-ee35-4cc5-8fd5-53d4e028e544",
   "metadata": {},
   "source": [
    "7. What happens if an existing file is opened in write mode?"
   ]
  },
  {
   "cell_type": "raw",
   "id": "cdf0f7af-ab7a-4a34-a3fa-a3e8063e00e8",
   "metadata": {},
   "source": [
    "The file will be treated as a new, empty file."
   ]
  },
  {
   "cell_type": "raw",
   "id": "fcc5fb54-dc2e-4f25-8743-68d259523671",
   "metadata": {},
   "source": [
    "8. How do you tell the difference between read() and readlines()?"
   ]
  },
  {
   "cell_type": "raw",
   "id": "1ec959ff-3320-45c7-af22-989db9c43cbd",
   "metadata": {},
   "source": [
    "read() -> read entire content in file and return a single string\n",
    "readlines() -> read content line by line and return list of string"
   ]
  },
  {
   "cell_type": "raw",
   "id": "4ae887e5-5435-40f9-bf3a-3f973461aeb3",
   "metadata": {},
   "source": [
    "9. What data structure does a shelf value resemble?"
   ]
  },
  {
   "cell_type": "raw",
   "id": "84fca606-48a7-43b9-ac8d-a1ad967689b6",
   "metadata": {},
   "source": [
    "as a dictionary"
   ]
  },
  {
   "cell_type": "code",
   "execution_count": null,
   "id": "b3d66ed9-bfd6-49e3-bf11-ff11e7b5cb63",
   "metadata": {},
   "outputs": [],
   "source": []
  }
 ],
 "metadata": {
  "kernelspec": {
   "display_name": "Python 3 (ipykernel)",
   "language": "python",
   "name": "python3"
  },
  "language_info": {
   "codemirror_mode": {
    "name": "ipython",
    "version": 3
   },
   "file_extension": ".py",
   "mimetype": "text/x-python",
   "name": "python",
   "nbconvert_exporter": "python",
   "pygments_lexer": "ipython3",
   "version": "3.10.6"
  }
 },
 "nbformat": 4,
 "nbformat_minor": 5
}
