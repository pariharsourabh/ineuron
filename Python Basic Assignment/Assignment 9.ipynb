{
 "cells": [
  {
   "cell_type": "code",
   "execution_count": 1,
   "id": "2c5c3ee1",
   "metadata": {},
   "outputs": [],
   "source": [
    "# 1. To what does a relative path refer?"
   ]
  },
  {
   "cell_type": "code",
   "execution_count": 2,
   "id": "4c2c0c88",
   "metadata": {},
   "outputs": [],
   "source": [
    "# A relative path refers to the path of a file or directory"
   ]
  },
  {
   "cell_type": "code",
   "execution_count": 3,
   "id": "a477247d",
   "metadata": {},
   "outputs": [],
   "source": [
    "# 2. What does an absolute path start with your operating system?"
   ]
  },
  {
   "cell_type": "code",
   "execution_count": 7,
   "id": "63767e7d-a0d4-4f52-b436-dc8f019e3314",
   "metadata": {},
   "outputs": [],
   "source": [
    "import os"
   ]
  },
  {
   "cell_type": "code",
   "execution_count": 8,
   "id": "5f175571-3753-4471-a5b9-eae3692fa517",
   "metadata": {},
   "outputs": [
    {
     "data": {
      "text/plain": [
       "'/home/jovyan/work/Assignment '"
      ]
     },
     "execution_count": 8,
     "metadata": {},
     "output_type": "execute_result"
    }
   ],
   "source": [
    "os.getcwd()"
   ]
  },
  {
   "cell_type": "code",
   "execution_count": 4,
   "id": "d232faa8",
   "metadata": {},
   "outputs": [],
   "source": [
    "# 3. What do the functions os.getcwd() and os.chdir() do?"
   ]
  },
  {
   "cell_type": "code",
   "execution_count": 9,
   "id": "0806c928-cb21-4040-ae79-eebf46ba8c58",
   "metadata": {},
   "outputs": [
    {
     "data": {
      "text/plain": [
       "'/home/jovyan/work/Assignment '"
      ]
     },
     "execution_count": 9,
     "metadata": {},
     "output_type": "execute_result"
    }
   ],
   "source": [
    "os.getcwd() # give current working directory"
   ]
  },
  {
   "cell_type": "code",
   "execution_count": null,
   "id": "a0d5c7e9-b2b8-48af-a9df-760e1924e5e7",
   "metadata": {},
   "outputs": [],
   "source": [
    "os.chdir() # change working directory to specific path"
   ]
  },
  {
   "cell_type": "code",
   "execution_count": 5,
   "id": "83407f5f",
   "metadata": {},
   "outputs": [],
   "source": [
    "# 4. What are the . and .. folders?"
   ]
  },
  {
   "cell_type": "code",
   "execution_count": 6,
   "id": "013ddb77",
   "metadata": {},
   "outputs": [],
   "source": [
    "# .  -> folder represent current directory\n",
    "# .. -> folder represent parent directory"
   ]
  },
  {
   "cell_type": "code",
   "execution_count": 7,
   "id": "de123d60",
   "metadata": {},
   "outputs": [],
   "source": [
    "# 5. In C:\\bacon\\eggs\\spam.txt, which part is the dir name, and which part is the base name?"
   ]
  },
  {
   "cell_type": "code",
   "execution_count": 8,
   "id": "8dbe2cc2",
   "metadata": {},
   "outputs": [],
   "source": [
    "# \"C:\\bacon\\eggs\" -> dir name\n",
    "# \"spam.txt\" -> base name"
   ]
  },
  {
   "cell_type": "code",
   "execution_count": 9,
   "id": "967ff2b1",
   "metadata": {},
   "outputs": [],
   "source": [
    "# 6. What are the three “mode” arguments that can be passed to the open() function?"
   ]
  },
  {
   "cell_type": "code",
   "execution_count": 10,
   "id": "4c43c1fb",
   "metadata": {},
   "outputs": [],
   "source": [
    "# r - to read\n",
    "# w -> to write\n",
    "# a -> to append"
   ]
  },
  {
   "cell_type": "code",
   "execution_count": 11,
   "id": "b8eec1f1",
   "metadata": {},
   "outputs": [],
   "source": [
    "# 7. What happens if an existing file is opened in write mode?"
   ]
  },
  {
   "cell_type": "code",
   "execution_count": 12,
   "id": "571436a9",
   "metadata": {},
   "outputs": [],
   "source": [
    "# The file will be treated as a new, empty file."
   ]
  },
  {
   "cell_type": "code",
   "execution_count": 13,
   "id": "4d2b6dd3",
   "metadata": {},
   "outputs": [],
   "source": [
    "# 8. How do you tell the difference between read() and readlines()?"
   ]
  },
  {
   "cell_type": "code",
   "execution_count": 14,
   "id": "7d75f5b6",
   "metadata": {},
   "outputs": [],
   "source": [
    "# read() -> read entire content in file and return a single string\n",
    "# readlines() -> read content line by line and return list of string"
   ]
  },
  {
   "cell_type": "code",
   "execution_count": 15,
   "id": "42d120bd",
   "metadata": {},
   "outputs": [],
   "source": [
    "# 9. What data structure does a shelf value resemble?"
   ]
  },
  {
   "cell_type": "code",
   "execution_count": 16,
   "id": "eb0d2e71",
   "metadata": {},
   "outputs": [],
   "source": [
    "# as a dictionary"
   ]
  },
  {
   "cell_type": "code",
   "execution_count": null,
   "id": "b3d66ed9-bfd6-49e3-bf11-ff11e7b5cb63",
   "metadata": {},
   "outputs": [],
   "source": []
  }
 ],
 "metadata": {
  "kernelspec": {
   "display_name": "Python 3 (ipykernel)",
   "language": "python",
   "name": "python3"
  },
  "language_info": {
   "codemirror_mode": {
    "name": "ipython",
    "version": 3
   },
   "file_extension": ".py",
   "mimetype": "text/x-python",
   "name": "python",
   "nbconvert_exporter": "python",
   "pygments_lexer": "ipython3",
   "version": "3.9.13"
  }
 },
 "nbformat": 4,
 "nbformat_minor": 5
}
