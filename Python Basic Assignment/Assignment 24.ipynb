{
 "cells": [
  {
   "cell_type": "code",
   "execution_count": 1,
   "id": "65304ab4-2a78-494e-948c-cd1738e261c2",
   "metadata": {},
   "outputs": [],
   "source": [
    "# 1. What is the relationship between def statements and lambda expressions ?"
   ]
  },
  {
   "cell_type": "code",
   "execution_count": 2,
   "id": "bd444fa8-69ae-4452-bba9-ee8195683af4",
   "metadata": {},
   "outputs": [],
   "source": [
    "# Both def statements and lambda expressions are used to define functions in Python. However, there are some key differences between the two.\n",
    "\n",
    "# def statements define named functions, while lambda expressions define anonymous functions.\n",
    "# def statements can contain multiple statements, while lambda expressions can only contain a single expression.\n",
    "# def statements can be used to define functions with complex logic, while lambda expressions are typically used for simple functions that can be expressed in a single expression."
   ]
  },
  {
   "cell_type": "code",
   "execution_count": 3,
   "id": "78560e29-4076-47f4-aadd-cd1660925743",
   "metadata": {},
   "outputs": [],
   "source": [
    "# 2. What is the benefit of lambda?"
   ]
  },
  {
   "cell_type": "code",
   "execution_count": 4,
   "id": "4fec29ba-b437-48ce-bd3e-582227598a0a",
   "metadata": {},
   "outputs": [],
   "source": [
    "# Lambda expressions are a concise way to define anonymous functions. They are often used in functional programming, where they can be passed as arguments to other functions or used in other places where a function is expected.\n",
    "# Here are some of the benefits of using lambda expressions:\n",
    "\n",
    "# They can be used to define simple functions that can be expressed in a single expression.\n",
    "# They can be used to pass functions as arguments to other functions.\n",
    "# They can be used to create anonymous functions that are only used once.\n",
    "# They can make code more concise and readable."
   ]
  },
  {
   "cell_type": "code",
   "execution_count": 5,
   "id": "7fe4b7b9-b8ff-4308-b12f-5c420bc8bc25",
   "metadata": {},
   "outputs": [],
   "source": [
    "# 3. Compare and contrast map, filter, and reduce."
   ]
  },
  {
   "cell_type": "code",
   "execution_count": 6,
   "id": "dbf2bbc7-d37f-40d2-90fe-5b55aee9ff4b",
   "metadata": {},
   "outputs": [],
   "source": [
    "#  map(), filter(), and reduce() are powerful functions in Python that provide different ways to transform, filter, and aggregate data. They are commonly used in functional programming paradigms and can help write concise and expressive code."
   ]
  },
  {
   "cell_type": "code",
   "execution_count": 7,
   "id": "76ed2263-a8f1-4b12-842e-135c92840bda",
   "metadata": {},
   "outputs": [],
   "source": [
    "# 4. What are function annotations, and how are they used?"
   ]
  },
  {
   "cell_type": "code",
   "execution_count": 8,
   "id": "92528865-ef12-44c9-959a-c75c4d5939c2",
   "metadata": {},
   "outputs": [],
   "source": [
    "# Function annotations provide a way of associating various parts of a function with arbitrary pythoncexpressions at compile time.\n",
    "# Annotations of simple parameters def func(x: expression, y: expression = 20):\n",
    "# Whereas the annotations for excess parameters are as − def func (**args: expression, **kwargs: expression): "
   ]
  },
  {
   "cell_type": "code",
   "execution_count": 9,
   "id": "96cfd01d-c706-4391-a15d-ede86a7f4da0",
   "metadata": {},
   "outputs": [],
   "source": [
    "# 5. What are recursive functions, and how are they used?"
   ]
  },
  {
   "cell_type": "code",
   "execution_count": 10,
   "id": "33ba6085-2741-4adf-bb6a-506108bfb3aa",
   "metadata": {},
   "outputs": [],
   "source": [
    "# A recursive function is a function that calls itself during its execution. The process may repeat several times, outputting the result and the end of each iteration."
   ]
  },
  {
   "cell_type": "code",
   "execution_count": 11,
   "id": "63fd2782-2627-412d-a8a4-3536b4349674",
   "metadata": {},
   "outputs": [],
   "source": [
    "# 6. What are some general design guidelines for coding functions?"
   ]
  },
  {
   "cell_type": "code",
   "execution_count": 12,
   "id": "934bb9f8-5e93-4642-88b6-43eb2d1ebab1",
   "metadata": {},
   "outputs": [],
   "source": [
    "# Some of the general design guidelines for coding functions are:\n",
    "\n",
    "# 1. Always use a docstring to explain the functionality of the function\n",
    "# 2. avoid using or limited use of global variables\n",
    "# 3. Proper Identation to increase the code readability\n",
    "# 4. try to follow a naming convention for function names (pascalCase or camelCase) and stick with the same convention throughout the application.\n",
    "# 5. Avoid using digits while choosing a variable name\n",
    "# 6. try to use a name for the function which conveys the purpose of the function\n",
    "# 7. Local variables should be named using camelCase format (ex: localVariable) whereas Global variables names should be using PascalCase (ex:GlobalVariable).\n",
    "# 8. Constant should be represented in allcaps (ex:CONSTANT)."
   ]
  },
  {
   "cell_type": "code",
   "execution_count": null,
   "id": "b32fa48c-f0f4-46dc-bd4e-1f21b579df10",
   "metadata": {},
   "outputs": [],
   "source": []
  }
 ],
 "metadata": {
  "kernelspec": {
   "display_name": "Python 3 (ipykernel)",
   "language": "python",
   "name": "python3"
  },
  "language_info": {
   "codemirror_mode": {
    "name": "ipython",
    "version": 3
   },
   "file_extension": ".py",
   "mimetype": "text/x-python",
   "name": "python",
   "nbconvert_exporter": "python",
   "pygments_lexer": "ipython3",
   "version": "3.10.6"
  }
 },
 "nbformat": 4,
 "nbformat_minor": 5
}
