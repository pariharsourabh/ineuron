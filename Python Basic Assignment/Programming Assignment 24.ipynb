{
 "cells": [
  {
   "cell_type": "code",
   "execution_count": 29,
   "id": "744f0386-ab87-4c66-bb1a-855b3fbcd5c3",
   "metadata": {},
   "outputs": [],
   "source": [
    "#Question1\n",
    "#Create a function that takes an integer and returns a list from 1 to the given number, where:\n",
    "#1.\tIf the number can be divided evenly by 4, amplify it by 10 (i.e. return 10 times the number).\n",
    "#2.\tIf the number cannot be divided evenly by 4, simply return the number.\n",
    "#Examples\n",
    "#amplify(4) ➞ [1, 2, 3, 40]\n",
    "#\n",
    "#amplify(3) ➞ [1, 2, 3]\n",
    "#\n",
    "#amplify(25) ➞ [1, 2, 3, 40, 5, 6, 7, 80, 9, 10, 11, 120, 13, 14, 15, 160, 17, 18, 19, 200, 21, 22, 23, 240, 25]\n",
    "#Notes\n",
    "#•\tThe given integer will always be equal to or greater than 1.\n",
    "#•\tInclude the number (see example above).\n",
    "#•\tTo perform this problem with its intended purpose, try doing it with list comprehensions. If that's too difficult, just solve the challenge any way you can.\n"
   ]
  },
  {
   "cell_type": "code",
   "execution_count": 30,
   "id": "92d911de-c18b-449c-b1ed-3a1c393e4316",
   "metadata": {},
   "outputs": [],
   "source": [
    "def amplify(n):\n",
    "    amplified_numbers = []\n",
    "    for i in range(1, n + 1):\n",
    "        if i % 4 == 0:\n",
    "            amplified_numbers.append(i * 10)\n",
    "        else:\n",
    "            amplified_numbers.append(i)\n",
    "    return amplified_numbers"
   ]
  },
  {
   "cell_type": "code",
   "execution_count": 31,
   "id": "8fa8bf7b-0dd1-4e6c-b805-d045d2c71d53",
   "metadata": {},
   "outputs": [
    {
     "data": {
      "text/plain": [
       "[1, 2, 3, 40]"
      ]
     },
     "execution_count": 31,
     "metadata": {},
     "output_type": "execute_result"
    }
   ],
   "source": [
    "amplify(4)"
   ]
  },
  {
   "cell_type": "code",
   "execution_count": 32,
   "id": "a3c336a8-2b36-4766-83f4-9454a6885951",
   "metadata": {},
   "outputs": [
    {
     "data": {
      "text/plain": [
       "[1, 2, 3]"
      ]
     },
     "execution_count": 32,
     "metadata": {},
     "output_type": "execute_result"
    }
   ],
   "source": [
    "amplify(3)"
   ]
  },
  {
   "cell_type": "code",
   "execution_count": 33,
   "id": "bb2d0cbf-8e18-442c-93d5-bf5851713e38",
   "metadata": {},
   "outputs": [
    {
     "data": {
      "text/plain": [
       "[1,\n",
       " 2,\n",
       " 3,\n",
       " 40,\n",
       " 5,\n",
       " 6,\n",
       " 7,\n",
       " 80,\n",
       " 9,\n",
       " 10,\n",
       " 11,\n",
       " 120,\n",
       " 13,\n",
       " 14,\n",
       " 15,\n",
       " 160,\n",
       " 17,\n",
       " 18,\n",
       " 19,\n",
       " 200,\n",
       " 21,\n",
       " 22,\n",
       " 23,\n",
       " 240,\n",
       " 25]"
      ]
     },
     "execution_count": 33,
     "metadata": {},
     "output_type": "execute_result"
    }
   ],
   "source": [
    "amplify(25)"
   ]
  },
  {
   "cell_type": "code",
   "execution_count": 34,
   "id": "e8076df4-a8f1-4996-878d-9eb4c63585a7",
   "metadata": {},
   "outputs": [],
   "source": [
    "#Question2\n",
    "#Create a function that takes a list of numbers and return the number that's unique.\n",
    "#Examples\n",
    "#unique([3, 3, 3, 7, 3, 3]) ➞ 7\n",
    "\n",
    "#unique([0, 0, 0.77, 0, 0]) ➞ 0.77\n",
    "\n",
    "#unique([0, 1, 1, 1, 1, 1, 1, 1]) ➞ 0\n",
    "#Notes\n",
    "#Test cases will always have exactly one unique number while all others are the same.\n"
   ]
  },
  {
   "cell_type": "code",
   "execution_count": 35,
   "id": "c1f7cda3-771e-4e6b-9dee-0e11e038a33f",
   "metadata": {},
   "outputs": [],
   "source": [
    "def unique(numbers):\n",
    "    for num in numbers:\n",
    "        if numbers.count(num) == 1:\n",
    "            return num"
   ]
  },
  {
   "cell_type": "code",
   "execution_count": 36,
   "id": "17e9a000-14f0-4beb-9a60-6214d15af942",
   "metadata": {},
   "outputs": [
    {
     "data": {
      "text/plain": [
       "7"
      ]
     },
     "execution_count": 36,
     "metadata": {},
     "output_type": "execute_result"
    }
   ],
   "source": [
    "unique([3, 3, 3, 7, 3, 3])"
   ]
  },
  {
   "cell_type": "code",
   "execution_count": 37,
   "id": "0e572406-477a-4b40-ae30-6ac904c4869c",
   "metadata": {},
   "outputs": [
    {
     "data": {
      "text/plain": [
       "0.77"
      ]
     },
     "execution_count": 37,
     "metadata": {},
     "output_type": "execute_result"
    }
   ],
   "source": [
    "unique([0, 0, 0.77, 0, 0])"
   ]
  },
  {
   "cell_type": "code",
   "execution_count": 38,
   "id": "ad5b645e-3103-42f1-9d67-a7b0d64a5b04",
   "metadata": {},
   "outputs": [
    {
     "data": {
      "text/plain": [
       "0"
      ]
     },
     "execution_count": 38,
     "metadata": {},
     "output_type": "execute_result"
    }
   ],
   "source": [
    "unique([0, 1, 1, 1, 1, 1, 1, 1])"
   ]
  },
  {
   "cell_type": "code",
   "execution_count": 39,
   "id": "9cb83e07-4ffd-4ec1-86eb-31d136493f52",
   "metadata": {},
   "outputs": [],
   "source": [
    "#Question3\n",
    "#Your task is to create a Circle constructor that creates a circle with a radius provided by an argument. The circles constructed must have two getters getArea() (PIr^2) and getPerimeter() (2PI*r) which give both respective areas and perimeter (circumference).\n",
    "#For help with this class, I have provided you with a Rectangle constructor which you can use as a base example.\n",
    "#Examples\n",
    "#circy = Circle(11)\n",
    "#circy.getArea()\n",
    "\n",
    "# Should return 380.132711084365\n",
    "\n",
    "#circy = Circle(4.44)\n",
    "#circy.getPerimeter()\n",
    "\n",
    "# Should return 27.897342763877365\n",
    "#Notes\n",
    "#Round results up to the nearest integer.\n"
   ]
  },
  {
   "cell_type": "code",
   "execution_count": 40,
   "id": "7d64e9ea-9d95-4056-bb1f-bb46abfe3e10",
   "metadata": {},
   "outputs": [],
   "source": [
    "import math\n",
    "class Circle:\n",
    "    def __init__(self, radius):\n",
    "        self.radius = radius\n",
    "    def getArea(self):\n",
    "        return round(math.pi * self.radius ** 2, 0)\n",
    "    def getPerimeter(self):\n",
    "        return round(2 * math.pi * self.radius, 0)"
   ]
  },
  {
   "cell_type": "code",
   "execution_count": 41,
   "id": "294db70b-1e33-4793-bde6-3c79c0557437",
   "metadata": {},
   "outputs": [
    {
     "data": {
      "text/plain": [
       "380.0"
      ]
     },
     "execution_count": 41,
     "metadata": {},
     "output_type": "execute_result"
    }
   ],
   "source": [
    "circy = Circle(11)\n",
    "circy.getArea()"
   ]
  },
  {
   "cell_type": "code",
   "execution_count": 42,
   "id": "0afe81a9-0361-4db7-bb16-287f88ea57b5",
   "metadata": {},
   "outputs": [
    {
     "data": {
      "text/plain": [
       "28.0"
      ]
     },
     "execution_count": 42,
     "metadata": {},
     "output_type": "execute_result"
    }
   ],
   "source": [
    "circy = Circle(4.44)\n",
    "circy.getPerimeter()"
   ]
  },
  {
   "cell_type": "code",
   "execution_count": 43,
   "id": "188b2a0d-fa7b-4bc4-b8dd-16c49a3208ac",
   "metadata": {},
   "outputs": [],
   "source": [
    "#Question4\n",
    "#Create a function that takes a list of strings and return a list, sorted from shortest to longest.\n",
    "#Examples\n",
    "#sort_by_length([\"Google\", \"Apple\", \"Microsoft\"])\n",
    "#➞ [\"Apple\", \"Google\", \"Microsoft\"]\n",
    "\n",
    "#sort_by_length([\"Leonardo\", \"Michelangelo\", \"Raphael\", \"Donatello\"])\n",
    "#➞ [\"Raphael\", \"Leonardo\", \"Donatello\", \"Michelangelo\"]\n",
    "\n",
    "#sort_by_length([\"Turing\", \"Einstein\", \"Jung\"])\n",
    "#➞ [\"Jung\", \"Turing\", \"Einstein\"]\n",
    "#Notes\n",
    "#All test cases contain lists with strings of different lengths, so you won't have to deal with multiple strings of the same length.\n"
   ]
  },
  {
   "cell_type": "code",
   "execution_count": 44,
   "id": "fef90e74-a023-4357-88cb-3fe15384aa7d",
   "metadata": {},
   "outputs": [],
   "source": [
    "def sort_by_length(strings):\n",
    "    sorted_strings = sorted(strings, key=len)\n",
    "    return sorted_strings"
   ]
  },
  {
   "cell_type": "code",
   "execution_count": 45,
   "id": "931d84d8-2451-40dd-839e-5e6cb67a14d5",
   "metadata": {},
   "outputs": [
    {
     "data": {
      "text/plain": [
       "['Apple', 'Google', 'Microsoft']"
      ]
     },
     "execution_count": 45,
     "metadata": {},
     "output_type": "execute_result"
    }
   ],
   "source": [
    "sort_by_length([\"Google\", \"Apple\", \"Microsoft\"])"
   ]
  },
  {
   "cell_type": "code",
   "execution_count": 46,
   "id": "04d559c5-7892-460d-9d50-c7ff7ee257a3",
   "metadata": {},
   "outputs": [
    {
     "data": {
      "text/plain": [
       "['Raphael', 'Leonardo', 'Donatello', 'Michelangelo']"
      ]
     },
     "execution_count": 46,
     "metadata": {},
     "output_type": "execute_result"
    }
   ],
   "source": [
    "sort_by_length([\"Leonardo\", \"Michelangelo\", \"Raphael\", \"Donatello\"])"
   ]
  },
  {
   "cell_type": "code",
   "execution_count": 47,
   "id": "4d8790cf-93b5-4de0-9133-a4261416cd59",
   "metadata": {},
   "outputs": [
    {
     "data": {
      "text/plain": [
       "['Jung', 'Turing', 'Einstein']"
      ]
     },
     "execution_count": 47,
     "metadata": {},
     "output_type": "execute_result"
    }
   ],
   "source": [
    "sort_by_length([\"Turing\", \"Einstein\", \"Jung\"])"
   ]
  },
  {
   "cell_type": "code",
   "execution_count": 48,
   "id": "b8938b22-0904-4bf8-9776-b7a1bc72b73b",
   "metadata": {},
   "outputs": [],
   "source": [
    "#Question5\n",
    "#Create a function that validates whether three given integers form a Pythagorean triplet. The sum of the squares of the two smallest integers must equal the square of the largest number to be validated.\n",
    "\n",
    "\n",
    "#Examples\n",
    "#is_triplet(3, 4, 5) ➞ True\n",
    "# 3² + 4² = 25\n",
    "# 5² = 25\n",
    "\n",
    "#is_triplet(13, 5, 12) ➞ True\n",
    "# 5² + 12² = 169\n",
    "# 13² = 169\n",
    "\n",
    "#is_triplet(1, 2, 3) ➞ False\n",
    "# 1² + 2² = 5\n",
    "# 3² = 9\n",
    "#Notes\n",
    "#Numbers may not be given in a sorted order.\n",
    "#"
   ]
  },
  {
   "cell_type": "code",
   "execution_count": 52,
   "id": "aafae9e5-ec2f-4927-9d67-d3afae0f8e10",
   "metadata": {},
   "outputs": [],
   "source": [
    "def is_triplet(num1, num2, num3):\n",
    "    squares = [num1**2, num2**2, num3**2]\n",
    "    squares.sort()\n",
    "    return squares[0] + squares[1] == squares[2]"
   ]
  },
  {
   "cell_type": "code",
   "execution_count": 53,
   "id": "9cf4ae6d-5207-4667-b694-f9bf49a74b7e",
   "metadata": {},
   "outputs": [
    {
     "data": {
      "text/plain": [
       "True"
      ]
     },
     "execution_count": 53,
     "metadata": {},
     "output_type": "execute_result"
    }
   ],
   "source": [
    "is_triplet(3, 4, 5)"
   ]
  },
  {
   "cell_type": "code",
   "execution_count": 54,
   "id": "fbf550a7-0595-4182-89bd-5fb4402337ef",
   "metadata": {},
   "outputs": [
    {
     "data": {
      "text/plain": [
       "True"
      ]
     },
     "execution_count": 54,
     "metadata": {},
     "output_type": "execute_result"
    }
   ],
   "source": [
    "is_triplet(13,5,12)"
   ]
  },
  {
   "cell_type": "code",
   "execution_count": 55,
   "id": "05884509-f916-4641-962c-f41fd1aabfaa",
   "metadata": {},
   "outputs": [
    {
     "data": {
      "text/plain": [
       "False"
      ]
     },
     "execution_count": 55,
     "metadata": {},
     "output_type": "execute_result"
    }
   ],
   "source": [
    "is_triplet(1,2,3)"
   ]
  },
  {
   "cell_type": "code",
   "execution_count": null,
   "id": "9ec427aa-b696-4eaf-8972-4f4e7b7ea520",
   "metadata": {},
   "outputs": [],
   "source": []
  }
 ],
 "metadata": {
  "kernelspec": {
   "display_name": "Python 3 (ipykernel)",
   "language": "python",
   "name": "python3"
  },
  "language_info": {
   "codemirror_mode": {
    "name": "ipython",
    "version": 3
   },
   "file_extension": ".py",
   "mimetype": "text/x-python",
   "name": "python",
   "nbconvert_exporter": "python",
   "pygments_lexer": "ipython3",
   "version": "3.10.6"
  }
 },
 "nbformat": 4,
 "nbformat_minor": 5
}
