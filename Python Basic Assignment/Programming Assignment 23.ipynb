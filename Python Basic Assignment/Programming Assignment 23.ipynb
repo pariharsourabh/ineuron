{
 "cells": [
  {
   "cell_type": "code",
   "execution_count": 1,
   "id": "3c85685f-aa88-4d5e-948e-0c5800063552",
   "metadata": {},
   "outputs": [],
   "source": [
    "#Create a function that takes a number as an argument and returns True or False depending on whether the number is symmetrical or not. A number is symmetrical when it is the same as its reverse.\n",
    "#Examples\n",
    "#is_symmetrical(7227) ➞ True\n",
    "\n",
    "#is_symmetrical(12567) ➞ False\n",
    "\n",
    "#is_symmetrical(44444444) ➞ True\n",
    "\n",
    "#is_symmetrical(9939) ➞ False\n",
    "\n",
    "#is_symmetrical(1112111) ➞ True\n"
   ]
  },
  {
   "cell_type": "code",
   "execution_count": 8,
   "id": "e266755f-a71b-490c-8109-9211ef75bc69",
   "metadata": {},
   "outputs": [],
   "source": [
    "def is_symmetrical(number):\n",
    "    reversed_number = str(number)[::-1]\n",
    "    return number == int(reversed_number)"
   ]
  },
  {
   "cell_type": "code",
   "execution_count": 9,
   "id": "f3879512-ace7-4384-947a-833330f09770",
   "metadata": {},
   "outputs": [
    {
     "data": {
      "text/plain": [
       "True"
      ]
     },
     "execution_count": 9,
     "metadata": {},
     "output_type": "execute_result"
    }
   ],
   "source": [
    "is_symmetrical(7227)"
   ]
  },
  {
   "cell_type": "code",
   "execution_count": 10,
   "id": "2420b457-666a-4db6-8f16-238df8137990",
   "metadata": {},
   "outputs": [
    {
     "data": {
      "text/plain": [
       "False"
      ]
     },
     "execution_count": 10,
     "metadata": {},
     "output_type": "execute_result"
    }
   ],
   "source": [
    "is_symmetrical(12567)"
   ]
  },
  {
   "cell_type": "code",
   "execution_count": 11,
   "id": "8a9b3147-b9c9-490f-8487-fa704ede4f82",
   "metadata": {},
   "outputs": [
    {
     "data": {
      "text/plain": [
       "True"
      ]
     },
     "execution_count": 11,
     "metadata": {},
     "output_type": "execute_result"
    }
   ],
   "source": [
    "is_symmetrical(44444444)"
   ]
  },
  {
   "cell_type": "code",
   "execution_count": 12,
   "id": "229bee8e-2cad-4a2c-a73b-f3db0fde2562",
   "metadata": {},
   "outputs": [
    {
     "data": {
      "text/plain": [
       "False"
      ]
     },
     "execution_count": 12,
     "metadata": {},
     "output_type": "execute_result"
    }
   ],
   "source": [
    "is_symmetrical(9939)"
   ]
  },
  {
   "cell_type": "code",
   "execution_count": 13,
   "id": "229a38fa-bf02-4ee8-983f-f859938d449e",
   "metadata": {},
   "outputs": [
    {
     "data": {
      "text/plain": [
       "True"
      ]
     },
     "execution_count": 13,
     "metadata": {},
     "output_type": "execute_result"
    }
   ],
   "source": [
    "is_symmetrical(1112111)"
   ]
  },
  {
   "cell_type": "code",
   "execution_count": 15,
   "id": "fcf89718-f8eb-4836-96c9-f38ba564bb1e",
   "metadata": {},
   "outputs": [],
   "source": [
    "#Given a string of numbers separated by a comma and space, return the product of the numbers.\n",
    "#Examples\n",
    "#multiply_nums(\"2, 3\") ➞ 6\n",
    "\n",
    "#multiply_nums(\"1, 2, 3, 4\") ➞ 24\n",
    "\n",
    "#multiply_nums(\"54, 75, 453, 0\") ➞ 0\n",
    "\n",
    "#multiply_nums(\"10, -2\") ➞ -20\n",
    " "
   ]
  },
  {
   "cell_type": "code",
   "execution_count": 17,
   "id": "6b09d761-8176-447c-818a-bb6f4cb91984",
   "metadata": {},
   "outputs": [],
   "source": [
    "def multiply_nums(string):\n",
    "    numbers = string.split(\",\")\n",
    "    product = 1\n",
    "    for number in numbers:\n",
    "        product = product * int(number)\n",
    "    return product"
   ]
  },
  {
   "cell_type": "code",
   "execution_count": 18,
   "id": "2d43af32-b8bd-4f67-b11b-5ae0e914d250",
   "metadata": {},
   "outputs": [
    {
     "data": {
      "text/plain": [
       "6"
      ]
     },
     "execution_count": 18,
     "metadata": {},
     "output_type": "execute_result"
    }
   ],
   "source": [
    "multiply_nums(\"2, 3\")"
   ]
  },
  {
   "cell_type": "code",
   "execution_count": 19,
   "id": "e3046042-42c1-4a0e-9bc5-68a67c7dc064",
   "metadata": {},
   "outputs": [
    {
     "data": {
      "text/plain": [
       "24"
      ]
     },
     "execution_count": 19,
     "metadata": {},
     "output_type": "execute_result"
    }
   ],
   "source": [
    "multiply_nums(\"1, 2, 3, 4\")"
   ]
  },
  {
   "cell_type": "code",
   "execution_count": 20,
   "id": "8e130d69-0330-4af0-b4f8-f56b74c7f1a2",
   "metadata": {},
   "outputs": [
    {
     "data": {
      "text/plain": [
       "0"
      ]
     },
     "execution_count": 20,
     "metadata": {},
     "output_type": "execute_result"
    }
   ],
   "source": [
    "multiply_nums(\"54, 75, 453, 0\")"
   ]
  },
  {
   "cell_type": "code",
   "execution_count": 21,
   "id": "dcbf4ce6-8ba0-4f0d-8e09-94bc85368ab0",
   "metadata": {},
   "outputs": [
    {
     "data": {
      "text/plain": [
       "-20"
      ]
     },
     "execution_count": 21,
     "metadata": {},
     "output_type": "execute_result"
    }
   ],
   "source": [
    "multiply_nums(\"10, -2\")"
   ]
  },
  {
   "cell_type": "code",
   "execution_count": 22,
   "id": "0ca04041-7ab3-4f19-8069-c8d50a947de1",
   "metadata": {},
   "outputs": [],
   "source": [
    "#Create a function that squares every digit of a number.\n",
    "#Examples\n",
    "#square_digits(9119) ➞ 811181\n",
    "\n",
    "#square_digits(2483) ➞ 416649\n",
    "\n",
    "#square_digits(3212) ➞ 9414\n",
    "#Notes\n",
    "#The function receives an integer and must return an integer.\n"
   ]
  },
  {
   "cell_type": "code",
   "execution_count": 24,
   "id": "c2ece0dd-6f88-494e-b2c8-a08f5ced2e5e",
   "metadata": {},
   "outputs": [],
   "source": [
    "def square_digits(number):\n",
    "    result = \"\"\n",
    "    for digit in str(number):\n",
    "        result =result + str(int(digit) ** 2)\n",
    "    return int(result)"
   ]
  },
  {
   "cell_type": "code",
   "execution_count": 25,
   "id": "c4d92c06-0335-4125-9732-8c3a9b1c87a3",
   "metadata": {},
   "outputs": [
    {
     "data": {
      "text/plain": [
       "811181"
      ]
     },
     "execution_count": 25,
     "metadata": {},
     "output_type": "execute_result"
    }
   ],
   "source": [
    "square_digits(9119)"
   ]
  },
  {
   "cell_type": "code",
   "execution_count": 26,
   "id": "3d6c5dee-2f0b-4e97-8bbf-de4e8e192d25",
   "metadata": {},
   "outputs": [
    {
     "data": {
      "text/plain": [
       "416649"
      ]
     },
     "execution_count": 26,
     "metadata": {},
     "output_type": "execute_result"
    }
   ],
   "source": [
    "square_digits(2483)"
   ]
  },
  {
   "cell_type": "code",
   "execution_count": 27,
   "id": "22bed8dd-2c89-4de8-be0b-8838662368c3",
   "metadata": {},
   "outputs": [
    {
     "data": {
      "text/plain": [
       "9414"
      ]
     },
     "execution_count": 27,
     "metadata": {},
     "output_type": "execute_result"
    }
   ],
   "source": [
    "square_digits(3212)"
   ]
  },
  {
   "cell_type": "code",
   "execution_count": 28,
   "id": "0d045a76-0c6f-40ca-8400-8efd72b431d5",
   "metadata": {},
   "outputs": [],
   "source": [
    "#Create a function that sorts a list and removes all duplicate items from it.\n",
    "#Examples\n",
    "#setify([1, 3, 3, 5, 5]) ➞ [1, 3, 5]\n",
    "\n",
    "#setify([4, 4, 4, 4]) ➞ [4]\n",
    "\n",
    "#setify([5, 7, 8, 9, 10, 15]) ➞ [5, 7, 8, 9, 10, 15]\n",
    "\n",
    "#setify([3, 3, 3, 2, 1]) ➞ [1, 2, 3]\n"
   ]
  },
  {
   "cell_type": "code",
   "execution_count": 29,
   "id": "1dc979a4-1db1-4af0-9f0b-75526e1dfd7f",
   "metadata": {},
   "outputs": [],
   "source": [
    "def setify(lst):\n",
    "    return sorted(list(set(lst)))"
   ]
  },
  {
   "cell_type": "code",
   "execution_count": 30,
   "id": "5c53ccf5-8370-4085-a087-30c31fe4acd0",
   "metadata": {},
   "outputs": [
    {
     "data": {
      "text/plain": [
       "[1, 3, 5]"
      ]
     },
     "execution_count": 30,
     "metadata": {},
     "output_type": "execute_result"
    }
   ],
   "source": [
    "setify([1, 3, 3, 5, 5])"
   ]
  },
  {
   "cell_type": "code",
   "execution_count": 31,
   "id": "7d849926-402f-4d27-90f9-0bc283d57bb1",
   "metadata": {},
   "outputs": [
    {
     "data": {
      "text/plain": [
       "[4]"
      ]
     },
     "execution_count": 31,
     "metadata": {},
     "output_type": "execute_result"
    }
   ],
   "source": [
    "setify([4, 4, 4, 4])"
   ]
  },
  {
   "cell_type": "code",
   "execution_count": 32,
   "id": "c52b9bff-8e76-40cd-9757-97d88dafe9ac",
   "metadata": {},
   "outputs": [
    {
     "data": {
      "text/plain": [
       "[5, 7, 8, 9, 10, 15]"
      ]
     },
     "execution_count": 32,
     "metadata": {},
     "output_type": "execute_result"
    }
   ],
   "source": [
    "setify([5, 7, 8, 9, 10, 15])"
   ]
  },
  {
   "cell_type": "code",
   "execution_count": 33,
   "id": "fb6201b7-57d1-4417-ada0-36f971310db2",
   "metadata": {},
   "outputs": [
    {
     "data": {
      "text/plain": [
       "[1, 2, 3]"
      ]
     },
     "execution_count": 33,
     "metadata": {},
     "output_type": "execute_result"
    }
   ],
   "source": [
    "setify([3, 3, 3, 2, 1])"
   ]
  },
  {
   "cell_type": "code",
   "execution_count": 34,
   "id": "5b6174c3-82be-4ef8-861d-25fbcbca2ee0",
   "metadata": {},
   "outputs": [],
   "source": [
    "#Create a function that returns the mean of all digits.\n",
    "#Examples\n",
    "#mean(42) ➞ 3\n",
    "\n",
    "#mean(12345) ➞ 3\n",
    "\n",
    "#mean(666) ➞ 6\n",
    "#Notes\n",
    "#•\tThe mean of all digits is the sum of digits / how many digits there are (e.g. mean of digits in 512 is (5+1+2)/3(number of digits) = 8/3=2).\n",
    "#•\tThe mean will always be an integer.\n"
   ]
  },
  {
   "cell_type": "code",
   "execution_count": 35,
   "id": "511ce960-652f-4c1f-bc3b-29e3b06f1a34",
   "metadata": {},
   "outputs": [],
   "source": [
    "def mean(number):\n",
    "    digits = str(number)\n",
    "    sum_of_digits = 0\n",
    "    for digit in digits:\n",
    "        sum_of_digits =sum_of_digits + int(digit)\n",
    "    number_of_digits = len(digits)\n",
    "    mean_of_digits = sum_of_digits // number_of_digits\n",
    "    return mean_of_digits"
   ]
  },
  {
   "cell_type": "code",
   "execution_count": 36,
   "id": "4025af83-9a59-49e9-a6b4-0add1bb950ea",
   "metadata": {},
   "outputs": [
    {
     "data": {
      "text/plain": [
       "3"
      ]
     },
     "execution_count": 36,
     "metadata": {},
     "output_type": "execute_result"
    }
   ],
   "source": [
    "mean(42)"
   ]
  },
  {
   "cell_type": "code",
   "execution_count": 37,
   "id": "da45a4d8-3d40-47f3-b9be-fd4e16676564",
   "metadata": {},
   "outputs": [
    {
     "data": {
      "text/plain": [
       "3"
      ]
     },
     "execution_count": 37,
     "metadata": {},
     "output_type": "execute_result"
    }
   ],
   "source": [
    "mean(12345)"
   ]
  },
  {
   "cell_type": "code",
   "execution_count": 38,
   "id": "b57b25a3-7da4-473c-844b-d401ce072ee5",
   "metadata": {},
   "outputs": [
    {
     "data": {
      "text/plain": [
       "6"
      ]
     },
     "execution_count": 38,
     "metadata": {},
     "output_type": "execute_result"
    }
   ],
   "source": [
    "mean(666) "
   ]
  },
  {
   "cell_type": "code",
   "execution_count": null,
   "id": "3471b7f8-6139-4abf-886f-9e961555248e",
   "metadata": {},
   "outputs": [],
   "source": []
  }
 ],
 "metadata": {
  "kernelspec": {
   "display_name": "Python 3 (ipykernel)",
   "language": "python",
   "name": "python3"
  },
  "language_info": {
   "codemirror_mode": {
    "name": "ipython",
    "version": 3
   },
   "file_extension": ".py",
   "mimetype": "text/x-python",
   "name": "python",
   "nbconvert_exporter": "python",
   "pygments_lexer": "ipython3",
   "version": "3.10.6"
  }
 },
 "nbformat": 4,
 "nbformat_minor": 5
}
