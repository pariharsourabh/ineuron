{
 "cells": [
  {
   "cell_type": "code",
   "execution_count": 1,
   "id": "540b927b",
   "metadata": {},
   "outputs": [],
   "source": [
    "# 1.\tWrite a Python Program to find sum of array?"
   ]
  },
  {
   "cell_type": "code",
   "execution_count": 3,
   "id": "f49dbcb5-f42b-43e2-a82c-4583955c10a7",
   "metadata": {},
   "outputs": [
    {
     "name": "stdout",
     "output_type": "stream",
     "text": [
      "31\n"
     ]
    }
   ],
   "source": [
    "l = [1,5,8,6,5,6]\n",
    "a = sum(l)\n",
    "print(a)"
   ]
  },
  {
   "cell_type": "code",
   "execution_count": 2,
   "id": "01f03bea",
   "metadata": {},
   "outputs": [],
   "source": [
    "# 2.\tWrite a Python Program to find largest element in an array?"
   ]
  },
  {
   "cell_type": "code",
   "execution_count": 4,
   "id": "6185f58f-0215-40a2-80d0-e59b2980691b",
   "metadata": {},
   "outputs": [
    {
     "name": "stdout",
     "output_type": "stream",
     "text": [
      "102\n"
     ]
    }
   ],
   "source": [
    "l = [4,5,8,2,85,65,102,52,1,54]\n",
    "l.sort()\n",
    "print(l[-1])"
   ]
  },
  {
   "cell_type": "code",
   "execution_count": 3,
   "id": "5739fa21-13a7-4ee3-8f57-60783468d87c",
   "metadata": {},
   "outputs": [],
   "source": [
    "# 3.\tWrite a Python Program for array rotation?"
   ]
  },
  {
   "cell_type": "code",
   "execution_count": 8,
   "id": "cb98fa02-1cfb-4f9e-8353-7d8933f00808",
   "metadata": {},
   "outputs": [
    {
     "name": "stdout",
     "output_type": "stream",
     "text": [
      "[4, 8, 5, 2, 1]\n"
     ]
    }
   ],
   "source": [
    "def rot_array(arr, n):\n",
    "    return arr[n:] + arr[:n]\n",
    "\n",
    "my_array = [5, 2, 1, 4, 8]\n",
    "print(rot_array(my_array, 3))"
   ]
  },
  {
   "cell_type": "code",
   "execution_count": 4,
   "id": "a99ea4b3",
   "metadata": {},
   "outputs": [],
   "source": [
    "# 4.\tWrite a Python Program to Split the array and add the first part to the end?"
   ]
  },
  {
   "cell_type": "code",
   "execution_count": 10,
   "id": "c6b86179-f167-4cb2-b02d-9bbcd003b700",
   "metadata": {},
   "outputs": [
    {
     "name": "stdout",
     "output_type": "stream",
     "text": [
      "[2, 1, 4, 8, 5]\n"
     ]
    }
   ],
   "source": [
    "def split_array(arr):\n",
    "    return arr[1:] + arr[:1]\n",
    "\n",
    "my_array = [5, 2, 1, 4, 8]\n",
    "print(split_array(my_array))"
   ]
  },
  {
   "cell_type": "code",
   "execution_count": 5,
   "id": "a4629d35",
   "metadata": {},
   "outputs": [],
   "source": [
    "# 5.\tWrite a Python Program to check if given array is Monotonic?"
   ]
  },
  {
   "cell_type": "code",
   "execution_count": 54,
   "id": "eaef541f-7b29-41d4-b95f-e324520bfde3",
   "metadata": {},
   "outputs": [
    {
     "name": "stdout",
     "output_type": "stream",
     "text": [
      "True\n"
     ]
    }
   ],
   "source": [
    "def monotonic(arr):\n",
    "    return arr == sorted(arr) or arr == sorted(arr, reverse=True)\n",
    "\n",
    "l = [1,2,3,4,5]\n",
    "\n",
    "if monotonic(l):\n",
    "    print(\"True\")\n",
    "else:\n",
    "    print(\"False\")\n"
   ]
  },
  {
   "cell_type": "code",
   "execution_count": null,
   "id": "b907c388-09a5-45d4-8f69-c7ee8d4ad9a4",
   "metadata": {},
   "outputs": [],
   "source": []
  }
 ],
 "metadata": {
  "kernelspec": {
   "display_name": "Python 3 (ipykernel)",
   "language": "python",
   "name": "python3"
  },
  "language_info": {
   "codemirror_mode": {
    "name": "ipython",
    "version": 3
   },
   "file_extension": ".py",
   "mimetype": "text/x-python",
   "name": "python",
   "nbconvert_exporter": "python",
   "pygments_lexer": "ipython3",
   "version": "3.9.13"
  }
 },
 "nbformat": 4,
 "nbformat_minor": 5
}
