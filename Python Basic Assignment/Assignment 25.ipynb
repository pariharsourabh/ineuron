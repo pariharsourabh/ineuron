{
 "cells": [
  {
   "cell_type": "code",
   "execution_count": 1,
   "id": "8da293af-8b97-41ed-9083-ceea10be0000",
   "metadata": {},
   "outputs": [],
   "source": [
    "# 1) . What is the difference between enclosing a list comprehension in square brackets and parentheses?"
   ]
  },
  {
   "cell_type": "code",
   "execution_count": 2,
   "id": "584c80f9-31c6-491d-af79-0723dfc18f06",
   "metadata": {},
   "outputs": [],
   "source": [
    "#  using square brackets [] creates a list comprehension and returns a list, while using parentheses () creates a generator comprehension and returns a generator object. The choice between them depends on your specific needs, such as whether you require the immediate generation of all values (list) or lazy evaluation (generator)."
   ]
  },
  {
   "cell_type": "code",
   "execution_count": 3,
   "id": "48a3793a-618a-4153-996a-dc247dbb4305",
   "metadata": {},
   "outputs": [],
   "source": [
    "# 2) What is the relationship between generators and iterators?"
   ]
  },
  {
   "cell_type": "code",
   "execution_count": 4,
   "id": "37d90fb3-5ffd-45d5-80c4-6d87c1b425ad",
   "metadata": {},
   "outputs": [],
   "source": [
    "# generators are a specific type of iterator that are defined using generator functions or generator comprehensions, allowing for concise and efficient iteration over large sequences of values."
   ]
  },
  {
   "cell_type": "code",
   "execution_count": 5,
   "id": "ddd16f2a-32e0-4d57-b0ff-f26a8292d86e",
   "metadata": {},
   "outputs": [],
   "source": [
    "# 3) What are the signs that a function is a generator function?"
   ]
  },
  {
   "cell_type": "code",
   "execution_count": 6,
   "id": "bc293e70-f7d1-433f-8e0b-8474fe430601",
   "metadata": {},
   "outputs": [],
   "source": [
    "# By examining these characteristics, such as the use of yield, the purpose of the function, and its evaluation behavior, you can determine whether a function is a generator function or not."
   ]
  },
  {
   "cell_type": "code",
   "execution_count": 7,
   "id": "97bb0e0a-cc0b-4cc7-a7fd-4232ad07542a",
   "metadata": {},
   "outputs": [],
   "source": [
    "# 4) What is the purpose of a yield statement?"
   ]
  },
  {
   "cell_type": "code",
   "execution_count": 9,
   "id": "532281d5-09bd-468e-995f-013d9c9137a2",
   "metadata": {},
   "outputs": [],
   "source": [
    "# The yield statement in Python is used to suspend the execution of a function and return a value. The function can then be resumed later and execution will continue from where it left off. Generator functions are functions that use yield statements."
   ]
  },
  {
   "cell_type": "code",
   "execution_count": 10,
   "id": "4a6810e8-87e2-4906-8380-2e660d4490e7",
   "metadata": {},
   "outputs": [],
   "source": [
    "# 5) What is the relationship between map calls and list comprehensions? Make a comparison and contrast between the two."
   ]
  },
  {
   "cell_type": "code",
   "execution_count": 11,
   "id": "ee73e88e-aa79-4e37-b7b8-cfc5e70c40fb",
   "metadata": {},
   "outputs": [],
   "source": [
    "# In general, list comprehensions are preferred when the transformation logic is relatively simple and can be expressed concisely. On the other hand, map calls are useful when you want to apply the same function to multiple iterables or when you need the lazy evaluation behavior of iterators."
   ]
  },
  {
   "cell_type": "code",
   "execution_count": 12,
   "id": "db3f0983-ece1-4750-bf4a-66de5b63672b",
   "metadata": {},
   "outputs": [],
   "source": [
    "# The main differences between map calls and list comprehensiosn are:\n",
    "\n",
    "# 1. List comprehension is more concise and easier to read as compared to map.\n",
    "# 2. List comprehension allows filtering. In map, we have no such facility. For example, to print all odd numbers in range of 50, we can write [n for n in range(50) if n%2 != 0]. There is no alternate for it in map\n",
    "# 3. List comprehension are used when a list of results is required as final output.but map only returns a map object. it needs to be explicitly coverted to desired datatype.\n",
    "# 4. List comprehension is faster than map when we need to evaluate expressions that are too long or complicated to express\n",
    "# 5. Map is faster in case of calling an already defined function on a set of values."
   ]
  },
  {
   "cell_type": "code",
   "execution_count": null,
   "id": "a9aeafd9-0aee-4150-8c5b-3df5a1db55a5",
   "metadata": {},
   "outputs": [],
   "source": []
  }
 ],
 "metadata": {
  "kernelspec": {
   "display_name": "Python 3 (ipykernel)",
   "language": "python",
   "name": "python3"
  },
  "language_info": {
   "codemirror_mode": {
    "name": "ipython",
    "version": 3
   },
   "file_extension": ".py",
   "mimetype": "text/x-python",
   "name": "python",
   "nbconvert_exporter": "python",
   "pygments_lexer": "ipython3",
   "version": "3.10.6"
  }
 },
 "nbformat": 4,
 "nbformat_minor": 5
}
