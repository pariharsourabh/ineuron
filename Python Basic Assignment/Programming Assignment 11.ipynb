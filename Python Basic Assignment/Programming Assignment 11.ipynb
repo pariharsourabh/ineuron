{
 "cells": [
  {
   "cell_type": "code",
   "execution_count": 1,
   "id": "497594c0-183c-4726-8a69-2f383fb80be4",
   "metadata": {},
   "outputs": [],
   "source": [
    "# 1.\tWrite a Python program to find words which are greater than given length k?"
   ]
  },
  {
   "cell_type": "code",
   "execution_count": 2,
   "id": "e33041b8-0ea1-4c46-8799-2a803e50bc98",
   "metadata": {},
   "outputs": [],
   "source": [
    "def find_words_greater_than_k(words, k):\n",
    "    words_greater_than_k = [word for word in words if len(word) > k]\n",
    "    return words_greater_than_k"
   ]
  },
  {
   "cell_type": "code",
   "execution_count": 3,
   "id": "2bae7033-98cd-47fc-9c5f-0c053f1eda78",
   "metadata": {},
   "outputs": [
    {
     "data": {
      "text/plain": [
       "['banana', 'watermelon', 'orange']"
      ]
     },
     "execution_count": 3,
     "metadata": {},
     "output_type": "execute_result"
    }
   ],
   "source": [
    "word_list = [\"apple\", \"banana\", \"grape\", \"watermelon\", \"orange\", \"kiwi\"]\n",
    "k = 5\n",
    "find_words_greater_than_k(word_list, k)"
   ]
  },
  {
   "cell_type": "code",
   "execution_count": 4,
   "id": "99effda7-64f6-45ba-9ab7-88260db54b85",
   "metadata": {},
   "outputs": [],
   "source": [
    "# 2.\tWrite a Python program for removing i-th character from a string?"
   ]
  },
  {
   "cell_type": "code",
   "execution_count": 5,
   "id": "47d3c606-bef2-4810-a594-9886c38dde2d",
   "metadata": {},
   "outputs": [],
   "source": [
    "def remove_ith_character(string, i):\n",
    "    if i < 0 or i >= len(string):\n",
    "        return string\n",
    "    \n",
    "    modified_string = string[:i] + string[i+1:] \n",
    "    return modified_string"
   ]
  },
  {
   "cell_type": "code",
   "execution_count": 6,
   "id": "d04acf63-1820-4752-aaff-689aadb89ab7",
   "metadata": {},
   "outputs": [
    {
     "data": {
      "text/plain": [
       "'Hello, orld!'"
      ]
     },
     "execution_count": 6,
     "metadata": {},
     "output_type": "execute_result"
    }
   ],
   "source": [
    "my_string = \"Hello, World!\"\n",
    "i = 7\n",
    "remove_ith_character(my_string, i)"
   ]
  },
  {
   "cell_type": "code",
   "execution_count": 7,
   "id": "8129e2f3-4d91-4478-aab1-28a19cbcd484",
   "metadata": {},
   "outputs": [],
   "source": [
    "# 3.\tWrite a Python program to split and join a string?"
   ]
  },
  {
   "cell_type": "code",
   "execution_count": 10,
   "id": "c34ac23f-0cf9-4a1b-bf0e-d2dc6bdd5a6b",
   "metadata": {},
   "outputs": [],
   "source": [
    "def split_and_join_string(string, delimiter):\n",
    "    substrings = string.split(delimiter)\n",
    "    joined_string = ' '.join(substrings) \n",
    "    return joined_string"
   ]
  },
  {
   "cell_type": "code",
   "execution_count": 12,
   "id": "e5c62c94-79b2-4c5d-8306-1e045724dc48",
   "metadata": {},
   "outputs": [
    {
     "data": {
      "text/plain": [
       "'Hello  World! How are you?'"
      ]
     },
     "execution_count": 12,
     "metadata": {},
     "output_type": "execute_result"
    }
   ],
   "source": [
    "my_string = \"Hello, World! How are you?\"\n",
    "delimiter = ','\n",
    "split_and_join_string(my_string, delimiter)"
   ]
  },
  {
   "cell_type": "code",
   "execution_count": 14,
   "id": "1520a585-1f6f-42b1-84ce-af30deb571ea",
   "metadata": {},
   "outputs": [],
   "source": [
    "# 4.\tWrite a Python to check if a given string is binary string or not?"
   ]
  },
  {
   "cell_type": "code",
   "execution_count": 19,
   "id": "34f6cece-b4e5-4801-9b84-9afcfbb1b1b0",
   "metadata": {},
   "outputs": [],
   "source": [
    "def is_binary_string(string):\n",
    "    binary_set = {'0', '1'}\n",
    "    for char in string:\n",
    "        if char not in binary_set:\n",
    "            return False\n",
    "    return True"
   ]
  },
  {
   "cell_type": "code",
   "execution_count": 20,
   "id": "ef745908-f9de-4d6a-b002-582cb418ada2",
   "metadata": {},
   "outputs": [
    {
     "data": {
      "text/plain": [
       "True"
      ]
     },
     "execution_count": 20,
     "metadata": {},
     "output_type": "execute_result"
    }
   ],
   "source": [
    "string = \"101010\"\n",
    "is_binary_string(string)"
   ]
  },
  {
   "cell_type": "code",
   "execution_count": 22,
   "id": "ecc549d2-13db-4b4c-a8fd-1d0dbdfd75de",
   "metadata": {},
   "outputs": [],
   "source": [
    "# 5.\tWrite a Python program to find uncommon words from two Strings?"
   ]
  },
  {
   "cell_type": "code",
   "execution_count": 23,
   "id": "e5a86ec3-e451-45fd-bb1b-cd9d6a0008a7",
   "metadata": {},
   "outputs": [],
   "source": [
    "def find_uncommon_words(string1, string2):\n",
    "    words1 = string1.split()\n",
    "    words2 = string2.split()\n",
    "    unique_words1 = set(words1)\n",
    "    unique_words2 = set(words2)\n",
    "    uncommon_words = unique_words1.symmetric_difference(unique_words2)    \n",
    "    return uncommon_words"
   ]
  },
  {
   "cell_type": "code",
   "execution_count": 26,
   "id": "f5ba042f-9380-40e4-b6fc-72a10edf52e1",
   "metadata": {},
   "outputs": [
    {
     "data": {
      "text/plain": [
       "{'Hello', 'This', 'is', 'world!'}"
      ]
     },
     "execution_count": 26,
     "metadata": {},
     "output_type": "execute_result"
    }
   ],
   "source": [
    "string1 = \"Hello world! code in Python\"\n",
    "string2 = \"This code is in Python\"\n",
    "find_uncommon_words(string1, string2)"
   ]
  },
  {
   "cell_type": "code",
   "execution_count": 27,
   "id": "7b0add81-613f-4931-81bc-b2a1c2e17430",
   "metadata": {},
   "outputs": [],
   "source": [
    "# 6.\tWrite a Python to find all duplicate characters in string?"
   ]
  },
  {
   "cell_type": "code",
   "execution_count": 28,
   "id": "5a7151d9-1231-4dc6-baad-28338bd6d17b",
   "metadata": {},
   "outputs": [],
   "source": [
    "def find_duplicate_characters(string):\n",
    "    duplicates = []\n",
    "    seen = set()\n",
    "    for char in string:\n",
    "        if char in seen and char not in duplicates:\n",
    "            duplicates.append(char)\n",
    "        else:\n",
    "            seen.add(char)\n",
    "    return duplicates"
   ]
  },
  {
   "cell_type": "code",
   "execution_count": 29,
   "id": "d71b23dd-8fc9-49cf-a8bb-355ecff2eaed",
   "metadata": {},
   "outputs": [
    {
     "data": {
      "text/plain": [
       "['l', 'o']"
      ]
     },
     "execution_count": 29,
     "metadata": {},
     "output_type": "execute_result"
    }
   ],
   "source": [
    "my_string = \"Hello, World!\"\n",
    "find_duplicate_characters(my_string)"
   ]
  },
  {
   "cell_type": "code",
   "execution_count": 30,
   "id": "09c8dff6-225a-47bd-ad06-a7d287c04b97",
   "metadata": {},
   "outputs": [],
   "source": [
    "# 7.\tWrite a Python Program to check if a string contains any special character?"
   ]
  },
  {
   "cell_type": "code",
   "execution_count": 34,
   "id": "4ba237cc-b975-468f-bf0b-dbe30dabeb3e",
   "metadata": {},
   "outputs": [],
   "source": [
    "import re\n",
    "\n",
    "def contains_special_character(string):\n",
    "    pattern = r'[^a-zA-Z0-9\\s]'\n",
    "    match = re.search(pattern, string)\n",
    "    if match:\n",
    "        return True\n",
    "    else:\n",
    "        return False"
   ]
  },
  {
   "cell_type": "code",
   "execution_count": 35,
   "id": "0d847893-b416-430c-80b4-8e165ce02fd0",
   "metadata": {},
   "outputs": [
    {
     "data": {
      "text/plain": [
       "True"
      ]
     },
     "execution_count": 35,
     "metadata": {},
     "output_type": "execute_result"
    }
   ],
   "source": [
    "my_string = \"Hello, World!\"\n",
    "contains_special_character(my_string)"
   ]
  },
  {
   "cell_type": "code",
   "execution_count": null,
   "id": "32fdd518-66df-4792-a83a-5ee3c42d844c",
   "metadata": {},
   "outputs": [],
   "source": []
  }
 ],
 "metadata": {
  "kernelspec": {
   "display_name": "Python 3 (ipykernel)",
   "language": "python",
   "name": "python3"
  },
  "language_info": {
   "codemirror_mode": {
    "name": "ipython",
    "version": 3
   },
   "file_extension": ".py",
   "mimetype": "text/x-python",
   "name": "python",
   "nbconvert_exporter": "python",
   "pygments_lexer": "ipython3",
   "version": "3.10.6"
  }
 },
 "nbformat": 4,
 "nbformat_minor": 5
}
