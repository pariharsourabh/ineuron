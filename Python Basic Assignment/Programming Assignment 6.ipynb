{
 "cells": [
  {
   "cell_type": "raw",
   "id": "ace18acf-6ba5-409b-9ae7-6218ae2cbcba",
   "metadata": {},
   "source": [
    "1.\tWrite a Python Program to Display Fibonacci Sequence Using Recursion?"
   ]
  },
  {
   "cell_type": "code",
   "execution_count": 12,
   "id": "e20fa303-d167-43a4-939e-a7aabca1e275",
   "metadata": {},
   "outputs": [
    {
     "name": "stdin",
     "output_type": "stream",
     "text": [
      "Enter the number:  8\n"
     ]
    },
    {
     "name": "stdout",
     "output_type": "stream",
     "text": [
      "0\n",
      "1\n",
      "1\n",
      "2\n",
      "3\n",
      "5\n",
      "8\n",
      "13\n"
     ]
    }
   ],
   "source": [
    "def fun(n):\n",
    "    if n>1:\n",
    "        return fun(n-1) + fun(n-2)\n",
    "    else:\n",
    "        return n\n",
    "    \n",
    "num = int(input(\"Enter the number: \"))\n",
    "\n",
    "if num > 0 :\n",
    "    for i in range(num):\n",
    "        print(fun(i))\n",
    "else:\n",
    "    print(\"Enter positive number\")"
   ]
  },
  {
   "cell_type": "raw",
   "id": "e829f948-ae3f-4ffa-9481-597b5c408c6b",
   "metadata": {},
   "source": [
    "2.\tWrite a Python Program to Find Factorial of Number Using Recursion?"
   ]
  },
  {
   "cell_type": "code",
   "execution_count": 22,
   "id": "92cee4db-bdf1-4ff2-9847-38f1333039f2",
   "metadata": {},
   "outputs": [
    {
     "name": "stdin",
     "output_type": "stream",
     "text": [
      "Enter the number:  8\n"
     ]
    },
    {
     "name": "stdout",
     "output_type": "stream",
     "text": [
      "the factorial of  8 is 40320\n"
     ]
    }
   ],
   "source": [
    "def fun1(n):\n",
    "    if n==0:\n",
    "        return 1\n",
    "    else:\n",
    "        return fun1(n-1)*n\n",
    "    \n",
    "num = int(input(\"Enter the number: \"))\n",
    "\n",
    "if num < 0 :\n",
    "    print(\"Enter positive number\")\n",
    "else:\n",
    "    print(\"the factorial of \", num, \"is\", fun1(num))"
   ]
  },
  {
   "cell_type": "raw",
   "id": "eb5e9fae-478a-4940-b465-21588f922a7c",
   "metadata": {},
   "source": [
    "3.\tWrite a Python Program to calculate your Body Mass Index?"
   ]
  },
  {
   "cell_type": "code",
   "execution_count": 29,
   "id": "7b04652a-0427-4ad2-83f8-ff9f9e80b2b5",
   "metadata": {},
   "outputs": [
    {
     "name": "stdin",
     "output_type": "stream",
     "text": [
      "enter weight in kg:  75\n",
      "enter height in meter:  185\n"
     ]
    },
    {
     "name": "stdout",
     "output_type": "stream",
     "text": [
      "Your body mass index is :  21.91380569758948\n"
     ]
    }
   ],
   "source": [
    "w = float(input(\"enter weight in kg: \"))\n",
    "h = float(input(\"enter height in centimeter: \"))\n",
    "bmi = w/h**2*10000\n",
    "print(\"Your body mass index is : \",bmi)"
   ]
  },
  {
   "cell_type": "raw",
   "id": "602c5205-4bca-4b3d-8a7c-7e29a886c654",
   "metadata": {},
   "source": [
    "4.\tWrite a Python Program to calculate the natural logarithm of any number?"
   ]
  },
  {
   "cell_type": "code",
   "execution_count": 32,
   "id": "5bfcaaec-82f9-4eb8-8ebc-9bb45a78acbc",
   "metadata": {},
   "outputs": [
    {
     "name": "stdin",
     "output_type": "stream",
     "text": [
      "enter a positive number: 5\n"
     ]
    },
    {
     "name": "stdout",
     "output_type": "stream",
     "text": [
      "The log of  5.0 is 1.6094379124341003\n"
     ]
    }
   ],
   "source": [
    "import math\n",
    "num = float(input(\"enter a positive number:\"))\n",
    "if num <=0 :\n",
    "    print(\"enter positve number\")\n",
    "else:\n",
    "    result = math.log(num)\n",
    "    print(\"The log of \", num,\"is\",result)"
   ]
  },
  {
   "cell_type": "raw",
   "id": "b7c3c48a-2a5b-4f9a-bdc8-651fce1fccd0",
   "metadata": {},
   "source": [
    "5.\tWrite a Python Program for cube sum of first n natural numbers?"
   ]
  },
  {
   "cell_type": "code",
   "execution_count": 49,
   "id": "1228a829-6dec-4f2b-b48b-416f6b7f5aa1",
   "metadata": {},
   "outputs": [
    {
     "name": "stdin",
     "output_type": "stream",
     "text": [
      "Enter a number: 8\n"
     ]
    },
    {
     "name": "stdout",
     "output_type": "stream",
     "text": [
      "1296\n"
     ]
    }
   ],
   "source": [
    "l = []\n",
    "num = int(input(\"Enter a number:\"))\n",
    "if num < 1 :\n",
    "    print(\"not a natural number\")\n",
    "else:\n",
    "    for i in range(num+1):\n",
    "        l.append(i**3)\n",
    "    print(sum(l))"
   ]
  }
 ],
 "metadata": {
  "kernelspec": {
   "display_name": "Python 3 (ipykernel)",
   "language": "python",
   "name": "python3"
  },
  "language_info": {
   "codemirror_mode": {
    "name": "ipython",
    "version": 3
   },
   "file_extension": ".py",
   "mimetype": "text/x-python",
   "name": "python",
   "nbconvert_exporter": "python",
   "pygments_lexer": "ipython3",
   "version": "3.10.6"
  }
 },
 "nbformat": 4,
 "nbformat_minor": 5
}
