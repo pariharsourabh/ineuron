{
 "cells": [
  {
   "cell_type": "raw",
   "id": "2306ed13-6855-45a9-a702-aba2006be2aa",
   "metadata": {},
   "source": [
    "1. Write a Python Program to Find LCM?"
   ]
  },
  {
   "cell_type": "code",
   "execution_count": 11,
   "id": "15dd21ef-f0cd-4af7-85bc-ac0bad8a53e4",
   "metadata": {},
   "outputs": [],
   "source": [
    "def find_lcm(x, y):\n",
    "    if x > y:\n",
    "        greater = x\n",
    "    else:\n",
    "        greater = y\n",
    "    while True:\n",
    "        if greater % x == 0 and greater % y == 0:\n",
    "            lcm = greater\n",
    "            break\n",
    "        greater = greater + 1\n",
    "    return lcm"
   ]
  },
  {
   "cell_type": "code",
   "execution_count": 12,
   "id": "ab008efc-0867-4d11-8100-a63d38d3e7fb",
   "metadata": {},
   "outputs": [
    {
     "data": {
      "text/plain": [
       "36"
      ]
     },
     "execution_count": 12,
     "metadata": {},
     "output_type": "execute_result"
    }
   ],
   "source": [
    "find_lcm(12,36)"
   ]
  },
  {
   "cell_type": "raw",
   "id": "3bfae5b4-2178-49fa-8dbc-cdb61adaa195",
   "metadata": {},
   "source": [
    "2. Write a Python Program to Find HCF?"
   ]
  },
  {
   "cell_type": "code",
   "execution_count": 13,
   "id": "a56c91b2-957f-4729-97a9-099f7abb3219",
   "metadata": {},
   "outputs": [],
   "source": [
    "def find_hcf(num1, num2):\n",
    "    if num1 < num2:\n",
    "        smaller = num1\n",
    "    else:\n",
    "        smaller = num2\n",
    "    hcf = 1\n",
    "    for i in range(1, smaller+1):\n",
    "        if num1 % i == 0 and num2 % i == 0:\n",
    "            hcf = i\n",
    "    return hcf"
   ]
  },
  {
   "cell_type": "raw",
   "id": "0ea39525-7fa4-4045-b67a-c9672536a890",
   "metadata": {},
   "source": [
    "3.\tWrite a Python Program to Convert Decimal to Binary, Octal and Hexadecimal?"
   ]
  },
  {
   "cell_type": "code",
   "execution_count": 14,
   "id": "0eb61a7d-0fd5-4441-bd17-b68455a86a51",
   "metadata": {},
   "outputs": [
    {
     "name": "stdout",
     "output_type": "stream",
     "text": [
      "binary is  0b111000100\n",
      "octal is  0o704\n",
      "hexadecimal is  0x1c4\n"
     ]
    }
   ],
   "source": [
    "num = 452\n",
    "binary = bin(num)\n",
    "octal = oct(num)\n",
    "hexa = hex(num)\n",
    "print(\"binary is \",binary)\n",
    "print(\"octal is \",octal)\n",
    "print(\"hexadecimal is \",hexa)"
   ]
  },
  {
   "cell_type": "raw",
   "id": "ad0812d9-2f53-4f8a-9bde-f17c3ef805e8",
   "metadata": {},
   "source": [
    "4.\tWrite a Python Program To Find ASCII value of a character?"
   ]
  },
  {
   "cell_type": "code",
   "execution_count": 20,
   "id": "a247af25-7607-4e7c-9675-071378db9f56",
   "metadata": {},
   "outputs": [
    {
     "data": {
      "text/plain": [
       "90"
      ]
     },
     "execution_count": 20,
     "metadata": {},
     "output_type": "execute_result"
    }
   ],
   "source": [
    "abc = \"Z\"\n",
    "ord(abc)"
   ]
  },
  {
   "cell_type": "raw",
   "id": "74343b90-bbee-4810-b33b-dab8f9b3f119",
   "metadata": {},
   "source": [
    "5.\tWrite a Python Program to Make a Simple Calculator with 4 basic mathematical operations?"
   ]
  },
  {
   "cell_type": "code",
   "execution_count": 24,
   "id": "3936ecfd-0e03-498d-a0d3-2eb9e54e8743",
   "metadata": {},
   "outputs": [
    {
     "name": "stdout",
     "output_type": "stream",
     "text": [
      "Select\n",
      "1. Addition\n",
      "2. Subraction\n",
      "3. Mulitply\n",
      "4. Divide\n"
     ]
    },
    {
     "name": "stdin",
     "output_type": "stream",
     "text": [
      "Enter your choise :  2\n",
      "Enter 1st number:  56\n",
      "Enter 2nd number:  23\n"
     ]
    },
    {
     "name": "stdout",
     "output_type": "stream",
     "text": [
      "33\n"
     ]
    }
   ],
   "source": [
    "def add(a,b):\n",
    "    return a + b\n",
    "def sub(a,b):\n",
    "    return a - b\n",
    "def multi(a,b):\n",
    "    return a*b\n",
    "def divide(a,b):\n",
    "    return a/b\n",
    "print(\"Select\")\n",
    "print(\"1. Addition\")\n",
    "print(\"2. Subraction\")\n",
    "print(\"3. Mulitply\")\n",
    "print(\"4. Divide\")\n",
    "choice = input(\"Enter your choise : \")\n",
    "num1 = int(input(\"Enter 1st number: \"))\n",
    "num2 = int(input(\"Enter 2nd number: \"))\n",
    "if choice == \"1\":\n",
    "    print(add(num1,num2))\n",
    "elif choice == \"2\":\n",
    "    print(sub(num1,num2))\n",
    "elif choice == \"3\":\n",
    "    print(multi(num1,num2))\n",
    "elif choice == \"4\":\n",
    "    print(divide(num1,num2))\n",
    "else:\n",
    "    print(\"Invalid input\")"
   ]
  },
  {
   "cell_type": "code",
   "execution_count": null,
   "id": "f35a6a31-b98e-4d0e-8b68-bef7a03b4254",
   "metadata": {},
   "outputs": [],
   "source": []
  }
 ],
 "metadata": {
  "kernelspec": {
   "display_name": "Python 3 (ipykernel)",
   "language": "python",
   "name": "python3"
  },
  "language_info": {
   "codemirror_mode": {
    "name": "ipython",
    "version": 3
   },
   "file_extension": ".py",
   "mimetype": "text/x-python",
   "name": "python",
   "nbconvert_exporter": "python",
   "pygments_lexer": "ipython3",
   "version": "3.10.6"
  }
 },
 "nbformat": 4,
 "nbformat_minor": 5
}
