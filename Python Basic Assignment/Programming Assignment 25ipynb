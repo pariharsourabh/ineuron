{
 "cells": [
  {
   "cell_type": "code",
   "execution_count": 1,
   "id": "39e5524f-323a-4757-85fa-635cd83e5f81",
   "metadata": {},
   "outputs": [],
   "source": [
    "#Question1\n",
    "#Create a function that takes three integer arguments (a, b, c) and returns the amount of integers which are of equal value.\n",
    "#Examples\n",
    "#equal(3, 4, 3) ➞ 2\n",
    "\n",
    "#equal(1, 1, 1) ➞ 3\n",
    "\n",
    "#equal(3, 4, 1) ➞ 0 \n",
    "#Notes\n",
    "#Your function must return 0, 2 or 3.\n"
   ]
  },
  {
   "cell_type": "code",
   "execution_count": 7,
   "id": "9f2045ba-bf6d-462b-88cc-7fc79e81f118",
   "metadata": {},
   "outputs": [],
   "source": [
    "def equal(a,b,c):\n",
    "    if a==b==c:\n",
    "        print(f'{a,b,c} ➞ {3}')\n",
    "    elif a==b or b==c:\n",
    "        print(f'{a,b,c} ➞ {2}')\n",
    "    else:\n",
    "        print(f'{a,b,c} ➞ {0}')"
   ]
  },
  {
   "cell_type": "code",
   "execution_count": 8,
   "id": "89f00048-d3a9-472a-8cb4-068100a3d9db",
   "metadata": {},
   "outputs": [
    {
     "name": "stdout",
     "output_type": "stream",
     "text": [
      "(3, 4, 3) ➞ 0\n"
     ]
    }
   ],
   "source": [
    "equal(3, 4, 3)"
   ]
  },
  {
   "cell_type": "code",
   "execution_count": 9,
   "id": "acf2bad2-2bb6-4319-adbb-646f6e14d9f0",
   "metadata": {},
   "outputs": [
    {
     "name": "stdout",
     "output_type": "stream",
     "text": [
      "(1, 1, 1) ➞ 3\n"
     ]
    }
   ],
   "source": [
    "equal(1,1,1)"
   ]
  },
  {
   "cell_type": "code",
   "execution_count": 10,
   "id": "7e95ec87-dadf-467c-9c92-ec60efdc3ae3",
   "metadata": {},
   "outputs": [
    {
     "name": "stdout",
     "output_type": "stream",
     "text": [
      "(3, 4, 1) ➞ 0\n"
     ]
    }
   ],
   "source": [
    "equal(3,4,1)"
   ]
  },
  {
   "cell_type": "code",
   "execution_count": 11,
   "id": "0c53bb8a-18f4-47d3-b96a-b6b0f83526cf",
   "metadata": {},
   "outputs": [],
   "source": [
    "#Question2\n",
    "#Write a function that converts a dictionary into a list of keys-values tuples.\n",
    "#Examples\n",
    "#dict_to_list({\n",
    "#  \"D\": 1,\n",
    "#  \"B\": 2,\n",
    "#  \"C\": 3\n",
    "#}) ➞ [(\"B\", 2), (\"C\", 3), (\"D\", 1)]\n",
    "#\n",
    "#dict_to_list({\n",
    "#  \"likes\": 2,\n",
    "#  \"dislikes\": 3,\n",
    "#  \"followers\": 10\n",
    "#}) ➞ [(\"dislikes\", 3), (\"followers\", 10), (\"likes\", 2)]\n",
    "#Notes\n",
    "#Return the elements in the list in alphabetical order.\n"
   ]
  },
  {
   "cell_type": "code",
   "execution_count": 12,
   "id": "8054362d-7914-4f3b-b378-4a4a8a7b0ea7",
   "metadata": {},
   "outputs": [],
   "source": [
    "def dict_to_list(dictionary):\n",
    "    list_of_tuples = []\n",
    "    for key, value in dictionary.items():\n",
    "        list_of_tuples.append((key, value))\n",
    "    list_of_tuples.sort()\n",
    "    return list_of_tuples"
   ]
  },
  {
   "cell_type": "code",
   "execution_count": 13,
   "id": "190de950-1dec-4e47-89f0-10f13d5945e0",
   "metadata": {},
   "outputs": [
    {
     "data": {
      "text/plain": [
       "[('B', 2), ('C', 3), ('D', 1)]"
      ]
     },
     "execution_count": 13,
     "metadata": {},
     "output_type": "execute_result"
    }
   ],
   "source": [
    ">>> dict_to_list({\n",
    "  \"D\": 1,\n",
    "  \"B\": 2,\n",
    "  \"C\": 3\n",
    "})"
   ]
  },
  {
   "cell_type": "code",
   "execution_count": 14,
   "id": "811a39ee-0a8d-4513-8325-e5a7ad03dacc",
   "metadata": {},
   "outputs": [
    {
     "data": {
      "text/plain": [
       "[('dislikes', 3), ('followers', 10), ('likes', 2)]"
      ]
     },
     "execution_count": 14,
     "metadata": {},
     "output_type": "execute_result"
    }
   ],
   "source": [
    "dict_to_list({\n",
    "  \"likes\": 2,\n",
    "  \"dislikes\": 3,\n",
    "  \"followers\": 10\n",
    "})"
   ]
  },
  {
   "cell_type": "code",
   "execution_count": 15,
   "id": "b5dc7a28-a52d-4368-848c-0c79d47a1a44",
   "metadata": {},
   "outputs": [],
   "source": [
    "#Question3\n",
    "#Write a function that creates a dictionary with each (key, value) pair being the (lower case, upper case) versions of a letter, respectively.\n",
    "#Examples\n",
    "#mapping([\"p\", \"s\"]) ➞ { \"p\": \"P\", \"s\": \"S\" }\n",
    "\n",
    "#mapping([\"a\", \"b\", \"c\"]) ➞ { \"a\": \"A\", \"b\": \"B\", \"c\": \"C\" }\n",
    "\n",
    "#mapping([\"a\", \"v\", \"y\", \"z\"]) ➞ { \"a\": \"A\", \"v\": \"V\", \"y\": \"Y\", \"z\": \"Z\" }\n",
    "#Notes\n",
    "#All of the letters in the input list will always be lowercase.\n"
   ]
  },
  {
   "cell_type": "code",
   "execution_count": 16,
   "id": "e309f4f8-678e-4167-8020-db943ddb074b",
   "metadata": {},
   "outputs": [],
   "source": [
    "def mapping(letters):\n",
    "    dictionary = {}\n",
    "    for letter in letters:\n",
    "        dictionary[letter] = letter.upper()\n",
    "    return dictionary"
   ]
  },
  {
   "cell_type": "code",
   "execution_count": 17,
   "id": "a5120128-4463-4507-908a-cefbd37fb8bc",
   "metadata": {},
   "outputs": [
    {
     "data": {
      "text/plain": [
       "{'p': 'P', 's': 'S'}"
      ]
     },
     "execution_count": 17,
     "metadata": {},
     "output_type": "execute_result"
    }
   ],
   "source": [
    "mapping([\"p\",\"s\"])"
   ]
  },
  {
   "cell_type": "code",
   "execution_count": 18,
   "id": "c1c44732-ca3d-4876-aefc-d16f6e6b70c0",
   "metadata": {},
   "outputs": [
    {
     "data": {
      "text/plain": [
       "{'a': 'A', 'b': 'B', 'c': 'C'}"
      ]
     },
     "execution_count": 18,
     "metadata": {},
     "output_type": "execute_result"
    }
   ],
   "source": [
    "mapping([\"a\", \"b\", \"c\"])"
   ]
  },
  {
   "cell_type": "code",
   "execution_count": 19,
   "id": "5c4f56cd-2069-47c7-80e1-d6adee1305e3",
   "metadata": {},
   "outputs": [
    {
     "data": {
      "text/plain": [
       "{'a': 'A', 'v': 'V', 'y': 'Y', 'z': 'Z'}"
      ]
     },
     "execution_count": 19,
     "metadata": {},
     "output_type": "execute_result"
    }
   ],
   "source": [
    "mapping([\"a\", \"v\", \"y\", \"z\"])"
   ]
  },
  {
   "cell_type": "code",
   "execution_count": 20,
   "id": "26e8f35c-e46f-459a-ad8f-bba9422b0143",
   "metadata": {},
   "outputs": [],
   "source": [
    "#Question4\n",
    "#Write a function, that replaces all vowels in a string with a specified vowel.\n",
    "#Examples\n",
    "#vow_replace(\"apples and bananas\", \"u\") ➞ \"upplus und bununus\"\n",
    "\n",
    "#vow_replace(\"cheese casserole\", \"o\") ➞ \"chooso cossorolo\"\n",
    "\n",
    "#vow_replace(\"stuffed jalapeno poppers\", \"e\") ➞ \"steffed jelepene peppers\"\n",
    "#Notes\n",
    "#All words will be lowercase. Y is not considered a vowel.\n",
    "#"
   ]
  },
  {
   "cell_type": "code",
   "execution_count": 21,
   "id": "845ad618-edd8-47d4-9496-bf63daf36527",
   "metadata": {},
   "outputs": [],
   "source": [
    "def vow_replace(string, vowel):\n",
    "    vowels = \"aeiou\"\n",
    "    new_string = \"\"\n",
    "    for char in string:\n",
    "        if char in vowels:\n",
    "            new_string += vowel\n",
    "        else:\n",
    "            new_string += char\n",
    "    return new_string"
   ]
  },
  {
   "cell_type": "code",
   "execution_count": 22,
   "id": "64e49f89-bbea-41cc-b992-3830b527508c",
   "metadata": {},
   "outputs": [
    {
     "data": {
      "text/plain": [
       "'upplus und bununus'"
      ]
     },
     "execution_count": 22,
     "metadata": {},
     "output_type": "execute_result"
    }
   ],
   "source": [
    "vow_replace(\"apples and bananas\", \"u\")"
   ]
  },
  {
   "cell_type": "code",
   "execution_count": 23,
   "id": "6d213322-c5f5-459f-be70-f9e21af00388",
   "metadata": {},
   "outputs": [
    {
     "data": {
      "text/plain": [
       "'chooso cossorolo'"
      ]
     },
     "execution_count": 23,
     "metadata": {},
     "output_type": "execute_result"
    }
   ],
   "source": [
    "vow_replace(\"cheese casserole\", \"o\")"
   ]
  },
  {
   "cell_type": "code",
   "execution_count": 24,
   "id": "898f1f15-e3e0-4047-8568-ab3e8bce7a56",
   "metadata": {},
   "outputs": [
    {
     "data": {
      "text/plain": [
       "'steffed jelepene peppers'"
      ]
     },
     "execution_count": 24,
     "metadata": {},
     "output_type": "execute_result"
    }
   ],
   "source": [
    "vow_replace(\"stuffed jalapeno poppers\", \"e\")"
   ]
  },
  {
   "cell_type": "code",
   "execution_count": 25,
   "id": "d23377fc-ea18-4ff4-9a1f-00c2ba206a49",
   "metadata": {},
   "outputs": [],
   "source": [
    "#Question5\n",
    "#Create a function that takes a string as input and capitalizes a letter if its ASCII code is even and returns its lower case version if its ASCII code is odd.\n",
    "#Examples\n",
    "#ascii_capitalize(\"to be or not to be!\") ➞ \"To Be oR NoT To Be!\"\n",
    "\n",
    "#ascii_capitalize(\"THE LITTLE MERMAID\") ➞ \"THe LiTTLe meRmaiD\"\n",
    "\n",
    "#ascii_capitalize(\"Oh what a beautiful morning.\") ➞ \"oH wHaT a BeauTiFuL moRNiNg.\"\n"
   ]
  },
  {
   "cell_type": "code",
   "execution_count": 26,
   "id": "8dc6aa78-8e36-4fe0-abae-1c97252ddc66",
   "metadata": {},
   "outputs": [],
   "source": [
    "def ascii_capitalize(string):\n",
    "    result = ''\n",
    "    for char in string:\n",
    "        if ord(char) % 2 == 0:\n",
    "            result += char.upper()\n",
    "        else:\n",
    "            result += char.lower()\n",
    "    return result"
   ]
  },
  {
   "cell_type": "code",
   "execution_count": 27,
   "id": "10cf4e7d-1e75-4baa-90e1-29615c0c1fd4",
   "metadata": {},
   "outputs": [
    {
     "data": {
      "text/plain": [
       "'To Be oR NoT To Be!'"
      ]
     },
     "execution_count": 27,
     "metadata": {},
     "output_type": "execute_result"
    }
   ],
   "source": [
    "ascii_capitalize(\"to be or not to be!\")"
   ]
  },
  {
   "cell_type": "code",
   "execution_count": 28,
   "id": "5b0d5eef-9f4b-4cd6-ac33-e48ad451adb5",
   "metadata": {},
   "outputs": [
    {
     "data": {
      "text/plain": [
       "'THe LiTTLe meRmaiD'"
      ]
     },
     "execution_count": 28,
     "metadata": {},
     "output_type": "execute_result"
    }
   ],
   "source": [
    "ascii_capitalize(\"THE LITTLE MERMAID\")"
   ]
  },
  {
   "cell_type": "code",
   "execution_count": 29,
   "id": "05122b9d-4fca-4eb2-9ec0-09a1b16cb0da",
   "metadata": {},
   "outputs": [
    {
     "data": {
      "text/plain": [
       "'oH wHaT a BeauTiFuL moRNiNg.'"
      ]
     },
     "execution_count": 29,
     "metadata": {},
     "output_type": "execute_result"
    }
   ],
   "source": [
    "ascii_capitalize(\"Oh what a beautiful morning.\")"
   ]
  },
  {
   "cell_type": "code",
   "execution_count": null,
   "id": "cf4088aa-b2c8-4716-aa19-e296c0ee1faa",
   "metadata": {},
   "outputs": [],
   "source": []
  }
 ],
 "metadata": {
  "kernelspec": {
   "display_name": "Python 3 (ipykernel)",
   "language": "python",
   "name": "python3"
  },
  "language_info": {
   "codemirror_mode": {
    "name": "ipython",
    "version": 3
   },
   "file_extension": ".py",
   "mimetype": "text/x-python",
   "name": "python",
   "nbconvert_exporter": "python",
   "pygments_lexer": "ipython3",
   "version": "3.10.6"
  }
 },
 "nbformat": 4,
 "nbformat_minor": 5
}
