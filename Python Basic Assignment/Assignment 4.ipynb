{
 "cells": [
  {
   "cell_type": "raw",
   "id": "392b143f-8958-492d-8aa9-8addcfe6c777",
   "metadata": {},
   "source": [
    "1. What exactly is []?"
   ]
  },
  {
   "cell_type": "raw",
   "id": "47f07083-1ad2-4eba-aedb-b83870c2bb9f",
   "metadata": {},
   "source": [
    "In Python [] denotes an empty list."
   ]
  },
  {
   "cell_type": "raw",
   "id": "95a96ba3-b43e-4759-bb95-227960f292c2",
   "metadata": {},
   "source": [
    "2. In a list of values stored in a variable called spam, how would you assign the value 'hello' as the third value? (Assume [2, 4, 6, 8, 10] are in spam.)\n",
    "Let's pretend the spam includes the list ['a', 'b', 'c', 'd'] for the next three queries.\n",
    "3. What is the value of spam[int(int('3' * 2) / 11)]?\n",
    "4. What is the value of spam[-1]?\n",
    "5. What is the value of spam[:2]?"
   ]
  },
  {
   "cell_type": "code",
   "execution_count": 1,
   "id": "c48c596f-e03f-49e1-a48d-53443df5bf68",
   "metadata": {},
   "outputs": [],
   "source": [
    "spam = [2,4,6,8,10]\n",
    "spam[1]= \"hello\""
   ]
  },
  {
   "cell_type": "code",
   "execution_count": 2,
   "id": "8cfb1ca1-4ec0-4817-a4ba-a54e03e46d67",
   "metadata": {},
   "outputs": [
    {
     "data": {
      "text/plain": [
       "[2, 'hello', 6, 8, 10]"
      ]
     },
     "execution_count": 2,
     "metadata": {},
     "output_type": "execute_result"
    }
   ],
   "source": [
    "spam"
   ]
  },
  {
   "cell_type": "code",
   "execution_count": 3,
   "id": "3106faa1-4204-4607-8a44-9916c1405eca",
   "metadata": {},
   "outputs": [
    {
     "data": {
      "text/plain": [
       "'d'"
      ]
     },
     "execution_count": 3,
     "metadata": {},
     "output_type": "execute_result"
    }
   ],
   "source": [
    "spam = ['a','b','c','d']\n",
    "spam[int(int('3' * 2) / 11)]"
   ]
  },
  {
   "cell_type": "code",
   "execution_count": 5,
   "id": "456a1431-afac-4401-9642-7874519f5326",
   "metadata": {},
   "outputs": [
    {
     "data": {
      "text/plain": [
       "'d'"
      ]
     },
     "execution_count": 5,
     "metadata": {},
     "output_type": "execute_result"
    }
   ],
   "source": [
    "spam[-1]"
   ]
  },
  {
   "cell_type": "code",
   "execution_count": 6,
   "id": "bb152576-c9f8-4150-9f0a-85b5a644ec8b",
   "metadata": {},
   "outputs": [
    {
     "data": {
      "text/plain": [
       "['a', 'b']"
      ]
     },
     "execution_count": 6,
     "metadata": {},
     "output_type": "execute_result"
    }
   ],
   "source": [
    "spam[:2]"
   ]
  },
  {
   "cell_type": "raw",
   "id": "19dbae35-0098-4506-a806-73f0b1ac3706",
   "metadata": {},
   "source": [
    "Let's pretend bacon has the list [3.14, 'cat,' 11, 'cat,' True] for the next three questions.\n",
    "6. What is the value of bacon.index('cat')?\n",
    "7. How does bacon.append(99) change the look of the list value in bacon?\n",
    "8. How does bacon.remove('cat') change the look of the list in bacon?"
   ]
  },
  {
   "cell_type": "code",
   "execution_count": 13,
   "id": "f786faca-5d57-4da1-81f3-bd28844e9ce8",
   "metadata": {},
   "outputs": [],
   "source": [
    "bacon = [3.14, 'cat', 11, 'cat', True] "
   ]
  },
  {
   "cell_type": "code",
   "execution_count": 14,
   "id": "631963c5-763a-4d54-bb1b-c6748db62199",
   "metadata": {},
   "outputs": [
    {
     "data": {
      "text/plain": [
       "1"
      ]
     },
     "execution_count": 14,
     "metadata": {},
     "output_type": "execute_result"
    }
   ],
   "source": [
    "bacon.index(\"cat\")"
   ]
  },
  {
   "cell_type": "code",
   "execution_count": 15,
   "id": "e38ca080-f9f0-4518-bcff-03c18863d5b9",
   "metadata": {},
   "outputs": [
    {
     "data": {
      "text/plain": [
       "[3.14, 'cat', 11, 'cat', True, 99]"
      ]
     },
     "execution_count": 15,
     "metadata": {},
     "output_type": "execute_result"
    }
   ],
   "source": [
    "bacon.append(99)\n",
    "bacon"
   ]
  },
  {
   "cell_type": "code",
   "execution_count": 16,
   "id": "03b862ec-8bd5-49e4-986f-d11bab1957fc",
   "metadata": {},
   "outputs": [
    {
     "data": {
      "text/plain": [
       "[3.14, 11, 'cat', True, 99]"
      ]
     },
     "execution_count": 16,
     "metadata": {},
     "output_type": "execute_result"
    }
   ],
   "source": [
    "bacon.remove('cat')\n",
    "bacon"
   ]
  },
  {
   "cell_type": "raw",
   "id": "f8361e11-571b-4f84-9fc0-13b12c3f9968",
   "metadata": {},
   "source": [
    "9. What are the list concatenation and list replication operators?"
   ]
  },
  {
   "cell_type": "raw",
   "id": "a6248747-fe0d-4b11-96a8-96280f5d76ee",
   "metadata": {},
   "source": [
    "list concatenation operator is \"+\", and the list replication operator is \"*\""
   ]
  },
  {
   "cell_type": "raw",
   "id": "55178e4d-084b-4ba9-a3e4-06a32fd0978c",
   "metadata": {},
   "source": [
    "10. What is difference between the list methods append() and insert()?"
   ]
  },
  {
   "cell_type": "raw",
   "id": "7a6d2940-def9-4021-bb81-bb8d4a800f2b",
   "metadata": {},
   "source": [
    "The append() method adds an item to the end of a list, while the insert() method adds an item at a specific index in the list."
   ]
  },
  {
   "cell_type": "raw",
   "id": "04567a48-6ee1-4a11-9e62-c3e6f4c65f2b",
   "metadata": {},
   "source": [
    "11. What are the two methods for removing items from a list?"
   ]
  },
  {
   "cell_type": "raw",
   "id": "719812aa-d994-46dd-9705-023854ae73a4",
   "metadata": {},
   "source": [
    "The two methods for removing items from a list are remove() and pop(). The remove() method removes the first occurrence of a value from the list, while the pop() method removes an item at a specific index and returns its value."
   ]
  },
  {
   "cell_type": "raw",
   "id": "1957529f-f18b-4d67-8687-4121c3ce72f1",
   "metadata": {},
   "source": [
    "12. Describe how list values and string values are identical."
   ]
  },
  {
   "cell_type": "raw",
   "id": "21d077af-f644-461e-93d4-a0c9113ef88c",
   "metadata": {},
   "source": [
    "Both list values and string values are ordered sequences of values. They can be indexed and sliced, and they both support the use of the \"+\" and \"*\" operators."
   ]
  },
  {
   "cell_type": "raw",
   "id": "124647f7-5243-4743-b3b7-033a00970149",
   "metadata": {},
   "source": [
    "13. What's the difference between tuples and lists?"
   ]
  },
  {
   "cell_type": "raw",
   "id": "e1abfdb6-65dd-41bb-8e0d-d46fb8cb0bda",
   "metadata": {},
   "source": [
    "Tuples and lists are both ordered sequences of values, but tuples are immutable while lists are mutable. Tuples are created using parentheses (), while lists are created using square brackets []."
   ]
  },
  {
   "cell_type": "raw",
   "id": "226d406f-977e-4569-bc58-e36350dcb62b",
   "metadata": {},
   "source": [
    "14. How do you type a tuple value that only contains the integer 42?"
   ]
  },
  {
   "cell_type": "code",
   "execution_count": 19,
   "id": "977ab87b-d29f-4b61-affc-5d30bfe6a715",
   "metadata": {},
   "outputs": [
    {
     "data": {
      "text/plain": [
       "42"
      ]
     },
     "execution_count": 19,
     "metadata": {},
     "output_type": "execute_result"
    }
   ],
   "source": [
    "a = (42)\n",
    "a"
   ]
  },
  {
   "cell_type": "raw",
   "id": "cfbe7aa5-5256-421e-a96b-06ae293c248c",
   "metadata": {},
   "source": [
    "15. How do you get a list value's tuple form? How do you get a tuple value's list form?"
   ]
  },
  {
   "cell_type": "code",
   "execution_count": 22,
   "id": "d2ba7291-4306-4190-a3c5-92b8f08bcd05",
   "metadata": {},
   "outputs": [
    {
     "data": {
      "text/plain": [
       "[1, 2]"
      ]
     },
     "execution_count": 22,
     "metadata": {},
     "output_type": "execute_result"
    }
   ],
   "source": [
    "l = [1,2]\n",
    "l"
   ]
  },
  {
   "cell_type": "code",
   "execution_count": 24,
   "id": "9aeb2b6a-c672-4b99-bf95-786b68e11e5b",
   "metadata": {},
   "outputs": [
    {
     "data": {
      "text/plain": [
       "(1, 2)"
      ]
     },
     "execution_count": 24,
     "metadata": {},
     "output_type": "execute_result"
    }
   ],
   "source": [
    "l1 = tuple(l)\n",
    "l1"
   ]
  },
  {
   "cell_type": "code",
   "execution_count": 25,
   "id": "3095ee7d-ea3c-4913-9296-726a9215fdd7",
   "metadata": {},
   "outputs": [
    {
     "data": {
      "text/plain": [
       "[1, 2]"
      ]
     },
     "execution_count": 25,
     "metadata": {},
     "output_type": "execute_result"
    }
   ],
   "source": [
    "list(l1)"
   ]
  },
  {
   "cell_type": "raw",
   "id": "7b998d3e-2dfb-43ed-ba9a-e996b9043779",
   "metadata": {},
   "source": [
    "16. Variables that \"contain\" list values are not necessarily lists themselves. Instead, what do they contain?"
   ]
  },
  {
   "cell_type": "raw",
   "id": "4af16aa9-7191-411a-b12f-e72979e03a71",
   "metadata": {},
   "source": [
    "Variables that \"contain\" list values are references to the list objects themselves, rather than containing the list values directly."
   ]
  },
  {
   "cell_type": "raw",
   "id": "3ff52b99-ffe0-45aa-9efb-2c57365a0c22",
   "metadata": {},
   "source": [
    "17. How do you distinguish between copy.copy() and copy.deepcopy()?"
   ]
  },
  {
   "cell_type": "raw",
   "id": "cbd58e64-8caf-4282-b0b3-f906269a2a02",
   "metadata": {},
   "source": [
    "17.\tThe copy.copy() function creates a shallow copy of a list, meaning that it creates a new list object with references to the same objects as the original list. The copy.deepcopy() function creates a deep copy of a list, meaning that it creates a new list object with new references to new objects."
   ]
  },
  {
   "cell_type": "code",
   "execution_count": null,
   "id": "e3c16b96-7aa3-4327-a3b3-ee7e313601c3",
   "metadata": {},
   "outputs": [],
   "source": []
  }
 ],
 "metadata": {
  "kernelspec": {
   "display_name": "Python 3 (ipykernel)",
   "language": "python",
   "name": "python3"
  },
  "language_info": {
   "codemirror_mode": {
    "name": "ipython",
    "version": 3
   },
   "file_extension": ".py",
   "mimetype": "text/x-python",
   "name": "python",
   "nbconvert_exporter": "python",
   "pygments_lexer": "ipython3",
   "version": "3.10.6"
  }
 },
 "nbformat": 4,
 "nbformat_minor": 5
}
