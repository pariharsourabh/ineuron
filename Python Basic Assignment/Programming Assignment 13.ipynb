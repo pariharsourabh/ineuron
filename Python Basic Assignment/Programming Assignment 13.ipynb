{
 "cells": [
  {
   "cell_type": "code",
   "execution_count": 6,
   "id": "fc826318-118f-462b-a260-2a8edeaf9637",
   "metadata": {},
   "outputs": [],
   "source": [
    "# Question 1:\n",
    "\n",
    "# Write a program that calculates and prints the value according to the given formula:\n",
    "\n",
    "# Q = Square root of [(2 * C * D)/H]\n",
    "\n",
    "# Following are the fixed values of C and H:\n",
    "\n",
    "# C is 50. H is 30.\n",
    "\n",
    "# D is the variable whose values should be input to your program in a comma-separated sequence.\n",
    "\n",
    "# Example\n",
    "\n",
    "# Let us assume the following comma separated input sequence is given to the program:\n",
    "\n",
    "# 100,150,180\n",
    "\n",
    "# The output of the program should be:\n",
    "\n",
    "# 18,22,24\n"
   ]
  },
  {
   "cell_type": "code",
   "execution_count": 8,
   "id": "79d66044-de5d-4a66-a6b1-dc92268488dd",
   "metadata": {},
   "outputs": [],
   "source": [
    "def calculate_value(input_string):\n",
    "    C=50\n",
    "    H=30\n",
    "    values = input_string.split(',')\n",
    "    result = [str(round(math.sqrt((2 * C * int(D)) / H))) for D in values]\n",
    "    output_string = \",\".join(result)\n",
    "    return output_string"
   ]
  },
  {
   "cell_type": "code",
   "execution_count": 9,
   "id": "7fe8925d-67ec-4d91-b5bc-c0d37bfae574",
   "metadata": {},
   "outputs": [
    {
     "data": {
      "text/plain": [
       "'18,22,24'"
      ]
     },
     "execution_count": 9,
     "metadata": {},
     "output_type": "execute_result"
    }
   ],
   "source": [
    "input_string = \"100,150,180\"\n",
    "calculate_value(input_string)"
   ]
  },
  {
   "cell_type": "code",
   "execution_count": 11,
   "id": "f85890a3-d59b-4ba3-a363-25cb2e021ddf",
   "metadata": {},
   "outputs": [],
   "source": [
    "# Question 2:\n",
    "# Write a program which takes 2 digits, X,Y as input and generates a 2-dimensional array. The element value in the i-th row and j-th column of the array should be i*j.\n",
    "\n",
    "# Note: i=0,1.., X-1; j=0,1,¡¬Y-1.\n",
    "\n",
    "# Example\n",
    "\n",
    "# Suppose the following inputs are given to the program:\n",
    "\n",
    "# 3,5\n",
    "\n",
    "# Then, the output of the program should be:\n",
    "\n",
    "# [[0, 0, 0, 0, 0], [0, 1, 2, 3, 4], [0, 2, 4, 6, 8]] \n"
   ]
  },
  {
   "cell_type": "code",
   "execution_count": 12,
   "id": "6164facb-f272-461f-95ab-29902e330114",
   "metadata": {},
   "outputs": [],
   "source": [
    "def generate_2d_array(X, Y):\n",
    "    array_2d = []\n",
    "    for i in range(X):\n",
    "        row = []\n",
    "        for j in range(Y):\n",
    "            element = i * j\n",
    "            row.append(element)\n",
    "        array_2d.append(row)\n",
    "\n",
    "    return array_2d"
   ]
  },
  {
   "cell_type": "code",
   "execution_count": 14,
   "id": "202c707a-a039-40d1-be43-17c6ed196ec4",
   "metadata": {},
   "outputs": [
    {
     "data": {
      "text/plain": [
       "[[0, 0, 0, 0, 0], [0, 1, 2, 3, 4], [0, 2, 4, 6, 8]]"
      ]
     },
     "execution_count": 14,
     "metadata": {},
     "output_type": "execute_result"
    }
   ],
   "source": [
    "generate_2d_array(3, 5)"
   ]
  },
  {
   "cell_type": "code",
   "execution_count": 15,
   "id": "6f9591a5-0643-4de5-aad6-c202f1e26cbd",
   "metadata": {},
   "outputs": [],
   "source": [
    "# Question 3:\n",
    "# Write a program that accepts a comma separated sequence of words as input and prints the words in a comma-separated sequence after sorting them alphabetically.\n",
    "\n",
    "# Suppose the following input is supplied to the program:\n",
    "\n",
    "# without,hello,bag,world\n",
    "\n",
    "# Then, the output should be:\n",
    "\n",
    "# bag,hello,without,world\n"
   ]
  },
  {
   "cell_type": "code",
   "execution_count": 16,
   "id": "522a78a4-6714-4277-bb8a-f1959743be64",
   "metadata": {},
   "outputs": [],
   "source": [
    "def sort_words_alphabetically(words):\n",
    "    word_list = words.split(\",\")\n",
    "    sorted_words = sorted(word_list)\n",
    "    sorted_string = \",\".join(sorted_words)\n",
    "    return sorted_string"
   ]
  },
  {
   "cell_type": "code",
   "execution_count": 17,
   "id": "d25662ee-b6c7-4d22-9cb9-11552b5dfd72",
   "metadata": {},
   "outputs": [
    {
     "data": {
      "text/plain": [
       "'bag,hello,without,world'"
      ]
     },
     "execution_count": 17,
     "metadata": {},
     "output_type": "execute_result"
    }
   ],
   "source": [
    "input_words = \"without,hello,bag,world\"\n",
    "sort_words_alphabetically(input_words)"
   ]
  },
  {
   "cell_type": "code",
   "execution_count": 18,
   "id": "060d8f15-6553-452b-89c5-d911c86d1b3a",
   "metadata": {},
   "outputs": [],
   "source": [
    "# Question 4:\n",
    "# Write a program that accepts a sequence of whitespace separated words as input and prints the words after removing all duplicate words and sorting them alphanumerically.\n",
    "\n",
    "# Suppose the following input is supplied to the program:\n",
    "\n",
    "# hello world and practice makes perfect and hello world again\n",
    "\n",
    "# Then, the output should be:\n",
    "\n",
    "# again and hello makes perfect practice world\n"
   ]
  },
  {
   "cell_type": "code",
   "execution_count": 19,
   "id": "e3573c0c-809d-4e33-8473-c0569241c93c",
   "metadata": {},
   "outputs": [],
   "source": [
    "def remove_duplicates_and_sort(words):\n",
    "    word_list = words.split()\n",
    "    unique_words = list(dict.fromkeys(word_list))\n",
    "    sorted_words = sorted(unique_words)\n",
    "    sorted_string = ' '.join(sorted_words)\n",
    "    return sorted_string"
   ]
  },
  {
   "cell_type": "code",
   "execution_count": 20,
   "id": "62cfc5bf-4ba6-429a-9791-ffe901bb5a44",
   "metadata": {},
   "outputs": [
    {
     "data": {
      "text/plain": [
       "'again and hello makes perfect practice world'"
      ]
     },
     "execution_count": 20,
     "metadata": {},
     "output_type": "execute_result"
    }
   ],
   "source": [
    "input_words = \"hello world and practice makes perfect and hello world again\"\n",
    "remove_duplicates_and_sort(input_words)"
   ]
  },
  {
   "cell_type": "code",
   "execution_count": 21,
   "id": "0836548a-8e46-4670-82bc-29d06c0b1c5b",
   "metadata": {},
   "outputs": [],
   "source": [
    "# Question 5:\n",
    "# Write a program that accepts a sentence and calculate the number of letters and digits.\n",
    "\n",
    "# Suppose the following input is supplied to the program:\n",
    "\n",
    "# hello world! 123\n",
    "\n",
    "# Then, the output should be:\n",
    "\n",
    "# LETTERS 10\n",
    "\n",
    "# DIGITS 3\n"
   ]
  },
  {
   "cell_type": "code",
   "execution_count": 22,
   "id": "9d80d1fd-a07b-49d0-a07a-33c82c9eefa6",
   "metadata": {},
   "outputs": [],
   "source": [
    "def count_letters_and_digits(sentence):\n",
    "    letter_count = 0\n",
    "    digit_count = 0\n",
    "    for char in sentence:\n",
    "        if char.isalpha():\n",
    "            letter_count += 1\n",
    "        elif char.isdigit():\n",
    "            digit_count += 1\n",
    "    \n",
    "    return letter_count, digit_count"
   ]
  },
  {
   "cell_type": "code",
   "execution_count": 23,
   "id": "d5f29142-6184-44ca-a347-3673f066985b",
   "metadata": {},
   "outputs": [
    {
     "data": {
      "text/plain": [
       "(10, 3)"
      ]
     },
     "execution_count": 23,
     "metadata": {},
     "output_type": "execute_result"
    }
   ],
   "source": [
    "input_sentence = \"hello world! 123\"\n",
    "count_letters_and_digits(input_sentence)"
   ]
  },
  {
   "cell_type": "code",
   "execution_count": 24,
   "id": "131134c1-707f-4e1d-8ec4-c46943cac05e",
   "metadata": {},
   "outputs": [],
   "source": [
    "# Question 6:\n",
    "# A website requires the users to input username and password to register. Write a program to check the validity of password input by users.\n",
    "\n",
    "# Following are the criteria for checking the password:\n",
    "\n",
    "# 1. At least 1 letter between [a-z]\n",
    "\n",
    "# 2. At least 1 number between [0-9]\n",
    "\n",
    "# 1. At least 1 letter between [A-Z]\n",
    "\n",
    "# 3. At least 1 character from [$#@]\n",
    "\n",
    "# 4. Minimum length of transaction password: 6\n",
    "\n",
    "# 5. Maximum length of transaction password: 12\n",
    "\n",
    "# Your program should accept a sequence of comma separated passwords and will check them according to the above criteria. Passwords that match the criteria are to be printed, each separated by a comma.\n",
    "\n",
    "# Example\n",
    "\n",
    "# If the following passwords are given as input to the program:\n",
    "\n",
    "# ABd1234@1,a F1#,2w3E*,2We3345\n",
    "\n",
    "# Then, the output of the program should be:\n",
    "\n",
    "# ABd1234@1\n"
   ]
  },
  {
   "cell_type": "code",
   "execution_count": 26,
   "id": "94dd00c4-c3f7-472c-bd91-588253f64ad8",
   "metadata": {},
   "outputs": [
    {
     "name": "stdout",
     "output_type": "stream",
     "text": [
      "Output: ABd1234@1\n"
     ]
    }
   ],
   "source": [
    "import re\n",
    "\n",
    "def check_password_validity(password):\n",
    "    pattern = r\"^(?=.*[a-z])(?=.*[A-Z])(?=.*\\d)(?=.*[$#@]).{6,12}$\"\n",
    "    if re.match(pattern, password):\n",
    "        return True\n",
    "    else:\n",
    "        return False\n",
    "\n",
    "input_passwords = \"ABd1234@1,a F1#,2w3E*,2We3345\"\n",
    "password_list = input_passwords.split(\",\")\n",
    "\n",
    "valid_passwords = []\n",
    "for password in password_list:\n",
    "    if check_password_validity(password):\n",
    "        valid_passwords.append(password)\n",
    "        \n",
    "output_passwords = \",\".join(valid_passwords)\n",
    "print(\"Output:\", output_passwords)\n"
   ]
  },
  {
   "cell_type": "code",
   "execution_count": null,
   "id": "56380e45-7f18-40d7-8f39-e14127658a1b",
   "metadata": {},
   "outputs": [],
   "source": []
  }
 ],
 "metadata": {
  "kernelspec": {
   "display_name": "Python 3 (ipykernel)",
   "language": "python",
   "name": "python3"
  },
  "language_info": {
   "codemirror_mode": {
    "name": "ipython",
    "version": 3
   },
   "file_extension": ".py",
   "mimetype": "text/x-python",
   "name": "python",
   "nbconvert_exporter": "python",
   "pygments_lexer": "ipython3",
   "version": "3.10.6"
  }
 },
 "nbformat": 4,
 "nbformat_minor": 5
}
