{
 "cells": [
  {
   "cell_type": "code",
   "execution_count": 1,
   "id": "8a61747c-1960-4664-abf7-0c77b5b1a55a",
   "metadata": {},
   "outputs": [],
   "source": [
    "# Question 1:\n",
    "\n",
    "# Define a class with a generator which can iterate the numbers, which are divisible by 7, between a given range 0 and n.\n"
   ]
  },
  {
   "cell_type": "code",
   "execution_count": 2,
   "id": "6b983a8b-2f5b-4497-9e3a-65d0abfc1225",
   "metadata": {},
   "outputs": [],
   "source": [
    "class DivisibleBySeven:\n",
    "    def __init__(self, n):\n",
    "        self.n = n\n",
    "\n",
    "    def generate_numbers(self):\n",
    "        for num in range(self.n + 1):\n",
    "            if num % 7 == 0:\n",
    "                yield num"
   ]
  },
  {
   "cell_type": "code",
   "execution_count": 4,
   "id": "2834718e-3dcb-40ec-a8f5-445e385aa18b",
   "metadata": {},
   "outputs": [
    {
     "name": "stdout",
     "output_type": "stream",
     "text": [
      "0\n",
      "7\n",
      "14\n",
      "21\n",
      "28\n",
      "35\n",
      "42\n",
      "49\n"
     ]
    }
   ],
   "source": [
    "generator = DivisibleBySeven(50)\n",
    "for number in generator.generate_numbers():\n",
    "    print(number)"
   ]
  },
  {
   "cell_type": "code",
   "execution_count": 5,
   "id": "30d4ae7a-66ec-4be8-9a1e-2ba2428abe20",
   "metadata": {},
   "outputs": [],
   "source": [
    "# Question 2:\n",
    "# Write a program to compute the frequency of the words from the input. The output should output after sorting the key alphanumerically. \n",
    "\n",
    "# Suppose the following input is supplied to the program:\n",
    "\n",
    "# New to Python or choosing between Python 2 and Python 3? Read Python 2 or Python 3.\n",
    "\n",
    "# Then, the output should be:\n",
    "\n",
    "# 2:2\n",
    "\n",
    "# 3.:1\n",
    "\n",
    "# 3?:1\n",
    "\n",
    "# New:1\n",
    "\n",
    "# Python:5\n",
    "\n",
    "# Read:1\n",
    "\n",
    "# and:1\n",
    "\n",
    "# between:1\n",
    "\n",
    "# choosing:1\n",
    "\n",
    "# or:2\n",
    "\n",
    "# to:1\n"
   ]
  },
  {
   "cell_type": "code",
   "execution_count": 6,
   "id": "3aba9098-61e6-417e-851d-741bbe8d42d6",
   "metadata": {},
   "outputs": [
    {
     "name": "stdout",
     "output_type": "stream",
     "text": [
      "2:2\n",
      "3.:1\n",
      "3?:1\n",
      "New:1\n",
      "Python:5\n",
      "Read:1\n",
      "and:1\n",
      "between:1\n",
      "choosing:1\n",
      "or:2\n",
      "to:1\n"
     ]
    }
   ],
   "source": [
    "def compute_word_frequency(sentence):\n",
    "    words = sentence.split()\n",
    "    word_freq = {}\n",
    "    for word in words:\n",
    "        word_freq[word] = word_freq.get(word, 0) + 1\n",
    "\n",
    "    sorted_keys = sorted(word_freq.keys())\n",
    "    for key in sorted_keys:\n",
    "        print(key + \":\" + str(word_freq[key]))\n",
    "\n",
    "input_sentence = \"New to Python or choosing between Python 2 and Python 3? Read Python 2 or Python 3.\"\n",
    "\n",
    "compute_word_frequency(input_sentence)"
   ]
  },
  {
   "cell_type": "code",
   "execution_count": 7,
   "id": "242ba612-6330-4290-b5bd-4588a55f04af",
   "metadata": {},
   "outputs": [],
   "source": [
    "# Question 3:\n",
    "\n",
    "\n",
    "\n",
    "# Define a class Person and its two child classes: Male and Female. All classes have a method \"getGender\" which can print \"Male\" for Male class and \"Female\" for Female class.\n"
   ]
  },
  {
   "cell_type": "code",
   "execution_count": 9,
   "id": "da8b4bd1-5f66-4cd5-8bbe-413965eafe73",
   "metadata": {},
   "outputs": [
    {
     "name": "stdout",
     "output_type": "stream",
     "text": [
      "Unknown\n",
      "Male\n",
      "Female\n"
     ]
    }
   ],
   "source": [
    "class Person:\n",
    "    def getGender(self):\n",
    "        return \"Unknown\"\n",
    "\n",
    "class Male(Person):\n",
    "    def getGender(self):\n",
    "        return \"Male\"\n",
    "\n",
    "class Female(Person):\n",
    "    def getGender(self):\n",
    "        return \"Female\"\n",
    "\n",
    "person = Person()\n",
    "print(person.getGender())  \n",
    "\n",
    "male = Male()\n",
    "print(male.getGender())    \n",
    "\n",
    "female = Female()\n",
    "print(female.getGender())"
   ]
  },
  {
   "cell_type": "code",
   "execution_count": 10,
   "id": "1906f49b-19f5-4d2f-aa1b-157868009786",
   "metadata": {},
   "outputs": [],
   "source": [
    "# Question 4:\n",
    "# Please write a program to generate all sentences where subject is in [\"I\", \"You\"] and verb is in [\"Play\", \"Love\"] and the object is in [\"Hockey\",\"Football\"].\n"
   ]
  },
  {
   "cell_type": "code",
   "execution_count": 11,
   "id": "1adc396c-2b7b-4cf5-b780-869d0cf76b68",
   "metadata": {},
   "outputs": [
    {
     "name": "stdout",
     "output_type": "stream",
     "text": [
      "I Play Hockey.\n",
      "I Play Football.\n",
      "I Love Hockey.\n",
      "I Love Football.\n",
      "You Play Hockey.\n",
      "You Play Football.\n",
      "You Love Hockey.\n",
      "You Love Football.\n"
     ]
    }
   ],
   "source": [
    "def generate_sentences():\n",
    "    subjects = [\"I\", \"You\"]\n",
    "    verbs = [\"Play\", \"Love\"]\n",
    "    objects = [\"Hockey\", \"Football\"]\n",
    "    sentences = []\n",
    "    for subject in subjects:\n",
    "        for verb in verbs:\n",
    "            for obj in objects:\n",
    "                sentence = f\"{subject} {verb} {obj}.\"\n",
    "                sentences.append(sentence)\n",
    "\n",
    "    return sentences\n",
    "\n",
    "result = generate_sentences()\n",
    "for sentence in result:\n",
    "    print(sentence)"
   ]
  },
  {
   "cell_type": "code",
   "execution_count": 12,
   "id": "1cf9d6a8-1ef7-4f5d-8e78-16e3064b3343",
   "metadata": {},
   "outputs": [],
   "source": [
    "# Question 5:\n",
    "# Please write a program to compress and decompress the string \"hello world!hello world!hello world!hello world!\".\n"
   ]
  },
  {
   "cell_type": "code",
   "execution_count": 13,
   "id": "f8529db0-7ac5-47ca-a9bb-ed8d6dcb7d66",
   "metadata": {},
   "outputs": [
    {
     "name": "stdout",
     "output_type": "stream",
     "text": [
      "Compressed data: b'x\\x9c\\xcbH\\xcd\\xc9\\xc9W(\\xcf/\\xcaIQ\\xcc \\x82\\r\\x00\\xbd[\\x11\\xf5'\n",
      "Decompressed string: hello world!hello world!hello world!hello world!\n"
     ]
    }
   ],
   "source": [
    "import zlib\n",
    "\n",
    "def compress_string(string):\n",
    "    compressed_data = zlib.compress(string.encode())\n",
    "    return compressed_data\n",
    "\n",
    "def decompress_string(compressed_data):\n",
    "    decompressed_string = zlib.decompress(compressed_data).decode()\n",
    "    return decompressed_string\n",
    "\n",
    "original_string = \"hello world!hello world!hello world!hello world!\"\n",
    "\n",
    "compressed_data = compress_string(original_string)\n",
    "print(\"Compressed data:\", compressed_data)\n",
    "\n",
    "decompressed_string = decompress_string(compressed_data)\n",
    "print(\"Decompressed string:\", decompressed_string)\n"
   ]
  },
  {
   "cell_type": "code",
   "execution_count": 14,
   "id": "6cb821a2-23d7-4325-afa4-ae51adbd212e",
   "metadata": {},
   "outputs": [],
   "source": [
    "# Question 6:\n",
    "# Please write a binary search function which searches an item in a sorted list. The function should return the index of element to be searched in the list.\n"
   ]
  },
  {
   "cell_type": "code",
   "execution_count": 17,
   "id": "6c2f4b06-1773-4ae4-be38-6aee6b1c6210",
   "metadata": {},
   "outputs": [
    {
     "data": {
      "text/plain": [
       "5"
      ]
     },
     "execution_count": 17,
     "metadata": {},
     "output_type": "execute_result"
    }
   ],
   "source": [
    "def binary_search(lst, target):\n",
    "    left = 0\n",
    "    right = len(lst) - 1\n",
    "\n",
    "    while left <= right:\n",
    "        mid = (left + right) // 2\n",
    "        if lst[mid] == target:\n",
    "            return mid\n",
    "        elif lst[mid] < target:\n",
    "            left = mid + 1\n",
    "        else:\n",
    "            right = mid - 1\n",
    "    return -1\n",
    "\n",
    "sorted_list = [2, 4, 6, 8, 10, 12, 14, 16, 18, 20]\n",
    "target_element = 12\n",
    "binary_search(sorted_list, target_element)"
   ]
  },
  {
   "cell_type": "code",
   "execution_count": null,
   "id": "261097fc-13ea-4083-b4f9-f41de4b1545a",
   "metadata": {},
   "outputs": [],
   "source": []
  }
 ],
 "metadata": {
  "kernelspec": {
   "display_name": "Python 3 (ipykernel)",
   "language": "python",
   "name": "python3"
  },
  "language_info": {
   "codemirror_mode": {
    "name": "ipython",
    "version": 3
   },
   "file_extension": ".py",
   "mimetype": "text/x-python",
   "name": "python",
   "nbconvert_exporter": "python",
   "pygments_lexer": "ipython3",
   "version": "3.10.6"
  }
 },
 "nbformat": 4,
 "nbformat_minor": 5
}
