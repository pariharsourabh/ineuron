{
 "cells": [
  {
   "cell_type": "code",
   "execution_count": 1,
   "id": "bd224586-e55d-49f2-94d7-02a799621d4c",
   "metadata": {},
   "outputs": [
    {
     "name": "stdout",
     "output_type": "stream",
     "text": [
      "1 2 8\n"
     ]
    }
   ],
   "source": [
    "#1. What is the result of the code, and why?\n",
    "def func(a, b=6, c=8):\n",
    "    print(a, b, c)\n",
    "func(1, 2)\n"
   ]
  },
  {
   "cell_type": "code",
   "execution_count": 3,
   "id": "fababd87-4c5b-4586-bf49-2ccbc1141a9d",
   "metadata": {},
   "outputs": [],
   "source": [
    "# The function func() is defined with three parameters: a, b, and c. The parameter b and c has a default value of 6 and 8. So when func(1,2) is called the value 1 is assigned to parameter a, and the value 2 is assigned to parameter b. Since no value is provided for parameter c, it takes its default value of 8."
   ]
  },
  {
   "cell_type": "code",
   "execution_count": 2,
   "id": "f9f02c36-51ed-44ea-9410-b847ec98e2a9",
   "metadata": {},
   "outputs": [
    {
     "name": "stdout",
     "output_type": "stream",
     "text": [
      "1 2 3\n"
     ]
    }
   ],
   "source": [
    "#2. What is the result of this code, and why?\n",
    "def func(a, b, c=5):\n",
    "    print(a, b, c)\n",
    "func(1, c=3, b=2)\n"
   ]
  },
  {
   "cell_type": "code",
   "execution_count": 4,
   "id": "8ac8c760-50d6-4ce8-b798-c4da3096ba93",
   "metadata": {},
   "outputs": [],
   "source": [
    "# The function func() is defined with three parameters: a, b, and c. The parameter c has default value 5. So when the func(1, c=3, b=2) called the value 1 is assigned to parameter a,the value 3 is assigned to c, and value 2 is assigned to b. But the func print b c;6omes before c so the func print 2 then 3."
   ]
  },
  {
   "cell_type": "code",
   "execution_count": 5,
   "id": "3c720994-cdc9-4dac-871b-9f47888ce724",
   "metadata": {},
   "outputs": [
    {
     "name": "stdout",
     "output_type": "stream",
     "text": [
      "1 (2, 3)\n"
     ]
    }
   ],
   "source": [
    "#3. How about this code: what is its result, and why?\n",
    "def func(a, *pargs):\n",
    "    print(a, pargs)\n",
    "func(1, 2, 3)\n"
   ]
  },
  {
   "cell_type": "code",
   "execution_count": 6,
   "id": "14578bbe-086f-4860-a207-1e6f9477d7ba",
   "metadata": {},
   "outputs": [],
   "source": [
    "# The function func() is defined with two parameters: a and *pargs. The parameter *pargs is prefixed with an asterisk (*), which allows it to accept a variable number of positional arguments. When func(1,2,3) called the value 1 is assigned to parameter a, and the remaining arguments 2 and 3 are packed into a tuple and assigned to pargs. So it print 1 (2,3)."
   ]
  },
  {
   "cell_type": "code",
   "execution_count": 7,
   "id": "d6ea73a1-bca1-4ce4-bf86-b4aadbc757a9",
   "metadata": {},
   "outputs": [
    {
     "name": "stdout",
     "output_type": "stream",
     "text": [
      "1 {'c': 3, 'b': 2}\n"
     ]
    }
   ],
   "source": [
    "#4. What does this code print, and why?\n",
    "def func(a, **kargs):\n",
    "    print(a, kargs)\n",
    "func(a=1, c=3, b=2)\n"
   ]
  },
  {
   "cell_type": "code",
   "execution_count": 8,
   "id": "dcaeb2f5-dfd1-47bf-abe8-0624bad0241d",
   "metadata": {},
   "outputs": [],
   "source": [
    "# The function func() is defined with a parameter a and **kargs, which allows it to accept a variable number of keyword arguments. when func(a=1,c=3,b=2) is called the value 1 is assigned to a, and the remaining keyword arguments c=3 and b=2 are packed into a dictionary and assigned to kargs."
   ]
  },
  {
   "cell_type": "code",
   "execution_count": 9,
   "id": "f9a3069f-6841-4637-95ed-67f810f83b93",
   "metadata": {},
   "outputs": [
    {
     "name": "stdout",
     "output_type": "stream",
     "text": [
      "1 5 6 5\n"
     ]
    }
   ],
   "source": [
    "# 5. What gets printed by this, and explain?\n",
    "def func(a, b, c=8, d=5):\n",
    "    print(a, b, c, d)\n",
    "func(1, *(5, 6))\n"
   ]
  },
  {
   "cell_type": "code",
   "execution_count": 10,
   "id": "de25b189-845a-4e19-a516-1462f13c2ee0",
   "metadata": {},
   "outputs": [],
   "source": [
    "# The function func() is defined with four parameters: a, b, c, and d. The parameters c and d have default values of 8 and 5. so when the func(1, *(5,6)) called  the value 1 is assigned to parameter a, and the tuple (5, 6) is unpacked and assigned to parameters b and c. Since there is no argument provided for d, it takes its default value of 5."
   ]
  },
  {
   "cell_type": "code",
   "execution_count": 12,
   "id": "533eead0-0d90-41c5-afb7-4eec7f2474c4",
   "metadata": {},
   "outputs": [
    {
     "data": {
      "text/plain": [
       "(1, ['x'], {'a': 'y'})"
      ]
     },
     "execution_count": 12,
     "metadata": {},
     "output_type": "execute_result"
    }
   ],
   "source": [
    "# 6. what is the result of this, and explain?\n",
    "def func(a, b, c): a = 2; b[0] = 'x'; c['a'] = 'y'\n",
    "l=1; m=[1]; n={'a':0}\n",
    "func(l, m, n)\n",
    "l, m, n\n"
   ]
  },
  {
   "cell_type": "code",
   "execution_count": 13,
   "id": "f4fc58af-16f0-4d92-8f64-25bbf04c3b46",
   "metadata": {},
   "outputs": [],
   "source": [
    "# In the code, the function func() takes three arguments: a, b, and c. Inside the function, the value of a is reassigned to 2, the first element of b is changed to 'x', and the value associated with the key 'a' in dictionary c is set to 'y'. So after calling the function, when we print the values of l, m, and n, we will see (1, ['x'], {'a': 'y'}) as the result, reflecting the changes made inside the function."
   ]
  },
  {
   "cell_type": "code",
   "execution_count": null,
   "id": "89471e6a-4c63-4c17-b564-d95bcc86996e",
   "metadata": {},
   "outputs": [],
   "source": []
  }
 ],
 "metadata": {
  "kernelspec": {
   "display_name": "Python 3 (ipykernel)",
   "language": "python",
   "name": "python3"
  },
  "language_info": {
   "codemirror_mode": {
    "name": "ipython",
    "version": 3
   },
   "file_extension": ".py",
   "mimetype": "text/x-python",
   "name": "python",
   "nbconvert_exporter": "python",
   "pygments_lexer": "ipython3",
   "version": "3.10.6"
  }
 },
 "nbformat": 4,
 "nbformat_minor": 5
}
