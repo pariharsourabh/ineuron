{
 "cells": [
  {
   "cell_type": "code",
   "execution_count": 1,
   "id": "394d2f87-3163-4227-8f71-ffef980dc2cf",
   "metadata": {},
   "outputs": [],
   "source": [
    "# Question1\n",
    "# Create a function that takes a string and returns a string in which each character is repeated once.\n",
    "# Examples\n",
    "# double_char(\"String\") ➞ \"SSttrriinngg\"\n",
    "\n",
    "# double_char(\"Hello World!\") ➞ \"HHeelllloo  WWoorrlldd!!\"\n",
    "\n",
    "# double_char(\"1234!_ \") ➞ \"11223344!!__  \"\n"
   ]
  },
  {
   "cell_type": "code",
   "execution_count": 2,
   "id": "037a2055-28ea-4d39-accf-4431c3dc9d17",
   "metadata": {},
   "outputs": [
    {
     "name": "stdout",
     "output_type": "stream",
     "text": [
      "SSttrriinngg\n",
      "HHeelllloo  WWoorrlldd!!\n",
      "11223344!!__  \n"
     ]
    }
   ],
   "source": [
    "def double_char(string):\n",
    "    repeated_string = \"\"\n",
    "    for char in string:\n",
    "        repeated_string += char * 2\n",
    "    return repeated_string\n",
    "\n",
    "print(double_char(\"String\"))\n",
    "print(double_char(\"Hello World!\"))\n",
    "print(double_char(\"1234!_ \"))"
   ]
  },
  {
   "cell_type": "code",
   "execution_count": 3,
   "id": "5b0f2f8a-fb2f-4254-90e5-011bd51290cd",
   "metadata": {},
   "outputs": [],
   "source": [
    "# Question2\n",
    "# Create a function that reverses a boolean value and returns the string \"boolean expected\" if another variable type is given.\n",
    "# Examples\n",
    "# reverse(True) ➞ False\n",
    "\n",
    "# reverse(False) ➞ True\n",
    "\n",
    "# reverse(0) ➞ \"boolean expected\"\n",
    "\n",
    "# reverse(None) ➞ \"boolean expected\"\n"
   ]
  },
  {
   "cell_type": "code",
   "execution_count": 4,
   "id": "99489d47-cbcd-429e-b03f-80ef3d7570e5",
   "metadata": {},
   "outputs": [
    {
     "name": "stdout",
     "output_type": "stream",
     "text": [
      "False\n",
      "True\n",
      "boolean expected\n",
      "boolean expected\n"
     ]
    }
   ],
   "source": [
    "def reverse(value):\n",
    "    if isinstance(value, bool):\n",
    "        return not value\n",
    "    else:\n",
    "        return \"boolean expected\"\n",
    "\n",
    "print(reverse(True))\n",
    "print(reverse(False))\n",
    "print(reverse(0))\n",
    "print(reverse(None))"
   ]
  },
  {
   "cell_type": "code",
   "execution_count": 5,
   "id": "18deeb09-c033-4acb-8759-4ed62f6de2cb",
   "metadata": {},
   "outputs": [],
   "source": [
    "# Question3\n",
    "# Create a function that returns the thickness (in meters) of a piece of paper after folding it n number of times. The paper starts off with a thickness of 0.5mm.\n",
    "# Examples\n",
    "# num_layers(1) ➞ \"0.001m\"\n",
    "# # Paper folded once is 1mm (equal to 0.001m)\n",
    "\n",
    "# num_layers(4) ➞ \"0.008m\"\n",
    "# # Paper folded 4 times is 8mm (equal to 0.008m)\n",
    "\n",
    "# num_layers(21) ➞ \"1048.576m\"\n",
    "# # Paper folded 21 times is 1048576mm (equal to 1048.576m)\n"
   ]
  },
  {
   "cell_type": "code",
   "execution_count": 6,
   "id": "8c7a2f02-194f-432a-ada6-16b7071d505e",
   "metadata": {},
   "outputs": [
    {
     "name": "stdout",
     "output_type": "stream",
     "text": [
      "0.001m\n",
      "0.008m\n",
      "1048.576m\n"
     ]
    }
   ],
   "source": [
    "def num_layers(n):\n",
    "    thickness_mm = 0.5 * (2 ** n)\n",
    "    thickness_m = thickness_mm / 1000\n",
    "    return \"{:.3f}m\".format(thickness_m)\n",
    "\n",
    "print(num_layers(1))\n",
    "print(num_layers(4))\n",
    "print(num_layers(21))"
   ]
  },
  {
   "cell_type": "code",
   "execution_count": 7,
   "id": "3aed7414-b72d-40ff-8dbe-b657d372a24b",
   "metadata": {},
   "outputs": [],
   "source": [
    "# Question4\n",
    "# Create a function that takes a single string as argument and returns an ordered list containing the indices of all capital letters in the string.\n",
    "# Examples\n",
    "# index_of_caps(\"eDaBiT\") ➞ [1, 3, 5]\n",
    "\n",
    "# index_of_caps(\"eQuINoX\") ➞ [1, 3, 4, 6]\n",
    "\n",
    "# index_of_caps(\"determine\") ➞ []\n",
    "\n",
    "# index_of_caps(\"STRIKE\") ➞ [0, 1, 2, 3, 4, 5]\n",
    "\n",
    "# index_of_caps(\"sUn\") ➞ [1]\n"
   ]
  },
  {
   "cell_type": "code",
   "execution_count": 8,
   "id": "3b1cbb02-11ac-4661-b5ba-2b326eb42f77",
   "metadata": {},
   "outputs": [
    {
     "name": "stdout",
     "output_type": "stream",
     "text": [
      "[1, 3, 5]\n",
      "[1, 3, 4, 6]\n",
      "[]\n",
      "[0, 1, 2, 3, 4, 5]\n",
      "[1]\n"
     ]
    }
   ],
   "source": [
    "def index_of_caps(string):\n",
    "    indices = [index for index, char in enumerate(string) if char.isupper()]\n",
    "    return indices\n",
    "\n",
    "print(index_of_caps(\"eDaBiT\"))\n",
    "print(index_of_caps(\"eQuINoX\"))\n",
    "print(index_of_caps(\"determine\"))\n",
    "print(index_of_caps(\"STRIKE\"))\n",
    "print(index_of_caps(\"sUn\"))"
   ]
  },
  {
   "cell_type": "code",
   "execution_count": 9,
   "id": "dea5de69-f550-4a4f-8750-505aa82abb05",
   "metadata": {},
   "outputs": [],
   "source": [
    "# Question5\n",
    "# Using list comprehensions, create a function that finds all even numbers from 1 to the given number.\n",
    "# Examples\n",
    "# find_even_nums(8) ➞ [2, 4, 6, 8]\n",
    "\n",
    "# find_even_nums(4) ➞ [2, 4]\n",
    "\n",
    "# find_even_nums(2) ➞ [2]\n"
   ]
  },
  {
   "cell_type": "code",
   "execution_count": 10,
   "id": "41c3f903-8c7e-46ca-9ad2-1db25826ea80",
   "metadata": {},
   "outputs": [
    {
     "name": "stdout",
     "output_type": "stream",
     "text": [
      "[2, 4, 6, 8]\n",
      "[2, 4]\n",
      "[2]\n"
     ]
    }
   ],
   "source": [
    "def find_even_nums(n):\n",
    "    even_nums = [num for num in range(1, n + 1) if num % 2 == 0]\n",
    "    return even_nums\n",
    "\n",
    "print(find_even_nums(8))\n",
    "print(find_even_nums(4))\n",
    "print(find_even_nums(2))"
   ]
  },
  {
   "cell_type": "code",
   "execution_count": null,
   "id": "04a70f46-5c8a-4b84-b7e7-793c140e0778",
   "metadata": {},
   "outputs": [],
   "source": []
  }
 ],
 "metadata": {
  "kernelspec": {
   "display_name": "Python 3 (ipykernel)",
   "language": "python",
   "name": "python3"
  },
  "language_info": {
   "codemirror_mode": {
    "name": "ipython",
    "version": 3
   },
   "file_extension": ".py",
   "mimetype": "text/x-python",
   "name": "python",
   "nbconvert_exporter": "python",
   "pygments_lexer": "ipython3",
   "version": "3.10.6"
  }
 },
 "nbformat": 4,
 "nbformat_minor": 5
}
