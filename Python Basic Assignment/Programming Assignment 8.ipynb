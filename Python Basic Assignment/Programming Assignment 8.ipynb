{
 "cells": [
  {
   "cell_type": "code",
   "execution_count": 1,
   "id": "f67e96c9-fd71-40b1-a7e2-8d1529344b19",
   "metadata": {},
   "outputs": [],
   "source": [
    "#1.\tWrite a Python Program to Add Two Matrices?"
   ]
  },
  {
   "cell_type": "code",
   "execution_count": 2,
   "id": "2677e55a-4a1a-4111-89bd-3a4df9e347d4",
   "metadata": {},
   "outputs": [],
   "source": [
    "def add_matrices(matrix1, matrix2):\n",
    "    result = []\n",
    "    \n",
    "    # Check if the matrices have the same dimensions\n",
    "    if len(matrix1) != len(matrix2) or len(matrix1[0]) != len(matrix2[0]):\n",
    "        return None\n",
    "    \n",
    "    # Iterate over each row of the matrices\n",
    "    for i in range(len(matrix1)):\n",
    "        row = []\n",
    "        \n",
    "        # Iterate over each element in the row\n",
    "        for j in range(len(matrix1[i])):\n",
    "            # Add the corresponding elements from the two matrices\n",
    "            element_sum = matrix1[i][j] + matrix2[i][j]\n",
    "            row.append(element_sum)\n",
    "        \n",
    "        result.append(row)\n",
    "    \n",
    "    return result"
   ]
  },
  {
   "cell_type": "code",
   "execution_count": 3,
   "id": "1b387681-1950-43ed-9052-2f099d0625af",
   "metadata": {},
   "outputs": [
    {
     "data": {
      "text/plain": [
       "[[10, 10, 10], [10, 10, 10], [10, 10, 10]]"
      ]
     },
     "execution_count": 3,
     "metadata": {},
     "output_type": "execute_result"
    }
   ],
   "source": [
    "matrix1 = [[1, 2, 3],\n",
    "           [4, 5, 6],\n",
    "           [7, 8, 9]]\n",
    "\n",
    "matrix2 = [[9, 8, 7],\n",
    "           [6, 5, 4],\n",
    "           [3, 2, 1]]\n",
    "\n",
    "add_matrices(matrix1, matrix2)"
   ]
  },
  {
   "cell_type": "code",
   "execution_count": 4,
   "id": "3b322ff2-a89e-4491-a677-63df8c048a57",
   "metadata": {},
   "outputs": [],
   "source": [
    "# 2.\tWrite a Python Program to Multiply Two Matrices?"
   ]
  },
  {
   "cell_type": "code",
   "execution_count": 8,
   "id": "63583ef4-828c-45a2-8c1e-8926a9c5aab6",
   "metadata": {},
   "outputs": [],
   "source": [
    "def multiply_matrices(matrix1, matrix2):\n",
    "    result = []\n",
    "    \n",
    "    # Check if the matrices can be multiplied\n",
    "    if len(matrix1[0]) != len(matrix2):\n",
    "        return None\n",
    "    \n",
    "    # Iterate over each row of the first matrix\n",
    "    for i in range(len(matrix1)):\n",
    "        row = []\n",
    "        \n",
    "        # Iterate over each column of the second matrix\n",
    "        for j in range(len(matrix2[0])):\n",
    "            dot_product = 0\n",
    "            \n",
    "            for k in range(len(matrix2)):\n",
    "                dot_product += matrix1[i][k] * matrix2[k][j]\n",
    "            \n",
    "            row.append(dot_product)\n",
    "        \n",
    "        result.append(row)\n",
    "    \n",
    "    return result"
   ]
  },
  {
   "cell_type": "code",
   "execution_count": 9,
   "id": "208725a7-7ca9-4c85-9f65-536d7f08fcb1",
   "metadata": {},
   "outputs": [
    {
     "data": {
      "text/plain": [
       "[[58, 64], [139, 154]]"
      ]
     },
     "execution_count": 9,
     "metadata": {},
     "output_type": "execute_result"
    }
   ],
   "source": [
    "matrix1 = [[1, 2, 3],\n",
    "           [4, 5, 6]]\n",
    "\n",
    "matrix2 = [[7, 8],\n",
    "           [9, 10],\n",
    "           [11, 12]]\n",
    "\n",
    "\n",
    "multiply_matrices(matrix1, matrix2)"
   ]
  },
  {
   "cell_type": "code",
   "execution_count": 7,
   "id": "aa21cd8d-a04a-4603-a61e-4c6b1e2ac7d0",
   "metadata": {},
   "outputs": [],
   "source": [
    "# 3.\tWrite a Python Program to Transpose a Matrix?"
   ]
  },
  {
   "cell_type": "code",
   "execution_count": 10,
   "id": "1cadbcf8-4549-41f9-bc5d-8d32f5e0e4ef",
   "metadata": {},
   "outputs": [],
   "source": [
    "def transpose_matrix(matrix):\n",
    "    rows = len(matrix)\n",
    "    columns = len(matrix[0])\n",
    "    \n",
    "    transposed = [[0 for _ in range(rows)] for _ in range(columns)]\n",
    "\n",
    "    for i in range(rows):\n",
    "        for j in range(columns):\n",
    "            transposed[j][i] = matrix[i][j]\n",
    "    \n",
    "    return transposed"
   ]
  },
  {
   "cell_type": "code",
   "execution_count": 11,
   "id": "942dfc18-f939-469e-a7d4-515dcc8b863a",
   "metadata": {},
   "outputs": [
    {
     "data": {
      "text/plain": [
       "[[1, 4, 7], [2, 5, 8], [3, 6, 9]]"
      ]
     },
     "execution_count": 11,
     "metadata": {},
     "output_type": "execute_result"
    }
   ],
   "source": [
    "matrix = [[1, 2, 3],\n",
    "          [4, 5, 6],\n",
    "          [7, 8, 9]]\n",
    "\n",
    "transpose_matrix(matrix)"
   ]
  },
  {
   "cell_type": "code",
   "execution_count": 12,
   "id": "0fb24acf-27da-456b-826a-6214061450dc",
   "metadata": {},
   "outputs": [],
   "source": [
    "# 4.\tWrite a Python Program to Sort Words in Alphabetic Order?"
   ]
  },
  {
   "cell_type": "code",
   "execution_count": 13,
   "id": "3c6fae55-08e3-4728-984f-d0581d3a51e5",
   "metadata": {},
   "outputs": [],
   "source": [
    "def sort_words(words):\n",
    "    word_list = words.split()\n",
    "    sorted_words = sorted(word_list)\n",
    "    \n",
    "    return sorted_words"
   ]
  },
  {
   "cell_type": "code",
   "execution_count": 14,
   "id": "4c485871-7a85-4656-8229-abef8566e832",
   "metadata": {},
   "outputs": [
    {
     "data": {
      "text/plain": [
       "['and', 'challenging', 'fun', 'is', 'programming']"
      ]
     },
     "execution_count": 14,
     "metadata": {},
     "output_type": "execute_result"
    }
   ],
   "source": [
    "word_string = \"programming is fun and challenging\"\n",
    "\n",
    "sort_words(word_string)"
   ]
  },
  {
   "cell_type": "code",
   "execution_count": 15,
   "id": "cacb81d8-3c91-4166-a9cd-9792cfb9de9b",
   "metadata": {},
   "outputs": [],
   "source": [
    "# 5.\tWrite a Python Program to Remove Punctuation From a String?"
   ]
  },
  {
   "cell_type": "code",
   "execution_count": 16,
   "id": "b353637c-df34-4ec2-a8da-291c0d5b8228",
   "metadata": {},
   "outputs": [],
   "source": [
    "import string\n",
    "\n",
    "def remove_punctuation(text):\n",
    "    translator = str.maketrans(\"\", \"\", string.punctuation)\n",
    "    \n",
    "    text_without_punctuation = text.translate(translator)\n",
    "    \n",
    "    return text_without_punctuation"
   ]
  },
  {
   "cell_type": "code",
   "execution_count": 17,
   "id": "2f58fd21-e273-446e-b383-04f4cc2adeb8",
   "metadata": {},
   "outputs": [
    {
     "data": {
      "text/plain": [
       "'Hello World How are you today'"
      ]
     },
     "execution_count": 17,
     "metadata": {},
     "output_type": "execute_result"
    }
   ],
   "source": [
    "text = \"Hello, World! How are you today?\"\n",
    "\n",
    "remove_punctuation(text)"
   ]
  },
  {
   "cell_type": "code",
   "execution_count": null,
   "id": "efd00c25-22c4-4889-a1b2-d4eb43e4d750",
   "metadata": {},
   "outputs": [],
   "source": []
  }
 ],
 "metadata": {
  "kernelspec": {
   "display_name": "Python 3 (ipykernel)",
   "language": "python",
   "name": "python3"
  },
  "language_info": {
   "codemirror_mode": {
    "name": "ipython",
    "version": 3
   },
   "file_extension": ".py",
   "mimetype": "text/x-python",
   "name": "python",
   "nbconvert_exporter": "python",
   "pygments_lexer": "ipython3",
   "version": "3.10.6"
  }
 },
 "nbformat": 4,
 "nbformat_minor": 5
}
