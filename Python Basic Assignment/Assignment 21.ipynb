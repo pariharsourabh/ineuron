{
 "cells": [
  {
   "cell_type": "code",
   "execution_count": 1,
   "id": "9f9fd633-fbab-4b67-a10e-e4c4f1f124bc",
   "metadata": {},
   "outputs": [],
   "source": [
    "#1. Add the current date to the text file today.txt as a string."
   ]
  },
  {
   "cell_type": "code",
   "execution_count": 10,
   "id": "89543c62-8a8f-4e33-88f5-47b2e90c189a",
   "metadata": {},
   "outputs": [],
   "source": [
    "from datetime import date\n",
    "current_date = date.today().strftime(\"%d-%m-%Y\")\n",
    "with open(\"today.txt\", \"w\") as file:\n",
    "    file.write(current_date)\n",
    "    file.close()"
   ]
  },
  {
   "cell_type": "code",
   "execution_count": 11,
   "id": "921b3a69-39bf-44d4-9df2-4915f0a04b0f",
   "metadata": {},
   "outputs": [],
   "source": [
    "#2. Read the text file today.txt into the string today_string"
   ]
  },
  {
   "cell_type": "code",
   "execution_count": 12,
   "id": "2abe4000-66d5-4792-870c-684c4864bf53",
   "metadata": {},
   "outputs": [
    {
     "name": "stdout",
     "output_type": "stream",
     "text": [
      "09-05-2023\n"
     ]
    }
   ],
   "source": [
    "with open(\"today.txt\", \"r\") as file:\n",
    "    today_string = file.read()\n",
    "    file.close()\n",
    "    \n",
    "print(today_string)"
   ]
  },
  {
   "cell_type": "code",
   "execution_count": 13,
   "id": "bc403973-5bea-4aa9-b4d2-1b4bfefcef76",
   "metadata": {},
   "outputs": [],
   "source": [
    "#3. Parse the date from today_string."
   ]
  },
  {
   "cell_type": "code",
   "execution_count": 14,
   "id": "592f7bf4-04a3-42b6-b2c2-046f1dbe5385",
   "metadata": {},
   "outputs": [
    {
     "name": "stdout",
     "output_type": "stream",
     "text": [
      "2023-05-09 00:00:00\n"
     ]
    }
   ],
   "source": [
    "from datetime import datetime\n",
    "parsed_data = datetime.strptime(today_string, \"%d-%m-%Y\")\n",
    "print(parsed_data)"
   ]
  },
  {
   "cell_type": "code",
   "execution_count": 15,
   "id": "fa134c20-4b3b-4a0b-9f11-b0938d8400b0",
   "metadata": {},
   "outputs": [],
   "source": [
    "#4. List the files in your current directory"
   ]
  },
  {
   "cell_type": "code",
   "execution_count": 17,
   "id": "02241cae-4e6b-4fd1-aac9-faad308b87d4",
   "metadata": {},
   "outputs": [
    {
     "name": "stdout",
     "output_type": "stream",
     "text": [
      " 1.pdf\t\t       'Assignment 2.ipynb'   programLog.txt\n",
      "'Assignment 10.ipynb'  'Assignment 3.ipynb'  'Programming Assignment 1.ipynb'\n",
      "'Assignment 11.ipynb'  'Assignment 4.ipynb'  'Programming Assignment 2.ipynb'\n",
      "'Assignment 13.ipynb'  'Assignment 5.ipynb'  'Programming Assignment 3.ipynb'\n",
      "'Assignment 14.ipynb'  'Assignment 6.ipynb'  'Programming Assignment 4.ipynb'\n",
      "'Assignment 15.ipynb'  'Assignment 7.ipynb'  'Programming Assignment 5.ipynb'\n",
      "'Assignment 16.ipynb'  'Assignment 8.ipynb'  'Programming Assignment 6.ipynb'\n",
      "'Assignment 17.ipynb'  'Assignment 9.ipynb'  'Programming Assignment 7.ipynb'\n",
      "'Assignment 18.ipynb'   book.db\t\t      __pycache__\n",
      "'Assignment 19.ipynb'   books.csv\t      test.txt\n",
      "'Assignment 1.ipynb'    images2.png\t      today.txt\n",
      "'Assignment 20.ipynb'   images.png\t      un.ipynb\n",
      "'Assignment 21.ipynb'   Log.txt\t\t      zoo.py\n"
     ]
    }
   ],
   "source": [
    "!ls"
   ]
  },
  {
   "cell_type": "code",
   "execution_count": 18,
   "id": "d329e991-8a8c-40da-98e1-719fbdb33d19",
   "metadata": {},
   "outputs": [],
   "source": [
    "#5. Create a list of all of the files in your parent directory (minimum five files should be available)."
   ]
  },
  {
   "cell_type": "code",
   "execution_count": 19,
   "id": "c15a1082-2d22-452f-9ef5-ae289527fe8c",
   "metadata": {},
   "outputs": [
    {
     "data": {
      "text/plain": [
       "['Programming Assignment 5.ipynb',\n",
       " 'Assignment 10.ipynb',\n",
       " 'book.db',\n",
       " 'Assignment 2.ipynb',\n",
       " 'test.txt',\n",
       " 'zoo.py',\n",
       " '1.pdf',\n",
       " 'Assignment 5.ipynb',\n",
       " 'Assignment 16.ipynb',\n",
       " 'Assignment 17.ipynb',\n",
       " 'Assignment 19.ipynb',\n",
       " 'Assignment 4.ipynb',\n",
       " 'Programming Assignment 7.ipynb',\n",
       " 'Programming Assignment 1.ipynb',\n",
       " 'Programming Assignment 6.ipynb',\n",
       " 'Assignment 18.ipynb',\n",
       " 'Assignment 15.ipynb',\n",
       " 'un.ipynb',\n",
       " 'Assignment 1.ipynb',\n",
       " 'Programming Assignment 3.ipynb',\n",
       " 'Assignment 21.ipynb',\n",
       " 'Assignment 7.ipynb',\n",
       " 'Assignment 9.ipynb',\n",
       " 'Assignment 6.ipynb',\n",
       " 'Programming Assignment 2.ipynb',\n",
       " 'Assignment 3.ipynb',\n",
       " 'Programming Assignment 4.ipynb',\n",
       " 'images.png',\n",
       " '__pycache__',\n",
       " 'Assignment 11.ipynb',\n",
       " 'images2.png',\n",
       " 'Assignment 8.ipynb',\n",
       " '.ipynb_checkpoints',\n",
       " 'today.txt',\n",
       " 'Assignment 14.ipynb',\n",
       " 'books.csv',\n",
       " 'Log.txt',\n",
       " 'Assignment 13.ipynb',\n",
       " 'programLog.txt',\n",
       " 'Assignment 20.ipynb']"
      ]
     },
     "execution_count": 19,
     "metadata": {},
     "output_type": "execute_result"
    }
   ],
   "source": [
    "import os \n",
    "os.listdir()"
   ]
  },
  {
   "cell_type": "code",
   "execution_count": 20,
   "id": "8d084146-2fce-4392-8dd1-56d43f7ce738",
   "metadata": {},
   "outputs": [],
   "source": [
    "#6. Use multiprocessing to create three separate processes. Make each one wait a random number of seconds between one and five, print the current time, and then exit."
   ]
  },
  {
   "cell_type": "code",
   "execution_count": 21,
   "id": "d40ebd2c-aeb9-49ed-8e1e-e6a2953b26f0",
   "metadata": {},
   "outputs": [
    {
     "name": "stdout",
     "output_type": "stream",
     "text": [
      "Current time: 17:29:38\n",
      "Current time: 17:29:40Current time: 17:29:40\n",
      "\n"
     ]
    }
   ],
   "source": [
    "import multiprocessing\n",
    "import random\n",
    "import time\n",
    "from datetime import datetime\n",
    "\n",
    "def print_current_time():\n",
    "    wait_time = random.randint(1, 5)\n",
    "    time.sleep(wait_time)\n",
    "    current_time = datetime.now().strftime(\"%H:%M:%S\")\n",
    "    print(f\"Current time: {current_time}\")\n",
    "\n",
    "processes = []\n",
    "for _ in range(3):\n",
    "    p = multiprocessing.Process(target=print_current_time)\n",
    "    p.start()\n",
    "    processes.append(p)\n",
    "\n",
    "for p in processes:\n",
    "    p.join()"
   ]
  },
  {
   "cell_type": "code",
   "execution_count": 22,
   "id": "1b59e95f-3d5d-4028-9e7e-e9dddf43343b",
   "metadata": {},
   "outputs": [],
   "source": [
    "#7. Create a date object of your day of birth."
   ]
  },
  {
   "cell_type": "code",
   "execution_count": 25,
   "id": "a67c4e22-0e8e-4a43-b0e4-6f2acae7a5a7",
   "metadata": {},
   "outputs": [
    {
     "name": "stdout",
     "output_type": "stream",
     "text": [
      "1996-09-04\n"
     ]
    }
   ],
   "source": [
    "from datetime import date\n",
    "birthday = date(1996, 9, 4)\n",
    "print(birthday)"
   ]
  },
  {
   "cell_type": "code",
   "execution_count": 26,
   "id": "ae9dc016-48a3-4ad8-a596-6ed2e6207fba",
   "metadata": {},
   "outputs": [],
   "source": [
    "#8. What day of the week was your day of birth?"
   ]
  },
  {
   "cell_type": "code",
   "execution_count": 27,
   "id": "647f0993-8b9f-4062-81c7-504eda664b84",
   "metadata": {},
   "outputs": [
    {
     "name": "stdout",
     "output_type": "stream",
     "text": [
      "Wednesday\n"
     ]
    }
   ],
   "source": [
    "day_of_week = birthday.strftime(\"%A\")\n",
    "print(day_of_week)"
   ]
  },
  {
   "cell_type": "code",
   "execution_count": 28,
   "id": "c6d5b745-7632-412b-98e0-cbc94cd353fa",
   "metadata": {},
   "outputs": [],
   "source": [
    "#9. When will you be (or when were you) 10,000 days old?"
   ]
  },
  {
   "cell_type": "code",
   "execution_count": 29,
   "id": "9c1aa7cf-25b4-4935-b078-55b4011bb23f",
   "metadata": {},
   "outputs": [
    {
     "name": "stdout",
     "output_type": "stream",
     "text": [
      "2024-01-21\n"
     ]
    }
   ],
   "source": [
    "from datetime import timedelta\n",
    "future_date = birthday+timedelta(10000)\n",
    "print(future_date)"
   ]
  },
  {
   "cell_type": "code",
   "execution_count": null,
   "id": "ccbdab6d-8451-484d-b2db-e9fb95385eb2",
   "metadata": {},
   "outputs": [],
   "source": []
  }
 ],
 "metadata": {
  "kernelspec": {
   "display_name": "Python 3 (ipykernel)",
   "language": "python",
   "name": "python3"
  },
  "language_info": {
   "codemirror_mode": {
    "name": "ipython",
    "version": 3
   },
   "file_extension": ".py",
   "mimetype": "text/x-python",
   "name": "python",
   "nbconvert_exporter": "python",
   "pygments_lexer": "ipython3",
   "version": "3.10.6"
  }
 },
 "nbformat": 4,
 "nbformat_minor": 5
}
