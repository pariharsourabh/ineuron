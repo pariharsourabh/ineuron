{
 "cells": [
  {
   "cell_type": "code",
   "execution_count": 1,
   "id": "c0d97e2b-7410-45d8-9232-c68b3af7cd9f",
   "metadata": {},
   "outputs": [],
   "source": [
    "# 1.\tWrite a Python program to find sum of elements in list?"
   ]
  },
  {
   "cell_type": "code",
   "execution_count": 2,
   "id": "faef68cb-5944-442e-bfae-8fd264366f94",
   "metadata": {},
   "outputs": [],
   "source": [
    "def sum_of_elem(lst):\n",
    "    total=0\n",
    "    for num in lst:\n",
    "        total += num\n",
    "    return total"
   ]
  },
  {
   "cell_type": "code",
   "execution_count": 3,
   "id": "e62a1e37-069d-4047-b6b1-0f7a83d42862",
   "metadata": {},
   "outputs": [
    {
     "data": {
      "text/plain": [
       "15"
      ]
     },
     "execution_count": 3,
     "metadata": {},
     "output_type": "execute_result"
    }
   ],
   "source": [
    "my_list = [1,2,3,4,5]\n",
    "sum_of_elem(my_list)"
   ]
  },
  {
   "cell_type": "code",
   "execution_count": 4,
   "id": "222c483e-eaf0-47d5-aa82-a623b378d683",
   "metadata": {},
   "outputs": [],
   "source": [
    "# 2.\tWrite a Python program to  Multiply all numbers in the list?"
   ]
  },
  {
   "cell_type": "code",
   "execution_count": 7,
   "id": "f3ef288a-badd-4d6c-a594-ba70c690ebcb",
   "metadata": {},
   "outputs": [],
   "source": [
    "def multi_of_elem(lst):\n",
    "    total=1\n",
    "    for num in lst:\n",
    "        total *= num\n",
    "    return total"
   ]
  },
  {
   "cell_type": "code",
   "execution_count": 8,
   "id": "f6aba068-72ef-4d0f-82be-c5573e76cdfa",
   "metadata": {},
   "outputs": [
    {
     "data": {
      "text/plain": [
       "120"
      ]
     },
     "execution_count": 8,
     "metadata": {},
     "output_type": "execute_result"
    }
   ],
   "source": [
    "my_list = [1,2,3,4,5]\n",
    "multi_of_elem(my_list)"
   ]
  },
  {
   "cell_type": "code",
   "execution_count": 9,
   "id": "940db536-f411-4277-a848-2ad807bc82aa",
   "metadata": {},
   "outputs": [],
   "source": [
    "# 3.\tWrite a Python program to find smallest number in a list?"
   ]
  },
  {
   "cell_type": "code",
   "execution_count": 10,
   "id": "f51069b9-add7-43ff-b836-e199842775e7",
   "metadata": {},
   "outputs": [],
   "source": [
    "def smallest(lst):\n",
    "    sort=sorted(lst)\n",
    "    return sort[0]"
   ]
  },
  {
   "cell_type": "code",
   "execution_count": 11,
   "id": "8dc42610-791c-4f47-bf56-610b770ab0c7",
   "metadata": {},
   "outputs": [
    {
     "data": {
      "text/plain": [
       "2"
      ]
     },
     "execution_count": 11,
     "metadata": {},
     "output_type": "execute_result"
    }
   ],
   "source": [
    "lst = [5,4,8,6,2,9]\n",
    "smallest(lst)"
   ]
  },
  {
   "cell_type": "code",
   "execution_count": 12,
   "id": "10b2d9b9-2e9e-46d3-9178-4f991d07da39",
   "metadata": {},
   "outputs": [],
   "source": [
    "# 4.\tWrite a Python program to find largest number in a list?"
   ]
  },
  {
   "cell_type": "code",
   "execution_count": 13,
   "id": "41aad21e-07ff-4f84-87e1-ae6adb146f9c",
   "metadata": {},
   "outputs": [],
   "source": [
    "def largest(lst):\n",
    "    sort = sorted(lst)\n",
    "    return sort[-1]"
   ]
  },
  {
   "cell_type": "code",
   "execution_count": 15,
   "id": "be641cce-f506-4577-8304-afa81d154d33",
   "metadata": {},
   "outputs": [
    {
     "data": {
      "text/plain": [
       "8"
      ]
     },
     "execution_count": 15,
     "metadata": {},
     "output_type": "execute_result"
    }
   ],
   "source": [
    "lst = [5,4,8,6,2]\n",
    "largest(lst)"
   ]
  },
  {
   "cell_type": "code",
   "execution_count": 16,
   "id": "c9e26dfd-4d9b-4404-aaaa-307b64b135af",
   "metadata": {},
   "outputs": [],
   "source": [
    "# 5.\tWrite a Python program to find second largest number in a list?"
   ]
  },
  {
   "cell_type": "code",
   "execution_count": 17,
   "id": "a2cd5e71-9e93-4e37-a154-fad83f7d15c5",
   "metadata": {},
   "outputs": [],
   "source": [
    "def second_largest(lst):\n",
    "    sort = sorted(lst)\n",
    "    return sort[-2]"
   ]
  },
  {
   "cell_type": "code",
   "execution_count": 18,
   "id": "9b59fe69-1a27-4dfa-b47c-aec29103bd41",
   "metadata": {},
   "outputs": [
    {
     "data": {
      "text/plain": [
       "6"
      ]
     },
     "execution_count": 18,
     "metadata": {},
     "output_type": "execute_result"
    }
   ],
   "source": [
    "lst = [5,4,8,6,2]\n",
    "second_largest(lst)"
   ]
  },
  {
   "cell_type": "code",
   "execution_count": 19,
   "id": "c45fbc4a-a655-4681-a780-3f4cce9b910d",
   "metadata": {},
   "outputs": [],
   "source": [
    "# 6.\tWrite a Python program to find N largest elements from a list?"
   ]
  },
  {
   "cell_type": "code",
   "execution_count": 23,
   "id": "52252259-4b72-4382-bda9-9265d8b5feba",
   "metadata": {},
   "outputs": [],
   "source": [
    "def N_largest(lst, N):\n",
    "    sort = sorted(lst, reverse=True)\n",
    "    return sort[:N]"
   ]
  },
  {
   "cell_type": "code",
   "execution_count": 24,
   "id": "a4d0b40c-a61e-486d-ae43-83617cfcc4f1",
   "metadata": {},
   "outputs": [
    {
     "data": {
      "text/plain": [
       "[8, 6, 5]"
      ]
     },
     "execution_count": 24,
     "metadata": {},
     "output_type": "execute_result"
    }
   ],
   "source": [
    "lst = [5,4,8,6,2]\n",
    "N_largest(lst, 3)"
   ]
  },
  {
   "cell_type": "code",
   "execution_count": 25,
   "id": "4d9b41ed-2758-42e4-8460-d20f626f7628",
   "metadata": {},
   "outputs": [],
   "source": [
    "# 7.\tWrite a Python program to print even numbers in a list?"
   ]
  },
  {
   "cell_type": "code",
   "execution_count": 26,
   "id": "5c9ce22a-a4db-4e86-bc36-983e3b949aab",
   "metadata": {},
   "outputs": [],
   "source": [
    "def even_num(lst):\n",
    "    for num in lst:\n",
    "        if num % 2== 0:\n",
    "            print(num)"
   ]
  },
  {
   "cell_type": "code",
   "execution_count": 27,
   "id": "83c67eee-1fe0-4881-b426-8af772c7447e",
   "metadata": {},
   "outputs": [
    {
     "name": "stdout",
     "output_type": "stream",
     "text": [
      "2\n",
      "4\n"
     ]
    }
   ],
   "source": [
    "my_lst = [1,2,3,4,5]\n",
    "even_num(my_lst)"
   ]
  },
  {
   "cell_type": "code",
   "execution_count": 28,
   "id": "28f03aba-784b-4028-ace6-e3887d1e1469",
   "metadata": {},
   "outputs": [],
   "source": [
    "# 8.\tWrite a Python program to print odd numbers in a List?"
   ]
  },
  {
   "cell_type": "code",
   "execution_count": 29,
   "id": "9d9f4a17-5710-4e17-b808-318a9095658d",
   "metadata": {},
   "outputs": [],
   "source": [
    "def odd_num(lst):\n",
    "    for num in lst:\n",
    "        if num % 2!=0:\n",
    "            print(num)"
   ]
  },
  {
   "cell_type": "code",
   "execution_count": 30,
   "id": "72d5067c-0f9a-4c6e-9ea7-36ccc496b986",
   "metadata": {},
   "outputs": [
    {
     "name": "stdout",
     "output_type": "stream",
     "text": [
      "1\n",
      "3\n",
      "5\n"
     ]
    }
   ],
   "source": [
    "my_lst = [1,2,3,4,5]\n",
    "odd_num(my_lst)"
   ]
  },
  {
   "cell_type": "code",
   "execution_count": 31,
   "id": "a78546b3-2206-4c5f-b46e-5f50eaa756b8",
   "metadata": {},
   "outputs": [],
   "source": [
    "# 9.\tWrite a Python program to Remove empty List from List?"
   ]
  },
  {
   "cell_type": "code",
   "execution_count": 32,
   "id": "5c3d0229-9ae0-4816-8877-51ea6e8f606f",
   "metadata": {},
   "outputs": [],
   "source": [
    "def remove_empty_lists(lst):\n",
    "    non_empty_lists = [sublist for sublist in lst if sublist]\n",
    "    return non_empty_lists"
   ]
  },
  {
   "cell_type": "code",
   "execution_count": 33,
   "id": "57e28d58-50af-458f-a66a-07eb1679eeaf",
   "metadata": {},
   "outputs": [
    {
     "data": {
      "text/plain": [
       "[1, 2, 3, 4, 5]"
      ]
     },
     "execution_count": 33,
     "metadata": {},
     "output_type": "execute_result"
    }
   ],
   "source": [
    "my_list = [1, 2, [], 3, [], 4, [], 5, []]\n",
    "remove_empty_lists(my_list)"
   ]
  },
  {
   "cell_type": "code",
   "execution_count": 34,
   "id": "0804b153-9a8d-4774-a0ee-8f1f328fac84",
   "metadata": {},
   "outputs": [],
   "source": [
    "# 10.\tWrite a Python program to Cloning or Copying a list?"
   ]
  },
  {
   "cell_type": "code",
   "execution_count": 35,
   "id": "7c0574fd-e3c6-43ce-ade5-09bc2e4bc9a8",
   "metadata": {},
   "outputs": [],
   "source": [
    "def clone_list(lst):\n",
    "    cloned_list = lst[:]\n",
    "    return cloned_list"
   ]
  },
  {
   "cell_type": "code",
   "execution_count": 36,
   "id": "f1e6a43f-f6e4-4623-900a-3679d8f4bdd1",
   "metadata": {},
   "outputs": [],
   "source": [
    "lst1 = [1,23,4,5]\n",
    "lst2=clone_list(lst1)"
   ]
  },
  {
   "cell_type": "code",
   "execution_count": 37,
   "id": "23a667fd-ab9c-4d0d-912c-c8de3cd25730",
   "metadata": {},
   "outputs": [
    {
     "data": {
      "text/plain": [
       "[1, 23, 4, 5]"
      ]
     },
     "execution_count": 37,
     "metadata": {},
     "output_type": "execute_result"
    }
   ],
   "source": [
    "lst2"
   ]
  },
  {
   "cell_type": "code",
   "execution_count": 38,
   "id": "2868cead-4fb9-4a51-bff7-f9338ffed550",
   "metadata": {},
   "outputs": [],
   "source": [
    "# 11.\tWrite a Python program to Count occurrences of an element in a list?"
   ]
  },
  {
   "cell_type": "code",
   "execution_count": 39,
   "id": "a9c6f365-ae2e-41cb-a4d8-d8fcaf186a48",
   "metadata": {},
   "outputs": [],
   "source": [
    "def count_elem(lst, n):\n",
    "    count = lst.count(n)\n",
    "    return count        "
   ]
  },
  {
   "cell_type": "code",
   "execution_count": 40,
   "id": "5658c111-507d-4fcc-aac7-7ed139af3b48",
   "metadata": {},
   "outputs": [
    {
     "data": {
      "text/plain": [
       "4"
      ]
     },
     "execution_count": 40,
     "metadata": {},
     "output_type": "execute_result"
    }
   ],
   "source": [
    "lst = [1,2,3,3,3,5,5,6,4,8,4,8,5,6,3]\n",
    "count_elem(lst, 3)"
   ]
  },
  {
   "cell_type": "code",
   "execution_count": null,
   "id": "39d44bfb-74f5-4847-b741-e9cc6e24edf8",
   "metadata": {},
   "outputs": [],
   "source": []
  }
 ],
 "metadata": {
  "kernelspec": {
   "display_name": "Python 3 (ipykernel)",
   "language": "python",
   "name": "python3"
  },
  "language_info": {
   "codemirror_mode": {
    "name": "ipython",
    "version": 3
   },
   "file_extension": ".py",
   "mimetype": "text/x-python",
   "name": "python",
   "nbconvert_exporter": "python",
   "pygments_lexer": "ipython3",
   "version": "3.10.6"
  }
 },
 "nbformat": 4,
 "nbformat_minor": 5
}
