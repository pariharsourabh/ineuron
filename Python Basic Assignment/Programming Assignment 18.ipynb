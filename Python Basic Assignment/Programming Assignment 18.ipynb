{
 "cells": [
  {
   "cell_type": "code",
   "execution_count": 1,
   "id": "c8d6c15d-548b-4cc6-9379-49de7e4bf719",
   "metadata": {},
   "outputs": [],
   "source": [
    "# Question 1\n",
    "# Create a function that takes a list of non-negative integers and strings and return a new list without the strings.\n",
    "# Examples\n",
    "# filter_list([1, 2, \"a\", \"b\"]) ➞ [1, 2]\n",
    "# filter_list([1, \"a\", \"b\", 0, 15]) ➞ [1, 0, 15]\n",
    "\n",
    "# filter_list([1, 2, \"aasf\", \"1\", \"123\", 123]) ➞ [1, 2, 123]\n"
   ]
  },
  {
   "cell_type": "code",
   "execution_count": 2,
   "id": "b00f3f45-3118-4bb2-a27b-6b4e670a2f2a",
   "metadata": {},
   "outputs": [
    {
     "name": "stdout",
     "output_type": "stream",
     "text": [
      "[1, 2]\n",
      "[1, 0, 15]\n",
      "[1, 2, 123]\n"
     ]
    }
   ],
   "source": [
    "def filter_list(lst):\n",
    "    return [x for x in lst if isinstance(x, int)]\n",
    "\n",
    "print(filter_list([1, 2, \"a\", \"b\"]))\n",
    "print(filter_list([1, \"a\", \"b\", 0, 15]))\n",
    "print(filter_list([1, 2, \"aasf\", \"1\", \"123\", 123]))"
   ]
  },
  {
   "cell_type": "code",
   "execution_count": 3,
   "id": "2957d596-bc0b-4cac-b6b9-13cd0fe05d7d",
   "metadata": {},
   "outputs": [],
   "source": [
    "# Question 2\n",
    "# The \"Reverser\" takes a string as input and returns that string in reverse order, with the opposite case.\n",
    "# Examples\n",
    "# reverse(\"Hello World\") ➞ \"DLROw OLLEh\"\n",
    "\n",
    "# reverse(\"ReVeRsE\") ➞ \"eSrEvEr\"\n",
    "\n",
    "# reverse(\"Radar\") ➞ \"RADAr\"\n"
   ]
  },
  {
   "cell_type": "code",
   "execution_count": 4,
   "id": "8a9e8491-301b-4204-a05f-056ef7ee7c0a",
   "metadata": {},
   "outputs": [
    {
     "name": "stdout",
     "output_type": "stream",
     "text": [
      "DLROw OLLEh\n",
      "eSrEvEr\n",
      "RADAr\n"
     ]
    }
   ],
   "source": [
    "def reverse(string):\n",
    "    reversed_string = string[::-1]\n",
    "    return reversed_string.swapcase()\n",
    "\n",
    "print(reverse(\"Hello World\"))\n",
    "print(reverse(\"ReVeRsE\"))\n",
    "print(reverse(\"Radar\"))"
   ]
  },
  {
   "cell_type": "code",
   "execution_count": 5,
   "id": "c39e7f9c-9a93-43df-8ce2-ced8cd4ef441",
   "metadata": {},
   "outputs": [],
   "source": [
    "# Question 3\n",
    "# You can assign variables from lists like this:\n",
    "# lst = [1, 2, 3, 4, 5, 6]\n",
    "# first = lst[0]\n",
    "# middle = lst[1:-1]\n",
    "# last = lst[-1]\n",
    "\n",
    "# print(first) ➞ outputs 1\n",
    "# print(middle) ➞ outputs [2, 3, 4, 5]\n",
    "# print(last) ➞ outputs 6\n",
    "# With Python 3, you can assign variables from lists in a much more succinct way. Create variables first, middle and last from the given list using destructuring assignment (check the Resources tab for some examples), where:\n",
    "# first  ➞ 1\n",
    "\n",
    "# middle ➞ [2, 3, 4, 5]\n",
    "\n",
    "# last ➞ 6\n",
    "# Your task is to unpack the list writeyourcodehere into three variables, being first, middle, and last, with middle being everything in between the first and last element. Then print all three variables.\n"
   ]
  },
  {
   "cell_type": "code",
   "execution_count": 6,
   "id": "13f8c320-a14e-4bdd-bfcb-cf86ddf25f62",
   "metadata": {},
   "outputs": [
    {
     "name": "stdout",
     "output_type": "stream",
     "text": [
      "1\n",
      "[2, 3, 4, 5]\n",
      "6\n"
     ]
    }
   ],
   "source": [
    "writeyourcodehere = [1, 2, 3, 4, 5, 6]\n",
    "first, *middle, last = writeyourcodehere\n",
    "\n",
    "print(first)\n",
    "print(middle)\n",
    "print(last)"
   ]
  },
  {
   "cell_type": "code",
   "execution_count": 7,
   "id": "7e87d0c5-4301-4105-98c5-20a88aa0a079",
   "metadata": {},
   "outputs": [],
   "source": [
    "# Question 4\n",
    "# Write a function that calculates the factorial of a number recursively.\n",
    "# Examples\n",
    "# factorial(5) ➞ 120\n",
    "\n",
    "# factorial(3) ➞ 6\n",
    "\n",
    "# factorial(1) ➞ 1\n",
    "\n",
    "# factorial(0) ➞ 1\n"
   ]
  },
  {
   "cell_type": "code",
   "execution_count": 8,
   "id": "a04979f0-1b27-48c1-a4a3-79f65b7fa49c",
   "metadata": {},
   "outputs": [
    {
     "name": "stdout",
     "output_type": "stream",
     "text": [
      "120\n",
      "6\n",
      "1\n",
      "1\n"
     ]
    }
   ],
   "source": [
    "def factorial(n):\n",
    "    if n == 0 or n == 1:\n",
    "        return 1\n",
    "    else:\n",
    "        return n * factorial(n - 1)\n",
    "\n",
    "print(factorial(5))\n",
    "print(factorial(3))\n",
    "print(factorial(1))\n",
    "print(factorial(0))"
   ]
  },
  {
   "cell_type": "code",
   "execution_count": 9,
   "id": "b940f7cc-1195-4b81-9076-e62227e31583",
   "metadata": {},
   "outputs": [],
   "source": [
    "# Question 5\n",
    "# Write a function that moves all elements of one type to the end of the list.\n",
    "# Examples\n",
    "# move_to_end([1, 3, 2, 4, 4, 1], 1) ➞ [3, 2, 4, 4, 1, 1]\n",
    "# # Move all the 1s to the end of the array.\n",
    "\n",
    "# move_to_end([7, 8, 9, 1, 2, 3, 4], 9) ➞ [7, 8, 1, 2, 3, 4, 9]\n",
    "\n",
    "# move_to_end([\"a\", \"a\", \"a\", \"b\"], \"a\") ➞ [\"b\", \"a\", \"a\", \"a\"]\n"
   ]
  },
  {
   "cell_type": "code",
   "execution_count": 10,
   "id": "14b6a141-9cc9-4329-9a9d-3c1ed976ea43",
   "metadata": {},
   "outputs": [
    {
     "name": "stdout",
     "output_type": "stream",
     "text": [
      "[3, 2, 4, 4, 1, 1]\n",
      "[7, 8, 1, 2, 3, 4, 9]\n",
      "['b', 'a', 'a', 'a']\n"
     ]
    }
   ],
   "source": [
    "def move_to_end(lst, element):\n",
    "    count = lst.count(element)\n",
    "    lst = [x for x in lst if x != element]\n",
    "    lst.extend([element] * count)\n",
    "\n",
    "    return lst\n",
    "\n",
    "print(move_to_end([1, 3, 2, 4, 4, 1], 1))\n",
    "print(move_to_end([7, 8, 9, 1, 2, 3, 4], 9))\n",
    "print(move_to_end([\"a\", \"a\", \"a\", \"b\"], \"a\"))"
   ]
  },
  {
   "cell_type": "code",
   "execution_count": null,
   "id": "312ee7ec-3bc5-4c77-9c2e-78eabd89ec50",
   "metadata": {},
   "outputs": [],
   "source": []
  }
 ],
 "metadata": {
  "kernelspec": {
   "display_name": "Python 3 (ipykernel)",
   "language": "python",
   "name": "python3"
  },
  "language_info": {
   "codemirror_mode": {
    "name": "ipython",
    "version": 3
   },
   "file_extension": ".py",
   "mimetype": "text/x-python",
   "name": "python",
   "nbconvert_exporter": "python",
   "pygments_lexer": "ipython3",
   "version": "3.10.6"
  }
 },
 "nbformat": 4,
 "nbformat_minor": 5
}
