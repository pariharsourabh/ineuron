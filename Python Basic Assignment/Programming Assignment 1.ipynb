{
 "cells": [
  {
   "cell_type": "code",
   "execution_count": 1,
   "id": "349d5390",
   "metadata": {},
   "outputs": [],
   "source": [
    "# 1.\tWrite a Python program to print \"Hello Python\"?"
   ]
  },
  {
   "cell_type": "code",
   "execution_count": 1,
   "id": "8275b1d0-f997-434b-a220-87553361931a",
   "metadata": {},
   "outputs": [
    {
     "name": "stdout",
     "output_type": "stream",
     "text": [
      "Hello Python\n"
     ]
    }
   ],
   "source": [
    "print(\"Hello Python\")"
   ]
  },
  {
   "cell_type": "code",
   "execution_count": 2,
   "id": "24f68c44",
   "metadata": {},
   "outputs": [],
   "source": [
    "# 2.\tWrite a Python program to do arithmetical operations addition and division.?"
   ]
  },
  {
   "cell_type": "code",
   "execution_count": 2,
   "id": "3d6221b6-9cec-4082-a842-bd48ad8eeba1",
   "metadata": {},
   "outputs": [
    {
     "name": "stdout",
     "output_type": "stream",
     "text": [
      "Sum of a and b is : 15\n",
      "Division od a by b is: 0.5\n"
     ]
    }
   ],
   "source": [
    "a = 5\n",
    "b= 10\n",
    "sum = a+b \n",
    "division = a/b\n",
    "print(\"Sum of a and b is :\", sum)\n",
    "print(\"Division od a by b is:\", division)"
   ]
  },
  {
   "cell_type": "code",
   "execution_count": 3,
   "id": "4f7372c8",
   "metadata": {},
   "outputs": [],
   "source": [
    "# 3.\tWrite a Python program to find the area of a triangle?"
   ]
  },
  {
   "cell_type": "code",
   "execution_count": 3,
   "id": "16414852-f0d0-45c1-bcd9-2f9ad5dd43a8",
   "metadata": {},
   "outputs": [
    {
     "name": "stdout",
     "output_type": "stream",
     "text": [
      "are of triangle is: 6.0\n"
     ]
    }
   ],
   "source": [
    "height= 3\n",
    "base=4\n",
    "area = 1/2 * base * height\n",
    "print(\"are of triangle is:\",area)"
   ]
  },
  {
   "cell_type": "code",
   "execution_count": 4,
   "id": "b4f1ad2e",
   "metadata": {},
   "outputs": [],
   "source": [
    "# 4.\tWrite a Python program to swap two variables?"
   ]
  },
  {
   "cell_type": "code",
   "execution_count": 5,
   "id": "4ffab93e-700e-40eb-be00-8b4d0789b33c",
   "metadata": {},
   "outputs": [
    {
     "name": "stdout",
     "output_type": "stream",
     "text": [
      "before swap a is 4 and b is 5\n",
      "after swap a is 5 and b is 4\n"
     ]
    }
   ],
   "source": [
    "a = 4\n",
    "b= 5\n",
    "print(f\"before swap a is {a} and b is {b}\")\n",
    "temp = a\n",
    "a=b\n",
    "b=temp\n",
    "print(f\"after swap a is {a} and b is {b}\")"
   ]
  },
  {
   "cell_type": "code",
   "execution_count": 5,
   "id": "7cc3a85d",
   "metadata": {},
   "outputs": [],
   "source": [
    "# 5.\tWrite a Python program to generate a random number?"
   ]
  },
  {
   "cell_type": "code",
   "execution_count": 9,
   "id": "5bd4eeb9-e6d6-42ae-95a6-994539eb2914",
   "metadata": {},
   "outputs": [
    {
     "data": {
      "text/plain": [
       "5"
      ]
     },
     "execution_count": 9,
     "metadata": {},
     "output_type": "execute_result"
    }
   ],
   "source": [
    "import random\n",
    "random_number = random.randint(1,10)\n",
    "random_number"
   ]
  },
  {
   "cell_type": "code",
   "execution_count": null,
   "id": "f18cb804-7609-4e5a-ad5e-9d1e1eac2190",
   "metadata": {},
   "outputs": [],
   "source": []
  }
 ],
 "metadata": {
  "kernelspec": {
   "display_name": "Python 3 (ipykernel)",
   "language": "python",
   "name": "python3"
  },
  "language_info": {
   "codemirror_mode": {
    "name": "ipython",
    "version": 3
   },
   "file_extension": ".py",
   "mimetype": "text/x-python",
   "name": "python",
   "nbconvert_exporter": "python",
   "pygments_lexer": "ipython3",
   "version": "3.9.13"
  }
 },
 "nbformat": 4,
 "nbformat_minor": 5
}
