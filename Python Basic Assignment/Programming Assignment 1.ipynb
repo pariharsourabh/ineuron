{
 "cells": [
  {
   "cell_type": "raw",
   "id": "a2e1af4d-4a48-4326-9905-2849f1836949",
   "metadata": {},
   "source": [
    "1.\tWrite a Python program to print \"Hello Python\"?\n",
    "2.\tWrite a Python program to do arithmetical operations addition and division.?\n",
    "3.\tWrite a Python program to find the area of a triangle?\n",
    "4.\tWrite a Python program to swap two variables?\n",
    "5.\tWrite a Python program to generate a random number?\n"
   ]
  },
  {
   "cell_type": "raw",
   "id": "7d4ee165-23e6-4354-b444-191a85f22e78",
   "metadata": {},
   "source": [
    "1.\tWrite a Python program to print \"Hello Python\"?"
   ]
  },
  {
   "cell_type": "code",
   "execution_count": 1,
   "id": "8275b1d0-f997-434b-a220-87553361931a",
   "metadata": {},
   "outputs": [
    {
     "name": "stdout",
     "output_type": "stream",
     "text": [
      "Hello Python\n"
     ]
    }
   ],
   "source": [
    "print(\"Hello Python\")"
   ]
  },
  {
   "cell_type": "raw",
   "id": "4105752b-e703-4833-8c34-8bc09ce36ec0",
   "metadata": {},
   "source": [
    "2.\tWrite a Python program to do arithmetical operations addition and division.?"
   ]
  },
  {
   "cell_type": "code",
   "execution_count": 2,
   "id": "3d6221b6-9cec-4082-a842-bd48ad8eeba1",
   "metadata": {},
   "outputs": [
    {
     "name": "stdout",
     "output_type": "stream",
     "text": [
      "Sum of a and b is : 15\n",
      "Division od a by b is: 0.5\n"
     ]
    }
   ],
   "source": [
    "a = 5\n",
    "b= 10\n",
    "sum = a+b \n",
    "division = a/b\n",
    "print(\"Sum of a and b is :\", sum)\n",
    "print(\"Division od a by b is:\", division)"
   ]
  },
  {
   "cell_type": "raw",
   "id": "7f352241-bf8b-40c7-8985-8e4a823a04b7",
   "metadata": {},
   "source": [
    "3.\tWrite a Python program to find the area of a triangle?"
   ]
  },
  {
   "cell_type": "code",
   "execution_count": 3,
   "id": "16414852-f0d0-45c1-bcd9-2f9ad5dd43a8",
   "metadata": {},
   "outputs": [
    {
     "name": "stdout",
     "output_type": "stream",
     "text": [
      "are of triangle is: 6.0\n"
     ]
    }
   ],
   "source": [
    "height= 3\n",
    "base=4\n",
    "area = 1/2 * base * height\n",
    "print(\"are of triangle is:\",area)"
   ]
  },
  {
   "cell_type": "raw",
   "id": "5602a341-45be-4f69-a488-23579f35a427",
   "metadata": {},
   "source": [
    "4.\tWrite a Python program to swap two variables?"
   ]
  },
  {
   "cell_type": "code",
   "execution_count": 5,
   "id": "4ffab93e-700e-40eb-be00-8b4d0789b33c",
   "metadata": {},
   "outputs": [
    {
     "name": "stdout",
     "output_type": "stream",
     "text": [
      "before swap a is 4 and b is 5\n",
      "after swap a is 5 and b is 4\n"
     ]
    }
   ],
   "source": [
    "a = 4\n",
    "b= 5\n",
    "print(f\"before swap a is {a} and b is {b}\")\n",
    "temp = a\n",
    "a=b\n",
    "b=temp\n",
    "print(f\"after swap a is {a} and b is {b}\")"
   ]
  },
  {
   "cell_type": "raw",
   "id": "7a90bbe3-b0ff-4284-b1c5-a3e240546ba4",
   "metadata": {},
   "source": [
    "5.\tWrite a Python program to generate a random number?"
   ]
  },
  {
   "cell_type": "code",
   "execution_count": 9,
   "id": "5bd4eeb9-e6d6-42ae-95a6-994539eb2914",
   "metadata": {},
   "outputs": [
    {
     "data": {
      "text/plain": [
       "5"
      ]
     },
     "execution_count": 9,
     "metadata": {},
     "output_type": "execute_result"
    }
   ],
   "source": [
    "import random\n",
    "random_number = random.randint(1,10)\n",
    "random_number"
   ]
  },
  {
   "cell_type": "code",
   "execution_count": null,
   "id": "f18cb804-7609-4e5a-ad5e-9d1e1eac2190",
   "metadata": {},
   "outputs": [],
   "source": []
  }
 ],
 "metadata": {
  "kernelspec": {
   "display_name": "Python 3 (ipykernel)",
   "language": "python",
   "name": "python3"
  },
  "language_info": {
   "codemirror_mode": {
    "name": "ipython",
    "version": 3
   },
   "file_extension": ".py",
   "mimetype": "text/x-python",
   "name": "python",
   "nbconvert_exporter": "python",
   "pygments_lexer": "ipython3",
   "version": "3.10.6"
  }
 },
 "nbformat": 4,
 "nbformat_minor": 5
}
