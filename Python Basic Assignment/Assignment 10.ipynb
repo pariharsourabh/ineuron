{
 "cells": [
  {
   "cell_type": "code",
   "execution_count": 1,
   "id": "e7acaff2-ef48-4ee1-b8e6-e51a25214aff",
   "metadata": {},
   "outputs": [],
   "source": [
    "#1. How do you distinguish between shutil.copy() and shutil.copytree()?"
   ]
  },
  {
   "cell_type": "code",
   "execution_count": 2,
   "id": "e78a18c1-14f7-4200-a967-0359285cc168",
   "metadata": {},
   "outputs": [],
   "source": [
    "#shutil.copy() and shutil.copytree() are two different functions in the shutil module of Python that are used for copying files and directories respectively.\n",
    "\n",
    "#shutil.copy() is used to copy a single file from a source location to a destination location. It takes two arguments: the path of the source file and the path of the destination file. If the destination file exists, it will be overwritten.\n",
    "\n",
    "#shutil.copytree() is used to copy an entire directory (including all its files and subdirectories) from a source location to a destination location. It takes two arguments: the path of the source directory and the path of the destination directory. If the destination directory exists, an error will be raised.\n",
    "\n",
    "#In summary, shutil.copy() is used to copy a single file, while shutil.copytree() is used to copy an entire directory tree."
   ]
  },
  {
   "cell_type": "code",
   "execution_count": 5,
   "id": "0b594a05-83e3-4da4-8fde-71d78ac23a86",
   "metadata": {},
   "outputs": [],
   "source": [
    "#2. What function is used to rename files?"
   ]
  },
  {
   "cell_type": "code",
   "execution_count": 6,
   "id": "65ecdb8c-1c02-439a-8143-5eb2dc652e68",
   "metadata": {},
   "outputs": [],
   "source": [
    "#In Python, the os.rename() function is used to rename files."
   ]
  },
  {
   "cell_type": "code",
   "execution_count": 7,
   "id": "25c11e0f-1ce4-46af-a026-15763730c5a9",
   "metadata": {},
   "outputs": [],
   "source": [
    "#3. What is the difference between the delete functions in the send2trash and shutil modules?"
   ]
  },
  {
   "cell_type": "code",
   "execution_count": 8,
   "id": "be8c1225-1224-42ce-a762-f7a768aec095",
   "metadata": {},
   "outputs": [],
   "source": [
    "#the send2trash module provides a safer way to delete files or directories by moving them to the operating system's trash or recycle bin, while the shutil module provides functions to delete files or directories permanently."
   ]
  },
  {
   "cell_type": "code",
   "execution_count": 10,
   "id": "c068bc97-a69d-41ee-9cfc-4db3be8a8a5b",
   "metadata": {},
   "outputs": [],
   "source": [
    "#4.ZipFile objects have a close() method just like File objects’ close() method. What ZipFile method is equivalent to File objects’ open() method?"
   ]
  },
  {
   "cell_type": "code",
   "execution_count": 11,
   "id": "93c516d7-592f-465e-903e-fab1caba24d4",
   "metadata": {},
   "outputs": [],
   "source": [
    "#To open a ZIP archive file with a ZipFile object in Python, the equivalent method to File objects' open() method is the ZipFile constructor. The ZipFile constructor takes two arguments - the path of the ZIP archive file and the mode in which the archive should be opened. Once the ZipFile object is created and operations on the archive are performed, the close() method should be called to close the ZipFile object."
   ]
  },
  {
   "cell_type": "code",
   "execution_count": 16,
   "id": "3854a925-cbee-4262-b28c-3e5e7b871fc3",
   "metadata": {},
   "outputs": [],
   "source": [
    "#5. Create a programme that searches a folder tree for files with a certain file extension (such as .pdf or .jpg). Copy these files from whatever location they are in to a new folder."
   ]
  },
  {
   "cell_type": "code",
   "execution_count": 24,
   "id": "8964d668-1372-4b02-86c0-1315578293d1",
   "metadata": {},
   "outputs": [],
   "source": [
    "import os\n",
    "import shutil\n",
    "\n",
    "# set the source folder and destination folder\n",
    "source_folder = \"//home//jovyan//work//source\" # path to source folder\n",
    "destination_folder = \"//home//jovyan//work//dest\" # path to destnation folder\n",
    "\n",
    "# set the file extension to search for\n",
    "file_extension = \".pdf\"\n",
    "\n",
    "# create the destination folder if it doesn't already exist\n",
    "if not os.path.exists(destination_folder):\n",
    "    os.makedirs(destination_folder)\n",
    "\n",
    "# walk through the source folder tree and copy files with the specified extension to the destination folder\n",
    "for foldername, subfolders, filenames in os.walk(source_folder):\n",
    "    for filename in filenames:\n",
    "        if filename.endswith(file_extension):\n",
    "            source_file = os.path.join(foldername, filename)\n",
    "            destination_file = os.path.join(destination_folder, filename)\n",
    "            shutil.copy2(source_file, destination_file)\n"
   ]
  },
  {
   "cell_type": "code",
   "execution_count": null,
   "id": "b4b59e54-9886-46dc-9dae-a23d3c405675",
   "metadata": {},
   "outputs": [],
   "source": []
  }
 ],
 "metadata": {
  "kernelspec": {
   "display_name": "Python 3 (ipykernel)",
   "language": "python",
   "name": "python3"
  },
  "language_info": {
   "codemirror_mode": {
    "name": "ipython",
    "version": 3
   },
   "file_extension": ".py",
   "mimetype": "text/x-python",
   "name": "python",
   "nbconvert_exporter": "python",
   "pygments_lexer": "ipython3",
   "version": "3.10.6"
  }
 },
 "nbformat": 4,
 "nbformat_minor": 5
}
