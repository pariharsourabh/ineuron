{
 "cells": [
  {
   "cell_type": "code",
   "execution_count": 1,
   "id": "57b7b019-583b-4929-94e7-865359f13cfb",
   "metadata": {},
   "outputs": [],
   "source": [
    "# 1.\tWrite a Python program to check if the given number is a Disarium Number?"
   ]
  },
  {
   "cell_type": "code",
   "execution_count": 2,
   "id": "5cea466e-71af-4983-9bee-9c6be2652cf8",
   "metadata": {},
   "outputs": [],
   "source": [
    "def is_disarium_number(number):\n",
    "    num_str = str(number)\n",
    "    length = len(num_str)\n",
    "    sum_of_powers = 0\n",
    "    \n",
    "    for i in range(length):\n",
    "        digit = int(num_str[i])\n",
    "    \n",
    "        sum_of_powers += digit ** (i + 1)\n",
    " \n",
    "    if sum_of_powers == number:\n",
    "        return True\n",
    "    else:\n",
    "        return False"
   ]
  },
  {
   "cell_type": "code",
   "execution_count": 4,
   "id": "4e819593-8b09-4842-9000-70e89b5794d5",
   "metadata": {},
   "outputs": [
    {
     "data": {
      "text/plain": [
       "True"
      ]
     },
     "execution_count": 4,
     "metadata": {},
     "output_type": "execute_result"
    }
   ],
   "source": [
    "number = 175\n",
    "is_disarium_number(number)"
   ]
  },
  {
   "cell_type": "code",
   "execution_count": 5,
   "id": "f1fef96d-1b68-497e-8798-3f5cb8ce2a82",
   "metadata": {},
   "outputs": [],
   "source": [
    "# 2.\tWrite a Python program to print all disarium numbers between 1 to 100?"
   ]
  },
  {
   "cell_type": "code",
   "execution_count": 6,
   "id": "27b4d812-b73d-4703-9c87-e88cf1e9c117",
   "metadata": {},
   "outputs": [
    {
     "name": "stdout",
     "output_type": "stream",
     "text": [
      "1\n",
      "2\n",
      "3\n",
      "4\n",
      "5\n",
      "6\n",
      "7\n",
      "8\n",
      "9\n",
      "89\n"
     ]
    }
   ],
   "source": [
    "for num in range(1, 101):\n",
    "    if is_disarium_number(num):\n",
    "        print(num)"
   ]
  },
  {
   "cell_type": "code",
   "execution_count": 7,
   "id": "f83a41ac-94f6-4dd1-bd61-08f06b3ded7f",
   "metadata": {},
   "outputs": [],
   "source": [
    "# 3.\tWrite a Python program to check if the given number is Happy Number?"
   ]
  },
  {
   "cell_type": "code",
   "execution_count": 8,
   "id": "f7b5fae1-4822-44cf-8838-929a220378e8",
   "metadata": {},
   "outputs": [],
   "source": [
    "def is_happy_number(number):\n",
    "    seen_numbers = set()\n",
    "    \n",
    "    while number != 1:\n",
    "        current_number = number\n",
    "        sum_of_squares = 0\n",
    "        \n",
    "        while current_number != 0:\n",
    "            digit = current_number % 10\n",
    "            sum_of_squares += digit ** 2\n",
    "            current_number //= 10\n",
    "        \n",
    "        if sum_of_squares in seen_numbers:\n",
    "            return False\n",
    "        \n",
    "        seen_numbers.add(sum_of_squares)\n",
    "        number = sum_of_squares\n",
    "    \n",
    "    return True"
   ]
  },
  {
   "cell_type": "code",
   "execution_count": 10,
   "id": "27077ec0-dc2a-49fb-8a11-db2482c75cbe",
   "metadata": {},
   "outputs": [
    {
     "data": {
      "text/plain": [
       "True"
      ]
     },
     "execution_count": 10,
     "metadata": {},
     "output_type": "execute_result"
    }
   ],
   "source": [
    "number = 19\n",
    "is_happy_number(number)"
   ]
  },
  {
   "cell_type": "code",
   "execution_count": 11,
   "id": "6c6fe889-c41d-44ad-908f-c7f8000459aa",
   "metadata": {},
   "outputs": [],
   "source": [
    "# 4.\tWrite a Python program to print all happy numbers between 1 and 100?"
   ]
  },
  {
   "cell_type": "code",
   "execution_count": 12,
   "id": "ee9d1809-c47c-4108-a976-74aff8e3a278",
   "metadata": {},
   "outputs": [
    {
     "name": "stdout",
     "output_type": "stream",
     "text": [
      "1\n",
      "7\n",
      "10\n",
      "13\n",
      "19\n",
      "23\n",
      "28\n",
      "31\n",
      "32\n",
      "44\n",
      "49\n",
      "68\n",
      "70\n",
      "79\n",
      "82\n",
      "86\n",
      "91\n",
      "94\n",
      "97\n",
      "100\n"
     ]
    }
   ],
   "source": [
    "for num in range(1, 101):\n",
    "    if is_happy_number(num):\n",
    "        print(num)"
   ]
  },
  {
   "cell_type": "code",
   "execution_count": 13,
   "id": "e273499d-3551-42e5-b579-b896788a6651",
   "metadata": {},
   "outputs": [],
   "source": [
    "# 5.\tWrite a Python program to determine whether the given number is a Harshad Number?"
   ]
  },
  {
   "cell_type": "code",
   "execution_count": 14,
   "id": "466c9160-c726-4c6a-aed2-ce22ed9f48aa",
   "metadata": {},
   "outputs": [],
   "source": [
    "def is_harshad_number(number):\n",
    "    digit_sum = sum(int(digit) for digit in str(number))\n",
    "    return number % digit_sum == 0"
   ]
  },
  {
   "cell_type": "code",
   "execution_count": 16,
   "id": "8107a454-db20-47da-9cec-4847cc82c3fc",
   "metadata": {},
   "outputs": [
    {
     "data": {
      "text/plain": [
       "True"
      ]
     },
     "execution_count": 16,
     "metadata": {},
     "output_type": "execute_result"
    }
   ],
   "source": [
    "number = 18\n",
    "is_harshad_number(number)"
   ]
  },
  {
   "cell_type": "code",
   "execution_count": 17,
   "id": "ad54d6cd-0c9f-4c3f-a5f5-2fac5a3a3fb3",
   "metadata": {},
   "outputs": [],
   "source": [
    "# 6.\tWrite a Python program to print all pronic numbers between 1 and 100?"
   ]
  },
  {
   "cell_type": "code",
   "execution_count": 18,
   "id": "4b02a8d1-9898-43e0-b229-c0b6816fc4b3",
   "metadata": {},
   "outputs": [
    {
     "name": "stdout",
     "output_type": "stream",
     "text": [
      "1\n",
      "2\n",
      "3\n",
      "4\n",
      "5\n",
      "6\n",
      "7\n",
      "8\n",
      "9\n",
      "10\n",
      "12\n",
      "18\n",
      "20\n",
      "21\n",
      "24\n",
      "27\n",
      "30\n",
      "36\n",
      "40\n",
      "42\n",
      "45\n",
      "48\n",
      "50\n",
      "54\n",
      "60\n",
      "63\n",
      "70\n",
      "72\n",
      "80\n",
      "81\n",
      "84\n",
      "90\n",
      "100\n"
     ]
    }
   ],
   "source": [
    "for num in range(1, 101):\n",
    "    if is_harshad_number(num):\n",
    "        print(num)"
   ]
  },
  {
   "cell_type": "code",
   "execution_count": null,
   "id": "d33ab763-d6a2-4459-8977-10632e09bb5d",
   "metadata": {},
   "outputs": [],
   "source": []
  }
 ],
 "metadata": {
  "kernelspec": {
   "display_name": "Python 3 (ipykernel)",
   "language": "python",
   "name": "python3"
  },
  "language_info": {
   "codemirror_mode": {
    "name": "ipython",
    "version": 3
   },
   "file_extension": ".py",
   "mimetype": "text/x-python",
   "name": "python",
   "nbconvert_exporter": "python",
   "pygments_lexer": "ipython3",
   "version": "3.10.6"
  }
 },
 "nbformat": 4,
 "nbformat_minor": 5
}
