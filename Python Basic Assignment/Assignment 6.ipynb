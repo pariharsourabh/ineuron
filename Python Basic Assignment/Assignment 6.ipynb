{
 "cells": [
  {
   "cell_type": "raw",
   "id": "c0e78e21-2774-4893-bc7d-f667108c05eb",
   "metadata": {},
   "source": [
    "1. What are escape characters, and how do you use them?"
   ]
  },
  {
   "cell_type": "raw",
   "id": "acea41f7-d7e3-4618-8c02-ad980f80ea71",
   "metadata": {},
   "source": [
    "To insert characters that are illegal in a string, use an escape character.\n",
    "An escape character is a backslash \\ followed by the character you want to insert.\n",
    "example :- \n",
    "\"this is an \\\"example\"\\ for escape char\""
   ]
  },
  {
   "cell_type": "code",
   "execution_count": 11,
   "id": "a8daacc0-d28f-41b4-9f42-51a2923bfd9c",
   "metadata": {},
   "outputs": [
    {
     "name": "stdout",
     "output_type": "stream",
     "text": [
      "this is an \"example\" for escape char\n"
     ]
    }
   ],
   "source": [
    "t = \"this is an \\\"example\\\" for escape char\"\n",
    "print(t)"
   ]
  },
  {
   "cell_type": "raw",
   "id": "89d57589-d8cb-46ff-a033-9e225ca11aee",
   "metadata": {},
   "source": [
    "2. What do the escape characters n and t stand for?"
   ]
  },
  {
   "cell_type": "raw",
   "id": "3520540e-e4e0-473b-970a-09ae2c66d342",
   "metadata": {},
   "source": [
    "\\n - new line\n",
    "\\t - tab"
   ]
  },
  {
   "cell_type": "raw",
   "id": "e3561081-0439-4758-8ca2-3258dc8b5776",
   "metadata": {},
   "source": [
    "3. What is the way to include backslash characters in a string?"
   ]
  },
  {
   "cell_type": "code",
   "execution_count": 10,
   "id": "06d1d578-c07e-414b-adf1-a2564a91f52b",
   "metadata": {},
   "outputs": [
    {
     "name": "stdout",
     "output_type": "stream",
     "text": [
      "This is backlash: \\\n"
     ]
    }
   ],
   "source": [
    "a = \"This is backlash: \\\\\" # use double backlash\n",
    "print(a)"
   ]
  },
  {
   "cell_type": "raw",
   "id": "9bd99a10-5933-4963-ac39-87845c943699",
   "metadata": {},
   "source": [
    "The string \"Howl's Moving Castle\" is a correct value. Why isn't the single quote character in the word Howl's not escaped a problem?"
   ]
  },
  {
   "cell_type": "code",
   "execution_count": 12,
   "id": "f6a1d23f-c258-4d32-b2c0-f0bff1c97041",
   "metadata": {},
   "outputs": [
    {
     "data": {
      "text/plain": [
       "\"Howl's Moving Castle\""
      ]
     },
     "execution_count": 12,
     "metadata": {},
     "output_type": "execute_result"
    }
   ],
   "source": [
    "\"Howl's Moving Castle\" # because its enclose in double quotes"
   ]
  },
  {
   "cell_type": "raw",
   "id": "24896cfe-1676-46bb-b6cc-13114957457f",
   "metadata": {},
   "source": [
    "5. How do you write a string of newlines if you don't want to use the n character?"
   ]
  },
  {
   "cell_type": "code",
   "execution_count": 14,
   "id": "22d6abb6-e492-4a33-9842-e335746b8f8a",
   "metadata": {},
   "outputs": [
    {
     "name": "stdout",
     "output_type": "stream",
     "text": [
      "mldkjakld\n",
      "afkalgn\n",
      "fiaijf\n"
     ]
    }
   ],
   "source": [
    "b = \"\"\"mldkjakld\n",
    "afkalgn\n",
    "fiaijf\"\"\" # use triple quotes\n",
    "print(b)"
   ]
  },
  {
   "cell_type": "raw",
   "id": "75d20520-c34a-4cf7-8529-34d8b49896c2",
   "metadata": {},
   "source": [
    "6. What are the values of the given expressions?\n",
    "'Hello, world!'[1]\n",
    "'Hello, world!'[0:5]\n",
    "'Hello, world!'[:5]\n",
    "'Hello, world!'[3:]"
   ]
  },
  {
   "cell_type": "code",
   "execution_count": 15,
   "id": "913ce2d1-36b9-4d0c-8624-0b61236cac44",
   "metadata": {},
   "outputs": [
    {
     "data": {
      "text/plain": [
       "'e'"
      ]
     },
     "execution_count": 15,
     "metadata": {},
     "output_type": "execute_result"
    }
   ],
   "source": [
    "'Hello, world!'[1]"
   ]
  },
  {
   "cell_type": "code",
   "execution_count": 16,
   "id": "16232b15-528c-40f1-808c-3691a6574ff4",
   "metadata": {},
   "outputs": [
    {
     "data": {
      "text/plain": [
       "'Hello'"
      ]
     },
     "execution_count": 16,
     "metadata": {},
     "output_type": "execute_result"
    }
   ],
   "source": [
    "'Hello, world!'[0:5]"
   ]
  },
  {
   "cell_type": "code",
   "execution_count": 17,
   "id": "2a2d9eff-1e50-4103-b696-b1d7a4a3d40e",
   "metadata": {},
   "outputs": [
    {
     "data": {
      "text/plain": [
       "'Hello'"
      ]
     },
     "execution_count": 17,
     "metadata": {},
     "output_type": "execute_result"
    }
   ],
   "source": [
    "'Hello, world!'[:5]"
   ]
  },
  {
   "cell_type": "code",
   "execution_count": 18,
   "id": "a21fe296-2072-4cfc-bc27-87fc1d169f70",
   "metadata": {},
   "outputs": [
    {
     "data": {
      "text/plain": [
       "'lo, world!'"
      ]
     },
     "execution_count": 18,
     "metadata": {},
     "output_type": "execute_result"
    }
   ],
   "source": [
    "'Hello, world!'[3:]"
   ]
  },
  {
   "cell_type": "raw",
   "id": "1987b236-2f1e-4100-a446-e55cc44cd82a",
   "metadata": {},
   "source": [
    "7. What are the values of the following expressions?\n",
    "'Hello'.upper()\n",
    "'Hello'.upper().isupper()\n",
    "'Hello'.upper().lower()"
   ]
  },
  {
   "cell_type": "code",
   "execution_count": 19,
   "id": "87e2a31e-5bea-4d20-8741-64f3aeda258b",
   "metadata": {},
   "outputs": [
    {
     "data": {
      "text/plain": [
       "'HELLO'"
      ]
     },
     "execution_count": 19,
     "metadata": {},
     "output_type": "execute_result"
    }
   ],
   "source": [
    "'Hello'.upper()"
   ]
  },
  {
   "cell_type": "code",
   "execution_count": 20,
   "id": "3bf9ba62-3862-49a0-a737-4cbd312b8322",
   "metadata": {},
   "outputs": [
    {
     "data": {
      "text/plain": [
       "True"
      ]
     },
     "execution_count": 20,
     "metadata": {},
     "output_type": "execute_result"
    }
   ],
   "source": [
    "'Hello'.upper().isupper()"
   ]
  },
  {
   "cell_type": "code",
   "execution_count": 21,
   "id": "cd0bb4a1-8049-4037-9629-647cf9639a6d",
   "metadata": {},
   "outputs": [
    {
     "data": {
      "text/plain": [
       "'hello'"
      ]
     },
     "execution_count": 21,
     "metadata": {},
     "output_type": "execute_result"
    }
   ],
   "source": [
    "'Hello'.upper().lower()"
   ]
  },
  {
   "cell_type": "raw",
   "id": "18c5daf1-e9ee-40fb-80f1-454ae1caabfc",
   "metadata": {},
   "source": [
    "8. What are the values of the following expressions?\n",
    "'Remember, remember, the fifth of July.'.split()\n",
    "'-'.join('There can only one.'.split())"
   ]
  },
  {
   "cell_type": "code",
   "execution_count": 23,
   "id": "7a2b90ee-5e19-4989-abbb-e88244461908",
   "metadata": {},
   "outputs": [
    {
     "data": {
      "text/plain": [
       "['Remember,', 'remember,', 'the', 'fifth', 'of', 'July.']"
      ]
     },
     "execution_count": 23,
     "metadata": {},
     "output_type": "execute_result"
    }
   ],
   "source": [
    "'Remember, remember, the fifth of July.'.split()"
   ]
  },
  {
   "cell_type": "code",
   "execution_count": 24,
   "id": "e2f01f92-3253-4f36-9db0-d26542427a16",
   "metadata": {},
   "outputs": [
    {
     "data": {
      "text/plain": [
       "'There-can-only-one.'"
      ]
     },
     "execution_count": 24,
     "metadata": {},
     "output_type": "execute_result"
    }
   ],
   "source": [
    "'-'.join('There can only one.'.split())"
   ]
  },
  {
   "cell_type": "raw",
   "id": "c7d637f5-c750-415e-b36b-31799782fcab",
   "metadata": {},
   "source": [
    "9. What are the methods for right-justifying, left-justifying, and centering a string?"
   ]
  },
  {
   "cell_type": "raw",
   "id": "4917fc1e-f816-4cb0-91a2-b4254a62486a",
   "metadata": {},
   "source": [
    "ljust - left justifying\n",
    "rjust - right justifying\n",
    "center - center justifying"
   ]
  },
  {
   "cell_type": "raw",
   "id": "7ff8df1b-6205-44fd-b653-cc79ed7e3d6d",
   "metadata": {},
   "source": [
    "10. What is the best way to remove whitespace characters from the start or end?"
   ]
  },
  {
   "cell_type": "code",
   "execution_count": 26,
   "id": "e079bae4-9dc8-45c4-a9b7-f91312288956",
   "metadata": {},
   "outputs": [],
   "source": [
    "d = \"  afjfa  \""
   ]
  },
  {
   "cell_type": "code",
   "execution_count": 27,
   "id": "e408bdbb-95d0-4f3f-a134-eadcd18c97d1",
   "metadata": {},
   "outputs": [
    {
     "data": {
      "text/plain": [
       "'afjfa'"
      ]
     },
     "execution_count": 27,
     "metadata": {},
     "output_type": "execute_result"
    }
   ],
   "source": [
    "d.strip()"
   ]
  },
  {
   "cell_type": "code",
   "execution_count": null,
   "id": "fd997e20-eaf1-41ea-87f2-15ce24fbe982",
   "metadata": {},
   "outputs": [],
   "source": []
  }
 ],
 "metadata": {
  "kernelspec": {
   "display_name": "Python 3 (ipykernel)",
   "language": "python",
   "name": "python3"
  },
  "language_info": {
   "codemirror_mode": {
    "name": "ipython",
    "version": 3
   },
   "file_extension": ".py",
   "mimetype": "text/x-python",
   "name": "python",
   "nbconvert_exporter": "python",
   "pygments_lexer": "ipython3",
   "version": "3.10.6"
  }
 },
 "nbformat": 4,
 "nbformat_minor": 5
}
