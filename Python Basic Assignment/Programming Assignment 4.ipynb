{
 "cells": [
  {
   "cell_type": "raw",
   "id": "7c25f2ec-5c47-4d04-a1e9-348a421223fa",
   "metadata": {},
   "source": [
    "1.\tWrite a Python Program to Find the Factorial of a Number?"
   ]
  },
  {
   "cell_type": "code",
   "execution_count": 11,
   "id": "c3a55803-838f-4038-9b14-1b1a083fdc16",
   "metadata": {},
   "outputs": [
    {
     "name": "stdin",
     "output_type": "stream",
     "text": [
      "Enter positive number:  7\n"
     ]
    },
    {
     "name": "stdout",
     "output_type": "stream",
     "text": [
      "The factorial of 7 is 5040\n"
     ]
    }
   ],
   "source": [
    "a = int(input(\"Enter positive number: \"))\n",
    "fact = 1\n",
    "if a>0 :\n",
    "    for i in range(1,a +1):\n",
    "        fact = fact * i\n",
    "    print(f\"The factorial of {a} is {fact}\")\n",
    "elif a==0 :\n",
    "    print(f\"The factorial of {a} is 1\")\n",
    "else :\n",
    "    print(\"Negative number not posible\")\n",
    "    "
   ]
  },
  {
   "cell_type": "raw",
   "id": "03923820-244b-43a4-9c7e-585a6a2dab41",
   "metadata": {},
   "source": [
    "2.\tWrite a Python Program to Display the multiplication Table?"
   ]
  },
  {
   "cell_type": "code",
   "execution_count": 12,
   "id": "0af35e22-7e02-42bf-87ad-02ef27ef76f1",
   "metadata": {},
   "outputs": [
    {
     "name": "stdin",
     "output_type": "stream",
     "text": [
      "Enter the number:  5\n"
     ]
    },
    {
     "name": "stdout",
     "output_type": "stream",
     "text": [
      "5 x 1 = 5\n",
      "5 x 2 = 10\n",
      "5 x 3 = 15\n",
      "5 x 4 = 20\n",
      "5 x 5 = 25\n",
      "5 x 6 = 30\n",
      "5 x 7 = 35\n",
      "5 x 8 = 40\n",
      "5 x 9 = 45\n",
      "5 x 10 = 50\n"
     ]
    }
   ],
   "source": [
    "a = int(input(\"Enter the number: \"))\n",
    "for i in range(1,11):\n",
    "    print(a, \"x\" , i, \"=\", a*i) "
   ]
  },
  {
   "cell_type": "raw",
   "id": "4353b535-a272-416b-94ba-a45ee1dc0c7d",
   "metadata": {},
   "source": [
    "3.\tWrite a Python Program to Print the Fibonacci sequence?"
   ]
  },
  {
   "cell_type": "code",
   "execution_count": 22,
   "id": "68069551-36e9-42eb-a7b5-19cadbc18b7e",
   "metadata": {},
   "outputs": [
    {
     "name": "stdin",
     "output_type": "stream",
     "text": [
      "Enter the number:  0\n"
     ]
    },
    {
     "name": "stdout",
     "output_type": "stream",
     "text": [
      "Please enter positive number\n"
     ]
    }
   ],
   "source": [
    "num = int(input(\"Enter the number: \"))\n",
    "a,b = 0,1\n",
    "count = 0\n",
    "if num>0 :\n",
    "    print(f\"Fibonacci sequence for {num} is: \")\n",
    "    while count < num:\n",
    "        print(a, end=\" \")\n",
    "        c = a +b\n",
    "        a=b\n",
    "        b=c\n",
    "        count = count + 1\n",
    "else:\n",
    "    print(\"Please enter positive number\")"
   ]
  },
  {
   "cell_type": "raw",
   "id": "201e188e-54a6-4fa7-976a-83b2488ccecd",
   "metadata": {},
   "source": [
    "4.\tWrite a Python Program to Check Armstrong Number?"
   ]
  },
  {
   "cell_type": "code",
   "execution_count": 48,
   "id": "738aa778-a623-41de-9d09-93896a79a6ce",
   "metadata": {},
   "outputs": [
    {
     "name": "stdin",
     "output_type": "stream",
     "text": [
      "Enter a number:  370\n"
     ]
    },
    {
     "name": "stdout",
     "output_type": "stream",
     "text": [
      "Armstrong number\n"
     ]
    }
   ],
   "source": [
    "a = int(input(\"Enter a number: \"))\n",
    "sum = 0\n",
    "temp = a\n",
    "while temp> 0:\n",
    "    digit = temp%10\n",
    "    sum = sum + digit**3\n",
    "    temp = temp //10\n",
    "if a == sum :\n",
    "    print(\"Armstrong number\")\n",
    "else:\n",
    "    print(\"Not armstrong number\")\n",
    "    "
   ]
  },
  {
   "cell_type": "raw",
   "id": "0a702795-9e8a-4222-9a85-16a6c591832a",
   "metadata": {},
   "source": [
    "5.\tWrite a Python Program to Find Armstrong Number in an Interval?"
   ]
  },
  {
   "cell_type": "code",
   "execution_count": 49,
   "id": "a4273194-6b0b-4b24-b055-49babd999658",
   "metadata": {},
   "outputs": [
    {
     "name": "stdin",
     "output_type": "stream",
     "text": [
      "Enter lower range:  100\n",
      "Enter upper range:  500\n"
     ]
    },
    {
     "name": "stdout",
     "output_type": "stream",
     "text": [
      "153\n",
      "370\n",
      "371\n",
      "407\n"
     ]
    }
   ],
   "source": [
    "a = int(input(\"Enter lower range: \"))\n",
    "b = int(input(\"Enter upper range: \"))\n",
    "for i in range(a,b +1):\n",
    "    d = len(str(i)) \n",
    "    sum = 0\n",
    "    temp = i\n",
    "    while temp> 0:\n",
    "        digit = temp%10\n",
    "        sum = sum + digit**d\n",
    "        temp = temp //10\n",
    "    if i == sum :\n",
    "        print(i)\n",
    "        "
   ]
  },
  {
   "cell_type": "raw",
   "id": "a932c87a-7599-43d6-9d93-711b27b3982a",
   "metadata": {},
   "source": [
    "6.\tWrite a Python Program to Find the Sum of Natural Numbers?"
   ]
  },
  {
   "cell_type": "code",
   "execution_count": 52,
   "id": "fa58a32b-4e5f-40a6-ad13-504191b0d347",
   "metadata": {},
   "outputs": [
    {
     "name": "stdin",
     "output_type": "stream",
     "text": [
      "Enter a number:  55\n"
     ]
    },
    {
     "name": "stdout",
     "output_type": "stream",
     "text": [
      "The sum of  first 55 natural number is 1540\n"
     ]
    }
   ],
   "source": [
    "a = int(input(\"Enter a number: \"))\n",
    "sum = 0\n",
    "if a > 0:\n",
    "    for i in range(1, a+1):\n",
    "        sum = sum + i\n",
    "    print(f\"The sum of  first {a} natural number is {sum}\")\n",
    "else:\n",
    "    print(\"Please enter positive number\")"
   ]
  }
 ],
 "metadata": {
  "kernelspec": {
   "display_name": "Python 3 (ipykernel)",
   "language": "python",
   "name": "python3"
  },
  "language_info": {
   "codemirror_mode": {
    "name": "ipython",
    "version": 3
   },
   "file_extension": ".py",
   "mimetype": "text/x-python",
   "name": "python",
   "nbconvert_exporter": "python",
   "pygments_lexer": "ipython3",
   "version": "3.10.6"
  }
 },
 "nbformat": 4,
 "nbformat_minor": 5
}
