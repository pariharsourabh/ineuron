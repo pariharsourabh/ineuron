{
 "cells": [
  {
   "cell_type": "code",
   "execution_count": 1,
   "id": "b958d2bc-3a77-4515-9e55-1e7d4e6cab95",
   "metadata": {},
   "outputs": [],
   "source": [
    "# Question 1:\n",
    "# Please write a program using generator to print the numbers which can be divisible by 5 and 7 between 0 and n in comma separated form while n is input by console.\n",
    "# Example:\n",
    "# If the following n is given as input to the program:\n",
    "# 100\n",
    "# Then, the output of the program should be:\n",
    "# 0,35,70\n"
   ]
  },
  {
   "cell_type": "code",
   "execution_count": 2,
   "id": "ecd879a0-0f73-40d2-814e-65dc21249941",
   "metadata": {},
   "outputs": [
    {
     "name": "stdin",
     "output_type": "stream",
     "text": [
      "Enter a number:  100\n"
     ]
    },
    {
     "name": "stdout",
     "output_type": "stream",
     "text": [
      "0,35,70\n"
     ]
    }
   ],
   "source": [
    "def divisible_by_5_and_7(n):\n",
    "    for num in range(n + 1):\n",
    "        if num % 5 == 0 and num % 7 == 0:\n",
    "            yield num\n",
    "\n",
    "n = int(input(\"Enter a number: \"))\n",
    "divisible_nums = divisible_by_5_and_7(n)\n",
    "\n",
    "output = \",\".join(str(num) for num in divisible_nums)\n",
    "print(output)"
   ]
  },
  {
   "cell_type": "code",
   "execution_count": 3,
   "id": "a356967e-fe59-40d4-9760-27d187d28dcd",
   "metadata": {},
   "outputs": [],
   "source": [
    "# Question 2:\n",
    "# Please write a program using generator to print the even numbers between 0 and n in comma separated form while n is input by console.\n",
    "# Example:\n",
    "# If the following n is given as input to the program:\n",
    "# 10\n",
    "# Then, the output of the program should be:\n",
    "# 0,2,4,6,8,10\n"
   ]
  },
  {
   "cell_type": "code",
   "execution_count": 4,
   "id": "6819d8d1-bc45-437a-b399-c5bbfee6b399",
   "metadata": {},
   "outputs": [
    {
     "name": "stdin",
     "output_type": "stream",
     "text": [
      "Enter a number:  10\n"
     ]
    },
    {
     "name": "stdout",
     "output_type": "stream",
     "text": [
      "0,2,4,6,8,10\n"
     ]
    }
   ],
   "source": [
    "def even_numbers(n):\n",
    "    num = 0\n",
    "    while num <= n:\n",
    "        yield num\n",
    "        num += 2\n",
    "\n",
    "n = int(input(\"Enter a number: \"))\n",
    "even_nums = even_numbers(n)\n",
    "output = \",\".join(str(num) for num in even_nums)\n",
    "print(output)"
   ]
  },
  {
   "cell_type": "code",
   "execution_count": 5,
   "id": "d9a0ca5a-24b2-458a-b950-84f9fa3466c4",
   "metadata": {},
   "outputs": [],
   "source": [
    "# Question 3:\n",
    "# The Fibonacci Sequence is computed based on the following formula:\n",
    "# f(n)=0 if n=0\n",
    "# f(n)=1 if n=1\n",
    "# f(n)=f(n-1)+f(n-2) if n>1\n",
    "# Please write a program using list comprehension to print the Fibonacci Sequence in comma separated form with a given n input by console.\n",
    "# Example:\n",
    "# If the following n is given as input to the program:\n",
    "# 7\n",
    "\n",
    "# Then, the output of the program should be:\n",
    "# 0,1,1,2,3,5,8,13\n"
   ]
  },
  {
   "cell_type": "code",
   "execution_count": 6,
   "id": "35a0db3c-f4ad-454d-b17d-e4fa753b6973",
   "metadata": {},
   "outputs": [
    {
     "name": "stdin",
     "output_type": "stream",
     "text": [
      "Enter a number:  7\n"
     ]
    },
    {
     "name": "stdout",
     "output_type": "stream",
     "text": [
      "1,2,3,5,8,13\n"
     ]
    }
   ],
   "source": [
    "def fibonacci_sequence(n):\n",
    "    sequence = [0, 1]\n",
    "    sequence = [sequence.append(sequence[-1] + sequence[-2]) or sequence[i] for i in range(2, n + 1)]\n",
    "    return sequence\n",
    "\n",
    "n = int(input(\"Enter a number: \"))\n",
    "fibonacci_seq = fibonacci_sequence(n)\n",
    "output = \",\".join(str(num) for num in fibonacci_seq)\n",
    "print(output)"
   ]
  },
  {
   "cell_type": "code",
   "execution_count": 7,
   "id": "d348e112-f8ca-4296-8ef5-3eb0ded1de76",
   "metadata": {},
   "outputs": [],
   "source": [
    "# Question 4:\n",
    "# Assuming that we have some email addresses in the \"username@companyname.com\" format, please write program to print the user name of a given email address. Both user names and company names are composed of letters only.\n",
    "# Example:\n",
    "# If the following email address is given as input to the program:\n",
    "# john@google.com\n",
    "# Then, the output of the program should be:\n",
    "# john\n"
   ]
  },
  {
   "cell_type": "code",
   "execution_count": 8,
   "id": "00404906-932b-4712-994e-9be5778d3ab7",
   "metadata": {},
   "outputs": [
    {
     "name": "stdin",
     "output_type": "stream",
     "text": [
      "Enter an email address:  sourabh@gmail.com\n"
     ]
    },
    {
     "name": "stdout",
     "output_type": "stream",
     "text": [
      "sourabh\n"
     ]
    }
   ],
   "source": [
    "def extract_username(email):\n",
    "    parts = email.split(\"@\")\n",
    "    username = parts[0]\n",
    "    return username\n",
    "\n",
    "email_address = input(\"Enter an email address: \")\n",
    "username = extract_username(email_address)\n",
    "print(username)"
   ]
  },
  {
   "cell_type": "code",
   "execution_count": 9,
   "id": "15dca7a5-d2c3-4c7b-998c-c67244759275",
   "metadata": {},
   "outputs": [],
   "source": [
    "# Question 5:\n",
    "# Define a class named Shape and its subclass Square. The Square class has an init function which takes a length as argument. Both classes have a area function which can print the area of the shape where Shape's area is 0 by default.\n"
   ]
  },
  {
   "cell_type": "code",
   "execution_count": 10,
   "id": "212f4688-ca8c-468f-9931-748d724b9f06",
   "metadata": {},
   "outputs": [
    {
     "name": "stdout",
     "output_type": "stream",
     "text": [
      "Shape area: 0\n",
      "Square area: 25\n"
     ]
    }
   ],
   "source": [
    "class Shape:\n",
    "    def area(self):\n",
    "        return 0\n",
    "\n",
    "class Square(Shape):\n",
    "    def __init__(self, length):\n",
    "        self.length = length\n",
    "\n",
    "    def area(self):\n",
    "        return self.length ** 2\n",
    "\n",
    "shape = Shape()\n",
    "print(\"Shape area:\", shape.area()) \n",
    "square = Square(5)\n",
    "print(\"Square area:\", square.area()) "
   ]
  },
  {
   "cell_type": "code",
   "execution_count": null,
   "id": "5c7c364c-5301-40a2-88f9-12a23ee44b21",
   "metadata": {},
   "outputs": [],
   "source": []
  }
 ],
 "metadata": {
  "kernelspec": {
   "display_name": "Python 3 (ipykernel)",
   "language": "python",
   "name": "python3"
  },
  "language_info": {
   "codemirror_mode": {
    "name": "ipython",
    "version": 3
   },
   "file_extension": ".py",
   "mimetype": "text/x-python",
   "name": "python",
   "nbconvert_exporter": "python",
   "pygments_lexer": "ipython3",
   "version": "3.10.6"
  }
 },
 "nbformat": 4,
 "nbformat_minor": 5
}
