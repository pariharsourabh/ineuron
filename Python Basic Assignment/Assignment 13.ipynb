{
 "cells": [
  {
   "cell_type": "code",
   "execution_count": 1,
   "id": "2234a75b-98c4-4677-ba7f-ffddb39d62a5",
   "metadata": {},
   "outputs": [],
   "source": [
    "#1. What advantages do Excel spreadsheets have over CSV spreadsheets?"
   ]
  },
  {
   "cell_type": "code",
   "execution_count": 2,
   "id": "27369c2a-d133-4536-abfc-d9764a2fbad4",
   "metadata": {},
   "outputs": [],
   "source": [
    "#The Advantages of Excel over CSV are:\n",
    "\n",
    "#Excel (XLS and XLSX) file formats are better for storing and analysing complex data.\n",
    "#An Excel not only stores data but can also do operations on the data using macros, formulas etc\n",
    "#CSV files are plain-text files, Does not contain formatting, formulas, macros, etc. It is also known as flat files."
   ]
  },
  {
   "cell_type": "code",
   "execution_count": 3,
   "id": "cc26fc13-857c-4d77-87b8-735442442354",
   "metadata": {},
   "outputs": [],
   "source": [
    "#2.What do you pass to csv.reader() and csv.writer() to create reader and writer objects?"
   ]
  },
  {
   "cell_type": "code",
   "execution_count": 17,
   "id": "109434eb-e4bc-4a9d-8830-a23e8e79160d",
   "metadata": {},
   "outputs": [],
   "source": [
    "import csv\n",
    "with open('test.csv','r') as file:\n",
    "    csv_file = csv.reader(file,delimiter=',')\n",
    "    for ele in csv_file:\n",
    "        print(ele)"
   ]
  },
  {
   "cell_type": "code",
   "execution_count": 4,
   "id": "6ffd1076-ecc2-4817-9360-65c874b306a7",
   "metadata": {},
   "outputs": [],
   "source": [
    "#3. What modes do File objects for reader and writer objects need to be opened in?"
   ]
  },
  {
   "cell_type": "code",
   "execution_count": 5,
   "id": "dc66f0dc-4188-4c58-b543-20d741eb014b",
   "metadata": {},
   "outputs": [],
   "source": [
    "#For reader objects, the file object needs to be opened in \"read\" mode (i.e., \"r\"). For writer objects, the file object needs to be opened in \"write\" mode (i.e., \"w\")."
   ]
  },
  {
   "cell_type": "code",
   "execution_count": 6,
   "id": "cc87a107-0f00-4fa4-892f-dc76fb908683",
   "metadata": {},
   "outputs": [],
   "source": [
    "#4. What method takes a list argument and writes it to a CSV file?"
   ]
  },
  {
   "cell_type": "code",
   "execution_count": 7,
   "id": "99313bb1-d7b8-4dc7-b9f8-8f5b3b9a10ea",
   "metadata": {},
   "outputs": [],
   "source": [
    "#csv.writer class provides two methods for writing to CSV. They are writerow() and writerows(). writerow() method writes a single row at a time. Whereas writerows() method is used to write multiple rows at a time."
   ]
  },
  {
   "cell_type": "code",
   "execution_count": 8,
   "id": "709d4bfa-cce0-4190-80ff-50ad80cbf824",
   "metadata": {},
   "outputs": [],
   "source": [
    "#5. What do the keyword arguments delimiter and line terminator do?"
   ]
  },
  {
   "cell_type": "code",
   "execution_count": null,
   "id": "ed95c2f6-0a22-47ba-bad4-e529f13c06f3",
   "metadata": {},
   "outputs": [],
   "source": [
    "#The delimiter keyword argument is used to specify the character that should be used as the field delimiter when writing a CSV file. By default, a comma (,) is used as the delimiter, but you can specify any other character if needed.\n",
    "\n",
    "#The lineterminator keyword argument is used to specify the string that should be used to terminate each line when writing a CSV file. By default, a newline (\\n) character is used as the line terminator, but you can specify any other string if needed. For example, you could use the lineterminator argument to write a CSV file that uses \\r\\n as the line terminator instead of just \\n."
   ]
  },
  {
   "cell_type": "code",
   "execution_count": 9,
   "id": "b6358c3c-13d8-4b66-ac17-9d0d37404fbc",
   "metadata": {},
   "outputs": [],
   "source": [
    "#6. What function takes a string of JSON data and returns a Python data structure?"
   ]
  },
  {
   "cell_type": "code",
   "execution_count": 11,
   "id": "64acda6e-c710-49e7-b11a-4785fdf9e9b8",
   "metadata": {},
   "outputs": [],
   "source": [
    "#loads() method takes a string of JSON data and returns a Python data structure"
   ]
  },
  {
   "cell_type": "code",
   "execution_count": 12,
   "id": "598800bc-11e2-4b45-82fd-8eaea4110152",
   "metadata": {},
   "outputs": [
    {
     "name": "stdout",
     "output_type": "stream",
     "text": [
      "{\n",
      "    \"Name\": \"Sourabh\",\n",
      "    \"Qualification\": \"B.Tech\",\n",
      "    \"Stream\": \"MAE\"\n",
      "}\n",
      "Type of my_details_json is <class 'str'>\n",
      "{'Name': 'Sourabh', 'Qualification': 'B.Tech', 'Stream': 'MAE'}\n",
      "Type of my_details is <class 'dict'>\n"
     ]
    }
   ],
   "source": [
    "import json\n",
    "my_details_json ='''{\n",
    "    \"Name\": \"Sourabh\",\n",
    "    \"Qualification\": \"B.Tech\",\n",
    "    \"Stream\": \"MAE\"\n",
    "}'''\n",
    "print(my_details_json)\n",
    "print(f'Type of my_details_json is {type(my_details_json)}')\n",
    "my_details = json.loads(my_details_json)\n",
    "print(my_details)\n",
    "print(f'Type of my_details is {type(my_details)}')"
   ]
  },
  {
   "cell_type": "code",
   "execution_count": 13,
   "id": "46eeceb9-391f-4022-9204-cbf760753bb0",
   "metadata": {},
   "outputs": [],
   "source": [
    "#7. What function takes a Python data structure and returns a string of JSON data?"
   ]
  },
  {
   "cell_type": "code",
   "execution_count": 14,
   "id": "61d1ef0b-d8e2-45ff-b72f-95284cea87f7",
   "metadata": {},
   "outputs": [],
   "source": [
    "#dumps() method takes a python data structure and returns a string of JSON data"
   ]
  },
  {
   "cell_type": "code",
   "execution_count": 15,
   "id": "987d0336-42cc-436a-874f-b142fe973fec",
   "metadata": {},
   "outputs": [
    {
     "name": "stdout",
     "output_type": "stream",
     "text": [
      "{'Name': 'Sourabh', 'Qualification': 'B.Tech', 'Stream': 'MAE'}\n",
      "Type of my_details is <class 'dict'>\n",
      "{\n",
      "    \"Name\": \"Sourabh\",\n",
      "    \"Qualification\": \"B.Tech\",\n",
      "    \"Stream\": \"MAE\"\n",
      "}\n",
      "Type of my_details_json is <class 'str'>\n"
     ]
    }
   ],
   "source": [
    "import json\n",
    "my_details = {\n",
    "    \"Name\": \"Sourabh\",\n",
    "    \"Qualification\": \"B.Tech\",\n",
    "    \"Stream\": \"MAE\"\n",
    "}\n",
    "print(my_details)\n",
    "print(f'Type of my_details is {type(my_details)}')\n",
    "my_details_json = json.dumps(my_details, indent=4, sort_keys=True)\n",
    "print(my_details_json)\n",
    "print(f'Type of my_details_json is {type(my_details_json)}')"
   ]
  },
  {
   "cell_type": "code",
   "execution_count": null,
   "id": "695a2a0b-1e55-4ecf-b047-5ea006701b70",
   "metadata": {},
   "outputs": [],
   "source": []
  }
 ],
 "metadata": {
  "kernelspec": {
   "display_name": "Python 3 (ipykernel)",
   "language": "python",
   "name": "python3"
  },
  "language_info": {
   "codemirror_mode": {
    "name": "ipython",
    "version": 3
   },
   "file_extension": ".py",
   "mimetype": "text/x-python",
   "name": "python",
   "nbconvert_exporter": "python",
   "pygments_lexer": "ipython3",
   "version": "3.10.6"
  }
 },
 "nbformat": 4,
 "nbformat_minor": 5
}
