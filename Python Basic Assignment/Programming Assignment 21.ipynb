{
 "cells": [
  {
   "cell_type": "code",
   "execution_count": 1,
   "id": "51bacf28-20bd-4ad5-b8c9-84e16a96146d",
   "metadata": {},
   "outputs": [],
   "source": [
    "# Question1\n",
    "# Write a function that takes a list and a number as arguments. Add the number to the end of the list, then remove the first element of the list. The function should then return the updated list.\n",
    "# Examples\n",
    "# next_in_line([5, 6, 7, 8, 9], 1) ➞ [6, 7, 8, 9, 1]\n",
    "\n",
    "# next_in_line([7, 6, 3, 23, 17], 10) ➞ [6, 3, 23, 17, 10]\n",
    "\n",
    "# next_in_line([1, 10, 20, 42 ], 6) ➞ [10, 20, 42, 6]\n",
    "\n",
    "# next_in_line([], 6) ➞ \"No list has been selected\"\n"
   ]
  },
  {
   "cell_type": "code",
   "execution_count": 2,
   "id": "3de1ac63-1d75-4771-b649-94ea3239650d",
   "metadata": {},
   "outputs": [
    {
     "name": "stdout",
     "output_type": "stream",
     "text": [
      "[6, 7, 8, 9, 1]\n",
      "[6, 3, 23, 17, 10]\n",
      "[10, 20, 42, 6]\n",
      "No list has been selected\n"
     ]
    }
   ],
   "source": [
    "def next_in_line(lst, num):\n",
    "    if lst:\n",
    "        lst.pop(0)\n",
    "        lst.append(num)\n",
    "        return lst\n",
    "    else:\n",
    "        return \"No list has been selected\"\n",
    "\n",
    "print(next_in_line([5, 6, 7, 8, 9], 1))\n",
    "print(next_in_line([7, 6, 3, 23, 17], 10))\n",
    "print(next_in_line([1, 10, 20, 42], 6))\n",
    "print(next_in_line([], 6))"
   ]
  },
  {
   "cell_type": "code",
   "execution_count": 3,
   "id": "e8a718ec-b60d-4b76-ae37-8eed1bca3f39",
   "metadata": {},
   "outputs": [],
   "source": [
    "# Question2\n",
    "# Create the function that takes a list of dictionaries and returns the sum of people's budgets.\n",
    "# Examples\n",
    "# get_budgets([\n",
    "#   { \"name\": \"John\", \"age\": 21, \"budget\": 23000 },\n",
    "#   { \"name\": \"Steve\",  \"age\": 32, \"budget\": 40000 },\n",
    "#   { \"name\": \"Martin\",  \"age\": 16, \"budget\": 2700 }\n",
    "# ]) ➞ 65700\n",
    "\n",
    "# get_budgets([\n",
    "#   { \"name\": \"John\",  \"age\": 21, \"budget\": 29000 },\n",
    "#   { \"name\": \"Steve\",  \"age\": 32, \"budget\": 32000 },\n",
    "#   { \"name\": \"Martin\",  \"age\": 16, \"budget\": 1600 }\n",
    "# ]) ➞ 62600\n"
   ]
  },
  {
   "cell_type": "code",
   "execution_count": 4,
   "id": "cb246888-080a-44fb-a127-69b38509c61c",
   "metadata": {},
   "outputs": [
    {
     "name": "stdout",
     "output_type": "stream",
     "text": [
      "65700\n",
      "62600\n"
     ]
    }
   ],
   "source": [
    "def get_budgets(lst):\n",
    "    return sum(person[\"budget\"] for person in lst)\n",
    "\n",
    "budgets1 = [\n",
    "    { \"name\": \"John\", \"age\": 21, \"budget\": 23000 },\n",
    "    { \"name\": \"Steve\", \"age\": 32, \"budget\": 40000 },\n",
    "    { \"name\": \"Martin\", \"age\": 16, \"budget\": 2700 }\n",
    "]\n",
    "print(get_budgets(budgets1))\n",
    "\n",
    "budgets2 = [\n",
    "    { \"name\": \"John\", \"age\": 21, \"budget\": 29000 },\n",
    "    { \"name\": \"Steve\", \"age\": 32, \"budget\": 32000 },\n",
    "    { \"name\": \"Martin\", \"age\": 16, \"budget\": 1600 }\n",
    "]\n",
    "print(get_budgets(budgets2))"
   ]
  },
  {
   "cell_type": "code",
   "execution_count": 5,
   "id": "41725019-3bdf-4bbd-88dd-d6b60c07bdcb",
   "metadata": {},
   "outputs": [],
   "source": [
    "# Question3\n",
    "# Create a function that takes a string and returns a string with its letters in alphabetical order.\n",
    "# Examples\n",
    "# alphabet_soup(\"hello\") ➞ \"ehllo\"\n",
    "\n",
    "# alphabet_soup(\"edabit\") ➞ \"abdeit\"\n",
    "\n",
    "# alphabet_soup(\"hacker\") ➞ \"acehkr\"\n",
    "\n",
    "# alphabet_soup(\"geek\") ➞ \"eegk\"\n",
    "\n",
    "# alphabet_soup(\"javascript\") ➞ \"aacijprstv\"\n"
   ]
  },
  {
   "cell_type": "code",
   "execution_count": 6,
   "id": "0cedd9a4-b30b-4dde-9c08-687703657b89",
   "metadata": {},
   "outputs": [
    {
     "name": "stdout",
     "output_type": "stream",
     "text": [
      "ehllo\n",
      "abdeit\n",
      "acehkr\n",
      "eegk\n",
      "aacijprstv\n"
     ]
    }
   ],
   "source": [
    "def alphabet_soup(string):\n",
    "    return ''.join(sorted(string))\n",
    "\n",
    "# Example usage\n",
    "print(alphabet_soup(\"hello\"))\n",
    "print(alphabet_soup(\"edabit\"))\n",
    "print(alphabet_soup(\"hacker\"))\n",
    "print(alphabet_soup(\"geek\"))\n",
    "print(alphabet_soup(\"javascript\"))"
   ]
  },
  {
   "cell_type": "code",
   "execution_count": 7,
   "id": "6d2fc8e8-fd84-4a0d-ab31-106351f4fb3c",
   "metadata": {},
   "outputs": [],
   "source": [
    "# Question4\n",
    "# Suppose that you invest $10,000 for 10 years at an interest rate of 6% compounded monthly. What will be the value of your investment at the end of the 10 year period?\n",
    "# Create a function that accepts the principal p, the term in years t, the interest rate r, and the number of compounding periods per year n. The function returns the value at the end of term rounded to the nearest cent.\n",
    "# For the example above:\n",
    "# compound_interest(10000, 10, 0.06, 12) ➞ 18193.97\n",
    "# Note that the interest rate is given as a decimal and n=12 because with monthly compounding there are 12 periods per year. Compounding can also be done annually, quarterly, weekly, or daily.\n",
    "# Examples\n",
    "# compound_interest(100, 1, 0.05, 1) ➞ 105.0\n",
    "\n",
    "# compound_interest(3500, 15, 0.1, 4) ➞ 15399.26\n",
    "\n",
    "# compound_interest(100000, 20, 0.15, 365) ➞ 2007316.26\n"
   ]
  },
  {
   "cell_type": "code",
   "execution_count": 8,
   "id": "858c53d1-3e19-4674-847d-dd70eb9b6885",
   "metadata": {},
   "outputs": [
    {
     "name": "stdout",
     "output_type": "stream",
     "text": [
      "105.0\n",
      "15399.26\n",
      "2007316.26\n",
      "18193.97\n"
     ]
    }
   ],
   "source": [
    "def compound_interest(p, t, r, n):\n",
    "    a = p * (1 + r / n) ** (n * t)\n",
    "    return round(a, 2)\n",
    "\n",
    "print(compound_interest(100, 1, 0.05, 1))\n",
    "print(compound_interest(3500, 15, 0.1, 4))\n",
    "print(compound_interest(100000, 20, 0.15, 365))\n",
    "print(compound_interest(10000, 10, 0.06, 12))"
   ]
  },
  {
   "cell_type": "code",
   "execution_count": 10,
   "id": "c7cc9f06-1ad0-4b9b-898a-c307eedcb448",
   "metadata": {},
   "outputs": [],
   "source": [
    "# Question5\n",
    "# Write a function that takes a list of elements and returns only the integers.\n",
    "# Examples\n",
    "# return_only_integer([9, 2, \"space\", \"car\", \"lion\", 16]) ➞ [9, 2, 16]\n",
    "\n",
    "# return_only_integer([\"hello\", 81, \"basketball\", 123, \"fox\"]) ➞ [81, 123]\n",
    "\n",
    "# return_only_integer([10, \"121\", 56, 20, \"car\", 3, \"lion\"]) ➞ [10, 56, 20, 3]\n",
    "\n",
    "# return_only_integer([\"String\",  True,  3.3,  1]) ➞ [1]\n"
   ]
  },
  {
   "cell_type": "code",
   "execution_count": 11,
   "id": "627c5170-013e-4df1-ad4e-7664cbb72847",
   "metadata": {},
   "outputs": [
    {
     "name": "stdout",
     "output_type": "stream",
     "text": [
      "[9, 2, 16]\n",
      "[81, 123]\n",
      "[10, 56, 20, 3]\n",
      "[True, 1]\n"
     ]
    }
   ],
   "source": [
    "def return_only_integer(lst):\n",
    "    return [x for x in lst if isinstance(x, int)]\n",
    "\n",
    "print(return_only_integer([9, 2, \"space\", \"car\", \"lion\", 16]))\n",
    "print(return_only_integer([\"hello\", 81, \"basketball\", 123, \"fox\"]))\n",
    "print(return_only_integer([10, \"121\", 56, 20, \"car\", 3, \"lion\"]))\n",
    "print(return_only_integer([\"String\", True, 3.3, 1]))"
   ]
  },
  {
   "cell_type": "code",
   "execution_count": null,
   "id": "fd45b1ef-e575-4a07-8931-9c63e9088a98",
   "metadata": {},
   "outputs": [],
   "source": []
  }
 ],
 "metadata": {
  "kernelspec": {
   "display_name": "Python 3 (ipykernel)",
   "language": "python",
   "name": "python3"
  },
  "language_info": {
   "codemirror_mode": {
    "name": "ipython",
    "version": 3
   },
   "file_extension": ".py",
   "mimetype": "text/x-python",
   "name": "python",
   "nbconvert_exporter": "python",
   "pygments_lexer": "ipython3",
   "version": "3.10.6"
  }
 },
 "nbformat": 4,
 "nbformat_minor": 5
}
