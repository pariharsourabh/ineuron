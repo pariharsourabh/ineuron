{
 "cells": [
  {
   "cell_type": "code",
   "execution_count": 1,
   "id": "de6bf4b0-388b-4c52-9b78-faf959ac64f5",
   "metadata": {},
   "outputs": [],
   "source": [
    "#1. Create an assert statement that throws an AssertionError if the variable spam is a negative integer."
   ]
  },
  {
   "cell_type": "code",
   "execution_count": 5,
   "id": "94c5befe-f062-44e6-8dfa-fefffe346888",
   "metadata": {},
   "outputs": [],
   "source": [
    "spam = -1"
   ]
  },
  {
   "cell_type": "code",
   "execution_count": 6,
   "id": "04eda044-7c21-4666-a50d-e8c8515968c5",
   "metadata": {},
   "outputs": [
    {
     "ename": "AssertionError",
     "evalue": "spam must be a non-negative integer",
     "output_type": "error",
     "traceback": [
      "\u001b[0;31m---------------------------------------------------------------------------\u001b[0m",
      "\u001b[0;31mAssertionError\u001b[0m                            Traceback (most recent call last)",
      "Cell \u001b[0;32mIn [6], line 1\u001b[0m\n\u001b[0;32m----> 1\u001b[0m \u001b[38;5;28;01massert\u001b[39;00m spam \u001b[38;5;241m>\u001b[39m\u001b[38;5;241m=\u001b[39m \u001b[38;5;241m0\u001b[39m, \u001b[38;5;124m\"\u001b[39m\u001b[38;5;124mspam must be a non-negative integer\u001b[39m\u001b[38;5;124m\"\u001b[39m\n",
      "\u001b[0;31mAssertionError\u001b[0m: spam must be a non-negative integer"
     ]
    }
   ],
   "source": [
    "assert spam >= 0, \"spam must be a non-negative integer\""
   ]
  },
  {
   "cell_type": "code",
   "execution_count": 7,
   "id": "5dd8ce33-3383-478f-8e14-ecdb7bb706a3",
   "metadata": {},
   "outputs": [],
   "source": [
    "#2. Write an assert statement that triggers an AssertionError if the variables eggs and bacon contain strings that are the same as each other, even if their cases are different (that is, 'hello' and 'hello' are considered the same, and 'goodbye' and 'GOODbye' are also considered the same)."
   ]
  },
  {
   "cell_type": "code",
   "execution_count": 13,
   "id": "3ba85322-d030-40df-ba64-c45182976660",
   "metadata": {},
   "outputs": [],
   "source": [
    "eggs = \"abcd\"\n",
    "bacon = \"abcd\""
   ]
  },
  {
   "cell_type": "code",
   "execution_count": 14,
   "id": "12a4eff1-1d38-4a9a-9b40-ad7c350bab0d",
   "metadata": {},
   "outputs": [
    {
     "ename": "AssertionError",
     "evalue": "eggs and bacon cannot have the same string value (case-insensitive)",
     "output_type": "error",
     "traceback": [
      "\u001b[0;31m---------------------------------------------------------------------------\u001b[0m",
      "\u001b[0;31mAssertionError\u001b[0m                            Traceback (most recent call last)",
      "Cell \u001b[0;32mIn [14], line 1\u001b[0m\n\u001b[0;32m----> 1\u001b[0m \u001b[38;5;28;01massert\u001b[39;00m eggs\u001b[38;5;241m.\u001b[39mlower() \u001b[38;5;241m!=\u001b[39m bacon\u001b[38;5;241m.\u001b[39mlower(), \u001b[38;5;124m\"\u001b[39m\u001b[38;5;124meggs and bacon cannot have the same string value (case-insensitive)\u001b[39m\u001b[38;5;124m\"\u001b[39m\n",
      "\u001b[0;31mAssertionError\u001b[0m: eggs and bacon cannot have the same string value (case-insensitive)"
     ]
    }
   ],
   "source": [
    "assert eggs.lower() != bacon.lower(), \"eggs and bacon cannot have the same string value (case-insensitive)\""
   ]
  },
  {
   "cell_type": "code",
   "execution_count": 15,
   "id": "63721760-4868-4310-bbcc-c105e4c4c698",
   "metadata": {},
   "outputs": [],
   "source": [
    "#3. Create an assert statement that throws an AssertionError every time."
   ]
  },
  {
   "cell_type": "code",
   "execution_count": 17,
   "id": "decef522-7819-462b-9843-720a53fc359c",
   "metadata": {},
   "outputs": [
    {
     "ename": "AssertionError",
     "evalue": "This assert statement will always throws an AssertionError",
     "output_type": "error",
     "traceback": [
      "\u001b[0;31m---------------------------------------------------------------------------\u001b[0m",
      "\u001b[0;31mAssertionError\u001b[0m                            Traceback (most recent call last)",
      "Cell \u001b[0;32mIn [17], line 1\u001b[0m\n\u001b[0;32m----> 1\u001b[0m \u001b[38;5;28;01massert\u001b[39;00m \u001b[38;5;28;01mFalse\u001b[39;00m, \u001b[38;5;124m\"\u001b[39m\u001b[38;5;124mThis assert statement will always throws an AssertionError\u001b[39m\u001b[38;5;124m\"\u001b[39m\n",
      "\u001b[0;31mAssertionError\u001b[0m: This assert statement will always throws an AssertionError"
     ]
    }
   ],
   "source": [
    "assert False, \"This assert statement will always throws an AssertionError\""
   ]
  },
  {
   "cell_type": "code",
   "execution_count": 18,
   "id": "163c1675-1165-4a5a-ac7c-1fcf6f20066b",
   "metadata": {},
   "outputs": [],
   "source": [
    "#4. What are the two lines that must be present in your software in order to call logging.debug()?"
   ]
  },
  {
   "cell_type": "code",
   "execution_count": 19,
   "id": "81f43b35-3792-4fb3-a83a-dc3d411391fa",
   "metadata": {},
   "outputs": [],
   "source": [
    "import logging\n",
    "logging.basicConfig(level=logging.DEBUG, format=' %(asctime)s - %(levelname)s - %(message)s')"
   ]
  },
  {
   "cell_type": "code",
   "execution_count": 20,
   "id": "351c2f9b-eddf-4773-a4cf-86f2ac618140",
   "metadata": {},
   "outputs": [],
   "source": [
    "#5. What are the two lines that your program must have in order to have logging.debug() send a logging message to a file named programLog.txt?"
   ]
  },
  {
   "cell_type": "code",
   "execution_count": 22,
   "id": "0a4b3290-bfd1-41f7-9001-c4e1b03121f8",
   "metadata": {},
   "outputs": [],
   "source": [
    "import logging\n",
    "logging.basicConfig(level=logging.DEBUG, format=' %(asctime)s - %(levelname)s - %(message)s')\n",
    "logger = logging.getLogger()\n",
    "logger.addHandler(logging.FileHandler('Log.txt'))"
   ]
  },
  {
   "cell_type": "code",
   "execution_count": 23,
   "id": "a687a915-d124-46a8-87dc-448ea3497026",
   "metadata": {},
   "outputs": [],
   "source": [
    "#6. What are the five levels of logging?"
   ]
  },
  {
   "cell_type": "code",
   "execution_count": 24,
   "id": "df864312-1349-4f56-b3c7-fc2aed34be52",
   "metadata": {},
   "outputs": [],
   "source": [
    "#The five levels of logging in Python are:\n",
    "\n",
    "#DEBUG: Detailed information, typically of interest only when diagnosing problems.\n",
    "#INFO: Confirmation that things are working as expected.\n",
    "#WARNING: An indication that something unexpected or undesirable has happened, or indicative of some problem in the near future (e.g., ‘disk space low’). The software is still working as expected.\n",
    "#ERROR: Due to a more serious problem, the software has not been able to perform some function.\n",
    "#CRITICAL: A very serious error, indicating that the program itself may be unable to continue running."
   ]
  },
  {
   "cell_type": "code",
   "execution_count": 25,
   "id": "f348303c-7a0a-4fe7-b16e-b26906b08398",
   "metadata": {},
   "outputs": [],
   "source": [
    "#7. What line of code would you add to your software to disable all logging messages?"
   ]
  },
  {
   "cell_type": "code",
   "execution_count": 26,
   "id": "d10899a0-2031-4a54-9f55-7fec80ce61a6",
   "metadata": {},
   "outputs": [],
   "source": [
    "logging.disable(logging.CRITICAL)"
   ]
  },
  {
   "cell_type": "code",
   "execution_count": 27,
   "id": "860e85b6-efff-41f6-bcdf-6b872027e852",
   "metadata": {},
   "outputs": [],
   "source": [
    "#8.Why is using logging messages better than using print() to display the same message?"
   ]
  },
  {
   "cell_type": "code",
   "execution_count": 28,
   "id": "46b20b52-661d-403b-a08a-2d006875b994",
   "metadata": {},
   "outputs": [],
   "source": [
    "#Using logging messages is better than using print() to display the same message for several reasons:\n",
    "\n",
    "#Flexibility: With logging, you can easily redirect messages to different destinations such as a file or a syslog server. This provides greater flexibility compared to print(), which can only output messages to the console.\n",
    "\n",
    "#Control: Logging allows you to specify the level of severity for each message, making it easier to filter and manage different types of messages. With print(), it can be difficult to separate messages based on their importance or severity.\n",
    "\n",
    "#Performance: In a large software project with many print statements, printing to the console can add significant overhead and slow down the program. With logging, you can selectively enable or disable messages based on their severity, which can improve the performance of your program.\n",
    "\n",
    "#Maintenance: Using logging allows you to better organize and maintain your code, making it easier to identify issues and troubleshoot problems. By using different logging levels and destinations, you can quickly find the information you need to fix issues and improve the quality of your code.\n",
    "\n",
    "#Overall, using logging messages instead of print() provides more control, flexibility, performance, and easier maintenance of your code."
   ]
  },
  {
   "cell_type": "code",
   "execution_count": 29,
   "id": "9c3f401f-26ea-43ee-bb2a-509e696dc9dc",
   "metadata": {},
   "outputs": [],
   "source": [
    "#9. What are the differences between the Step Over, Step In, and Step Out buttons in the debugger?"
   ]
  },
  {
   "cell_type": "code",
   "execution_count": 30,
   "id": "7f019307-3259-41f3-9097-79714c0b3348",
   "metadata": {},
   "outputs": [],
   "source": [
    "#In vscode the Step Over button executes the current line of code and moves to the next line of code without tracking the execution of functions or methods, the Step In button executes the current line of code and moves to the first line of a function or method, and the Step Out button executes the remaining lines of a function or method and moves to the next line of code outside of the function or method."
   ]
  },
  {
   "cell_type": "code",
   "execution_count": 31,
   "id": "139c42be-dd82-4a8d-9897-a1749b6f6023",
   "metadata": {},
   "outputs": [],
   "source": [
    "#10.After you click Continue, when will the debugger stop ?"
   ]
  },
  {
   "cell_type": "code",
   "execution_count": 32,
   "id": "7260e8b2-a4f2-4cbd-a4e2-764fafc894ea",
   "metadata": {},
   "outputs": [],
   "source": [
    "#the debugger will stop after clicking the Continue button when a breakpoint is encountered, an exception is raised, the program completes execution, or the user manually stops the debugger."
   ]
  },
  {
   "cell_type": "code",
   "execution_count": 33,
   "id": "8b92bbfc-e90a-4b46-9aeb-eaec552d5aa4",
   "metadata": {},
   "outputs": [],
   "source": [
    "#11. What is the concept of a breakpoint?"
   ]
  },
  {
   "cell_type": "code",
   "execution_count": 34,
   "id": "44ce96c8-f428-46e7-86ad-3868c7d1638f",
   "metadata": {},
   "outputs": [],
   "source": [
    "#breakpoints are a useful debugging tool that allows developers to pause the execution of their code at a specific point, helping them to find and fix errors more efficiently."
   ]
  },
  {
   "cell_type": "code",
   "execution_count": null,
   "id": "cf24240d-24b7-449b-b8eb-2c8abe32e640",
   "metadata": {},
   "outputs": [],
   "source": []
  }
 ],
 "metadata": {
  "kernelspec": {
   "display_name": "Python 3 (ipykernel)",
   "language": "python",
   "name": "python3"
  },
  "language_info": {
   "codemirror_mode": {
    "name": "ipython",
    "version": 3
   },
   "file_extension": ".py",
   "mimetype": "text/x-python",
   "name": "python",
   "nbconvert_exporter": "python",
   "pygments_lexer": "ipython3",
   "version": "3.10.6"
  }
 },
 "nbformat": 4,
 "nbformat_minor": 5
}
