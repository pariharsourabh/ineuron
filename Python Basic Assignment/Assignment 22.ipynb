{
 "cells": [
  {
   "cell_type": "code",
   "execution_count": 4,
   "id": "8efe7847-cdd1-4215-828c-48cec8952eaf",
   "metadata": {},
   "outputs": [
    {
     "name": "stdout",
     "output_type": "stream",
     "text": [
      "iNeuron\n"
     ]
    }
   ],
   "source": [
    "#1. What is the result of the code, and explain?\n",
    "\n",
    "X = 'iNeuron'\n",
    "def func():\n",
    "    print(X)\n",
    "\n",
    "\n",
    "func()\n"
   ]
  },
  {
   "cell_type": "code",
   "execution_count": 5,
   "id": "7d7e91bc-4a26-45c3-ae54-d0bea0ee0542",
   "metadata": {},
   "outputs": [],
   "source": [
    "# the code would define a function named func that prints the value of the variable X, which is 'iNeuron'. When the function is called using func(), it would print 'iNeuron'"
   ]
  },
  {
   "cell_type": "code",
   "execution_count": 8,
   "id": "a07cdeed-1287-4173-909d-7bfdb89f6fea",
   "metadata": {},
   "outputs": [
    {
     "name": "stdout",
     "output_type": "stream",
     "text": [
      "iNeuron\n"
     ]
    }
   ],
   "source": [
    "#2. What is the result of the code, and explain?\n",
    "\n",
    "X = 'iNeuron'\n",
    "\n",
    "def func():\n",
    "    X = 'NI!'\n",
    "\n",
    "func()\n",
    "print(X)"
   ]
  },
  {
   "cell_type": "code",
   "execution_count": 11,
   "id": "feb096b5-fa38-4ff6-af12-ecf20fbcc09f",
   "metadata": {},
   "outputs": [],
   "source": [
    "# the code would define a function named func that creates a local variable X and assigns it the value 'NI!'.After calling the function, the print(X) statement would print the value of the global variable X, which is 'iNeuron'."
   ]
  },
  {
   "cell_type": "code",
   "execution_count": 12,
   "id": "e024e634-b77c-4c18-86b0-d27703371e54",
   "metadata": {},
   "outputs": [
    {
     "name": "stdout",
     "output_type": "stream",
     "text": [
      "NI\n",
      "iNeuron\n"
     ]
    }
   ],
   "source": [
    "#3. What does this code print, and why?\n",
    "\n",
    "X = 'iNeuron'\n",
    "\n",
    "def func():\n",
    "    X = 'NI'\n",
    "    print(X)\n",
    "\n",
    "func()\n",
    "print(X)\n",
    "\n"
   ]
  },
  {
   "cell_type": "code",
   "execution_count": 13,
   "id": "b4240f66-2541-43bd-b128-e2bbdf1cb30a",
   "metadata": {},
   "outputs": [],
   "source": [
    "# the code would define a function named func that creates a local variable X, assigns it the value 'NI', and then prints its value. When the function is called using func(), it would print 'NI'. After calling the function, the print(X) statement would print the value of the global variable X, which is 'iNeuron'."
   ]
  },
  {
   "cell_type": "code",
   "execution_count": 14,
   "id": "d4a7fc97-b267-4ecc-b412-26695c9ae3f0",
   "metadata": {},
   "outputs": [
    {
     "name": "stdout",
     "output_type": "stream",
     "text": [
      "NI\n"
     ]
    }
   ],
   "source": [
    "#4. What output does this code produce? Why?\n",
    "\n",
    "\n",
    "X = 'iNeuron'\n",
    "def func():\n",
    "    global X\n",
    "    X = 'NI'\n",
    "\n",
    "func()\n",
    "print(X)\n"
   ]
  },
  {
   "cell_type": "code",
   "execution_count": 16,
   "id": "6f9ca86a-c1d2-4b49-8bc7-2fd2fb390feb",
   "metadata": {},
   "outputs": [],
   "source": [
    "# The output of this code is 'NI'. The reason is that the global keyword inside the 'func' function is used to refer to the global variable X defined outside the function. When the function is called, it changes the value of the global variable X to 'NI'. Therefore, when print(X) is called after calling the function, it prints the updated value of the global variable 'X', which is 'NI'"
   ]
  },
  {
   "cell_type": "code",
   "execution_count": 23,
   "id": "f5b3d2c0-69e8-4906-b9ed-71184d0284e9",
   "metadata": {},
   "outputs": [
    {
     "name": "stdout",
     "output_type": "stream",
     "text": [
      "iNeuron\n"
     ]
    },
    {
     "data": {
      "text/plain": [
       "'iNeuron'"
      ]
     },
     "execution_count": 23,
     "metadata": {},
     "output_type": "execute_result"
    }
   ],
   "source": [
    "#5. What about this code—what’s the output, and why?\n",
    "\n",
    "\n",
    "X = 'iNeuron'\n",
    "def func():\n",
    "    X = 'NI'\n",
    "def nested():\n",
    "    print(X)\n",
    "nested()\n",
    "func()\n",
    "X\n"
   ]
  },
  {
   "cell_type": "code",
   "execution_count": 27,
   "id": "3016cb60-1641-4a93-87aa-8466395c3a1e",
   "metadata": {},
   "outputs": [],
   "source": [
    "# The output is ineuron and 'ineuron'. One is from X variable and One when nested function is called."
   ]
  },
  {
   "cell_type": "code",
   "execution_count": 28,
   "id": "a6e50672-50be-4fc7-82ad-ea26abdfbe4f",
   "metadata": {},
   "outputs": [
    {
     "ename": "SyntaxError",
     "evalue": "no binding for nonlocal 'X' found (2380294335.py, line 7)",
     "output_type": "error",
     "traceback": [
      "\u001b[0;36m  Cell \u001b[0;32mIn [28], line 7\u001b[0;36m\u001b[0m\n\u001b[0;31m    nonlocal X\u001b[0m\n\u001b[0m    ^\u001b[0m\n\u001b[0;31mSyntaxError\u001b[0m\u001b[0;31m:\u001b[0m no binding for nonlocal 'X' found\n"
     ]
    }
   ],
   "source": [
    "#6. How about this code: what is its output in Python 3, and explain?\n",
    "\n",
    "\n",
    "def func():\n",
    "    X = 'NI'\n",
    "def nested():\n",
    "    nonlocal X\n",
    "    X = 'Spam'\n",
    "nested()\n",
    "print(X)\n",
    "\n",
    "\n",
    "func()\n"
   ]
  },
  {
   "cell_type": "code",
   "execution_count": 29,
   "id": "28cd012c-b2f0-4a53-bed8-be00943279ec",
   "metadata": {},
   "outputs": [],
   "source": [
    "# This code give SyntaxError as no variable X is define. X = 'NI' is define in func function not outside function."
   ]
  },
  {
   "cell_type": "code",
   "execution_count": null,
   "id": "23e418fc-03d8-441f-92d3-13e51a2b4b68",
   "metadata": {},
   "outputs": [],
   "source": []
  }
 ],
 "metadata": {
  "kernelspec": {
   "display_name": "Python 3 (ipykernel)",
   "language": "python",
   "name": "python3"
  },
  "language_info": {
   "codemirror_mode": {
    "name": "ipython",
    "version": 3
   },
   "file_extension": ".py",
   "mimetype": "text/x-python",
   "name": "python",
   "nbconvert_exporter": "python",
   "pygments_lexer": "ipython3",
   "version": "3.10.6"
  }
 },
 "nbformat": 4,
 "nbformat_minor": 5
}
