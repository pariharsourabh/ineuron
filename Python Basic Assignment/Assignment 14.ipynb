{
 "cells": [
  {
   "cell_type": "code",
   "execution_count": 1,
   "id": "eb690b0a-fffa-4534-90c4-9d2cbb585788",
   "metadata": {},
   "outputs": [],
   "source": [
    "#1. What does RGBA stand for?"
   ]
  },
  {
   "cell_type": "code",
   "execution_count": 2,
   "id": "b3f9fc4e-c176-4979-b2b7-9931a73acfcd",
   "metadata": {},
   "outputs": [],
   "source": [
    "#GBA is a four-channel format containing data for Red, Green, Blue, and an Alpha value. Where Alpha Represents the Opacity"
   ]
  },
  {
   "cell_type": "code",
   "execution_count": 3,
   "id": "7bd2b74d-061e-475c-be49-f3ed0a30b4b2",
   "metadata": {},
   "outputs": [],
   "source": [
    "#2. From the Pillow module, how do you get the RGBA value of any images?"
   ]
  },
  {
   "cell_type": "code",
   "execution_count": 4,
   "id": "f289ff13-d3fd-4592-8a06-98295547671e",
   "metadata": {},
   "outputs": [],
   "source": [
    "#To get the RGBA (Red, Green, Blue, Alpha) value of any image using the Pillow module, you first need to open the image using the Image.open() function. Once the image is open, you can get the RGBA value of any pixel by using the getpixel() method, which takes an (x, y) coordinate as its argument."
   ]
  },
  {
   "cell_type": "code",
   "execution_count": 5,
   "id": "279ad28d-24fc-4d79-8c2e-9125fe96bbf4",
   "metadata": {},
   "outputs": [],
   "source": [
    "#3. What is a box tuple, and how does it work?"
   ]
  },
  {
   "cell_type": "code",
   "execution_count": 6,
   "id": "ca5ad6ce-b74b-46d4-9088-36d148466bc4",
   "metadata": {},
   "outputs": [],
   "source": [
    "#A box tuple is a tuple value of four integers: the left-edge x-coordinate, the top-edge y-coordinate,the width, and the height, respectively."
   ]
  },
  {
   "cell_type": "code",
   "execution_count": 7,
   "id": "7e33e4e1-4393-4bf9-af2e-0d017f9307ca",
   "metadata": {},
   "outputs": [],
   "source": [
    "#4. Use your image and load in notebook then, How can you find out the width and height of an Image object?"
   ]
  },
  {
   "cell_type": "code",
   "execution_count": 8,
   "id": "c6597b00-fded-40b9-8d4d-e89fe5eac6f1",
   "metadata": {},
   "outputs": [
    {
     "name": "stdout",
     "output_type": "stream",
     "text": [
      "Width, Height -> (257, 196)\n"
     ]
    }
   ],
   "source": [
    "from PIL import Image\n",
    "pic = Image.open('images.png')\n",
    "print(f'Width, Height : {pic.size}')"
   ]
  },
  {
   "cell_type": "code",
   "execution_count": 9,
   "id": "4edbea35-3f00-44d0-9ab0-51561552c562",
   "metadata": {},
   "outputs": [],
   "source": [
    "#5. What method would you call to get Image object for a 100×100 image, excluding the lower-left quarter of it?"
   ]
  },
  {
   "cell_type": "code",
   "execution_count": 11,
   "id": "766b444f-2f91-4ff5-8b1d-80c91f92c3f7",
   "metadata": {},
   "outputs": [],
   "source": [
    "from PIL import Image\n",
    "img = Image.open('images.png')\n",
    "new_img = img.crop((0,50,50,50))"
   ]
  },
  {
   "cell_type": "code",
   "execution_count": 12,
   "id": "31bb5022-c29f-4570-be07-cd064510c12e",
   "metadata": {},
   "outputs": [],
   "source": [
    "#6. After making changes to an Image object, how could you save it as an image file?"
   ]
  },
  {
   "cell_type": "code",
   "execution_count": 13,
   "id": "cff57489-ed58-4775-b093-49cb8e8fb671",
   "metadata": {},
   "outputs": [],
   "source": [
    "from PIL import Image\n",
    "pic = Image.open('images.png')\n",
    "pic.save('images2.png')"
   ]
  },
  {
   "cell_type": "code",
   "execution_count": 14,
   "id": "fc4789ca-2d13-4d94-bf7b-0d5e6449f38f",
   "metadata": {},
   "outputs": [],
   "source": [
    "#7. What module contains Pillow’s shape-drawing code?"
   ]
  },
  {
   "cell_type": "code",
   "execution_count": 15,
   "id": "a408589a-05ff-4b14-9c40-514ed8dddda7",
   "metadata": {},
   "outputs": [],
   "source": [
    "#The module that contains Pillow's shape-drawing code is `ImageDraw`."
   ]
  },
  {
   "cell_type": "code",
   "execution_count": 16,
   "id": "c5231da8-109d-41af-bf48-ba7f6a447bbb",
   "metadata": {},
   "outputs": [],
   "source": [
    "#8. Image objects do not have drawing methods. What kind of object does? How do you get this kind of object?"
   ]
  },
  {
   "cell_type": "code",
   "execution_count": 17,
   "id": "0ab59344-9b98-4ef1-a3b5-befead1701b3",
   "metadata": {},
   "outputs": [],
   "source": [
    "#ImageDraw objects have shape-drawing methods such as point(), line(), or rectangle().They are returned by passing the Image object to the ImageDraw.Draw() function."
   ]
  },
  {
   "cell_type": "code",
   "execution_count": null,
   "id": "fe1e708f-1413-4cad-a389-80832f376a2c",
   "metadata": {},
   "outputs": [],
   "source": []
  }
 ],
 "metadata": {
  "kernelspec": {
   "display_name": "Python 3 (ipykernel)",
   "language": "python",
   "name": "python3"
  },
  "language_info": {
   "codemirror_mode": {
    "name": "ipython",
    "version": 3
   },
   "file_extension": ".py",
   "mimetype": "text/x-python",
   "name": "python",
   "nbconvert_exporter": "python",
   "pygments_lexer": "ipython3",
   "version": "3.10.6"
  }
 },
 "nbformat": 4,
 "nbformat_minor": 5
}
