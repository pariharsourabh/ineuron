{
 "cells": [
  {
   "cell_type": "code",
   "execution_count": 12,
   "id": "0662c567-0a63-4277-aee8-fd28aa5a9318",
   "metadata": {},
   "outputs": [],
   "source": [
    "# 💡 **Question 1**\n",
    "# Given an integer array nums of 2n integers, group these integers into n pairs (a1, b1), (a2, b2),..., (an, bn) such that the sum of min(ai, bi) for all i is maximized. Return the maximized sum.\n",
    "\n",
    "# **Example 1:**\n",
    "# Input: nums = [1,4,3,2]\n",
    "# Output: 4\n",
    "\n",
    "# **Explanation:** All possible pairings (ignoring the ordering of elements) are:\n",
    "\n",
    "# 1. (1, 4), (2, 3) -> min(1, 4) + min(2, 3) = 1 + 2 = 3\n",
    "# 2. (1, 3), (2, 4) -> min(1, 3) + min(2, 4) = 1 + 2 = 3\n",
    "# 3. (1, 2), (3, 4) -> min(1, 2) + min(3, 4) = 1 + 3 = 4\n",
    "# So the maximum possible sum is 4"
   ]
  },
  {
   "cell_type": "code",
   "execution_count": 13,
   "id": "961838dc-9e86-418a-ad1c-7d0f2ab11b72",
   "metadata": {},
   "outputs": [],
   "source": [
    "def array_pair_sum(nums):\n",
    "    nums.sort()\n",
    "    return sum(nums[::2])"
   ]
  },
  {
   "cell_type": "code",
   "execution_count": 14,
   "id": "200b8fd2-823f-4544-bc65-11aa427589f6",
   "metadata": {},
   "outputs": [
    {
     "data": {
      "text/plain": [
       "4"
      ]
     },
     "execution_count": 14,
     "metadata": {},
     "output_type": "execute_result"
    }
   ],
   "source": [
    "array_pair_sum([1,4,3,2])"
   ]
  },
  {
   "cell_type": "code",
   "execution_count": 15,
   "id": "afc540f7-744a-48cb-9496-4d7041c452e4",
   "metadata": {},
   "outputs": [],
   "source": [
    "# Question 2\n",
    "# Alice has n candies, where the ith candy is of type candyType[i]. Alice noticed that she started to gain weight, so she visited a doctor. \n",
    "\n",
    "# The doctor advised Alice to only eat n / 2 of the candies she has (n is always even). Alice likes her candies very much, and she wants to eat the maximum number of different types of candies while still following the doctor's advice. \n",
    "\n",
    "# Given the integer array candyType of length n, return the maximum number of different types of candies she can eat if she only eats n / 2 of them.\n",
    "\n",
    "# Example 1:\n",
    "# Input: candyType = [1,1,2,2,3,3]\n",
    "# Output: 3\n",
    "\n",
    "# Explanation: Alice can only eat 6 / 2 = 3 candies. Since there are only 3 types, she can eat one of each type."
   ]
  },
  {
   "cell_type": "code",
   "execution_count": 16,
   "id": "7a781fde-68d5-46ec-8022-1aaca7c18085",
   "metadata": {},
   "outputs": [],
   "source": [
    "def max_candies(candyType):\n",
    "    unique_candies = set(candyType)\n",
    "    max_candies_to_eat = len(candyType) // 2\n",
    "    return min(len(unique_candies), max_candies_to_eat)"
   ]
  },
  {
   "cell_type": "code",
   "execution_count": 17,
   "id": "8221aab9-c7fb-423e-9cad-cc1722fecf6c",
   "metadata": {},
   "outputs": [
    {
     "data": {
      "text/plain": [
       "3"
      ]
     },
     "execution_count": 17,
     "metadata": {},
     "output_type": "execute_result"
    }
   ],
   "source": [
    "max_candies([1,1,2,2,3,3])"
   ]
  },
  {
   "cell_type": "code",
   "execution_count": 18,
   "id": "defc3e7d-dc19-4f49-8828-b3890bc50204",
   "metadata": {},
   "outputs": [],
   "source": [
    "# Question 3\n",
    "# We define a harmonious array as an array where the difference between its maximum value\n",
    "# and its minimum value is exactly 1.\n",
    "\n",
    "# Given an integer array nums, return the length of its longest harmonious subsequence\n",
    "# among all its possible subsequences.\n",
    "\n",
    "# A subsequence of an array is a sequence that can be derived from the array by deleting some or no elements without changing the order of the remaining elements.\n",
    "\n",
    "# Example 1:\n",
    "# Input: nums = [1,3,2,2,5,2,3,7]\n",
    "# Output: 5\n",
    "\n",
    "# Explanation: The longest harmonious subsequence is [3,2,2,2,3]."
   ]
  },
  {
   "cell_type": "code",
   "execution_count": 19,
   "id": "0dba18c0-71e2-4cca-b6f5-2fa8b0b1b5ea",
   "metadata": {},
   "outputs": [],
   "source": [
    "def findLHS(nums):\n",
    "    num_counts = {}\n",
    "    max_length = 0\n",
    "    for num in nums:\n",
    "        num_counts[num] = num_counts.get(num, 0) + 1\n",
    "    for num in num_counts:\n",
    "        if num + 1 in num_counts:\n",
    "            length = num_counts[num] + num_counts[num + 1]\n",
    "            max_length = max(max_length, length)\n",
    "    return max_length"
   ]
  },
  {
   "cell_type": "code",
   "execution_count": 20,
   "id": "939dcd73-1308-4a9b-91e6-8e9afa70c7ba",
   "metadata": {},
   "outputs": [
    {
     "data": {
      "text/plain": [
       "5"
      ]
     },
     "execution_count": 20,
     "metadata": {},
     "output_type": "execute_result"
    }
   ],
   "source": [
    "findLHS([1,3,2,2,5,2,3,7])"
   ]
  },
  {
   "cell_type": "code",
   "execution_count": 21,
   "id": "279fe735-13b0-46be-a0dd-362f317603f8",
   "metadata": {},
   "outputs": [],
   "source": [
    "# Question 4\n",
    "# You have a long flowerbed in which some of the plots are planted, and some are not.\n",
    "# However, flowers cannot be planted in adjacent plots.\n",
    "# Given an integer array flowerbed containing 0's and 1's, where 0 means empty and 1 means not empty, and an integer n, return true if n new flowers can be planted in the flowerbed without violating the no-adjacent-flowers rule and false otherwise.\n",
    "\n",
    "# Example 1:\n",
    "# Input: flowerbed = [1,0,0,0,1], n = 1\n",
    "# Output: true"
   ]
  },
  {
   "cell_type": "code",
   "execution_count": 22,
   "id": "79731090-80f4-4078-8af3-d0545d86f4a8",
   "metadata": {},
   "outputs": [],
   "source": [
    "def canPlaceFlowers(flowerbed, n):\n",
    "    empty_plots = 0\n",
    "    for i in range(len(flowerbed)):\n",
    "        if flowerbed[i] == 0:\n",
    "            empty_plots += 1\n",
    "    return empty_plots >= n"
   ]
  },
  {
   "cell_type": "code",
   "execution_count": 27,
   "id": "3e718de8-f4fe-494a-9e85-0c9948f85ae2",
   "metadata": {},
   "outputs": [
    {
     "data": {
      "text/plain": [
       "True"
      ]
     },
     "execution_count": 27,
     "metadata": {},
     "output_type": "execute_result"
    }
   ],
   "source": [
    "canPlaceFlowers([1,0,0,0,1], 1)"
   ]
  },
  {
   "cell_type": "code",
   "execution_count": 28,
   "id": "f383059f-3291-48fd-b9a2-f3b9d471cfc8",
   "metadata": {},
   "outputs": [],
   "source": [
    "# Question 5\n",
    "# Given an integer array nums, find three numbers whose product is maximum and return the maximum product.\n",
    "\n",
    "# Example 1:\n",
    "# Input: nums = [1,2,3]\n",
    "# Output: 6"
   ]
  },
  {
   "cell_type": "code",
   "execution_count": 30,
   "id": "80e3cd34-f91f-471b-a1c2-61ba740082b9",
   "metadata": {},
   "outputs": [],
   "source": [
    "def max_product(nums):\n",
    "    nums.sort()\n",
    "    return max(nums[-1] * nums[-2] * nums[-3], nums[0] * nums[1] * nums[-1])"
   ]
  },
  {
   "cell_type": "code",
   "execution_count": 32,
   "id": "8d6ae32d-bd09-4131-95c4-3db2aea085a5",
   "metadata": {},
   "outputs": [
    {
     "data": {
      "text/plain": [
       "6"
      ]
     },
     "execution_count": 32,
     "metadata": {},
     "output_type": "execute_result"
    }
   ],
   "source": [
    "max_product([1,2,3])"
   ]
  },
  {
   "cell_type": "code",
   "execution_count": 33,
   "id": "762e6d95-120a-4f85-9506-4fb8318cf73f",
   "metadata": {},
   "outputs": [],
   "source": [
    "# Question 6\n",
    "# Given an array of integers nums which is sorted in ascending order, and an integer target,\n",
    "# write a function to search target in nums. If target exists, then return its index. Otherwise,\n",
    "# return -1.\n",
    "\n",
    "# You must write an algorithm with O(log n) runtime complexity.\n",
    "\n",
    "# Input: nums = [-1,0,3,5,9,12], target = 9\n",
    "# Output: 4\n",
    "\n",
    "# Explanation: 9 exists in nums and its index is 4"
   ]
  },
  {
   "cell_type": "code",
   "execution_count": 34,
   "id": "b3434d26-7da9-4d23-92c8-b116a76dde0b",
   "metadata": {},
   "outputs": [],
   "source": [
    "def search(nums, target):\n",
    "    low = 0\n",
    "    high = len(nums) - 1\n",
    "    while low <= high:\n",
    "        mid = (low + high) // 2\n",
    "        if nums[mid] == target:\n",
    "            return mid\n",
    "        elif nums[mid] < target:\n",
    "            low = mid + 1\n",
    "        else:\n",
    "            high = mid - 1\n",
    "    return -1"
   ]
  },
  {
   "cell_type": "code",
   "execution_count": 36,
   "id": "90ebb2d9-f5ab-4c46-86cb-aa8451053fc5",
   "metadata": {},
   "outputs": [
    {
     "data": {
      "text/plain": [
       "4"
      ]
     },
     "execution_count": 36,
     "metadata": {},
     "output_type": "execute_result"
    }
   ],
   "source": [
    "search([-1,0,3,5,9,12], 9)"
   ]
  },
  {
   "cell_type": "code",
   "execution_count": 37,
   "id": "f5941266-9c56-44ec-a83e-87f4e211b734",
   "metadata": {},
   "outputs": [],
   "source": [
    "# Question 7\n",
    "# An array is monotonic if it is either monotone increasing or monotone decreasing.\n",
    "\n",
    "# An array nums is monotone increasing if for all i <= j, nums[i] <= nums[j]. An array nums is\n",
    "# monotone decreasing if for all i <= j, nums[i] >= nums[j].\n",
    "\n",
    "# Given an integer array nums, return true if the given array is monotonic, or false otherwise.\n",
    "\n",
    "# Example 1:\n",
    "# Input: nums = [1,2,2,3]\n",
    "# Output: true"
   ]
  },
  {
   "cell_type": "code",
   "execution_count": 38,
   "id": "a033595f-df36-4702-932f-ba28ddaddfb1",
   "metadata": {},
   "outputs": [],
   "source": [
    "def isMonotonic(nums):\n",
    "    return (all(nums[i] <= nums[i + 1] for i in range(len(nums) - 1)) or\n",
    "            all(nums[i] >= nums[i + 1] for i in range(len(nums) - 1)))"
   ]
  },
  {
   "cell_type": "code",
   "execution_count": 39,
   "id": "03fd1c88-d899-4195-afbe-cb62950f0ab9",
   "metadata": {},
   "outputs": [
    {
     "data": {
      "text/plain": [
       "True"
      ]
     },
     "execution_count": 39,
     "metadata": {},
     "output_type": "execute_result"
    }
   ],
   "source": [
    "isMonotonic([1,2,2,3])"
   ]
  },
  {
   "cell_type": "code",
   "execution_count": 40,
   "id": "548b526c-1cb0-4992-9f29-efa7b8d9fdc0",
   "metadata": {},
   "outputs": [],
   "source": [
    "# Question 8\n",
    "# You are given an integer array nums and an integer k.\n",
    "\n",
    "# In one operation, you can choose any index i where 0 <= i < nums.length and change nums[i] to nums[i] + x where x is an integer from the range [-k, k]. You can apply this operation at most once for each index i.\n",
    "\n",
    "# The score of nums is the difference between the maximum and minimum elements in nums.\n",
    "\n",
    "# Return the minimum score of nums after applying the mentioned operation at most once for each index in it.\n",
    "\n",
    "# Example 1:\n",
    "# Input: nums = [1], k = 0\n",
    "# Output: 0\n",
    "\n",
    "# Explanation: The score is max(nums) - min(nums) = 1 - 1 = 0."
   ]
  },
  {
   "cell_type": "code",
   "execution_count": 41,
   "id": "ba9377cb-a291-424e-90ea-2485a840bed8",
   "metadata": {},
   "outputs": [],
   "source": [
    "def minimumScore(nums, k):\n",
    "    min_value = min(nums)\n",
    "    max_value = max(nums)\n",
    "\n",
    "    if max_value - min_value <= 2 * k:\n",
    "        return 0\n",
    "    else:\n",
    "        return max_value - min_value - 2 * k"
   ]
  },
  {
   "cell_type": "code",
   "execution_count": 42,
   "id": "bb4a78e5-f92b-465a-a11c-89ccc3790fc4",
   "metadata": {},
   "outputs": [
    {
     "data": {
      "text/plain": [
       "0"
      ]
     },
     "execution_count": 42,
     "metadata": {},
     "output_type": "execute_result"
    }
   ],
   "source": [
    "minimumScore([1],0)"
   ]
  },
  {
   "cell_type": "code",
   "execution_count": null,
   "id": "db9d4749-ab7f-4803-8309-7e528903bbb6",
   "metadata": {},
   "outputs": [],
   "source": []
  }
 ],
 "metadata": {
  "kernelspec": {
   "display_name": "Python 3 (ipykernel)",
   "language": "python",
   "name": "python3"
  },
  "language_info": {
   "codemirror_mode": {
    "name": "ipython",
    "version": 3
   },
   "file_extension": ".py",
   "mimetype": "text/x-python",
   "name": "python",
   "nbconvert_exporter": "python",
   "pygments_lexer": "ipython3",
   "version": "3.10.6"
  }
 },
 "nbformat": 4,
 "nbformat_minor": 5
}
