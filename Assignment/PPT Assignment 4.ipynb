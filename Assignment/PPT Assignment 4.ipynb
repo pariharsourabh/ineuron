{
 "cells": [
  {
   "cell_type": "code",
   "execution_count": 1,
   "id": "fe394693-872f-48a1-b6d9-a503f53cc63a",
   "metadata": {},
   "outputs": [],
   "source": [
    "# 💡 **Question 1**\n",
    "# Given three integer arrays arr1, arr2 and arr3 **sorted** in **strictly increasing** order, return a sorted array of **only** the integers that appeared in **all** three arrays.\n",
    "\n",
    "# **Example 1:**\n",
    "\n",
    "# Input: arr1 = [1,2,3,4,5], arr2 = [1,2,5,7,9], arr3 = [1,3,4,5,8]\n",
    "\n",
    "# Output: [1,5]\n",
    "\n",
    "# **Explanation:** Only 1 and 5 appeared in the three arrays.\n"
   ]
  },
  {
   "cell_type": "code",
   "execution_count": 2,
   "id": "6c78edd7-05b3-4162-b75a-6138acbb9871",
   "metadata": {},
   "outputs": [],
   "source": [
    "def arraysIntersection(arr1, arr2, arr3):\n",
    "    i, j, k = 0, 0, 0\n",
    "    result = []\n",
    "    while i < len(arr1) and j < len(arr2) and k < len(arr3):\n",
    "        if arr1[i] == arr2[j] == arr3[k]:\n",
    "            result.append(arr1[i])\n",
    "            i += 1\n",
    "            j += 1\n",
    "            k += 1\n",
    "        elif arr1[i] < arr2[j]:\n",
    "            i += 1\n",
    "        elif arr2[j] < arr3[k]:\n",
    "            j += 1\n",
    "        else:\n",
    "            k += 1\n",
    "    return result"
   ]
  },
  {
   "cell_type": "code",
   "execution_count": 3,
   "id": "b0f30f11-cf18-4403-879f-b2faf677aea6",
   "metadata": {},
   "outputs": [
    {
     "data": {
      "text/plain": [
       "[1, 5]"
      ]
     },
     "execution_count": 3,
     "metadata": {},
     "output_type": "execute_result"
    }
   ],
   "source": [
    "arraysIntersection([1,2,3,4,5],[1,2,5,7,9],[1,3,4,5,8])"
   ]
  },
  {
   "cell_type": "code",
   "execution_count": 4,
   "id": "273849aa-9e86-4c97-8e53-988bfb3a08a3",
   "metadata": {},
   "outputs": [],
   "source": [
    "# 💡 **Question 2**\n",
    "\n",
    "# Given two **0-indexed** integer arrays nums1 and nums2, return *a list* answer *of size* 2 *where:*\n",
    "\n",
    "# - answer[0] *is a list of all **distinct** integers in* nums1 *which are **not** present in* nums2*.*\n",
    "# - answer[1] *is a list of all **distinct** integers in* nums2 *which are **not** present in* nums1.\n",
    "\n",
    "# **Note** that the integers in the lists may be returned in **any** order.\n",
    "\n",
    "# **Example 1:**\n",
    "\n",
    "# **Input:** nums1 = [1,2,3], nums2 = [2,4,6]\n",
    "\n",
    "# **Output:** [[1,3],[4,6]]\n",
    "\n",
    "# **Explanation:**\n",
    "\n",
    "# For nums1, nums1[1] = 2 is present at index 0 of nums2, whereas nums1[0] = 1 and nums1[2] = 3 are not present in nums2. Therefore, answer[0] = [1,3].\n",
    "\n",
    "# For nums2, nums2[0] = 2 is present at index 1 of nums1, whereas nums2[1] = 4 and nums2[2] = 6 are not present in nums2. Therefore, answer[1] = [4,6]."
   ]
  },
  {
   "cell_type": "code",
   "execution_count": 5,
   "id": "6f8bae36-c9b3-40f4-8cfc-2013a415ab56",
   "metadata": {},
   "outputs": [],
   "source": [
    "def findDisappearedNumbers(nums1, nums2):\n",
    "    set1 = set(nums1)\n",
    "    set2 = set(nums2)\n",
    "    dist_nums1 = list(set1 - set2)\n",
    "    dist_nums2 = list(set2 - set1)\n",
    "    return [dist_nums1, dist_nums2]"
   ]
  },
  {
   "cell_type": "code",
   "execution_count": 6,
   "id": "a520ac17-4355-41cf-ab6a-13f3f13a1da2",
   "metadata": {},
   "outputs": [
    {
     "data": {
      "text/plain": [
       "[[1, 3], [4, 6]]"
      ]
     },
     "execution_count": 6,
     "metadata": {},
     "output_type": "execute_result"
    }
   ],
   "source": [
    "findDisappearedNumbers([1,2,3],[2,4,6])"
   ]
  },
  {
   "cell_type": "code",
   "execution_count": 7,
   "id": "204485ea-92ff-4f7c-9fd3-e148bc22b221",
   "metadata": {},
   "outputs": [],
   "source": [
    "# 💡 **Question 3**\n",
    "# Given a 2D integer array matrix, return *the **transpose** of* matrix.\n",
    "\n",
    "# The **transpose** of a matrix is the matrix flipped over its main diagonal, switching the matrix's row and column indices.\n",
    "\n",
    "# **Example 1:**\n",
    "\n",
    "# Input: matrix = [[1,2,3],[4,5,6],[7,8,9]]\n",
    "\n",
    "# Output: [[1,4,7],[2,5,8],[3,6,9]]\n"
   ]
  },
  {
   "cell_type": "code",
   "execution_count": 10,
   "id": "d35a4d76-d5c1-41de-8ed0-fc0bb40ce8a6",
   "metadata": {},
   "outputs": [],
   "source": [
    "def transpose(matrix):\n",
    "    rows = len(matrix)\n",
    "    cols = len(matrix[0])\n",
    "\n",
    "    transposed = [[0 for _ in range(rows)] for _ in range(cols)]\n",
    "\n",
    "    for i in range(rows):\n",
    "        for j in range(cols):\n",
    "            transposed[j][i] = matrix[i][j]\n",
    "\n",
    "    return transposed"
   ]
  },
  {
   "cell_type": "code",
   "execution_count": 11,
   "id": "5a0a2405-4d06-4121-815e-8b40e72af2c7",
   "metadata": {},
   "outputs": [
    {
     "data": {
      "text/plain": [
       "[[1, 4, 7], [2, 5, 8], [3, 6, 9]]"
      ]
     },
     "execution_count": 11,
     "metadata": {},
     "output_type": "execute_result"
    }
   ],
   "source": [
    "transpose([[1, 2, 3], [4, 5, 6], [7, 8, 9]])"
   ]
  },
  {
   "cell_type": "code",
   "execution_count": 12,
   "id": "18c25c74-4821-46fd-b723-ae06534f384e",
   "metadata": {},
   "outputs": [],
   "source": [
    "# 💡 **Question 4**\n",
    "# Given an integer array nums of 2n integers, group these integers into n pairs (a1, b1), (a2, b2), ..., (an, bn) such that the sum of min(ai, bi) for all i is **maximized**. Return *the maximized sum*.\n",
    "\n",
    "# **Example 1:**\n",
    "\n",
    "# Input: nums = [1,4,3,2]\n",
    "\n",
    "# Output: 4\n",
    "\n",
    "# **Explanation:** All possible pairings (ignoring the ordering of elements) are:\n",
    "\n",
    "# 1. (1, 4), (2, 3) -> min(1, 4) + min(2, 3) = 1 + 2 = 3\n",
    "\n",
    "# 2. (1, 3), (2, 4) -> min(1, 3) + min(2, 4) = 1 + 2 = 3\n",
    "\n",
    "# 3. (1, 2), (3, 4) -> min(1, 2) + min(3, 4) = 1 + 3 = 4\n",
    "\n",
    "# So the maximum possible sum is 4."
   ]
  },
  {
   "cell_type": "code",
   "execution_count": 13,
   "id": "d4dacbeb-a5f4-4b93-9e8a-fec0f509497f",
   "metadata": {},
   "outputs": [],
   "source": [
    "def arrayPairSum(nums):\n",
    "    nums.sort()\n",
    "    max_sum = 0\n",
    "    for i in range(0, len(nums), 2):\n",
    "        max_sum += nums[i]\n",
    "    return max_sum"
   ]
  },
  {
   "cell_type": "code",
   "execution_count": 14,
   "id": "7689a673-fc99-49fe-a1cc-6bdaddb44e8b",
   "metadata": {},
   "outputs": [
    {
     "data": {
      "text/plain": [
       "4"
      ]
     },
     "execution_count": 14,
     "metadata": {},
     "output_type": "execute_result"
    }
   ],
   "source": [
    "arrayPairSum([1,4,3,2])"
   ]
  },
  {
   "cell_type": "code",
   "execution_count": 18,
   "id": "54ecfa5d-8049-415a-9592-601d2ad957bf",
   "metadata": {},
   "outputs": [],
   "source": [
    "#💡 **Question 5**\n",
    "#You have n coins and you want to build a staircase with these coins. The staircase consists of k rows where the ith row has exactly i coins. The last row of the staircase **may be** incomplete.\n",
    "\n",
    "#Given the integer n, return *the number of **complete rows** of the staircase you will build*.\n",
    "\n",
    "#**Example 1:**\n",
    "\n",
    "#[]()\n",
    "\n",
    "#![v2.jpg](https://s3-us-west-2.amazonaws.com/secure.notion-static.com/4bd91cfa-d2b1-47b3-8197-a72e8dcfff4b/v2.jpg)\n",
    "\n",
    "#**Input:** n = 5\n",
    "\n",
    "#**Output:** 2\n",
    "\n",
    "#**Explanation:** Because the 3rd row is incomplete, we return 2."
   ]
  },
  {
   "cell_type": "code",
   "execution_count": 19,
   "id": "050f8f95-8081-4432-95f9-c442924904f8",
   "metadata": {},
   "outputs": [],
   "source": [
    "def staircase(n):\n",
    "    num_complete_rows = 0\n",
    "    for row_idx in range(1, n + 1):\n",
    "        if row_idx <= n:\n",
    "            num_complete_rows += 1\n",
    "            n -= row_idx\n",
    "    return num_complete_rows"
   ]
  },
  {
   "cell_type": "code",
   "execution_count": 20,
   "id": "1c0fc897-4c91-4b99-8c4d-10c6241e6b9e",
   "metadata": {},
   "outputs": [
    {
     "data": {
      "text/plain": [
       "2"
      ]
     },
     "execution_count": 20,
     "metadata": {},
     "output_type": "execute_result"
    }
   ],
   "source": [
    "staircase(5)"
   ]
  },
  {
   "cell_type": "code",
   "execution_count": 21,
   "id": "7e983d56-2c13-4e46-8f04-22dad82f18ef",
   "metadata": {},
   "outputs": [],
   "source": [
    "# 💡 **Question 6**\n",
    "# Given an integer array nums sorted in **non-decreasing** order, return *an array of **the squares of each number** sorted in non-decreasing order*.\n",
    "\n",
    "# **Example 1:**\n",
    "\n",
    "# Input: nums = [-4,-1,0,3,10]\n",
    "\n",
    "# Output: [0,1,9,16,100]\n",
    "\n",
    "# **Explanation:** After squaring, the array becomes [16,1,0,9,100].\n",
    "# After sorting, it becomes [0,1,9,16,100]\n"
   ]
  },
  {
   "cell_type": "code",
   "execution_count": 23,
   "id": "5ebeb23a-dad6-4a33-85e8-1754592b31f8",
   "metadata": {},
   "outputs": [],
   "source": [
    "def sortedSquares(nums):\n",
    "    squares = []\n",
    "    for num in nums:\n",
    "        squares.append(num ** 2)\n",
    "    squares.sort()\n",
    "    return squares"
   ]
  },
  {
   "cell_type": "code",
   "execution_count": 24,
   "id": "e28c4240-835c-433c-a28a-b1bea8aca8a2",
   "metadata": {},
   "outputs": [
    {
     "data": {
      "text/plain": [
       "[0, 1, 9, 16, 100]"
      ]
     },
     "execution_count": 24,
     "metadata": {},
     "output_type": "execute_result"
    }
   ],
   "source": [
    "sortedSquares([-4,-1,0,3,10])"
   ]
  },
  {
   "cell_type": "code",
   "execution_count": 25,
   "id": "adacd2bd-285c-46b8-8c56-0d9a69cad2e2",
   "metadata": {},
   "outputs": [],
   "source": [
    "# 💡 **Question 7**\n",
    "# You are given an m x n matrix M initialized with all 0's and an array of operations ops, where ops[i] = [ai, bi] means M[x][y] should be incremented by one for all 0 <= x < ai and 0 <= y < bi.\n",
    "\n",
    "# Count and return *the number of maximum integers in the matrix after performing all the operations*\n",
    "\n",
    "# **Example 1:**\n",
    "\n",
    "# ![q4.jpg](https://s3-us-west-2.amazonaws.com/secure.notion-static.com/4d0890d0-7bc7-4f59-be8e-352d9f3c1c52/q4.jpg)\n",
    "\n",
    "# **Input:** m = 3, n = 3, ops = [[2,2],[3,3]]\n",
    "\n",
    "# **Output:** 4\n",
    "\n",
    "# **Explanation:** The maximum integer in M is 2, and there are four of it in M. So return 4."
   ]
  },
  {
   "cell_type": "code",
   "execution_count": 26,
   "id": "342c53c1-0851-4c99-a293-e140521e35d0",
   "metadata": {},
   "outputs": [],
   "source": [
    "def maxCount(m, n, ops):\n",
    "    min_ai = m\n",
    "    min_bi = n\n",
    "\n",
    "    for op in ops:\n",
    "        min_ai = min(min_ai, op[0])\n",
    "        min_bi = min(min_bi, op[1])\n",
    "\n",
    "    return min_ai * min_bi"
   ]
  },
  {
   "cell_type": "code",
   "execution_count": 27,
   "id": "f8e9f8f6-8fd4-4ac4-aab2-4523eb025a00",
   "metadata": {},
   "outputs": [
    {
     "data": {
      "text/plain": [
       "4"
      ]
     },
     "execution_count": 27,
     "metadata": {},
     "output_type": "execute_result"
    }
   ],
   "source": [
    "maxCount(3,3,[[2,2],[3,3]])"
   ]
  },
  {
   "cell_type": "code",
   "execution_count": 28,
   "id": "3877b61e-2431-463d-bc9c-982d4165b8d3",
   "metadata": {},
   "outputs": [],
   "source": [
    "# 💡 **Question 8**\n",
    "\n",
    "# Given the array nums consisting of 2n elements in the form [x1,x2,...,xn,y1,y2,...,yn].\n",
    "\n",
    "# *Return the array in the form* [x1,y1,x2,y2,...,xn,yn].\n",
    "\n",
    "# **Example 1:**\n",
    "\n",
    "# **Input:** nums = [2,5,1,3,4,7], n = 3\n",
    "\n",
    "# **Output:** [2,3,5,4,1,7]\n",
    "\n",
    "# **Explanation:** Since x1=2, x2=5, x3=1, y1=3, y2=4, y3=7 then the answer is [2,3,5,4,1,7]."
   ]
  },
  {
   "cell_type": "code",
   "execution_count": 29,
   "id": "754d2861-50a8-48f3-a817-7dfb1442b22a",
   "metadata": {},
   "outputs": [],
   "source": [
    "def shuffle(nums, n):\n",
    "    result = []\n",
    "    i, j = 0, n\n",
    "\n",
    "    while i < n:\n",
    "        result.append(nums[i])\n",
    "        result.append(nums[j])\n",
    "        i += 1\n",
    "        j += 1\n",
    "\n",
    "    return result"
   ]
  },
  {
   "cell_type": "code",
   "execution_count": 30,
   "id": "6137596a-5932-4c10-aa75-1256c7937f23",
   "metadata": {},
   "outputs": [
    {
     "data": {
      "text/plain": [
       "[2, 3, 5, 4, 1, 7]"
      ]
     },
     "execution_count": 30,
     "metadata": {},
     "output_type": "execute_result"
    }
   ],
   "source": [
    "shuffle([2,5,1,3,4,7], 3)"
   ]
  },
  {
   "cell_type": "code",
   "execution_count": null,
   "id": "d9a5ed38-86d1-42d1-901b-3a3eeb6693ad",
   "metadata": {},
   "outputs": [],
   "source": []
  }
 ],
 "metadata": {
  "kernelspec": {
   "display_name": "Python 3 (ipykernel)",
   "language": "python",
   "name": "python3"
  },
  "language_info": {
   "codemirror_mode": {
    "name": "ipython",
    "version": 3
   },
   "file_extension": ".py",
   "mimetype": "text/x-python",
   "name": "python",
   "nbconvert_exporter": "python",
   "pygments_lexer": "ipython3",
   "version": "3.10.6"
  }
 },
 "nbformat": 4,
 "nbformat_minor": 5
}
