{
 "cells": [
  {
   "cell_type": "code",
   "execution_count": 1,
   "id": "d184b27d-0949-41c0-9fd0-f003d7dd45bf",
   "metadata": {},
   "outputs": [],
   "source": [
    "# Question 1\n",
    "# Given an integer array nums of length n and an integer target, find three integers\n",
    "# in nums such that the sum is closest to the target.\n",
    "# Return the sum of the three integers.\n",
    "\n",
    "# You may assume that each input would have exactly one solution.\n",
    "\n",
    "# Example 1:\n",
    "# Input: nums = [-1,2,1,-4], target = 1\n",
    "# Output: 2\n",
    "\n",
    "# Explanation: The sum that is closest to the target is 2. (-1 + 2 + 1 = 2)."
   ]
  },
  {
   "cell_type": "code",
   "execution_count": 2,
   "id": "c994c300-e1f2-4605-8520-9a094a62c336",
   "metadata": {},
   "outputs": [],
   "source": [
    "def three_sum_closest(nums, target):\n",
    "    nums.sort()\n",
    "    closest = float('inf')\n",
    "    for i in range(len(nums)-2):\n",
    "        left, right = i + 1, len(nums) - 1\n",
    "        while left < right:\n",
    "            current_sum = nums[i] + nums[left] + nums[right]\n",
    "            if current_sum == target:\n",
    "                return current_sum\n",
    "            if abs(current_sum - target) < abs(closest - target):\n",
    "                closest = current_sum\n",
    "            if current_sum < target:\n",
    "                left += 1\n",
    "            else:\n",
    "                right -= 1\n",
    "    return closest"
   ]
  },
  {
   "cell_type": "code",
   "execution_count": 3,
   "id": "0db93bbe-1a1d-4be1-984b-b57ae87fd694",
   "metadata": {},
   "outputs": [
    {
     "data": {
      "text/plain": [
       "2"
      ]
     },
     "execution_count": 3,
     "metadata": {},
     "output_type": "execute_result"
    }
   ],
   "source": [
    "three_sum_closest([-1,2,1,-4],1)"
   ]
  },
  {
   "cell_type": "code",
   "execution_count": 5,
   "id": "a8a10cc8-6fad-411d-97b5-0e7988a0d3de",
   "metadata": {},
   "outputs": [],
   "source": [
    "# Question 2\n",
    "# Given an array nums of n integers, return an array of all the unique quadruplets\n",
    "# [nums[a], nums[b], nums[c], nums[d]] such that:\n",
    "#            ● 0 <= a, b, c, d < n\n",
    "#            ● a, b, c, and d are distinct.\n",
    "#            ● nums[a] + nums[b] + nums[c] + nums[d] == target\n",
    "\n",
    "# You may return the answer in any order.\n",
    "\n",
    "# Example 1:\n",
    "# Input: nums = [1,0,-1,0,-2,2], target = 0\n",
    "# Output: [[-2,-1,1,2],[-2,0,0,2],[-1,0,0,1]]"
   ]
  },
  {
   "cell_type": "code",
   "execution_count": 6,
   "id": "6fbc9528-3ebe-4aa4-80eb-42d78d4a783b",
   "metadata": {},
   "outputs": [],
   "source": [
    "def four_sum(nums, target):\n",
    "    nums.sort()\n",
    "    quadruplets = []\n",
    "    for i in range(len(nums) - 3):\n",
    "        for j in range(i + 1, len(nums) - 2):\n",
    "            for k in range(j + 1, len(nums) - 1):\n",
    "                for l in range(k + 1, len(nums)):\n",
    "                    if nums[i] + nums[j] + nums[k] + nums[l] == target:\n",
    "                        quadruplets.append([nums[i], nums[j], nums[k], nums[l]])\n",
    "    return quadruplets"
   ]
  },
  {
   "cell_type": "code",
   "execution_count": 7,
   "id": "43eb9f70-3fd0-48aa-8bce-3ce9bf5ca17d",
   "metadata": {},
   "outputs": [
    {
     "data": {
      "text/plain": [
       "[[-2, -1, 1, 2], [-2, 0, 0, 2], [-1, 0, 0, 1]]"
      ]
     },
     "execution_count": 7,
     "metadata": {},
     "output_type": "execute_result"
    }
   ],
   "source": [
    "four_sum([1,0,-1,0,-2,2],0)"
   ]
  },
  {
   "cell_type": "code",
   "execution_count": 8,
   "id": "b949ab20-256f-4f2c-ab97-fc86d77f2d8f",
   "metadata": {},
   "outputs": [],
   "source": [
    "# 💡 **Question 3**\n",
    "# A permutation of an array of integers is an arrangement of its members into a\n",
    "# sequence or linear order.\n",
    "\n",
    "# For example, for arr = [1,2,3], the following are all the permutations of arr:\n",
    "# [1,2,3], [1,3,2], [2, 1, 3], [2, 3, 1], [3,1,2], [3,2,1].\n",
    "\n",
    "# The next permutation of an array of integers is the next lexicographically greater\n",
    "# permutation of its integer. More formally, if all the permutations of the array are\n",
    "# sorted in one container according to their lexicographical order, then the next\n",
    "# permutation of that array is the permutation that follows it in the sorted container.\n",
    "\n",
    "# If such an arrangement is not possible, the array must be rearranged as the\n",
    "# lowest possible order (i.e., sorted in ascending order).\n",
    "\n",
    "# ● For example, the next permutation of arr = [1,2,3] is [1,3,2].\n",
    "# ● Similarly, the next permutation of arr = [2,3,1] is [3,1,2].\n",
    "# ● While the next permutation of arr = [3,2,1] is [1,2,3] because [3,2,1] does not\n",
    "# have a lexicographical larger rearrangement.\n",
    "\n",
    "# Given an array of integers nums, find the next permutation of nums.\n",
    "# The replacement must be in place and use only constant extra memory.\n",
    "\n",
    "# **Example 1:**\n",
    "# Input: nums = [1,2,3]\n",
    "# Output: [1,3,2]"
   ]
  },
  {
   "cell_type": "code",
   "execution_count": 3,
   "id": "2788be00-fba3-4d00-b54a-337636111eb6",
   "metadata": {},
   "outputs": [],
   "source": [
    "def nextPermutation(nums):\n",
    "    i = len(nums) - 2\n",
    "    while i >= 0 and nums[i] >= nums[i + 1]:\n",
    "        i -= 1\n",
    "    if i >= 0:\n",
    "        j = len(nums) - 1\n",
    "        while j >= 0 and nums[j] <= nums[i]:\n",
    "            j -= 1\n",
    "        nums[i], nums[j] = nums[j], nums[i]\n",
    "    left, right = i + 1, len(nums) - 1\n",
    "    while left < right:\n",
    "        nums[left], nums[right] = nums[right], nums[left]\n",
    "        left, right = left + 1, right - 1\n",
    "    return nums"
   ]
  },
  {
   "cell_type": "code",
   "execution_count": 4,
   "id": "abbeaae2-6c56-46a9-8f44-128c5d5a34a2",
   "metadata": {},
   "outputs": [
    {
     "data": {
      "text/plain": [
       "[1, 3, 2]"
      ]
     },
     "execution_count": 4,
     "metadata": {},
     "output_type": "execute_result"
    }
   ],
   "source": [
    "nextPermutation([1,2,3])"
   ]
  },
  {
   "cell_type": "code",
   "execution_count": 5,
   "id": "3dd8e370-2566-4dce-b6c8-5424a2e1deca",
   "metadata": {},
   "outputs": [],
   "source": [
    "# Question 4\n",
    "# Given a sorted array of distinct integers and a target value, return the index if the\n",
    "# target is found. If not, return the index where it would be if it were inserted in\n",
    "# order.\n",
    "\n",
    "# You must write an algorithm with O(log n) runtime complexity.\n",
    "\n",
    "# Example 1:\n",
    "# Input: nums = [1,3,5,6], target = 5\n",
    "# Output: 2"
   ]
  },
  {
   "cell_type": "code",
   "execution_count": 6,
   "id": "595f01f2-87ca-4f74-b9e2-4883c2ae5e92",
   "metadata": {},
   "outputs": [],
   "source": [
    "def searchInsert(nums, target):\n",
    "    left, right = 0, len(nums) - 1\n",
    "    while left <= right:\n",
    "        mid = (left + right) // 2\n",
    "        if nums[mid] == target:\n",
    "            return mid\n",
    "        elif nums[mid] < target:\n",
    "            left = mid + 1\n",
    "        else:\n",
    "            right = mid - 1\n",
    "    return left"
   ]
  },
  {
   "cell_type": "code",
   "execution_count": 7,
   "id": "fae37c0a-427c-4acf-883e-9efccc2c33e7",
   "metadata": {},
   "outputs": [
    {
     "data": {
      "text/plain": [
       "2"
      ]
     },
     "execution_count": 7,
     "metadata": {},
     "output_type": "execute_result"
    }
   ],
   "source": [
    "searchInsert([1,3,5,6],5)"
   ]
  },
  {
   "cell_type": "code",
   "execution_count": 8,
   "id": "b61583ee-fc4a-435e-821c-f40f5455f0ca",
   "metadata": {},
   "outputs": [],
   "source": [
    "# 💡 **Question 5**\n",
    "# You are given a large integer represented as an integer array digits, where each\n",
    "# digits[i] is the ith digit of the integer. The digits are ordered from most significant\n",
    "# to least significant in left-to-right order. The large integer does not contain any\n",
    "# leading 0's.\n",
    "\n",
    "# Increment the large integer by one and return the resulting array of digits.\n",
    "\n",
    "# **Example 1:**\n",
    "# Input: digits = [1,2,3]\n",
    "# Output: [1,2,4]\n",
    "\n",
    "# **Explanation:** The array represents the integer 123.\n",
    "# Incrementing by one gives 123 + 1 = 124.\n",
    "# Thus, the result should be [1,2,4].\n"
   ]
  },
  {
   "cell_type": "code",
   "execution_count": 9,
   "id": "3558e0c7-5120-4417-a89b-8db2c1f51a1c",
   "metadata": {},
   "outputs": [],
   "source": [
    "def plusOne(digits):\n",
    "    for i in range(len(digits)-1, -1, -1):\n",
    "        if digits[i] < 9:\n",
    "            digits[i] += 1\n",
    "            return digits\n",
    "        else:\n",
    "            digits[i] = 0\n",
    "    return [1] + digits"
   ]
  },
  {
   "cell_type": "code",
   "execution_count": 10,
   "id": "55102629-6f4c-41ec-b111-22289cacdb7f",
   "metadata": {},
   "outputs": [
    {
     "data": {
      "text/plain": [
       "[1, 2, 4]"
      ]
     },
     "execution_count": 10,
     "metadata": {},
     "output_type": "execute_result"
    }
   ],
   "source": [
    "plusOne([1,2,3])"
   ]
  },
  {
   "cell_type": "code",
   "execution_count": 11,
   "id": "3de8c4cd-05d8-47a2-9617-52ee13c82e63",
   "metadata": {},
   "outputs": [],
   "source": [
    "# Question 6\n",
    "# Given a non-empty array of integers nums, every element appears twice except\n",
    "# for one. Find that single one.\n",
    "\n",
    "# You must implement a solution with a linear runtime complexity and use only\n",
    "# constant extra space.\n",
    "\n",
    "# Example 1:\n",
    "# Input: nums = [2,2,1]\n",
    "# Output: 1"
   ]
  },
  {
   "cell_type": "code",
   "execution_count": 12,
   "id": "4dedc132-8beb-496d-975b-08a40ab8a962",
   "metadata": {},
   "outputs": [],
   "source": [
    "def singleNumber(nums):\n",
    "    result = 0\n",
    "    for num in nums:\n",
    "        result ^= num\n",
    "    return result"
   ]
  },
  {
   "cell_type": "code",
   "execution_count": 13,
   "id": "6ab3330b-ddc9-48a9-b297-39d3a5f3f77a",
   "metadata": {},
   "outputs": [
    {
     "data": {
      "text/plain": [
       "1"
      ]
     },
     "execution_count": 13,
     "metadata": {},
     "output_type": "execute_result"
    }
   ],
   "source": [
    "singleNumber([2,2,1])"
   ]
  },
  {
   "cell_type": "code",
   "execution_count": 14,
   "id": "dfb72574-33fd-47a0-b1cf-a712ee50c5ed",
   "metadata": {},
   "outputs": [],
   "source": [
    "# Question 7\n",
    "# You are given an inclusive range [lower, upper] and a sorted unique integer array\n",
    "# nums, where all elements are within the inclusive range.\n",
    "\n",
    "# A number x is considered missing if x is in the range [lower, upper] and x is not in\n",
    "# nums.\n",
    "\n",
    "# Return the shortest sorted list of ranges that exactly covers all the missing\n",
    "# numbers. That is, no element of nums is included in any of the ranges, and each\n",
    "# missing number is covered by one of the ranges.\n",
    "\n",
    "# Example 1:\n",
    "# Input: nums = [0,1,3,50,75], lower = 0, upper = 99\n",
    "# Output: [[2,2],[4,49],[51,74],[76,99]]\n",
    "\n",
    "# Explanation: The ranges are:\n",
    "# [2,2]\n",
    "# [4,49]\n",
    "# [51,74]\n",
    "# [76,99]"
   ]
  },
  {
   "cell_type": "code",
   "execution_count": 15,
   "id": "4d513069-a53e-488b-a3c4-249f0f0191b8",
   "metadata": {},
   "outputs": [],
   "source": [
    "def findMissingRanges(nums, lower, upper):\n",
    "    def formatRange(lower, upper):\n",
    "        if lower == upper:\n",
    "            return str(lower)\n",
    "        else:\n",
    "            return str(lower) + \"->\" + str(upper)\n",
    "\n",
    "    result = []\n",
    "    next = lower\n",
    "    for n in nums:\n",
    "        if n < next:\n",
    "            continue\n",
    "        elif n == next:\n",
    "            next += 1\n",
    "            continue\n",
    "        result.append(formatRange(next, n - 1))\n",
    "        next = n + 1\n",
    "    if next <= upper:\n",
    "        result.append(formatRange(next, upper))\n",
    "    return result"
   ]
  },
  {
   "cell_type": "code",
   "execution_count": 16,
   "id": "5c04f8df-d187-49df-b0a3-8a136d283f33",
   "metadata": {},
   "outputs": [
    {
     "data": {
      "text/plain": [
       "['2', '4->49', '51->74', '76->99']"
      ]
     },
     "execution_count": 16,
     "metadata": {},
     "output_type": "execute_result"
    }
   ],
   "source": [
    "findMissingRanges([0,1,3,50,75],0,99)"
   ]
  },
  {
   "cell_type": "code",
   "execution_count": 17,
   "id": "6c1bcbd8-11eb-4f07-9a11-51d7f7b76be9",
   "metadata": {},
   "outputs": [],
   "source": [
    "# Question 8\n",
    "# Given an array of meeting time intervals where intervals[i] = [starti, endi],\n",
    "# determine if a person could attend all meetings.\n",
    "\n",
    "# Example 1:\n",
    "# Input: intervals = [[0,30],[5,10],[15,20]]\n",
    "# Output: false"
   ]
  },
  {
   "cell_type": "code",
   "execution_count": 18,
   "id": "7c0496a4-a164-4211-976c-35defb4227f5",
   "metadata": {},
   "outputs": [],
   "source": [
    "def canAttendMeetings(intervals):\n",
    "    intervals.sort(key=lambda x: x[0])\n",
    "    for i in range(1, len(intervals)):\n",
    "        if intervals[i][0] < intervals[i-1][1]:\n",
    "            return False\n",
    "    return True"
   ]
  },
  {
   "cell_type": "code",
   "execution_count": 19,
   "id": "1ed34146-6b60-4955-a27f-dcd1f465397d",
   "metadata": {},
   "outputs": [
    {
     "data": {
      "text/plain": [
       "False"
      ]
     },
     "execution_count": 19,
     "metadata": {},
     "output_type": "execute_result"
    }
   ],
   "source": [
    "canAttendMeetings([[0,30],[5,10],[15,20]])"
   ]
  },
  {
   "cell_type": "code",
   "execution_count": null,
   "id": "3f498c0d-0374-4a7e-9eec-df96c297cf2c",
   "metadata": {},
   "outputs": [],
   "source": []
  }
 ],
 "metadata": {
  "kernelspec": {
   "display_name": "Python 3 (ipykernel)",
   "language": "python",
   "name": "python3"
  },
  "language_info": {
   "codemirror_mode": {
    "name": "ipython",
    "version": 3
   },
   "file_extension": ".py",
   "mimetype": "text/x-python",
   "name": "python",
   "nbconvert_exporter": "python",
   "pygments_lexer": "ipython3",
   "version": "3.10.6"
  }
 },
 "nbformat": 4,
 "nbformat_minor": 5
}
