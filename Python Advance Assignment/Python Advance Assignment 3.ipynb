{
 "cells": [
  {
   "cell_type": "code",
   "execution_count": 1,
   "id": "174c1261-1aee-41b2-a2b3-46254c2cecc2",
   "metadata": {},
   "outputs": [],
   "source": [
    "# 1. What is the concept of an abstract superclass?"
   ]
  },
  {
   "cell_type": "code",
   "execution_count": 2,
   "id": "cc9a9306-e5bb-46b2-be6c-b7d0b268ef93",
   "metadata": {},
   "outputs": [],
   "source": [
    "# An abstract superclass, often referred to as an abstract base class (ABC), is a class in Python that is designed to be inherited from but not instantiated directly. It serves as a blueprint for defining common methods and attributes that its subclasses are expected to implement. The purpose of an abstract superclass is to provide a consistent interface and enforce a certain structure or behavior across its derived classes. Subclasses of an abstract superclass must implement the abstract methods defined in the superclass. Abstract superclasses are a useful tool for promoting code consistency and ensuring that related classes adhere to a specific contract, making them a key element in achieving polymorphism and code extensibility in object-oriented programming."
   ]
  },
  {
   "cell_type": "code",
   "execution_count": 3,
   "id": "9ec691d5-6622-42d8-9c06-2cc292cd32ff",
   "metadata": {},
   "outputs": [],
   "source": [
    "# 2. What happens when a class statement's top level contains a basic assignment statement?"
   ]
  },
  {
   "cell_type": "code",
   "execution_count": 4,
   "id": "134789d5-7787-4c0c-b9c7-c88f2d057a19",
   "metadata": {},
   "outputs": [
    {
     "name": "stdout",
     "output_type": "stream",
     "text": [
      "I am a class-level attribute\n",
      "I am an instance attribute\n"
     ]
    }
   ],
   "source": [
    "class MyClass:\n",
    "    class_attribute = \"I am a class-level attribute\"\n",
    "\n",
    "    def __init__(self, instance_attribute):\n",
    "        self.instance_attribute = instance_attribute\n",
    "\n",
    "# Accessing class-level and instance-level attributes\n",
    "print(MyClass.class_attribute)  # Accessing the class-level attribute\n",
    "obj = MyClass(\"I am an instance attribute\")\n",
    "print(obj.instance_attribute)  # Accessing an instance-level attribute"
   ]
  },
  {
   "cell_type": "code",
   "execution_count": 5,
   "id": "ef802e0e-f598-4af7-bd85-848e8076ac9d",
   "metadata": {},
   "outputs": [],
   "source": [
    "# 3. Why does a class need to manually call a superclass's __init__ method?"
   ]
  },
  {
   "cell_type": "code",
   "execution_count": 6,
   "id": "494cffbb-c486-4e3f-8ebf-8ff418565c2f",
   "metadata": {},
   "outputs": [
    {
     "name": "stdout",
     "output_type": "stream",
     "text": [
      "Alice\n",
      "5\n"
     ]
    }
   ],
   "source": [
    "class Parent:\n",
    "    def __init__(self, name):\n",
    "        self.name = name\n",
    "\n",
    "class Child(Parent):\n",
    "    def __init__(self, name, age):\n",
    "        super().__init__(name)  #calling the superclass's __init__\n",
    "        self.age = age\n",
    "\n",
    "child = Child(\"Alice\", 5)\n",
    "print(child.name)\n",
    "print(child.age)"
   ]
  },
  {
   "cell_type": "code",
   "execution_count": 7,
   "id": "30aa77ee-80c7-4146-9afa-b0f89eaf1ce5",
   "metadata": {},
   "outputs": [],
   "source": [
    "# 4. How can you augment, instead of completely replacing, an inherited method?"
   ]
  },
  {
   "cell_type": "code",
   "execution_count": 8,
   "id": "5fb2d477-7c67-4184-83bc-c1a9cec660ff",
   "metadata": {},
   "outputs": [
    {
     "name": "stdout",
     "output_type": "stream",
     "text": [
      "Parent's action\n",
      "Child's action\n"
     ]
    }
   ],
   "source": [
    "class Parent:\n",
    "    def action(self):\n",
    "        print(\"Parent's action\")\n",
    "\n",
    "class Child(Parent):\n",
    "    def action(self):\n",
    "        super().action()  #Call the superclass method\n",
    "        print(\"Child's action\")\n",
    "\n",
    "child = Child()\n",
    "child.action()"
   ]
  },
  {
   "cell_type": "code",
   "execution_count": 9,
   "id": "c123ce99-4737-40ba-b9cb-462a18eabda5",
   "metadata": {},
   "outputs": [],
   "source": [
    "# 5. How is the local scope of a class different from that of a function?"
   ]
  },
  {
   "cell_type": "code",
   "execution_count": 10,
   "id": "c622496f-c9f7-441f-9c69-2fe23b2e3762",
   "metadata": {},
   "outputs": [],
   "source": [
    "# The local scope of a class and that of a function differ primarily in their purpose and accessibility. In a function, local scope defines variables that are only accessible within the function, and they exist only for the duration of the function's execution. In contrast, a class's local scope defines attributes, which are accessible to all methods within the class and throughout the object's lifespan (as long as the instance exists). Class attributes can be used to encapsulate and store data shared by all instances of the class, providing a form of shared state, whereas function local variables are temporary and local to the function, serving a more temporary and isolated purpose."
   ]
  },
  {
   "cell_type": "code",
   "execution_count": null,
   "id": "8e1803ee-af46-47df-817d-41ea2f766d1a",
   "metadata": {},
   "outputs": [],
   "source": []
  }
 ],
 "metadata": {
  "kernelspec": {
   "display_name": "Python 3 (ipykernel)",
   "language": "python",
   "name": "python3"
  },
  "language_info": {
   "codemirror_mode": {
    "name": "ipython",
    "version": 3
   },
   "file_extension": ".py",
   "mimetype": "text/x-python",
   "name": "python",
   "nbconvert_exporter": "python",
   "pygments_lexer": "ipython3",
   "version": "3.10.6"
  }
 },
 "nbformat": 4,
 "nbformat_minor": 5
}
