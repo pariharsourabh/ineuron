{
 "cells": [
  {
   "cell_type": "code",
   "execution_count": 1,
   "id": "8318e1f5-efde-4715-83ae-30c02ed62ada",
   "metadata": {},
   "outputs": [],
   "source": [
    "# Q1. Which two operator overloading methods can you use in your classes to support iteration?"
   ]
  },
  {
   "cell_type": "code",
   "execution_count": 2,
   "id": "439086f6-806b-4aff-a50e-dc430de50c30",
   "metadata": {},
   "outputs": [
    {
     "name": "stdout",
     "output_type": "stream",
     "text": [
      "1\n",
      "2\n",
      "3\n",
      "4\n",
      "5\n"
     ]
    }
   ],
   "source": [
    "class MyIterable:\n",
    "    def __init__(self, data):\n",
    "        self.data = data\n",
    "        self.index = 0\n",
    "\n",
    "    def __iter__(self):\n",
    "        return self\n",
    "\n",
    "    def __next__(self):\n",
    "        if self.index < len(self.data):\n",
    "            result = self.data[self.index]\n",
    "            self.index += 1\n",
    "            return result\n",
    "        else:\n",
    "            raise StopIteration\n",
    "\n",
    "# Creating an instance of MyIterable\n",
    "my_iterable = MyIterable([1, 2, 3, 4, 5])\n",
    "\n",
    "# Iterating over the instance\n",
    "for item in my_iterable:\n",
    "    print(item)"
   ]
  },
  {
   "cell_type": "code",
   "execution_count": 3,
   "id": "db039c91-6b32-44c7-bb05-2c26f01f679e",
   "metadata": {},
   "outputs": [],
   "source": [
    "# Q2. In what contexts do the two operator overloading methods manage printing?"
   ]
  },
  {
   "cell_type": "code",
   "execution_count": 4,
   "id": "34538d63-7dbc-4bb4-ad7b-adfdaa9dff80",
   "metadata": {},
   "outputs": [],
   "source": [
    "# The two operator overloading methods, __str__ and __repr__, are used in different contexts for managing how objects are printed in Python"
   ]
  },
  {
   "cell_type": "code",
   "execution_count": 5,
   "id": "4f7c8e28-0c9f-4238-b9d3-220b0a0e80bf",
   "metadata": {},
   "outputs": [],
   "source": [
    "# Q3. In a class, how do you intercept slice operations?"
   ]
  },
  {
   "cell_type": "code",
   "execution_count": 6,
   "id": "375e2c6c-3b97-4bfa-81b2-5b1d38dedf4f",
   "metadata": {},
   "outputs": [
    {
     "name": "stdout",
     "output_type": "stream",
     "text": [
      "[2, 3, 4]\n",
      "[1, 7, 8, 9, 5, 6]\n"
     ]
    }
   ],
   "source": [
    "class MyList:\n",
    "    def __init__(self, data):\n",
    "        self.data = data\n",
    "\n",
    "    def __getitem__(self, index):\n",
    "        if isinstance(index, slice):\n",
    "            # Handle slice for retrieving values\n",
    "            start, stop, step = index.start, index.stop, index.step\n",
    "            return self.data[start:stop:step]\n",
    "        else:\n",
    "            # Handle single index\n",
    "            return self.data[index]\n",
    "\n",
    "    def __setitem__(self, index, value):\n",
    "        if isinstance(index, slice):\n",
    "            # Handle slice for setting values\n",
    "            start, stop, step = index.start, index.stop, index.step\n",
    "            self.data[start:stop:step] = value\n",
    "        else:\n",
    "            # Handle single index\n",
    "            self.data[index] = value\n",
    "\n",
    "# Creating an instance\n",
    "my_list = MyList([1, 2, 3, 4, 5, 6])\n",
    "\n",
    "# Using slice operations\n",
    "print(my_list[1:4])\n",
    "my_list[1:4] = [7, 8, 9]\n",
    "print(my_list.data)"
   ]
  },
  {
   "cell_type": "code",
   "execution_count": 7,
   "id": "aa976adc-8938-4ad1-857b-d1e50756e058",
   "metadata": {},
   "outputs": [],
   "source": [
    "# Q4. In a class, how do you capture in-place addition?"
   ]
  },
  {
   "cell_type": "code",
   "execution_count": 8,
   "id": "85967459-a813-42eb-add8-ecbbc1c83310",
   "metadata": {},
   "outputs": [
    {
     "name": "stdout",
     "output_type": "stream",
     "text": [
      "8\n"
     ]
    }
   ],
   "source": [
    "class MyNumber:\n",
    "    def __init__(self, value):\n",
    "        self.value = value\n",
    "\n",
    "    def __iadd__(self, other):\n",
    "        self.value += other\n",
    "        return self\n",
    "\n",
    "# Creating an instance\n",
    "num = MyNumber(5)\n",
    "num += 3\n",
    "\n",
    "print(num.value)"
   ]
  },
  {
   "cell_type": "code",
   "execution_count": 9,
   "id": "5554310f-1129-44fa-890c-9f3f0755ee40",
   "metadata": {},
   "outputs": [],
   "source": [
    "# Q5. When is it appropriate to use operator overloading?"
   ]
  },
  {
   "cell_type": "code",
   "execution_count": 10,
   "id": "7b8a0971-9833-48a7-b044-95a2edbc6f2a",
   "metadata": {},
   "outputs": [],
   "source": [
    "# Operator overloading is appropriate when you want to provide intuitive and meaningful behavior for standard operators (+, -, *, /, etc.) when applied to instances of your custom classes. It should be used when overloading aligns with the natural and expected behavior of the objects you are modeling, enhancing code readability and making your classes more user-friendly. Additionally, operator overloading is useful for promoting code reuse and providing a familiar interface for interacting with your objects, improving the overall expressiveness and usability of your code."
   ]
  },
  {
   "cell_type": "code",
   "execution_count": null,
   "id": "5de45f30-f726-41cb-90b5-343d93200faa",
   "metadata": {},
   "outputs": [],
   "source": []
  }
 ],
 "metadata": {
  "kernelspec": {
   "display_name": "Python 3 (ipykernel)",
   "language": "python",
   "name": "python3"
  },
  "language_info": {
   "codemirror_mode": {
    "name": "ipython",
    "version": 3
   },
   "file_extension": ".py",
   "mimetype": "text/x-python",
   "name": "python",
   "nbconvert_exporter": "python",
   "pygments_lexer": "ipython3",
   "version": "3.10.6"
  }
 },
 "nbformat": 4,
 "nbformat_minor": 5
}
