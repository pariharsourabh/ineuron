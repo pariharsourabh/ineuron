{
 "cells": [
  {
   "cell_type": "code",
   "execution_count": 1,
   "id": "f4cf973c-aa8f-4aca-8e03-95af0a6bbda9",
   "metadata": {},
   "outputs": [],
   "source": [
    "# 1.\tWhat are the new features added in Python 3.8 version?"
   ]
  },
  {
   "cell_type": "code",
   "execution_count": 2,
   "id": "219a77fe-02c0-48d2-b0ce-193acc506d67",
   "metadata": {},
   "outputs": [],
   "source": [
    "# Python 3.8 introduced several new features and improvements. Some of the notable additions in Python 3.8 include:\n",
    "\n",
    "# 1. Assignment Expressions (The Walrus Operator)\n",
    "# 2. Positional-Only Parameters\n",
    "# 3. f-strings Improvements\n",
    "# 4. New Syntax Warnings\n",
    "# 5. Math Functions and Constants\n",
    "# 6. future Annotations\n",
    "# 7. New Syntax Features"
   ]
  },
  {
   "cell_type": "code",
   "execution_count": 3,
   "id": "94e2ba50-a92b-484c-84fa-2e38aa7258d9",
   "metadata": {},
   "outputs": [],
   "source": [
    "# 2.\tWhat is monkey patching in Python?"
   ]
  },
  {
   "cell_type": "code",
   "execution_count": 4,
   "id": "48d4e086-4406-481a-a065-551aa3d03ae2",
   "metadata": {},
   "outputs": [
    {
     "name": "stdout",
     "output_type": "stream",
     "text": [
      "Monkey Patched Method\n"
     ]
    }
   ],
   "source": [
    "class OriginalClass:\n",
    "    def method(self):\n",
    "        return \"Original Method\"\n",
    "\n",
    "def new_method(self):\n",
    "    return \"Monkey Patched Method\"\n",
    "\n",
    "OriginalClass.new_method = new_method\n",
    "\n",
    "obj = OriginalClass()\n",
    "print(obj.new_method())"
   ]
  },
  {
   "cell_type": "code",
   "execution_count": 5,
   "id": "972fe143-3a71-482f-b149-3342cc7592ec",
   "metadata": {},
   "outputs": [],
   "source": [
    "# 3.\tWhat is the difference between a shallow copy and deep copy?"
   ]
  },
  {
   "cell_type": "code",
   "execution_count": 6,
   "id": "a8ebdf9b-67aa-4dbb-adff-e4c1ec79827f",
   "metadata": {},
   "outputs": [],
   "source": [
    "#  the key difference is that a shallow copy creates a new top-level object but retains references to the same nested objects, while a deep copy creates entirely new copies of both the top-level and nested objects, resulting in complete independence. The choice between shallow and deep copying depends on your specific use case and whether you want changes in the copied object to affect the original."
   ]
  },
  {
   "cell_type": "code",
   "execution_count": 7,
   "id": "57b3570c-478e-4c34-9485-018ba8b09565",
   "metadata": {},
   "outputs": [],
   "source": [
    "# 4.\tWhat is the maximum possible length of an identifier?"
   ]
  },
  {
   "cell_type": "code",
   "execution_count": 8,
   "id": "636bc504-d24f-407f-8672-26d87ad2da80",
   "metadata": {},
   "outputs": [],
   "source": [
    "# the maximum possible length of an identifier is not explicitly defined, but it is limited by practical considerations and the available system resources."
   ]
  },
  {
   "cell_type": "code",
   "execution_count": 9,
   "id": "6ac43837-5e75-4352-871e-8f4ac46f882b",
   "metadata": {},
   "outputs": [],
   "source": [
    "# 5.\tWhat is generator comprehension?"
   ]
  },
  {
   "cell_type": "code",
   "execution_count": 10,
   "id": "a0bcea99-69a1-49b4-b54b-8b6680bc8574",
   "metadata": {},
   "outputs": [],
   "source": [
    "# A generator comprehension in Python is a concise way to create a generator object, which is a memory-efficient way to generate a sequence of values on-the-fly. It is similar to a list comprehension but uses parentheses `()` instead of square brackets `[]`. Generator comprehensions are used to create iterators for large or infinite sequences without storing them in memory, making them suitable for lazy evaluation."
   ]
  },
  {
   "cell_type": "code",
   "execution_count": null,
   "id": "72df3e04-a1a9-4613-abe3-2e8afe0e4e47",
   "metadata": {},
   "outputs": [],
   "source": []
  }
 ],
 "metadata": {
  "kernelspec": {
   "display_name": "Python 3 (ipykernel)",
   "language": "python",
   "name": "python3"
  },
  "language_info": {
   "codemirror_mode": {
    "name": "ipython",
    "version": 3
   },
   "file_extension": ".py",
   "mimetype": "text/x-python",
   "name": "python",
   "nbconvert_exporter": "python",
   "pygments_lexer": "ipython3",
   "version": "3.10.6"
  }
 },
 "nbformat": 4,
 "nbformat_minor": 5
}
