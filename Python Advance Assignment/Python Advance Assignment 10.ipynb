{
 "cells": [
  {
   "cell_type": "code",
   "execution_count": 1,
   "id": "74d8c0a8-99a8-4b78-8255-bba1c6ca64e3",
   "metadata": {},
   "outputs": [],
   "source": [
    "# Q1. What is the difference between __getattr__ and __getattribute__?"
   ]
  },
  {
   "cell_type": "code",
   "execution_count": 2,
   "id": "3f95574e-5de7-4719-8351-3369fefaf386",
   "metadata": {},
   "outputs": [],
   "source": [
    "# The key difference between `__getattr__` and `__getattribute__` in Python is how they handle attribute acces. __getattr__ is called when an attribute is not found through normal lookup, while __getattribute__ is called for every attribute access and can be used to customize attribute access behavior comprehensively."
   ]
  },
  {
   "cell_type": "code",
   "execution_count": 3,
   "id": "3cd94f9d-b4a8-4061-bc51-ad1f0bec852d",
   "metadata": {},
   "outputs": [],
   "source": [
    "# Q2. What is the difference between properties and descriptors?"
   ]
  },
  {
   "cell_type": "code",
   "execution_count": 4,
   "id": "4165960c-f752-42c5-a06b-23dbcc266d1b",
   "metadata": {},
   "outputs": [],
   "source": [
    "# Properties and descriptors in Python are both used to customize attribute access and manage attribute behavior, but they differ in their level of control and implementation\n",
    "# properties provide a simplified way to customize attribute access, while descriptors offer a more powerful and flexible mechanism to control attribute behavior at a lower level. The choice between them depends on the specific needs of your code."
   ]
  },
  {
   "cell_type": "code",
   "execution_count": null,
   "id": "1b816516-3e5b-4b11-ae9f-997fb84e5423",
   "metadata": {},
   "outputs": [],
   "source": [
    "# \n",
    "Q3. What are the key differences in functionality between __getattr__ and __getattribute__, as well as properties and descriptors?"
   ]
  }
 ],
 "metadata": {
  "kernelspec": {
   "display_name": "Python 3 (ipykernel)",
   "language": "python",
   "name": "python3"
  },
  "language_info": {
   "codemirror_mode": {
    "name": "ipython",
    "version": 3
   },
   "file_extension": ".py",
   "mimetype": "text/x-python",
   "name": "python",
   "nbconvert_exporter": "python",
   "pygments_lexer": "ipython3",
   "version": "3.10.6"
  }
 },
 "nbformat": 4,
 "nbformat_minor": 5
}
