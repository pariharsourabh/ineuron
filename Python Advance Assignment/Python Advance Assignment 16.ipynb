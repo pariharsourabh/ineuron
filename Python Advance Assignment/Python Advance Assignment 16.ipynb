{
 "cells": [
  {
   "cell_type": "code",
   "execution_count": 1,
   "id": "12d20196-5ac4-4d51-9f3a-eff15333f240",
   "metadata": {},
   "outputs": [],
   "source": [
    "# Q1. What is the benefit of regular expressions?"
   ]
  },
  {
   "cell_type": "code",
   "execution_count": 2,
   "id": "3970203f-9169-4e56-80f2-6a86d04c41ea",
   "metadata": {},
   "outputs": [],
   "source": [
    "# The benefit of regular expressions is that they provide a powerful and flexible tool for pattern matching and text manipulation in strings, allowing for efficient searching, validation, and extraction of specific patterns of characters from text data."
   ]
  },
  {
   "cell_type": "code",
   "execution_count": 3,
   "id": "7f594da3-caae-4d68-824b-56bc11a19cbf",
   "metadata": {},
   "outputs": [],
   "source": [
    "# Q2. Describe the difference between the effects of \"(ab)c+\" and \"a(bc)+.\" Which of these, if any, is the unqualified pattern \"abc+\"?"
   ]
  },
  {
   "cell_type": "code",
   "execution_count": 4,
   "id": "978ce2c8-f7d4-45c1-a1ae-3a3b87df8be9",
   "metadata": {},
   "outputs": [],
   "source": [
    "#  the unqualified pattern \"abc+\" matches any string that starts with \"a\" and is followed by one or more \"bc\" sequences, but it does not match the patterns described by \"(ab)c+\" or \"a(bc)+\" as they have additional requirements."
   ]
  },
  {
   "cell_type": "code",
   "execution_count": 6,
   "id": "55a0c268-bb16-4606-b7da-3ed6272b432a",
   "metadata": {},
   "outputs": [],
   "source": [
    "# Q3. How much do you need to use the following sentence while using regular expressions?\n",
    "\n",
    "\n",
    "\n",
    "# import re\n"
   ]
  },
  {
   "cell_type": "code",
   "execution_count": 7,
   "id": "d88fcb35-9e93-42fe-b73f-3b53f501d263",
   "metadata": {},
   "outputs": [],
   "source": [
    "# The sentence \"import re\" is typically used at the beginning of a Python script or program to import the \"re\" module, which provides support for regular expressions. You need to include this sentence in your Python code if you intend to use regular expressions with the \"re\" module. It allows you to access the functions and classes provided by the \"re\" module to work with regular expressions. Once you've imported the \"re\" module, you can use regular expression functions like `re.search()`, `re.match()`, and others to perform pattern matching and text manipulation."
   ]
  },
  {
   "cell_type": "code",
   "execution_count": 8,
   "id": "0099313a-be35-4326-a0b1-770ff8820fec",
   "metadata": {},
   "outputs": [],
   "source": [
    "\n",
    "# Q4. Which characters have special significance in square brackets when expressing a range, and under what circumstances?\n"
   ]
  },
  {
   "cell_type": "code",
   "execution_count": 9,
   "id": "25283c15-16c0-4c00-879f-92dcd3f3443b",
   "metadata": {},
   "outputs": [],
   "source": [
    "# In square brackets within a regular expression, the characters '-' (hyphen) and '^' (caret) have special significance. The hyphen denotes a character range (e.g., [a-z] matches any lowercase letter), and the caret at the beginning negates the range (e.g., [^0-9] matches any character that is not a digit)."
   ]
  },
  {
   "cell_type": "code",
   "execution_count": 10,
   "id": "b3e006e3-e42c-4e99-a1a1-39c87059239d",
   "metadata": {},
   "outputs": [],
   "source": [
    "# Q5. How does compiling a regular-expression object benefit you?"
   ]
  },
  {
   "cell_type": "code",
   "execution_count": 11,
   "id": "12762072-c997-4da9-ba81-c08c095210a6",
   "metadata": {},
   "outputs": [],
   "source": [
    "# Compiling a regular expression into a regex object in Python with the `re.compile()` function provides a performance benefit by precompiling the pattern. This results in faster matching when using the same regex pattern multiple times, making it efficient for repeated searches and text processing tasks."
   ]
  },
  {
   "cell_type": "code",
   "execution_count": 12,
   "id": "299756e7-b75e-4639-b694-d245009be003",
   "metadata": {},
   "outputs": [],
   "source": [
    "# Q6. What are some examples of how to use the match object returned by re.match and re.search?"
   ]
  },
  {
   "cell_type": "code",
   "execution_count": 13,
   "id": "79cbfa98-f1a1-4c7b-9534-e3340d9236fe",
   "metadata": {},
   "outputs": [
    {
     "name": "stdout",
     "output_type": "stream",
     "text": [
      "20\n"
     ]
    }
   ],
   "source": [
    "import re\n",
    "\n",
    "pattern = r'\\d+'\n",
    "text = \"The price is $20 and $50.\"\n",
    "\n",
    "match = re.search(pattern, text)\n",
    "if match:\n",
    "    matched_text = match.group()\n",
    "    print(matched_text)"
   ]
  },
  {
   "cell_type": "code",
   "execution_count": 14,
   "id": "f924c9c0-da8f-4c15-8df7-b275fc98b7c1",
   "metadata": {},
   "outputs": [],
   "source": [
    "# Q7. What is the difference between using a vertical bar (|) as an alteration and using square brackets as a character set?"
   ]
  },
  {
   "cell_type": "code",
   "execution_count": 15,
   "id": "297495f2-b74b-4d1e-87d5-e06eb1a60285",
   "metadata": {},
   "outputs": [],
   "source": [
    "# The key difference is that the vertical bar | is used to provide alternatives for the entire pattern, while square brackets [] are used to specify a set of characters for a single position in the pattern. Vertical bar offers a choice between different patterns, while square brackets offer a choice between different characters at a specific position."
   ]
  },
  {
   "cell_type": "code",
   "execution_count": 16,
   "id": "06fe1a9c-4c03-48fd-88c9-994d56681620",
   "metadata": {},
   "outputs": [],
   "source": [
    "# Q8. In regular-expression search patterns, why is it necessary to use the raw-string indicator (r)? In   replacement strings?"
   ]
  },
  {
   "cell_type": "code",
   "execution_count": 17,
   "id": "d5be4c70-3abc-4e1c-b22e-ad9c602c576a",
   "metadata": {},
   "outputs": [],
   "source": [
    "# Without raw string\n",
    "pattern = \"\\\\d+\"\n",
    "\n",
    "# With raw string\n",
    "pattern = r\"\\d+\""
   ]
  },
  {
   "cell_type": "code",
   "execution_count": 18,
   "id": "1ca1f2ba-199e-4658-aece-b8754ad40f69",
   "metadata": {},
   "outputs": [],
   "source": [
    "# Without raw string\n",
    "replacement = \"\\\\1 is the first group.\"\n",
    "\n",
    "# With raw string\n",
    "replacement = r\"\\1 is the first group.\""
   ]
  },
  {
   "cell_type": "code",
   "execution_count": null,
   "id": "0b840b16-a295-4cf0-9d3d-030c73e4a97b",
   "metadata": {},
   "outputs": [],
   "source": []
  }
 ],
 "metadata": {
  "kernelspec": {
   "display_name": "Python 3 (ipykernel)",
   "language": "python",
   "name": "python3"
  },
  "language_info": {
   "codemirror_mode": {
    "name": "ipython",
    "version": 3
   },
   "file_extension": ".py",
   "mimetype": "text/x-python",
   "name": "python",
   "nbconvert_exporter": "python",
   "pygments_lexer": "ipython3",
   "version": "3.10.6"
  }
 },
 "nbformat": 4,
 "nbformat_minor": 5
}
