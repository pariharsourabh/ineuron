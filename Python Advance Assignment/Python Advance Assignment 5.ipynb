{
 "cells": [
  {
   "cell_type": "code",
   "execution_count": 1,
   "id": "0f7a4f72-fb97-4e89-839c-f08ebba8a06e",
   "metadata": {},
   "outputs": [],
   "source": [
    "# Q1. What is the meaning of multiple inheritance?"
   ]
  },
  {
   "cell_type": "code",
   "execution_count": 2,
   "id": "8942719b-3887-4368-b985-4783596b1149",
   "metadata": {},
   "outputs": [],
   "source": [
    "# Multiple inheritance is a feature in object-oriented programming languages, including Python, that allows a class to inherit attributes and methods from more than one superclass (parent class). In other words, a class can have multiple parent classes, and it inherits the attributes and behavior from all of them. This means that a class can incorporate features and functionality from multiple sources, which can be useful for code reuse and creating more complex class hierarchies. However, multiple inheritance can also introduce challenges and potential issues, such as conflicts between inherited attributes or methods, which need to be carefully managed. Python supports multiple inheritance, and it's a powerful feature when used judiciously."
   ]
  },
  {
   "cell_type": "code",
   "execution_count": 3,
   "id": "2f840fe0-ab63-4b29-8184-71aa73d52b23",
   "metadata": {},
   "outputs": [],
   "source": [
    "# Q2. What is the concept of delegation?"
   ]
  },
  {
   "cell_type": "code",
   "execution_count": 4,
   "id": "b1908824-714b-4d67-b438-3ad92f341a7d",
   "metadata": {},
   "outputs": [],
   "source": [
    "# Delegation is a design principle in object-oriented programming where an object forwards a task or responsibility to another object, typically one that it contains as an attribute, instead of performing the task itself. This concept promotes code reusability, modularity, and flexibility in software design. By delegating specific tasks to other objects, you can achieve a more modular and organized code structure. In Python, delegation is often implemented by creating objects of other classes within a class and using those objects to perform specific tasks, effectively delegating the responsibility to those auxiliary objects. It helps in achieving a separation of concerns and simplifying complex systems by breaking them down into smaller, more manageable components."
   ]
  },
  {
   "cell_type": "code",
   "execution_count": 5,
   "id": "f635ace7-f57a-4d44-a9e2-882321994b5f",
   "metadata": {},
   "outputs": [],
   "source": [
    "# Q3. What is the concept of composition?"
   ]
  },
  {
   "cell_type": "code",
   "execution_count": 6,
   "id": "19c66ea4-db00-4392-a031-8b9a70bcecfa",
   "metadata": {},
   "outputs": [],
   "source": [
    "# Composition is a fundamental concept in object-oriented programming (OOP) where an object is composed of one or more other objects. It involves creating complex objects by combining simpler objects or components. Composition is often used to build relationships between objects in a way that one object contains or is composed of another object, and this composition can represent part-whole relationships or other forms of interaction. Unlike inheritance, which involves \"is-a\" relationships, composition deals with \"has-a\" relationships, where one object has other objects as its components or parts. Composition enhances code reusability, modularity, and flexibility, and it allows you to create more complex and meaningful structures by assembling simpler objects into a cohesive whole."
   ]
  },
  {
   "cell_type": "code",
   "execution_count": 11,
   "id": "70b42507-7ffb-451c-832b-4a56ee5cafcb",
   "metadata": {},
   "outputs": [],
   "source": [
    "# Q4. What are bound methods and how do we use them?"
   ]
  },
  {
   "cell_type": "code",
   "execution_count": 12,
   "id": "fe4649bb-b681-474d-8ebb-5e1cdb24772d",
   "metadata": {},
   "outputs": [],
   "source": [
    "# Bound methods are a concept in Python that refer to methods associated with a specific instance of a class. When you call a method on an instance, it becomes a bound method because it is \"bound\" to that instance"
   ]
  },
  {
   "cell_type": "code",
   "execution_count": 13,
   "id": "b2accc54-8f9e-4474-9786-e32e3578c523",
   "metadata": {},
   "outputs": [
    {
     "name": "stdout",
     "output_type": "stream",
     "text": [
      "42\n"
     ]
    }
   ],
   "source": [
    "class MyClass:\n",
    "    def __init__(self, value):\n",
    "        self.value = value\n",
    "\n",
    "    def print_value(self):\n",
    "        print(self.value)\n",
    "\n",
    "# Creating an instance\n",
    "obj = MyClass(42)\n",
    "\n",
    "# Calling a bound method\n",
    "obj.print_value()"
   ]
  },
  {
   "cell_type": "code",
   "execution_count": 14,
   "id": "267dfe2f-f107-49eb-a6dc-71c077709c57",
   "metadata": {},
   "outputs": [],
   "source": [
    "# Q5. What is the purpose of pseudoprivate attributes?"
   ]
  },
  {
   "cell_type": "code",
   "execution_count": 15,
   "id": "aed8fa7d-001e-49d7-a20f-311bd3581b3e",
   "metadata": {},
   "outputs": [],
   "source": [
    "# The purpose of pseudoprivate attributes in Python, marked with double underscores like __attribute, is to make attributes less accessible from outside the class, acting as a form of name mangling. It helps to prevent accidental name clashes and provides a level of encapsulation, although it's not true encapsulation and should be used with care for maintaining code integrity and avoiding conflicts in large codebases."
   ]
  },
  {
   "cell_type": "code",
   "execution_count": null,
   "id": "e63e2059-fd6e-4122-b6e7-4483a99cbb4f",
   "metadata": {},
   "outputs": [],
   "source": []
  }
 ],
 "metadata": {
  "kernelspec": {
   "display_name": "Python 3 (ipykernel)",
   "language": "python",
   "name": "python3"
  },
  "language_info": {
   "codemirror_mode": {
    "name": "ipython",
    "version": 3
   },
   "file_extension": ".py",
   "mimetype": "text/x-python",
   "name": "python",
   "nbconvert_exporter": "python",
   "pygments_lexer": "ipython3",
   "version": "3.10.6"
  }
 },
 "nbformat": 4,
 "nbformat_minor": 5
}
