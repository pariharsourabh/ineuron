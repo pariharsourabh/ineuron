{
 "cells": [
  {
   "cell_type": "code",
   "execution_count": 1,
   "id": "4e7dde19-a2c0-4f88-bf77-e6589509e873",
   "metadata": {},
   "outputs": [],
   "source": [
    "# Q1. What are the benefits of the built-in array package, if any?"
   ]
  },
  {
   "cell_type": "code",
   "execution_count": 2,
   "id": "0799efb5-8d7f-4439-9eaa-4347efe43fb7",
   "metadata": {},
   "outputs": [],
   "source": [
    "# Arrays represent multiple data items of the same type using a single name. In arrays, the elements can be accessed randomly by using the index number. Arrays allocate memory in contiguous memory locations for all its elements. Hence there is no chance of extra memory being allocated in case of arrays. This avoids memory overflow or shortage of memory in arrays."
   ]
  },
  {
   "cell_type": "code",
   "execution_count": 3,
   "id": "674de8c5-fc01-4830-bd09-4b347fa5bae7",
   "metadata": {},
   "outputs": [],
   "source": [
    "# Q2. What are some of the array package's limitations ?"
   ]
  },
  {
   "cell_type": "code",
   "execution_count": 4,
   "id": "89dd1feb-42dc-4f09-8079-3e9aaf7f9e54",
   "metadata": {},
   "outputs": [],
   "source": [
    "# The number of elements to be stored in an array should be known in advance. An array is a static structure (which means the array is of fixed size). Once declared the size of the array cannot be modified. The memory which is allocated to it cannot be increased or decreased.\n",
    "\n",
    "# Insertion and deletion are quite difficult in an array as the elements are stored in consecutive memory locations and the shifting operation is costly.\n",
    "\n",
    "# Allocating more memory than the requirement leads to wastage of memory space and less allocation of memory also leads to a problem"
   ]
  },
  {
   "cell_type": "code",
   "execution_count": 5,
   "id": "7e97011f-a7aa-41be-85d0-f5aff5f5a7cb",
   "metadata": {},
   "outputs": [],
   "source": [
    "# Q3. Describe the main differences between the array and numpy packages ?"
   ]
  },
  {
   "cell_type": "code",
   "execution_count": 6,
   "id": "bfc7c987-e86a-4e22-894e-b6123737b337",
   "metadata": {},
   "outputs": [],
   "source": [
    "# The array package doesn't provide any help with numerical calculation with the items insdie it in number form while NumPy give you a wide variety of numerical operations.\n",
    "\n",
    "# An array is a single dimensional entity which hold the numerical data, while numpy can have more than 1 dimension.\n",
    "\n",
    "# In case of array, item can be accessed by its index position and it is easy task while in numpy item is accessed by its column and row index, which makes it slightly time taking. Same goes with appending operation.\n",
    "\n",
    "# In case of array we do not form a tabular structure, while in numpy it forms a tabular structure"
   ]
  },
  {
   "cell_type": "code",
   "execution_count": 7,
   "id": "88d42b48-33e8-4712-b097-492e6f5f133a",
   "metadata": {},
   "outputs": [],
   "source": [
    "# Q4. Explain the distinctions between the empty, ones, and zeros functions ?"
   ]
  },
  {
   "cell_type": "code",
   "execution_count": 8,
   "id": "3af192b6-5321-4cb6-948f-9fa6e0e538c3",
   "metadata": {},
   "outputs": [],
   "source": [
    "# The distinctions between the empty, ones, and zero functions are as follows :\n",
    "\n",
    "# Empty function: An empty function is a function that does not contain any statement within its body. If you try to write a function definition without any statement in python ,it will return an error. To avoid this, we use pass statement. pass is a special statement in Python that does nothing. It only works as a dummy statement.\n",
    "# Ones: This function returns a new array of given shape and data type, where the element’s value is 1.\n",
    "# Zeros: This function returns a new array of given shape and data type, where the element’s value is 0."
   ]
  },
  {
   "cell_type": "code",
   "execution_count": 9,
   "id": "c899c07c-c9d0-471a-bcb9-2917479944a6",
   "metadata": {},
   "outputs": [],
   "source": [
    "# Q5. In the fromfunction function, which is used to construct new arrays, what is the role of the callable argument ?"
   ]
  },
  {
   "cell_type": "code",
   "execution_count": 10,
   "id": "f8d53c65-d859-4922-ace2-6ea5b94f7cd2",
   "metadata": {},
   "outputs": [],
   "source": [
    "# Its function is to execute the function over each coordinate and the resulting array. The function is called with N parameters, where N is the rank of shape. Each parameter represents the coordinates of the array varying along a specific axis."
   ]
  },
  {
   "cell_type": "code",
   "execution_count": 11,
   "id": "8ab48e80-c263-4bfc-94f1-031dc8273095",
   "metadata": {},
   "outputs": [],
   "source": [
    "# Q6. What happens when a numpy array is combined with a single-value operand (a scalar, such as an int or a floating-point value) through addition, as in the expression A + n ?"
   ]
  },
  {
   "cell_type": "code",
   "execution_count": 12,
   "id": "ada4a960-57ac-4894-8790-569c92b92180",
   "metadata": {},
   "outputs": [],
   "source": [
    "# If any scaler value such as integer is added to the numpy array then all the elements inside the array will add that value in it"
   ]
  },
  {
   "cell_type": "code",
   "execution_count": 13,
   "id": "8019daca-2ed5-4663-bf96-772204fc43a8",
   "metadata": {},
   "outputs": [],
   "source": [
    "# Q7. Can array-to-scalar operations use combined operation-assign operators (such as += or *=)? What is the outcome ?"
   ]
  },
  {
   "cell_type": "code",
   "execution_count": 14,
   "id": "ab18051b-a04c-4d49-a106-dbd31e0020b7",
   "metadata": {},
   "outputs": [],
   "source": [
    "# It will carry out provided operation on all elements of array."
   ]
  },
  {
   "cell_type": "code",
   "execution_count": 15,
   "id": "a1e660cd-b221-4f60-ab85-dd8e2b7fec0f",
   "metadata": {},
   "outputs": [],
   "source": [
    "# Q8. Does a numpy array contain fixed-length strings? What happens if you allocate a longer string to one of these arrays ?"
   ]
  },
  {
   "cell_type": "code",
   "execution_count": 16,
   "id": "b1d54a25-e077-42d5-a2b0-818ff9e19310",
   "metadata": {},
   "outputs": [],
   "source": [
    "# Yes, it is possible that we can include a string of fixed length in numpy array. The dtype of any numpy array containing string values is the maximum length of any string present in the array.Once set, it will only be able to store new string having length not more than the maximum length at the time of the creation. If we try to reassign some another string value having length greater than the maximum length of the existing elements, it simply discards all the values beyond the maximum length accept upto those values which are under the limit."
   ]
  },
  {
   "cell_type": "code",
   "execution_count": 17,
   "id": "86767a7a-b599-47d3-a6a7-8a10b1cda940",
   "metadata": {},
   "outputs": [],
   "source": [
    "# Q9. What happens when you combine two numpy arrays using an operation like addition (+) or multiplication (*)? What are the conditions for combining two numpy arrays ?"
   ]
  },
  {
   "cell_type": "code",
   "execution_count": 18,
   "id": "cb33f8fb-51db-4564-99e4-3c9d7b595e8c",
   "metadata": {},
   "outputs": [],
   "source": [
    "# It will simply add or multiply element to element at same position"
   ]
  },
  {
   "cell_type": "code",
   "execution_count": 19,
   "id": "03975550-61b2-4344-ac99-37be7abdc209",
   "metadata": {},
   "outputs": [],
   "source": [
    "# Q10. What is the best way to use a Boolean array to mask another array ?"
   ]
  },
  {
   "cell_type": "code",
   "execution_count": 20,
   "id": "c55896a1-cc6e-49ee-ac56-c311fed9dd0e",
   "metadata": {},
   "outputs": [],
   "source": [
    "# The best way to use a Boolean array to mask another array is by Using masked_where of numpy package"
   ]
  },
  {
   "cell_type": "code",
   "execution_count": 21,
   "id": "a1d7e3b4-aaee-4dd9-9bcd-a70c76c54d12",
   "metadata": {},
   "outputs": [],
   "source": [
    "# Q11. What are three different ways to get the standard deviation of a wide collection of data using both standard Python and its packages? Sort the three of them by how quickly they execute ?"
   ]
  },
  {
   "cell_type": "code",
   "execution_count": 22,
   "id": "08890eeb-69ab-4659-9ad2-937122bd180e",
   "metadata": {},
   "outputs": [],
   "source": [
    "# np.std and math package can be used individually."
   ]
  },
  {
   "cell_type": "code",
   "execution_count": 23,
   "id": "e786d8eb-67ad-4d34-9721-520ba6d7dfa3",
   "metadata": {},
   "outputs": [],
   "source": [
    "# 12. What is the dimensionality of a Boolean mask-generated array ?"
   ]
  },
  {
   "cell_type": "code",
   "execution_count": 24,
   "id": "c0711098-4f68-4493-b09d-5c1178275ca3",
   "metadata": {},
   "outputs": [],
   "source": [
    "# It will have same dimensionality as input array."
   ]
  },
  {
   "cell_type": "code",
   "execution_count": null,
   "id": "aa5afe32-a245-4b2f-8936-e63ee0b37fae",
   "metadata": {},
   "outputs": [],
   "source": []
  }
 ],
 "metadata": {
  "kernelspec": {
   "display_name": "Python 3 (ipykernel)",
   "language": "python",
   "name": "python3"
  },
  "language_info": {
   "codemirror_mode": {
    "name": "ipython",
    "version": 3
   },
   "file_extension": ".py",
   "mimetype": "text/x-python",
   "name": "python",
   "nbconvert_exporter": "python",
   "pygments_lexer": "ipython3",
   "version": "3.10.6"
  }
 },
 "nbformat": 4,
 "nbformat_minor": 5
}
