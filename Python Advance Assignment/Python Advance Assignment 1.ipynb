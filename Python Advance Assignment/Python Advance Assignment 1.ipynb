{
 "cells": [
  {
   "cell_type": "code",
   "execution_count": 1,
   "id": "8c480493-1302-40c2-858b-22fe0299bcfe",
   "metadata": {},
   "outputs": [],
   "source": [
    "# Q1. What is the purpose of Python's OOP?"
   ]
  },
  {
   "cell_type": "code",
   "execution_count": 2,
   "id": "41ce49dc-ee70-4f46-b1b1-60c66222c6be",
   "metadata": {},
   "outputs": [],
   "source": [
    "# In Python, OOP is integral to the language, and it provides classes and objects as first-class citizens. Python's support for OOP makes it an excellent choice for building large and complex software systems, and it is widely used in various domains, from web development to scientific computing and more."
   ]
  },
  {
   "cell_type": "code",
   "execution_count": 3,
   "id": "0fcc8fa4-8aed-445f-ac30-bd6fc6ae9028",
   "metadata": {},
   "outputs": [],
   "source": [
    "# Q2. Where does an inheritance search look for an attribute?"
   ]
  },
  {
   "cell_type": "code",
   "execution_count": 4,
   "id": "b29e7f48-7e64-44db-871d-e327d61e6610",
   "metadata": {},
   "outputs": [],
   "source": [
    "# In Python, when you access an attribute (a variable or method) of an object, the inheritance search (also known as attribute lookup or method resolution) follows a specific order. This order is known as the Method Resolution Order (MRO) and is determined by the C3 linearization algorithm. The MRO defines where Python looks for an attribute when it's not found in the current class."
   ]
  },
  {
   "cell_type": "code",
   "execution_count": 5,
   "id": "c3860015-50da-42b2-988b-aabe20115205",
   "metadata": {},
   "outputs": [],
   "source": [
    "# Q3. How do you distinguish between a class object and an instance object?"
   ]
  },
  {
   "cell_type": "code",
   "execution_count": 6,
   "id": "e3bd1b94-810b-4b85-9854-fdc877a19181",
   "metadata": {},
   "outputs": [],
   "source": [
    "#  class objects define the structure and shared behavior of a class, while instance objects are individual instances of that class, each with its own unique data and state. Understanding this distinction is fundamental to working with object-oriented programming in Python."
   ]
  },
  {
   "cell_type": "code",
   "execution_count": 7,
   "id": "42032dc2-04f7-47b2-8bc6-30876c88233c",
   "metadata": {},
   "outputs": [],
   "source": [
    "# Q4. What makes the first argument in a class’s method function special?"
   ]
  },
  {
   "cell_type": "code",
   "execution_count": 8,
   "id": "add6d177-a397-44c3-a73c-b6d07ffa753b",
   "metadata": {},
   "outputs": [],
   "source": [
    "# The first argument in a class's method function, commonly named self, holds a reference to the instance of the class on which the method is called. This special argument enables access and modification of instance-specific attributes and methods, facilitating the encapsulation of unique data and behavior within each instance. It is a fundamental concept in object-oriented programming in Python, distinguishing instance-specific attributes and methods from those shared across all instances, and plays a crucial role in instance initialization, attribute access, method calling, and instance-specific operations."
   ]
  },
  {
   "cell_type": "code",
   "execution_count": 9,
   "id": "5ef1c562-add7-460e-872c-52fb83502a12",
   "metadata": {},
   "outputs": [],
   "source": [
    "# Q5. What is the purpose of the __init__ method?"
   ]
  },
  {
   "cell_type": "code",
   "execution_count": 10,
   "id": "110c42ee-f4a1-4b4b-bf1a-5ec940359226",
   "metadata": {},
   "outputs": [],
   "source": [
    "# The __init__ method in Python serves as a constructor for classes, and its main purpose is to initialize the attributes of an instance when an object is created. It allows for the assignment of initial values to instance-specific attributes, which define the object's unique state and behavior. By customizing the __init__ method, you can create instances with specific data, making it a fundamental component for setting up the initial state of objects and enabling object-specific initialization and attribute assignment during object creation."
   ]
  },
  {
   "cell_type": "code",
   "execution_count": 13,
   "id": "a0177b86-cb58-4369-b263-f857f3d52152",
   "metadata": {},
   "outputs": [],
   "source": [
    "# Q6. What is the process for creating a class instance?"
   ]
  },
  {
   "cell_type": "code",
   "execution_count": 14,
   "id": "8b2e022f-f20a-4e1a-b279-82513b1e4c64",
   "metadata": {},
   "outputs": [],
   "source": [
    "# To create a class instance in Python, you first define a class using the class keyword. Inside the class definition, you typically include a special method called __init__ to initialize the instance-specific attributes. When you want to create an instance, you call the class like a function, passing any required arguments to the __init__ method, and this creates a new object from the class. Once the instance is created, you can access its attributes and call its methods using the instance name, allowing you to work with the data and behavior specific to that instance. This process is essential for creating and working with objects in object-oriented programming."
   ]
  },
  {
   "cell_type": "code",
   "execution_count": 15,
   "id": "4af0af73-ace4-4ce5-b1d4-ebb222b874de",
   "metadata": {},
   "outputs": [],
   "source": [
    "# Q7. What is the process for creating a class?"
   ]
  },
  {
   "cell_type": "code",
   "execution_count": 16,
   "id": "38931a10-a26f-4be7-9257-3f8c9f51b83b",
   "metadata": {},
   "outputs": [],
   "source": [
    "# Creating a class in Python involves defining a blueprint for objects with the class keyword. Within the class definition, you can specify attributes (variables) and methods (functions) that describe the structure and behavior of objects created from that class. You can also include a special method, often __init__, for initializing object attributes. Once the class is defined, you can create instances (objects) of the class by calling the class like a function, passing any required arguments to the __init__ method, if present. These instances will have the attributes and behavior defined in the class, allowing you to work with specific instances of the class. This process is fundamental to object-oriented programming in Python."
   ]
  },
  {
   "cell_type": "code",
   "execution_count": 17,
   "id": "7ff2f4fb-85d5-4d93-9a53-bc42ac4d56bb",
   "metadata": {},
   "outputs": [],
   "source": [
    "# Q8. How would you define the superclasses of a class?"
   ]
  },
  {
   "cell_type": "code",
   "execution_count": null,
   "id": "fd1a7ef3-62f4-4abb-afc5-f1df4747159f",
   "metadata": {},
   "outputs": [],
   "source": []
  }
 ],
 "metadata": {
  "kernelspec": {
   "display_name": "Python 3 (ipykernel)",
   "language": "python",
   "name": "python3"
  },
  "language_info": {
   "codemirror_mode": {
    "name": "ipython",
    "version": 3
   },
   "file_extension": ".py",
   "mimetype": "text/x-python",
   "name": "python",
   "nbconvert_exporter": "python",
   "pygments_lexer": "ipython3",
   "version": "3.10.6"
  }
 },
 "nbformat": 4,
 "nbformat_minor": 5
}
