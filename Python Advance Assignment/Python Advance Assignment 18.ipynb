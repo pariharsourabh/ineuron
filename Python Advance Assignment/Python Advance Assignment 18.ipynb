{
 "cells": [
  {
   "cell_type": "code",
   "execution_count": 1,
   "id": "4f68e919-981f-4930-aacb-64ac5daf3996",
   "metadata": {},
   "outputs": [],
   "source": [
    "# Q1. Describe the differences between text and binary files in a single paragraph."
   ]
  },
  {
   "cell_type": "code",
   "execution_count": 2,
   "id": "e81c3134-d829-4f53-9a5e-4f4a2d2e0025",
   "metadata": {},
   "outputs": [],
   "source": [
    "# The differences between Text Files and Binary Files are:\n",
    "\n",
    "# Text files are special subset of binary files that are used to store human readable characters as a rich text document or plain text document. Text files also store data in sequential bytes but bits in text file represents characters.\n",
    "\n",
    "# Binary files are those typical files that store data in the form of sequence of bytes grouped into eight bits or sometimes sixteen bits. These bits represent custom data and such files can store multiple types of data (images, audio, text, etc) under a single file."
   ]
  },
  {
   "cell_type": "code",
   "execution_count": 3,
   "id": "ef7bcf84-8a10-43e3-bd36-ac6002563343",
   "metadata": {},
   "outputs": [],
   "source": [
    "# Q2. What are some scenarios where using text files will be the better option? When would you like to use binary files instead of text files?"
   ]
  },
  {
   "cell_type": "code",
   "execution_count": 4,
   "id": "edaaca4b-9285-46b9-a929-dd792906ecad",
   "metadata": {},
   "outputs": [],
   "source": [
    "# Text files are less prone to get corrupted as any undesired change may just show up once the file is opened and then can easily be removed. Whereas Use binary files instead of text files for image data."
   ]
  },
  {
   "cell_type": "code",
   "execution_count": 5,
   "id": "b884ceb0-8bba-479f-b49d-efe8417350b7",
   "metadata": {},
   "outputs": [],
   "source": [
    "# Q3. What are some of the issues with using binary operations to read and write a Python integer directly to disc?"
   ]
  },
  {
   "cell_type": "code",
   "execution_count": 6,
   "id": "ebac767c-7e7e-4e8a-8336-840af92ccbd9",
   "metadata": {},
   "outputs": [],
   "source": [
    "# When we read or write a python integer using binary operations\n",
    "\n",
    "# Binary operations deal with raw data\n",
    "# One needs to identify how many bytes one would read or write."
   ]
  },
  {
   "cell_type": "code",
   "execution_count": 7,
   "id": "76e78a62-4027-4c18-8070-7a3b2b15567c",
   "metadata": {},
   "outputs": [],
   "source": [
    "# Q4. Describe a benefit of using the with keyword instead of explicitly opening a file."
   ]
  },
  {
   "cell_type": "code",
   "execution_count": 8,
   "id": "f08b93e2-2e08-4196-b398-f5d6eadb8b6f",
   "metadata": {},
   "outputs": [],
   "source": [
    "# When a file is opened using the with keyword, if some exceptions occur after opening a file, or at the end of the file it automatically does the closing of the file. There by not leaving an file in open mode and there would no need to explicitly close a file."
   ]
  },
  {
   "cell_type": "code",
   "execution_count": 9,
   "id": "5b4eeda4-65d8-4451-b157-3c2016030cfb",
   "metadata": {},
   "outputs": [],
   "source": [
    "# Q5. Does Python have the trailing newline while reading a line of text? Does Python append a newline when you write a line of text?"
   ]
  },
  {
   "cell_type": "code",
   "execution_count": 11,
   "id": "2d3d9548-df9e-4149-baf0-bf033ad7ad38",
   "metadata": {},
   "outputs": [],
   "source": [
    "# Yes, Python have the trailing newline while reading a line of text. When we write a newline has to be provided in python excpicitly."
   ]
  },
  {
   "cell_type": "code",
   "execution_count": 10,
   "id": "ecab4fd7-84ca-4823-ad35-3051f686d07b",
   "metadata": {},
   "outputs": [],
   "source": [
    "# Q6. What file operations enable for random-access operation?"
   ]
  },
  {
   "cell_type": "code",
   "execution_count": 12,
   "id": "8c48bede-3a64-4800-8619-7e7dc3889b29",
   "metadata": {},
   "outputs": [],
   "source": [
    "# The file operations enable for random-access operation are seek() and tell()"
   ]
  },
  {
   "cell_type": "code",
   "execution_count": 13,
   "id": "088d5ed4-39ae-4204-ad3d-3e270edfa64c",
   "metadata": {},
   "outputs": [],
   "source": [
    "# Q7. When do you think you'll use the struct package the most?"
   ]
  },
  {
   "cell_type": "code",
   "execution_count": 14,
   "id": "cc3d5372-60c1-4f09-b153-25e904c82002",
   "metadata": {},
   "outputs": [],
   "source": [
    "# The struct package is mostly used while converting a common python types into C language types."
   ]
  },
  {
   "cell_type": "code",
   "execution_count": 15,
   "id": "d0b76fdf-c41a-4c30-ac19-2f8eeaee8060",
   "metadata": {},
   "outputs": [],
   "source": [
    "# Q8. When is pickling the best option?"
   ]
  },
  {
   "cell_type": "code",
   "execution_count": 16,
   "id": "f3f57498-1463-43e3-be60-d76f37e0374e",
   "metadata": {},
   "outputs": [],
   "source": [
    "# Pickling is best option for creating a new binary file using python"
   ]
  },
  {
   "cell_type": "code",
   "execution_count": 19,
   "id": "0f2bfaad-6074-49a3-bcdc-5259686430e9",
   "metadata": {},
   "outputs": [],
   "source": [
    "# Q9. When will it be best to use the shelve package?"
   ]
  },
  {
   "cell_type": "code",
   "execution_count": 20,
   "id": "36733ac7-add9-4550-9c15-17433fa059fc",
   "metadata": {},
   "outputs": [],
   "source": [
    "# Shelve package is used to pickle data but treats the entire file as dictionary."
   ]
  },
  {
   "cell_type": "code",
   "execution_count": 21,
   "id": "f5e81d46-3420-4b67-8c64-5751107587b2",
   "metadata": {},
   "outputs": [],
   "source": [
    "# Q10. What is a special restriction when using the shelve package, as opposed to using other data dictionaries?"
   ]
  },
  {
   "cell_type": "code",
   "execution_count": 22,
   "id": "dea3678a-fd5f-4483-bd85-8e58f534dfd4",
   "metadata": {},
   "outputs": [],
   "source": [
    "# Only string data type can be used as key in this special dictionary object, whereas any picklable Python object can be used as value."
   ]
  },
  {
   "cell_type": "code",
   "execution_count": null,
   "id": "eaf9e881-3859-40b2-a1b4-4f553f728c9c",
   "metadata": {},
   "outputs": [],
   "source": []
  }
 ],
 "metadata": {
  "kernelspec": {
   "display_name": "Python 3 (ipykernel)",
   "language": "python",
   "name": "python3"
  },
  "language_info": {
   "codemirror_mode": {
    "name": "ipython",
    "version": 3
   },
   "file_extension": ".py",
   "mimetype": "text/x-python",
   "name": "python",
   "nbconvert_exporter": "python",
   "pygments_lexer": "ipython3",
   "version": "3.10.6"
  }
 },
 "nbformat": 4,
 "nbformat_minor": 5
}
