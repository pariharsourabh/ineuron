{
 "cells": [
  {
   "cell_type": "code",
   "execution_count": 1,
   "id": "e56e978c-6e67-40ba-b726-89e0f85c6007",
   "metadata": {},
   "outputs": [],
   "source": [
    "# Q1. What is the purpose of the try statement?"
   ]
  },
  {
   "cell_type": "code",
   "execution_count": 2,
   "id": "3769e585-a9b5-4fa5-9393-f7843ee04705",
   "metadata": {},
   "outputs": [],
   "source": [
    "# The purpose of the try statement in Python is to enclose a block of code in which you anticipate potential exceptions or errors. It allows you to handle exceptions gracefully and prevent your program from crashing."
   ]
  },
  {
   "cell_type": "code",
   "execution_count": 3,
   "id": "751524e9-5fed-44f0-b796-7bd01d45f621",
   "metadata": {},
   "outputs": [],
   "source": [
    "# Q2. What are the two most popular try statement variations?"
   ]
  },
  {
   "cell_type": "code",
   "execution_count": 4,
   "id": "013cac53-efc3-4174-aebb-8e68b7da6c68",
   "metadata": {},
   "outputs": [
    {
     "name": "stdout",
     "output_type": "stream",
     "text": [
      "Error: Division by zero\n"
     ]
    }
   ],
   "source": [
    "try:\n",
    "    # Code that may raise an exception\n",
    "    result = 10 / 0\n",
    "except ZeroDivisionError:\n",
    "    # Handle the exception\n",
    "    print(\"Error: Division by zero\")"
   ]
  },
  {
   "cell_type": "code",
   "execution_count": 5,
   "id": "79632d3c-b41e-4cd0-a578-c238312dec06",
   "metadata": {},
   "outputs": [
    {
     "name": "stdout",
     "output_type": "stream",
     "text": [
      "Division successful. Result: 5.0\n"
     ]
    }
   ],
   "source": [
    "try:\n",
    "    # Code that may raise an exception\n",
    "    result = 10 / 2\n",
    "except ZeroDivisionError:\n",
    "    # Handle the exception\n",
    "    print(\"Error: Division by zero\")\n",
    "else:\n",
    "    # Code to execute if no exception occurred\n",
    "    print(\"Division successful. Result:\", result)"
   ]
  },
  {
   "cell_type": "code",
   "execution_count": 6,
   "id": "17e597ae-eb9c-4b1e-8fbd-ade136fef20c",
   "metadata": {},
   "outputs": [],
   "source": [
    "# Q3. What is the purpose of the raise statement?"
   ]
  },
  {
   "cell_type": "code",
   "execution_count": 7,
   "id": "1d38481e-aa48-4461-81e3-ea2370caf941",
   "metadata": {},
   "outputs": [],
   "source": [
    "# The purpose of the `raise` statement in Python is to explicitly raise exceptions or errors within your code. It allows you to signal that an exceptional condition has occurred, which can be caught and handled by an appropriate `except` block in your code. The `raise` statement is used to generate custom exceptions or propagate built-in exceptions with additional context or information, providing meaningful error messages and helping you control how exceptional situations are handled in your program. This statement is essential for creating and managing your own exceptions and for adding context to exceptions raised by the Python interpreter or external libraries."
   ]
  },
  {
   "cell_type": "code",
   "execution_count": 8,
   "id": "66950df6-2171-4d34-bead-ca6080251316",
   "metadata": {},
   "outputs": [],
   "source": [
    "# Q4. What does the assert statement do, and what other statement is it like?"
   ]
  },
  {
   "cell_type": "code",
   "execution_count": 9,
   "id": "b15ba1b3-288c-4ebe-8780-73fe7957f39a",
   "metadata": {},
   "outputs": [],
   "source": [
    "# The assert statement in Python is used to check a condition and raise an AssertionError if the condition is False. It is similar in purpose to the if statement, but it is primarily used for debugging and verifying assumptions during development"
   ]
  },
  {
   "cell_type": "code",
   "execution_count": 10,
   "id": "65a9fc5a-8681-468e-a503-941bcc48d0fe",
   "metadata": {},
   "outputs": [],
   "source": [
    "# Q5. What is the purpose of the with/as argument, and what other statement is it like?"
   ]
  },
  {
   "cell_type": "code",
   "execution_count": 11,
   "id": "9209ad6c-aa20-43d4-bd3c-7786b7bbe699",
   "metadata": {},
   "outputs": [],
   "source": [
    "# The `with/as` statement in Python is used for resource management, such as file handling, by ensuring that certain operations are performed before and after a block of code. It is similar in purpose to the `try/finally` statement, but it provides a more concise and readable way to manage resources, such as files, and is commonly used for implementing context managers."
   ]
  },
  {
   "cell_type": "code",
   "execution_count": null,
   "id": "151089de-8712-4632-88ff-cf336bc7c1a8",
   "metadata": {},
   "outputs": [],
   "source": []
  }
 ],
 "metadata": {
  "kernelspec": {
   "display_name": "Python 3 (ipykernel)",
   "language": "python",
   "name": "python3"
  },
  "language_info": {
   "codemirror_mode": {
    "name": "ipython",
    "version": 3
   },
   "file_extension": ".py",
   "mimetype": "text/x-python",
   "name": "python",
   "nbconvert_exporter": "python",
   "pygments_lexer": "ipython3",
   "version": "3.10.6"
  }
 },
 "nbformat": 4,
 "nbformat_minor": 5
}
