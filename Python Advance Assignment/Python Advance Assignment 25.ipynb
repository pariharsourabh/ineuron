{
 "cells": [
  {
   "cell_type": "code",
   "execution_count": 1,
   "id": "e5605799-4233-4334-a203-0f6c43c71ca2",
   "metadata": {},
   "outputs": [],
   "source": [
    "# Q1. What is the distinction between a numpy array and a pandas data frame? Is there a way to convert between the two if there is?"
   ]
  },
  {
   "cell_type": "code",
   "execution_count": 2,
   "id": "7f1c1931-e9fe-4781-a891-a9b9f561518f",
   "metadata": {},
   "outputs": [],
   "source": [
    "#  Numpy Ndarray provides a lot of convenient and optimized methods for performing several mathematical operations on vectors.\n",
    "\n",
    "# Pandas Dataframe is an in-memory 2-dimensional tabular representation of data. In simpler words, it can be seen as a spreadsheet having rows and columns.\n",
    "\n",
    "# Conversion : Dataframe=pandas.DataFrame(array)"
   ]
  },
  {
   "cell_type": "code",
   "execution_count": 3,
   "id": "9a428e5c-7256-455f-b842-88f51b8d9f5d",
   "metadata": {},
   "outputs": [],
   "source": [
    "# Q2. What can go wrong when an user enters in a stock-ticker symbol, and how do you handle it?"
   ]
  },
  {
   "cell_type": "code",
   "execution_count": 4,
   "id": "27476260-899b-4f9d-8cfa-ce9aed977a8a",
   "metadata": {},
   "outputs": [],
   "source": [
    "# When a user enters a stock ticker symbol, several issues can arise, such as misspellings, invalid symbols, or symbol variations. To handle these issues, you can implement error-checking and validation mechanisms, including checking against a valid list of stock ticker symbols, providing suggestions for potential corrections, and ensuring that the input adheres to the expected format. Additionally, error-handling techniques like try-except blocks can be used to gracefully manage exceptions that may occur during the validation process."
   ]
  },
  {
   "cell_type": "code",
   "execution_count": 5,
   "id": "4dc78d2d-09ee-4190-b13a-ef83f9ac74a5",
   "metadata": {},
   "outputs": [],
   "source": [
    "# Q3. Identify some of the plotting techniques that are used to produce a stock-market chart."
   ]
  },
  {
   "cell_type": "code",
   "execution_count": 6,
   "id": "d89e769a-c5e7-40cb-b8d7-0f0eb788bdee",
   "metadata": {},
   "outputs": [],
   "source": [
    "# Bar chart, Line Chart are used for plotting."
   ]
  },
  {
   "cell_type": "code",
   "execution_count": 7,
   "id": "130cb26d-ea45-4540-aad4-83323d949956",
   "metadata": {},
   "outputs": [],
   "source": [
    "# Q4. Why is it essential to print a legend on a stock market chart?"
   ]
  },
  {
   "cell_type": "code",
   "execution_count": 8,
   "id": "f8f16306-bdb2-4d6b-8fb8-16a3e5bc42a2",
   "metadata": {},
   "outputs": [],
   "source": [
    "#  Legend will help comparison between different stocks, so will be essential on a stock market chart"
   ]
  },
  {
   "cell_type": "code",
   "execution_count": 9,
   "id": "47185d8e-3143-4007-99c0-50c3b56ee6bc",
   "metadata": {},
   "outputs": [],
   "source": [
    "# Q5. What is the best way to limit the length of a pandas data frame to less than a year?"
   ]
  },
  {
   "cell_type": "code",
   "execution_count": 10,
   "id": "3d3049f5-9a81-4076-b176-7a25138f687f",
   "metadata": {},
   "outputs": [],
   "source": [
    "# We can use start and end parameters for that. In start we write the date from where we are starting and at the end we write the end date. SO within this span we can restric the duration.Also we can use the parameters like periods for how much times we need the duration and we can also use the frequency parameter."
   ]
  },
  {
   "cell_type": "code",
   "execution_count": 11,
   "id": "7a613d30-b8fe-4ea5-b9f3-ab568a682061",
   "metadata": {},
   "outputs": [],
   "source": [
    "# Q6. What is the definition of a 180-day moving average?"
   ]
  },
  {
   "cell_type": "code",
   "execution_count": 12,
   "id": "0c1e155a-5bed-4ebb-8b9d-0e0fbea78ba0",
   "metadata": {},
   "outputs": [],
   "source": [
    " # The 180-day moving average is represented as a line on charts and represents the average price over the past 180 days. The moving average can give traders a sense regarding whether the trend is up or down, while also identifying potential support or resistance areas."
   ]
  },
  {
   "cell_type": "code",
   "execution_count": 13,
   "id": "ae9ad9fc-5eb4-4fb0-a911-f122f7a8d048",
   "metadata": {},
   "outputs": [],
   "source": [
    "# Q7. Did the chapter's final example use \"indirect\" importing? If so, how exactly do you do it?"
   ]
  },
  {
   "cell_type": "code",
   "execution_count": 14,
   "id": "23c51897-68c8-49ec-bbe9-562edd8978d9",
   "metadata": {},
   "outputs": [],
   "source": [
    "# The term \"indirect importing\" is not a standard Python concept, so it's important to clarify the context of the chapter and the specific example you are referring to in order to provide a precise answer. Python typically uses direct imports to access modules or objects from other modules. However, if you have a specific example or context related to \"indirect importing\" in Python, please provide more details, and I'll be happy to assist you further."
   ]
  },
  {
   "cell_type": "code",
   "execution_count": null,
   "id": "9209d8d6-0836-4225-bfd8-d775ece40477",
   "metadata": {},
   "outputs": [],
   "source": []
  }
 ],
 "metadata": {
  "kernelspec": {
   "display_name": "Python 3 (ipykernel)",
   "language": "python",
   "name": "python3"
  },
  "language_info": {
   "codemirror_mode": {
    "name": "ipython",
    "version": 3
   },
   "file_extension": ".py",
   "mimetype": "text/x-python",
   "name": "python",
   "nbconvert_exporter": "python",
   "pygments_lexer": "ipython3",
   "version": "3.10.6"
  }
 },
 "nbformat": 4,
 "nbformat_minor": 5
}
