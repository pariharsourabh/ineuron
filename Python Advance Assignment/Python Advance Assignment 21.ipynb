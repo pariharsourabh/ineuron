{
 "cells": [
  {
   "cell_type": "code",
   "execution_count": 1,
   "id": "11d1c084-c617-4aba-ba3c-1c306a455c10",
   "metadata": {},
   "outputs": [],
   "source": [
    "# Q1. What is a probability distribution, exactly? If the values are meant to be random, how can you predict them at all?"
   ]
  },
  {
   "cell_type": "code",
   "execution_count": 2,
   "id": "d0637849-cddc-43b9-8b4b-a9d6a52e1e8a",
   "metadata": {},
   "outputs": [],
   "source": [
    "# A probability distribution describes how a random variable is distributed.\n",
    "\n",
    "# It tells us which values a random variable is most likely to take on and which values are less likely. Based on the previous data and the occurences of the random event, we can predict the outcome in terms of probabilities."
   ]
  },
  {
   "cell_type": "code",
   "execution_count": 3,
   "id": "63ee0135-782a-4c43-8efb-cf54b33c83cb",
   "metadata": {},
   "outputs": [],
   "source": [
    "# Q2. Is there a distinction between true random numbers and pseudo-random numbers, if there is one? Why are the latter considered “good enough”?"
   ]
  },
  {
   "cell_type": "code",
   "execution_count": 4,
   "id": "27ed2b21-cfce-4250-b3f1-9e30c34538ca",
   "metadata": {},
   "outputs": [],
   "source": [
    "# True Random Numbers are true physical values while pseudo-random numbers are generated internally by a program . Latter is considered good enough as they have sort of uniform distribution."
   ]
  },
  {
   "cell_type": "code",
   "execution_count": 5,
   "id": "6e6aa3c5-8519-4db6-bf68-7d0d2b459e85",
   "metadata": {},
   "outputs": [],
   "source": [
    "# Q3. What are the two main factors that influence the behaviour of a \"normal\" probability distribution ?"
   ]
  },
  {
   "cell_type": "code",
   "execution_count": 6,
   "id": "d04fd4ed-89cb-456e-b595-30828b80a4bd",
   "metadata": {},
   "outputs": [],
   "source": [
    "# Normal Probability Distribution are influenced by two factors mean and the variance."
   ]
  },
  {
   "cell_type": "code",
   "execution_count": 7,
   "id": "3e7dd7eb-99e5-4ce2-9c0d-12cb9ae53e8c",
   "metadata": {},
   "outputs": [],
   "source": [
    "# Q4. Provide a real-life example of a normal distribution ?"
   ]
  },
  {
   "cell_type": "code",
   "execution_count": 8,
   "id": "d0f9c4f6-c81c-4fcf-be8b-edaf09995ca0",
   "metadata": {},
   "outputs": [],
   "source": [
    "# A Real-life example of a normal distribution are heights or blood pressure measurements"
   ]
  },
  {
   "cell_type": "code",
   "execution_count": 9,
   "id": "41e423f8-bf19-4844-8f99-ccedc7f290bc",
   "metadata": {},
   "outputs": [],
   "source": [
    "# Q5. In the short term, how can you expect a probability distribution to behave? What do you think will happen as the number of trials grows ?"
   ]
  },
  {
   "cell_type": "code",
   "execution_count": 10,
   "id": "3c4e8c4b-303f-420d-8819-dc2b2b7af08e",
   "metadata": {},
   "outputs": [],
   "source": [
    "# Variance will decrease with number of trials"
   ]
  },
  {
   "cell_type": "code",
   "execution_count": 11,
   "id": "8d4d078a-829a-46c5-a04b-7455a167c45a",
   "metadata": {},
   "outputs": [],
   "source": [
    "# Q6. What kind of object can be shuffled by using random.shuffle ?"
   ]
  },
  {
   "cell_type": "code",
   "execution_count": 13,
   "id": "c18fc8f3-ecc0-4844-a9e3-659096547aa0",
   "metadata": {},
   "outputs": [],
   "source": [
    "# lists (list), strings (str) and tuples (tuple) objects can be shuffled by using random.shuffle."
   ]
  },
  {
   "cell_type": "code",
   "execution_count": 14,
   "id": "aad2cde3-b225-4d93-835c-fffdb1449dcd",
   "metadata": {},
   "outputs": [],
   "source": [
    "# Q7. Describe the math package's general categories of functions ?"
   ]
  },
  {
   "cell_type": "code",
   "execution_count": 15,
   "id": "f0e6cc00-2b72-46e3-bc3c-6d27ed3eac73",
   "metadata": {},
   "outputs": [],
   "source": [
    "# The Math package's general categories of functions are:\n",
    "\n",
    "# Trigonometric functions\n",
    "# Quadratic functions\n",
    "# Exponential functions\n",
    "# Hyperbolic functions\n",
    "# Periodic functions\n",
    "# Arithmetic functions\n",
    "# Logarithimic functions\n",
    "# Conversions to Integer"
   ]
  },
  {
   "cell_type": "code",
   "execution_count": 16,
   "id": "36274962-23a2-4429-9cd4-54a10dffe224",
   "metadata": {},
   "outputs": [],
   "source": [
    "# Q8. What is the relationship between exponentiation and logarithms ?"
   ]
  },
  {
   "cell_type": "code",
   "execution_count": 17,
   "id": "2ddacd41-7123-4b39-bb0b-4b8bc5f43499",
   "metadata": {},
   "outputs": [],
   "source": [
    "# Exponentiation and logarithms are inverse of each other."
   ]
  },
  {
   "cell_type": "code",
   "execution_count": 18,
   "id": "b32ceddd-6f9d-4479-8c6c-7650399757d4",
   "metadata": {},
   "outputs": [],
   "source": [
    "# Q9. What are the three logarithmic functions that Python supports ?"
   ]
  },
  {
   "cell_type": "code",
   "execution_count": 19,
   "id": "789092f1-06e7-4b59-8296-8a7f13fe2241",
   "metadata": {},
   "outputs": [],
   "source": [
    "# The Three Logarithmic Functions that Python supports are:\n",
    "\n",
    "# log2(x) - logarithmic value of x to base 2\n",
    "# log10(x) - logarithmic value of x to base 10\n",
    "# log1p(a) - This function is used to compute logarithm(1+a) ."
   ]
  },
  {
   "cell_type": "code",
   "execution_count": null,
   "id": "fa7ab074-d9d1-4f46-b24f-6ead25b70d44",
   "metadata": {},
   "outputs": [],
   "source": []
  }
 ],
 "metadata": {
  "kernelspec": {
   "display_name": "Python 3 (ipykernel)",
   "language": "python",
   "name": "python3"
  },
  "language_info": {
   "codemirror_mode": {
    "name": "ipython",
    "version": 3
   },
   "file_extension": ".py",
   "mimetype": "text/x-python",
   "name": "python",
   "nbconvert_exporter": "python",
   "pygments_lexer": "ipython3",
   "version": "3.10.6"
  }
 },
 "nbformat": 4,
 "nbformat_minor": 5
}
