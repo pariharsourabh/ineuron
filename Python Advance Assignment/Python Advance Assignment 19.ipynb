{
 "cells": [
  {
   "cell_type": "code",
   "execution_count": 1,
   "id": "3ba04a30-f06c-46ba-ac1d-ca8dd5a22824",
   "metadata": {},
   "outputs": [],
   "source": [
    "# Q1. Define the relationship between a class and its instances. Is it a one-to-one or a one-to-many partnership, for example?"
   ]
  },
  {
   "cell_type": "code",
   "execution_count": 2,
   "id": "0cce67ee-df35-40ee-ae1f-d34695ffa8c8",
   "metadata": {},
   "outputs": [],
   "source": [
    "# Relationship between a class and its instances is a one to many partnership."
   ]
  },
  {
   "cell_type": "code",
   "execution_count": 3,
   "id": "acfe6c91-2735-437b-a7e2-babdb5f94e46",
   "metadata": {},
   "outputs": [],
   "source": [
    "# Q2. What kind of data is held only in an instance?"
   ]
  },
  {
   "cell_type": "code",
   "execution_count": 4,
   "id": "f11e6898-2ecf-4e46-9e67-7c1310d73aaf",
   "metadata": {},
   "outputs": [],
   "source": [
    "# Instance objects contains the Instance variables which are specific to that specific Instance object."
   ]
  },
  {
   "cell_type": "code",
   "execution_count": 5,
   "id": "8b36cd12-713f-48ac-80a4-7c7e0fb88264",
   "metadata": {},
   "outputs": [],
   "source": [
    "# Q3. What kind of knowledge is stored in a class?"
   ]
  },
  {
   "cell_type": "code",
   "execution_count": 6,
   "id": "1bdfcd1a-25f6-44c5-935f-29ec6a50e227",
   "metadata": {},
   "outputs": [],
   "source": [
    "# Class creates a user-defined data structure, which holds its own data members and member functions, which can be accessed and used by creating an instance of that class. A class is like a blueprint for an object."
   ]
  },
  {
   "cell_type": "code",
   "execution_count": 7,
   "id": "93df9657-10ed-4f71-aede-889d4eb0f97b",
   "metadata": {},
   "outputs": [],
   "source": [
    "# Q4. What exactly is a method, and how is it different from a regular function?"
   ]
  },
  {
   "cell_type": "code",
   "execution_count": 8,
   "id": "74d20977-e764-46b0-a999-8c1e73153019",
   "metadata": {},
   "outputs": [],
   "source": [
    "# The methods with a class can be used to access the insatnce variables of its instance. So,the object's state can be modified by its method. Function can't access the attributes of an instance of a class or can't modify the state of the object."
   ]
  },
  {
   "cell_type": "code",
   "execution_count": 9,
   "id": "f84fc213-286a-4300-8793-adc3efacba14",
   "metadata": {},
   "outputs": [],
   "source": [
    "# Q5. Is inheritance supported in Python, and if so, what is the syntax?"
   ]
  },
  {
   "cell_type": "code",
   "execution_count": 10,
   "id": "4320bbba-06b6-4002-92a5-8cda76d431f7",
   "metadata": {},
   "outputs": [],
   "source": [
    "# Yes,Python supports inheritance\n",
    "class Person:\n",
    "    def __init__(self, fname, lname):\n",
    "        self.first_name = fname\n",
    "        self.last_name = lname\n",
    "class Student(Person):\n",
    "    pass"
   ]
  },
  {
   "cell_type": "code",
   "execution_count": 11,
   "id": "67da289f-ffa7-48ba-9c4e-d2c400cc2aa2",
   "metadata": {},
   "outputs": [],
   "source": [
    "# Q6. How much encapsulation (making instance or class variables private) does Python support?"
   ]
  },
  {
   "cell_type": "code",
   "execution_count": 12,
   "id": "d6aca470-d7be-4845-9bc0-50a04669786b",
   "metadata": {},
   "outputs": [],
   "source": [
    "# Encapsulation describes the idea of wrapping data and the methods that work on data within one unit. This puts restrictions on accessing variables and methods directly and can prevent the accidental modification of data. To prevent accidental change, an objects variable can only be changed by an objects method."
   ]
  },
  {
   "cell_type": "code",
   "execution_count": 13,
   "id": "79027149-0c7f-4cf2-9a63-48347483a6ab",
   "metadata": {},
   "outputs": [],
   "source": [
    "# Q7. How do you distinguish between a class variable and an instance variable?"
   ]
  },
  {
   "cell_type": "code",
   "execution_count": 14,
   "id": "144c5638-9817-4499-b4d1-d9625b75c9c8",
   "metadata": {},
   "outputs": [],
   "source": [
    "# The Class Attribute is available to all the instance objects of that class. whereas Instance Attributes are accessible only to the object or Instance of that class.\n",
    "\n",
    "# A single copy of Class attributes is maintained by pvm at the class level. Whereas difference copies of instance attributes are maintained by pvm at objects/instance level."
   ]
  },
  {
   "cell_type": "code",
   "execution_count": 15,
   "id": "f8cc0d0e-470d-449a-9dc0-203bb0e0c1b7",
   "metadata": {},
   "outputs": [],
   "source": [
    "# Q8. When, if ever, can self be included in a class's method definitions?"
   ]
  },
  {
   "cell_type": "code",
   "execution_count": 16,
   "id": "b193000b-10c8-4491-ad71-951527616745",
   "metadata": {},
   "outputs": [],
   "source": [
    "# Yes, self can included in class method definations to access the instance variables inside class methods."
   ]
  },
  {
   "cell_type": "code",
   "execution_count": 17,
   "id": "7527241b-e544-492f-87dc-4423bd9952fa",
   "metadata": {},
   "outputs": [],
   "source": [
    "# Q9. What is the difference between the __add__ and the __radd__ methods ?"
   ]
  },
  {
   "cell_type": "code",
   "execution_count": 18,
   "id": "52076691-42bc-403d-b2b9-c0bee74bec3b",
   "metadata": {},
   "outputs": [],
   "source": [
    " # Entering __radd__ Python will first try __add__(), and if that returns Not Implemented Python will check if the right-hand operand implements __radd__, and if it does, it will call __radd__() rather than raising a TypeError"
   ]
  },
  {
   "cell_type": "code",
   "execution_count": 19,
   "id": "39511a29-a75a-4432-abd5-17a0fc7199c1",
   "metadata": {},
   "outputs": [],
   "source": [
    "# Q10. When is it necessary to use a reflection method? When do you not need it, even though you support the operation in question?"
   ]
  },
  {
   "cell_type": "code",
   "execution_count": 20,
   "id": "051e5634-447f-4363-a8ed-1a0c8087afe0",
   "metadata": {},
   "outputs": [],
   "source": [
    "# Reflection method we often encounter the requirement that a method in the executing object, or a variable in the calling object, or a field of the object should be assigned, while the method name or field name can not be determined when encoding the code, and need to be input in the form of passing strings through parameters."
   ]
  },
  {
   "cell_type": "code",
   "execution_count": 21,
   "id": "3a7ddb91-2f5a-4a53-ab8e-40213fa9b108",
   "metadata": {},
   "outputs": [],
   "source": [
    "# Q11. What is the __iadd__ method called?"
   ]
  },
  {
   "cell_type": "code",
   "execution_count": 22,
   "id": "e019c849-d541-4f9f-99e8-ba3326d98a3e",
   "metadata": {},
   "outputs": [],
   "source": [
    "# __iadd__ method is called when we use implementation like a+=b which is a.__iadd__(b)"
   ]
  },
  {
   "cell_type": "code",
   "execution_count": 23,
   "id": "302931ce-7dac-4baa-a0e8-049aa0956ea0",
   "metadata": {},
   "outputs": [],
   "source": [
    "# Q12. Is the _ _init_ _ method inherited by subclasses? What do you do if you need to customize its behavior within a subclass ?"
   ]
  },
  {
   "cell_type": "code",
   "execution_count": 24,
   "id": "5741f2ee-bcd5-4ac3-a0b8-a8cb75306139",
   "metadata": {},
   "outputs": [],
   "source": [
    "# Yes, __init__ method will be inherited by subclasses. if we want to customize its behaviour within a subclass we can use super() method."
   ]
  },
  {
   "cell_type": "code",
   "execution_count": null,
   "id": "fa0cee67-ffc9-46ee-a123-18ce37f11fe2",
   "metadata": {},
   "outputs": [],
   "source": []
  }
 ],
 "metadata": {
  "kernelspec": {
   "display_name": "Python 3 (ipykernel)",
   "language": "python",
   "name": "python3"
  },
  "language_info": {
   "codemirror_mode": {
    "name": "ipython",
    "version": 3
   },
   "file_extension": ".py",
   "mimetype": "text/x-python",
   "name": "python",
   "nbconvert_exporter": "python",
   "pygments_lexer": "ipython3",
   "version": "3.10.6"
  }
 },
 "nbformat": 4,
 "nbformat_minor": 5
}
