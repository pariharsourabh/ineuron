{
 "cells": [
  {
   "cell_type": "code",
   "execution_count": 2,
   "id": "90626309-4838-442a-b906-6bea68688e7c",
   "metadata": {},
   "outputs": [],
   "source": [
    "# Q1. What is the relationship between classes and modules?"
   ]
  },
  {
   "cell_type": "code",
   "execution_count": 3,
   "id": "6eca564e-7aa9-4965-b840-f2a75ed4461c",
   "metadata": {},
   "outputs": [],
   "source": [
    "# Classes and modules are both organizational units in Python, but they serve different purposes. A class is a blueprint for creating objects with attributes and methods, encapsulating data and behavior into a single structure. Modules, on the other hand, are files that contain Python code, including functions, classes, and variables, and serve as a way to organize and package related code. While a module can contain classes, they are distinct concepts. Classes are used for creating objects and implementing object-oriented programming, while modules help in structuring and managing code in a file-based hierarchy, facilitating code reuse and organization. Modules can import and use classes defined in other modules, providing a way to combine the power of classes with modular code design."
   ]
  },
  {
   "cell_type": "code",
   "execution_count": 4,
   "id": "8c9d10c8-b245-48cb-a654-27506fbb78cf",
   "metadata": {},
   "outputs": [],
   "source": [
    "# Q2. How do you make instances and classes?"
   ]
  },
  {
   "cell_type": "code",
   "execution_count": 10,
   "id": "6336d881-c992-442d-a83c-f2535bd0f4f9",
   "metadata": {},
   "outputs": [
    {
     "name": "stdout",
     "output_type": "stream",
     "text": [
      "Hello, my name is SP and I am 28 years old.\n",
      "Hello, my name is DSP and I am 25 years old.\n"
     ]
    }
   ],
   "source": [
    "# Step 1: Define a class\n",
    "class Person:\n",
    "    def __init__(self, name, age):\n",
    "        self.name = name\n",
    "        self.age = age\n",
    "\n",
    "    def introduce(self):\n",
    "        print(f\"Hello, my name is {self.name} and I am {self.age} years old.\")\n",
    "\n",
    "# Step 2: Create instances\n",
    "person1 = Person(\"SP\", 28)\n",
    "person2 = Person(\"DSP\", 25)\n",
    "\n",
    "# Step 3: Access attributes and methods\n",
    "person1.introduce()\n",
    "person2.introduce()  "
   ]
  },
  {
   "cell_type": "code",
   "execution_count": 11,
   "id": "467f152f-4ace-4a25-8eba-ac54537df1b3",
   "metadata": {},
   "outputs": [],
   "source": [
    "# Q3. Where and how should be class attributes created?"
   ]
  },
  {
   "cell_type": "code",
   "execution_count": 12,
   "id": "01e62a9e-c503-4aed-9971-9123d3e10934",
   "metadata": {},
   "outputs": [
    {
     "name": "stdout",
     "output_type": "stream",
     "text": [
      "I am a class attribute\n",
      "Instance 1\n"
     ]
    }
   ],
   "source": [
    "class MyClass:\n",
    "    class_attribute = \"I am a class attribute\"  # Class attribute\n",
    "\n",
    "    def __init__(self, instance_attribute):\n",
    "        self.instance_attribute = instance_attribute  # Instance attribute\n",
    "\n",
    "obj1 = MyClass(\"Instance 1\")\n",
    "\n",
    "# Accessing class and instance attributes\n",
    "print(MyClass.class_attribute)  # Accessing class attribute\n",
    "print(obj1.instance_attribute)  # Accessing instance attribute of obj1"
   ]
  },
  {
   "cell_type": "code",
   "execution_count": 13,
   "id": "0f7239e2-6236-46e4-b78e-102e87a40690",
   "metadata": {},
   "outputs": [],
   "source": [
    "# Q4. Where and how are instance attributes created?"
   ]
  },
  {
   "cell_type": "code",
   "execution_count": 14,
   "id": "50a53265-a42f-4dea-9ce4-bba3b5c6e8b2",
   "metadata": {},
   "outputs": [
    {
     "name": "stdout",
     "output_type": "stream",
     "text": [
      "SP 28\n",
      "DSP 25\n"
     ]
    }
   ],
   "source": [
    "class Person:\n",
    "    def __init__(self, name, age):\n",
    "        self.name = name  # Instance attribute\n",
    "        self.age = age    # Instance attribute\n",
    "\n",
    "# Creating instances and initializing instance attributes\n",
    "person1 = Person(\"SP\", 28)\n",
    "person2 = Person(\"DSP\", 25)\n",
    "\n",
    "# Accessing instance attributes\n",
    "print(person1.name, person1.age)  \n",
    "print(person2.name, person2.age) "
   ]
  },
  {
   "cell_type": "code",
   "execution_count": 15,
   "id": "993afaaa-1983-4555-96fd-b6d1aca744f4",
   "metadata": {},
   "outputs": [],
   "source": [
    "# Q5. What does the term \"self\" in a Python class mean?"
   ]
  },
  {
   "cell_type": "code",
   "execution_count": 16,
   "id": "610c47bf-dc5d-4b21-a63d-3dab0e92ab11",
   "metadata": {},
   "outputs": [],
   "source": [
    "# In Python, the term \"self\" is a convention for the first parameter of instance methods within a class. It refers to the instance of the class on which the method is called. While \"self\" is a convention and not a keyword, it is widely followed and expected in Python class definitions. "
   ]
  },
  {
   "cell_type": "code",
   "execution_count": 17,
   "id": "23d82c3c-0ef5-4d84-93c8-e252dec56fdf",
   "metadata": {},
   "outputs": [],
   "source": [
    "# Q6. How does a Python class handle operator overloading?"
   ]
  },
  {
   "cell_type": "code",
   "execution_count": 18,
   "id": "56728500-087d-4c07-82cc-81aaa363e426",
   "metadata": {},
   "outputs": [
    {
     "name": "stdout",
     "output_type": "stream",
     "text": [
      "4 + 6i\n"
     ]
    }
   ],
   "source": [
    "class ComplexNumber:\n",
    "    def __init__(self, real, imag):\n",
    "        self.real = real\n",
    "        self.imag = imag\n",
    "\n",
    "    def __add__(self, other):\n",
    "        # Overloading the '+' operator\n",
    "        real_sum = self.real + other.real\n",
    "        imag_sum = self.imag + other.imag\n",
    "        return ComplexNumber(real_sum, imag_sum)\n",
    "\n",
    "    def __str__(self):\n",
    "        return f\"{self.real} + {self.imag}i\"\n",
    "\n",
    "# Creating complex numbers\n",
    "num1 = ComplexNumber(3, 4)\n",
    "num2 = ComplexNumber(1, 2)\n",
    "\n",
    "# Using the overloaded '+' operator\n",
    "result = num1 + num2\n",
    "print(result)"
   ]
  },
  {
   "cell_type": "code",
   "execution_count": 19,
   "id": "4fbcafa4-a916-4630-a7ca-e34d49e422cd",
   "metadata": {},
   "outputs": [],
   "source": [
    "# Q7. When do you consider allowing operator overloading of your classes?"
   ]
  },
  {
   "cell_type": "code",
   "execution_count": 20,
   "id": "e9d934c2-b690-4510-a524-6dafc9748d31",
   "metadata": {},
   "outputs": [],
   "source": [
    "# You should consider allowing operator overloading in your classes when it makes sense to provide intuitive and meaningful interactions with objects of your class. Operator overloading is beneficial for improving code readability and maintainability by enabling operations that mimic standard mathematical or logical behaviors. It's particularly useful when the overloading maintains a natural and expected usage, enhancing the expressiveness and usability of your custom classes. However, it should be used judiciously to avoid ambiguity or confusion and should align with the intended behavior of the objects you are modeling."
   ]
  },
  {
   "cell_type": "code",
   "execution_count": 21,
   "id": "82fbf5a1-5e7f-437c-aaa4-5fc6c1c17c66",
   "metadata": {},
   "outputs": [],
   "source": [
    "# Q8. What is the most popular form of operator overloading?"
   ]
  },
  {
   "cell_type": "code",
   "execution_count": 22,
   "id": "839049c7-7032-490f-9e20-ea474f26839b",
   "metadata": {},
   "outputs": [],
   "source": [
    "# The most popular form of operator overloading in Python is likely the overloading of the + operator for concatenating or combining objects. "
   ]
  },
  {
   "cell_type": "code",
   "execution_count": 23,
   "id": "0d7959aa-e522-4fbd-913b-41a0b67cb463",
   "metadata": {},
   "outputs": [],
   "source": [
    "# Q9. What are the two most important concepts to grasp in order to comprehend Python OOP code?"
   ]
  },
  {
   "cell_type": "code",
   "execution_count": 24,
   "id": "4f04163f-ff68-4aee-98ac-1db5bcba8a12",
   "metadata": {},
   "outputs": [],
   "source": [
    "# Two of the most important concepts to grasp in order to comprehend Python Object-Oriented Programming (OOP) code are:\n",
    "# 1. Classes and Objects\n",
    "# 2. Inheritance and Polymorphism"
   ]
  },
  {
   "cell_type": "code",
   "execution_count": null,
   "id": "f3f09ce3-51db-4500-ba65-4fab9ef51469",
   "metadata": {},
   "outputs": [],
   "source": []
  }
 ],
 "metadata": {
  "kernelspec": {
   "display_name": "Python 3 (ipykernel)",
   "language": "python",
   "name": "python3"
  },
  "language_info": {
   "codemirror_mode": {
    "name": "ipython",
    "version": 3
   },
   "file_extension": ".py",
   "mimetype": "text/x-python",
   "name": "python",
   "nbconvert_exporter": "python",
   "pygments_lexer": "ipython3",
   "version": "3.10.6"
  }
 },
 "nbformat": 4,
 "nbformat_minor": 5
}
