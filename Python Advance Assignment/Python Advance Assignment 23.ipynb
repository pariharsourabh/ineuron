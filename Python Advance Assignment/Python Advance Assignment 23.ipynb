{
 "cells": [
  {
   "cell_type": "code",
   "execution_count": 1,
   "id": "ee2cb21d-194c-4f61-8477-4523c192450e",
   "metadata": {},
   "outputs": [],
   "source": [
    "# Q1. If you have any, what are your choices for increasing the comparison between different figures on the same graph?"
   ]
  },
  {
   "cell_type": "code",
   "execution_count": 2,
   "id": "455b4371-b58f-4db2-82ab-dbe649036a7f",
   "metadata": {},
   "outputs": [],
   "source": [
    "#  Matplotlib provides a convenient method called subplots for increasing the comparison between different figures on the same graph. Subplots mean a group of smaller axes (where each axis is a plot) that can exist together within a single figure."
   ]
  },
  {
   "cell_type": "code",
   "execution_count": 3,
   "id": "193ff37b-3078-4ad7-a90a-75a5ef31c842",
   "metadata": {},
   "outputs": [],
   "source": [
    "# Q2. Can you explain the benefit of compound interest over a higher rate of interest that does not compound after reading this chapter?"
   ]
  },
  {
   "cell_type": "code",
   "execution_count": 4,
   "id": "a55e081d-8816-4710-aac3-6455f8bff28c",
   "metadata": {},
   "outputs": [],
   "source": [
    "# Compound interest makes a sum of money grow at a faster rate than simple interest,because in addition to earning returns on the money you invest, you also earn returns on those returns at the end of every compounding period, which could be daily, monthly, quarterly or annually."
   ]
  },
  {
   "cell_type": "code",
   "execution_count": 5,
   "id": "f4380e69-7025-4db8-a819-558c6e679e7f",
   "metadata": {},
   "outputs": [],
   "source": [
    "# Q3. What is a histogram, exactly? Name a numpy method for creating such a graph ?"
   ]
  },
  {
   "cell_type": "code",
   "execution_count": 6,
   "id": "61c01e04-d16e-49f5-b354-81faf95c69b4",
   "metadata": {},
   "outputs": [],
   "source": [
    "# Histogram shows total values of X wrt Y. Which means at any particular position of X, Y value shows the total number of counts or data below that value of X. numpy.histogram() is the built in function used."
   ]
  },
  {
   "cell_type": "code",
   "execution_count": 7,
   "id": "2f960da1-a2d6-4164-8888-d304d3191dfd",
   "metadata": {},
   "outputs": [],
   "source": [
    "# Q4. If necessary, how do you change the aspect ratios between the X and Y axes ?"
   ]
  },
  {
   "cell_type": "code",
   "execution_count": 8,
   "id": "f6f70f19-fe8e-4f07-acbf-eb44fc5a421f",
   "metadata": {},
   "outputs": [],
   "source": [
    "# We can use figure(figsize=(10,8)) function inside the matplot.pyplot library which we scale down or up the graph."
   ]
  },
  {
   "cell_type": "code",
   "execution_count": 9,
   "id": "30bd190d-60b0-42b9-b03c-c9516cfebd25",
   "metadata": {},
   "outputs": [],
   "source": [
    "# Q5. Compare and contrast the three types of array multiplication between two numpy arrays: dot product, outer product, and regular multiplication of two numpy arrays ?"
   ]
  },
  {
   "cell_type": "code",
   "execution_count": 10,
   "id": "1e32ff6f-56fd-424a-96f9-9c23782889ae",
   "metadata": {},
   "outputs": [],
   "source": [
    "# In regular multiplication values of same index get multiplied.\n",
    "\n",
    "# In dot product there is row wise multiplication, row of one array with column of second array and so on.\n",
    "# In outer multiplication every element of first array a1 will be multiply by every element of other array a2 such such the number of columns will be equal to the number of element in another array a2."
   ]
  },
  {
   "cell_type": "code",
   "execution_count": 11,
   "id": "04678666-b417-4090-b572-01cf13f9be89",
   "metadata": {},
   "outputs": [],
   "source": [
    "# Q6. Before you buy a home, which numpy function will you use to measure your monthly mortgage payment ?"
   ]
  },
  {
   "cell_type": "code",
   "execution_count": 12,
   "id": "8e503705-a4e5-4e56-aaa9-1640e5e02183",
   "metadata": {},
   "outputs": [],
   "source": [
    "# np.pmt(rate, nper, pv) function we will be using in order to calculate monthly mortgage payment before you purchase a house.\n",
    "\n",
    "# rate = The periodic interest rate\n",
    "# nper = The number of payment periods\n",
    "# pv = The total value of the mortgage loan"
   ]
  },
  {
   "cell_type": "code",
   "execution_count": 13,
   "id": "0f4c9061-bef6-43c2-9518-32876afe7845",
   "metadata": {},
   "outputs": [],
   "source": [
    "# Q7. Can string data be stored in numpy arrays? If so, list at least one restriction that applies to this data ?"
   ]
  },
  {
   "cell_type": "code",
   "execution_count": 14,
   "id": "f1781a31-d6a5-40a0-9eaf-543ec07937ac",
   "metadata": {},
   "outputs": [],
   "source": [
    "# Yes, an array can store the string. The limitation which imposed on the string data is, whenever we store the data of string dtype then it should should keep in mind that the string which is having the maximum length is the limit."
   ]
  },
  {
   "cell_type": "code",
   "execution_count": null,
   "id": "cbfcaba3-45c2-4edf-9092-6c76689bb291",
   "metadata": {},
   "outputs": [],
   "source": []
  }
 ],
 "metadata": {
  "kernelspec": {
   "display_name": "Python 3 (ipykernel)",
   "language": "python",
   "name": "python3"
  },
  "language_info": {
   "codemirror_mode": {
    "name": "ipython",
    "version": 3
   },
   "file_extension": ".py",
   "mimetype": "text/x-python",
   "name": "python",
   "nbconvert_exporter": "python",
   "pygments_lexer": "ipython3",
   "version": "3.10.6"
  }
 },
 "nbformat": 4,
 "nbformat_minor": 5
}
