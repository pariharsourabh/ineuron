{
 "cells": [
  {
   "cell_type": "code",
   "execution_count": 1,
   "id": "68c9b8f5-8386-4811-9f44-ba51982f88ef",
   "metadata": {},
   "outputs": [],
   "source": [
    "# 1. Compare and contrast the float and Decimal classes' benefits and drawbacks."
   ]
  },
  {
   "cell_type": "code",
   "execution_count": 2,
   "id": "e97f559f-64c6-4e17-baae-452aec4b5b4d",
   "metadata": {},
   "outputs": [],
   "source": [
    "#  Both the float and decimal types store numerical values in Python.\n",
    "\n",
    "# Use floats when convenience and speed matter. A float gives you an approximation of the number you declare.\n",
    "\n",
    "# Use decimals when precision matters. Decimals can suffer from their own precision issues, but generally, decimals are more precise than floats. The performance difference between float and decimal, with Python 3, is not outlandish, and in my experience, the precision benefits of a decimal outweigh the performance benefits of a float."
   ]
  },
  {
   "cell_type": "code",
   "execution_count": 3,
   "id": "5af73c0e-8ca7-470a-9310-997895170f7d",
   "metadata": {},
   "outputs": [],
   "source": [
    "# 2. Decimal('1.200') and Decimal('1.2') are two objects to consider. In what sense are these the same object? Are these just two ways of representing the exact same value, or do they correspond to different internal states?"
   ]
  },
  {
   "cell_type": "code",
   "execution_count": 4,
   "id": "75e54a1e-e9a1-4ced-b08a-0b3cd64407be",
   "metadata": {},
   "outputs": [],
   "source": [
    "# Both values are same but internal representation at storage Is different. Precsion differs, Decimal('1.200') gives internally 1.200 and Decimal('1.2') gives 1.2"
   ]
  },
  {
   "cell_type": "code",
   "execution_count": 5,
   "id": "8e73fc0e-3b2c-44dc-a814-43146cdf76f7",
   "metadata": {},
   "outputs": [],
   "source": [
    "# 3. What happens if the equality of Decimal('1.200') and Decimal('1.2') is checked?"
   ]
  },
  {
   "cell_type": "code",
   "execution_count": 6,
   "id": "8f90a850-677d-44d5-a6d6-f0e281b5e5b4",
   "metadata": {},
   "outputs": [],
   "source": [
    "# Both values are checked to be equal , they only differ in precision."
   ]
  },
  {
   "cell_type": "code",
   "execution_count": 7,
   "id": "8bfb9e6e-f278-4984-bec8-a655849c5c12",
   "metadata": {},
   "outputs": [],
   "source": [
    "# 4. Why is it preferable to start a Decimal object with a string rather than a floating-point value ?"
   ]
  },
  {
   "cell_type": "code",
   "execution_count": 8,
   "id": "51226e4f-eb9a-4468-97ad-cc72f5a4dcf5",
   "metadata": {},
   "outputs": [],
   "source": [
    "# Floating-point value is converted to Decimal format. Decimal can store float value with absolute precision. But when float value is given as Decimal object,it first has to be converted from floating point value which might already have rounding error.\n",
    "\n",
    "# Hence it is preferable to start a Decimal object with a string."
   ]
  },
  {
   "cell_type": "code",
   "execution_count": 9,
   "id": "75d7f7a5-e6a7-43e2-ad1b-03a26048e088",
   "metadata": {},
   "outputs": [],
   "source": [
    "# 5. In an arithmetic phrase, how simple is it to combine Decimal objects with integers ?"
   ]
  },
  {
   "cell_type": "code",
   "execution_count": 10,
   "id": "1f040dcb-fb6d-4b7d-85f3-014929e1679f",
   "metadata": {},
   "outputs": [],
   "source": [
    "# We can do it with use of Decimal()."
   ]
  },
  {
   "cell_type": "code",
   "execution_count": 11,
   "id": "0e90ebcc-657b-4170-9012-12eac0093b4d",
   "metadata": {},
   "outputs": [],
   "source": [
    "# 6. Can Decimal objects and floating-point values be combined easily ?"
   ]
  },
  {
   "cell_type": "code",
   "execution_count": 12,
   "id": "8b03b67c-095f-4bbc-aee7-02a3b9c2af80",
   "metadata": {},
   "outputs": [],
   "source": [
    "# Arithmetic operfations like Adding,subtracting or multiplying a Decimal object by a floating-point value is generates an error.\n",
    "\n",
    "# To do these operations, the floating point has to be converted to a Decimal."
   ]
  },
  {
   "cell_type": "code",
   "execution_count": 13,
   "id": "0694bfc6-e8d2-47d4-859d-a63206ec4199",
   "metadata": {},
   "outputs": [],
   "source": [
    "# 7. Using the Fraction class but not the Decimal class, give an example of a quantity that can be expressed with absolute precision ?"
   ]
  },
  {
   "cell_type": "code",
   "execution_count": 14,
   "id": "68dd813c-686f-4de3-984f-77fe52c55829",
   "metadata": {},
   "outputs": [],
   "source": [
    "# Value of 0.5 will be represented as ½."
   ]
  },
  {
   "cell_type": "code",
   "execution_count": 15,
   "id": "d8160439-31b4-4cc5-8bc4-9067e6ff250e",
   "metadata": {},
   "outputs": [],
   "source": [
    "# 8.Consider the following two fraction objects: Fraction(1, 2) and Fraction(1, 2). (5, 10). Is the internal state of these two objects the same? Why do you think that is ?"
   ]
  },
  {
   "cell_type": "code",
   "execution_count": 16,
   "id": "cbd2eaf2-2fc2-462a-a0df-a37aac4c88ab",
   "metadata": {},
   "outputs": [],
   "source": [
    "# Both will be reduced to 1/2"
   ]
  },
  {
   "cell_type": "code",
   "execution_count": 17,
   "id": "238fd436-8c41-4ead-9283-95be0a65d507",
   "metadata": {},
   "outputs": [],
   "source": [
    "# 9. How do the Fraction class and the integer type (int) relate to each other? Containment or inheritance ?"
   ]
  },
  {
   "cell_type": "code",
   "execution_count": 18,
   "id": "838a3e18-a9c7-4bfc-8611-cbd76eae99fc",
   "metadata": {},
   "outputs": [],
   "source": [
    "#  Fraction class and integer type(int) are related in form of a container.It contains two ints, one the numerator and the other the denominator"
   ]
  },
  {
   "cell_type": "code",
   "execution_count": null,
   "id": "3340f88b-0192-44a3-8388-31e081e845cf",
   "metadata": {},
   "outputs": [],
   "source": []
  }
 ],
 "metadata": {
  "kernelspec": {
   "display_name": "Python 3 (ipykernel)",
   "language": "python",
   "name": "python3"
  },
  "language_info": {
   "codemirror_mode": {
    "name": "ipython",
    "version": 3
   },
   "file_extension": ".py",
   "mimetype": "text/x-python",
   "name": "python",
   "nbconvert_exporter": "python",
   "pygments_lexer": "ipython3",
   "version": "3.10.6"
  }
 },
 "nbformat": 4,
 "nbformat_minor": 5
}
