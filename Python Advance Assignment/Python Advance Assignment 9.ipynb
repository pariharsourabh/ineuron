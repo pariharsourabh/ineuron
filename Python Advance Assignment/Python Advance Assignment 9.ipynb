{
 "cells": [
  {
   "cell_type": "code",
   "execution_count": 1,
   "id": "4885c950-9464-4fb9-98e4-c6cc13641046",
   "metadata": {},
   "outputs": [],
   "source": [
    "# Q1. In Python 3.X, what are the names and functions of string object types?"
   ]
  },
  {
   "cell_type": "code",
   "execution_count": 5,
   "id": "c3e0e883-fa4c-4a46-9595-d8e970050f95",
   "metadata": {},
   "outputs": [],
   "source": [
    "# In Python 3.X, there are two string object types:\n",
    "# bytes -> used to represent a sequence of bytes\n",
    "# str -> used to represent a sequence of Unicode code points  "
   ]
  },
  {
   "cell_type": "code",
   "execution_count": 7,
   "id": "e46dbdee-e606-40eb-934e-ed85a80d9309",
   "metadata": {},
   "outputs": [],
   "source": [
    "# Q2. How do the string forms in Python 3.X vary in terms of operations?"
   ]
  },
  {
   "cell_type": "code",
   "execution_count": 6,
   "id": "e8a7baf0-622d-4a89-9cdd-fd89d06b04d1",
   "metadata": {},
   "outputs": [],
   "source": [
    "# In Python 3.x, string forms vary in terms of operations because the `str` class now includes a broader range of string manipulation methods and operations. You can perform tasks like string concatenation using `+`, substring checks with `in` and `not in` operators, and use various string methods such as `str.split()`, `str.strip()`, and more. These enhancements provide greater flexibility and expressiveness when working with strings in Python 3.x compared to earlier versions."
   ]
  },
  {
   "cell_type": "code",
   "execution_count": 8,
   "id": "db1752af-45dd-43b1-ba25-d1272af5438a",
   "metadata": {},
   "outputs": [],
   "source": [
    "# Q3. In 3.X, how do you put non-ASCII Unicode characters in a string?"
   ]
  },
  {
   "cell_type": "code",
   "execution_count": 9,
   "id": "7d437461-6545-4c71-ab96-f57bcade2df3",
   "metadata": {},
   "outputs": [],
   "source": [
    "# In Python 3.x, you can include non-ASCII Unicode characters in a string using Unicode escape sequences or by directly typing the character if your source code file is encoded in UTF-8 or another compatible encoding."
   ]
  },
  {
   "cell_type": "code",
   "execution_count": 10,
   "id": "69c8ca0b-cb49-4058-bc36-5ec24f20f08e",
   "metadata": {},
   "outputs": [],
   "source": [
    "s = \"Hello, \\u03A9\""
   ]
  },
  {
   "cell_type": "code",
   "execution_count": 11,
   "id": "033dc871-1701-4b29-acaa-c02d322d717a",
   "metadata": {},
   "outputs": [],
   "source": [
    "s = \"Hello, Ω\""
   ]
  },
  {
   "cell_type": "code",
   "execution_count": 12,
   "id": "483e59e4-ee2f-44e5-85f9-461b1b60f49b",
   "metadata": {},
   "outputs": [],
   "source": [
    "# Q4. In Python 3.X, what are the key differences between text-mode and binary-mode files?"
   ]
  },
  {
   "cell_type": "code",
   "execution_count": 16,
   "id": "c1536308-d26d-4853-bc58-2895960e3d0e",
   "metadata": {},
   "outputs": [],
   "source": [
    "# In Python 3.x, the key differences between text-mode and binary-mode files are:\n",
    "\n",
    "# 1. Text Mode ('t'):\n",
    "#    - The default mode when opening a file.\n",
    "#    - Handles text data and performs newline translation (e.g., '\\n' to '\\r\\n' on Windows).\n",
    "#    - Reading and writing are done in text format, which means character encoding/decoding may be applied.\n",
    "\n",
    "# 2. Binary Mode ('b'):\n",
    "#    - Opened with the 'b' mode flag.\n",
    "#    - Handles binary data without newline translation.\n",
    "#    - Reading and writing are done in raw binary format, preserving data as-is without encoding/decoding."
   ]
  },
  {
   "cell_type": "code",
   "execution_count": 17,
   "id": "f6e78eca-5b23-47c4-ae03-f2c932767ed3",
   "metadata": {},
   "outputs": [],
   "source": [
    "# Q5. How can you interpret a Unicode text file containing text encoded in a different encoding than your platform's default?"
   ]
  },
  {
   "cell_type": "code",
   "execution_count": 20,
   "id": "96b4cf39-405c-493a-a3fc-0ee2f12740d6",
   "metadata": {},
   "outputs": [],
   "source": [
    "# To interpret a Unicode text file containing text encoded in a different encoding than your platform's default, you can use the open function in Python 3.x with the encoding parameter. Specify the encoding used in the file as the value of the encoding parameter to ensure that the file is read and decoded correctly. "
   ]
  },
  {
   "cell_type": "code",
   "execution_count": 21,
   "id": "5368ca3e-601d-456f-a0af-31bcc7d271bf",
   "metadata": {},
   "outputs": [],
   "source": [
    "# Q6. What is the best way to make a Unicode text file in a particular encoding format?"
   ]
  },
  {
   "cell_type": "code",
   "execution_count": 22,
   "id": "19c700e3-2f18-42ee-a200-4bad0b10755e",
   "metadata": {},
   "outputs": [],
   "source": [
    "# The best way to create a Unicode text file in a particular encoding format in Python is to use the open function with the encoding parameter to specify the desired encoding."
   ]
  },
  {
   "cell_type": "code",
   "execution_count": 23,
   "id": "b1f5abc6-d61e-46c2-ac3a-f60dd8550484",
   "metadata": {},
   "outputs": [],
   "source": [
    "# Q7. What qualifies ASCII text as a form of Unicode text?"
   ]
  },
  {
   "cell_type": "code",
   "execution_count": 24,
   "id": "fa72049d-4b86-4a8f-90aa-10115709bf1c",
   "metadata": {},
   "outputs": [],
   "source": [
    "# ASCII text qualifies as a form of Unicode text because ASCII is a subset of Unicode. Unicode is a character encoding standard that includes a wide range of characters from various scripts and languages. The first 128 characters of Unicode (code points 0 to 127) correspond to the ASCII character set. Therefore, any text that contains only the ASCII characters is also valid Unicode text, and it can be processed and interpreted as such without any issues."
   ]
  },
  {
   "cell_type": "code",
   "execution_count": 25,
   "id": "cb1a2b89-edc9-4273-b093-cc714c8d328e",
   "metadata": {},
   "outputs": [],
   "source": [
    "# Q8. How much of an effect does the change in string types in Python 3.X have on your code?"
   ]
  },
  {
   "cell_type": "code",
   "execution_count": 27,
   "id": "11f5eea2-9d01-42da-aa31-e03658d0d799",
   "metadata": {},
   "outputs": [],
   "source": [
    "# The change in string types in Python 3.x significantly affects code, particularly when working with text and character encoding, as it enforces a clear distinction between bytes and text data, requiring explicit encoding and decoding operations."
   ]
  },
  {
   "cell_type": "code",
   "execution_count": null,
   "id": "ec76527e-0635-4d3c-877d-6123dbf5d72a",
   "metadata": {},
   "outputs": [],
   "source": []
  }
 ],
 "metadata": {
  "kernelspec": {
   "display_name": "Python 3 (ipykernel)",
   "language": "python",
   "name": "python3"
  },
  "language_info": {
   "codemirror_mode": {
    "name": "ipython",
    "version": 3
   },
   "file_extension": ".py",
   "mimetype": "text/x-python",
   "name": "python",
   "nbconvert_exporter": "python",
   "pygments_lexer": "ipython3",
   "version": "3.10.6"
  }
 },
 "nbformat": 4,
 "nbformat_minor": 5
}
