{
 "cells": [
  {
   "cell_type": "code",
   "execution_count": 1,
   "id": "49df5357-be36-41c7-a370-2199890ced8e",
   "metadata": {},
   "outputs": [],
   "source": [
    "# Q1. What is the concept of a metaclass?"
   ]
  },
  {
   "cell_type": "code",
   "execution_count": 2,
   "id": "68b524cc-f6dc-41f2-b901-dbf82d520697",
   "metadata": {},
   "outputs": [],
   "source": [
    "# A metaclass in Python is a class that defines the behavior and structure of other classes, often referred to as \"class factories.\" It serves as a template for creating and modifying class objects. Metaclasses allow you to control the creation, initialization, and behavior of class instances. They are used for advanced and dynamic class customization, and their primary use cases include enforcing coding standards, implementing singletons, and modifying class attributes and methods at the class level. Metaclasses are a powerful but advanced concept in Python and are not frequently needed in typical programming tasks."
   ]
  },
  {
   "cell_type": "code",
   "execution_count": 3,
   "id": "bdd3591f-c4fb-49d4-bc07-67a95bf5846f",
   "metadata": {},
   "outputs": [],
   "source": [
    "# Q2. What is the best way to declare a class's metaclass?"
   ]
  },
  {
   "cell_type": "code",
   "execution_count": 4,
   "id": "f716990e-77c8-4d3e-bd0a-a4bbbdae992c",
   "metadata": {},
   "outputs": [],
   "source": [
    "class MyMeta(type):\n",
    "    pass\n",
    "\n",
    "class MyClass(metaclass=MyMeta):\n",
    "    pass"
   ]
  },
  {
   "cell_type": "code",
   "execution_count": 5,
   "id": "4932a0a2-a2cc-4b82-9c37-9d68c5284f24",
   "metadata": {},
   "outputs": [],
   "source": [
    "# Q3. How do class decorators overlap with metaclasses for handling classes?"
   ]
  },
  {
   "cell_type": "code",
   "execution_count": 6,
   "id": "2262c96f-1f6b-4e06-925b-5e3f2445c102",
   "metadata": {},
   "outputs": [],
   "source": [
    "def my_decorator(cls):\n",
    "    cls.new_attribute = \"Added by decorator\"\n",
    "    return cls\n",
    "\n",
    "class MyMeta(type):\n",
    "    pass\n",
    "\n",
    "@my_decorator\n",
    "class MyClass(metaclass=MyMeta):\n",
    "    pass"
   ]
  },
  {
   "cell_type": "code",
   "execution_count": 7,
   "id": "6539bea0-03b2-44d7-9b98-338c196dc7d4",
   "metadata": {},
   "outputs": [],
   "source": [
    "# Q4. How do class decorators overlap with metaclasses for handling instances?"
   ]
  },
  {
   "cell_type": "code",
   "execution_count": null,
   "id": "245583af-56a1-4298-893e-cb7ceb10d264",
   "metadata": {},
   "outputs": [],
   "source": []
  }
 ],
 "metadata": {
  "kernelspec": {
   "display_name": "Python 3 (ipykernel)",
   "language": "python",
   "name": "python3"
  },
  "language_info": {
   "codemirror_mode": {
    "name": "ipython",
    "version": 3
   },
   "file_extension": ".py",
   "mimetype": "text/x-python",
   "name": "python",
   "nbconvert_exporter": "python",
   "pygments_lexer": "ipython3",
   "version": "3.10.6"
  }
 },
 "nbformat": 4,
 "nbformat_minor": 5
}
