{
 "cells": [
  {
   "cell_type": "code",
   "execution_count": 1,
   "id": "0aff97ea-b19d-428b-ac5d-08b8d838957a",
   "metadata": {},
   "outputs": [],
   "source": [
    "# Q1. Explain the difference between greedy and non-greedy syntax with visual terms in as few words as possible. What is the bare minimum effort required to transform a greedy pattern into a non-greedy one? What characters or characters can you introduce or change?"
   ]
  },
  {
   "cell_type": "code",
   "execution_count": 2,
   "id": "ae32dccf-bd9c-43c5-8cdc-9c6fac0d4657",
   "metadata": {},
   "outputs": [],
   "source": [
    "#  The Main difference between Greedy and Non Greedy Match Syntax is The Greedy Match will try to match as many repetitions of the quantified pattern as possible Whereas The Non Greedy Match will try to match as few repetitions of the quantified pattern as possible"
   ]
  },
  {
   "cell_type": "code",
   "execution_count": 3,
   "id": "2ce974c1-84ec-43a9-ab99-ecdcd029fea8",
   "metadata": {},
   "outputs": [
    {
     "name": "stdout",
     "output_type": "stream",
     "text": [
      "['vvvvvv', '']\n",
      "['', 'v', '', 'v', '', 'v', '', 'v', '', 'v', '', 'v', '']\n"
     ]
    }
   ],
   "source": [
    "import re\n",
    "print(re.findall(\"v*\", \"vvvvvv\")) # Greedy Match Synatx\n",
    "print(re.findall(\"v*?\", \"vvvvvv\")) # Non Greddy Syntax"
   ]
  },
  {
   "cell_type": "code",
   "execution_count": 4,
   "id": "1b2eb4cf-a726-42ea-b64d-f7235ccc2627",
   "metadata": {},
   "outputs": [],
   "source": [
    "# Q2. When exactly does greedy versus non-greedy make a difference?  What if you're looking for a non-greedy match but the only one available is greedy?"
   ]
  },
  {
   "cell_type": "code",
   "execution_count": 5,
   "id": "a676cbb4-a038-46e2-8251-25697c7ba512",
   "metadata": {},
   "outputs": [],
   "source": [
    "# The Greedy Match will try to match as many repetitions of the quantified pattern as possible. The Non Greedy Match will try to match as few repetitions of the quantified pattern as possible. If only Non Greedy Match is available, we can use other filtering or pattern matching methods of regex and further identify the required pattern."
   ]
  },
  {
   "cell_type": "code",
   "execution_count": 6,
   "id": "13daae4e-1442-4ba1-9fbe-41e915a91219",
   "metadata": {},
   "outputs": [],
   "source": [
    "# Q3. In a simple match of a string, which looks only for one match and does not do any replacement, is the use of a nontagged group likely to make any practical difference?"
   ]
  },
  {
   "cell_type": "code",
   "execution_count": 7,
   "id": "4d39ec3a-b765-4bc2-8368-57c771fa98e3",
   "metadata": {},
   "outputs": [
    {
     "name": "stdout",
     "output_type": "stream",
     "text": [
      "Phone number found -> 234\n",
      "Phone number found -> 234\n"
     ]
    }
   ],
   "source": [
    "import re\n",
    "phoneNumRegex = re.compile(r'\\d\\d\\d')\n",
    "num = phoneNumRegex.search('My number is 234-567-8901.')\n",
    "print(f'Phone number found -> {num.group()}') # Non Tagged group\n",
    "print(f'Phone number found -> {num.group(0)}') # Tagged Group"
   ]
  },
  {
   "cell_type": "code",
   "execution_count": 8,
   "id": "370a1869-5bad-49a0-a585-a6f4fa3397ce",
   "metadata": {},
   "outputs": [],
   "source": [
    "\n",
    "# Q4. Describe a scenario in which using a nontagged category would have a significant impact on the program's outcomes.\n"
   ]
  },
  {
   "cell_type": "code",
   "execution_count": 9,
   "id": "0f147ff8-a93a-4eca-8352-738004090466",
   "metadata": {},
   "outputs": [
    {
     "data": {
      "text/plain": [
       "('135', '456')"
      ]
     },
     "execution_count": 9,
     "metadata": {},
     "output_type": "execute_result"
    }
   ],
   "source": [
    "import re\n",
    "text='135.456'\n",
    "pattern=r'(\\d+)(?:.)(\\d+)'\n",
    "regobj=re.compile(pattern)\n",
    "matobj=regobj.search(text)\n",
    "matobj.groups()"
   ]
  },
  {
   "cell_type": "code",
   "execution_count": 10,
   "id": "cb629eb5-3a88-448e-b203-9a1f914ab69c",
   "metadata": {},
   "outputs": [],
   "source": [
    "# Q5. Unlike a normal regex pattern, a look-ahead condition does not consume the characters it examines. Describe a situation in which this could make a difference in the results of your programme."
   ]
  },
  {
   "cell_type": "code",
   "execution_count": 11,
   "id": "19cadc2d-e95b-4c6e-89f0-5eeb6126d792",
   "metadata": {},
   "outputs": [],
   "source": [
    "# While counting the number of multiple lines or mutiple sentence in a string the positive look ahead makes a difference, without which we wont get the correct count of lines or sentences in a string."
   ]
  },
  {
   "cell_type": "code",
   "execution_count": 12,
   "id": "98a308e0-21cf-48bf-ad61-4ce54153a610",
   "metadata": {},
   "outputs": [],
   "source": [
    "# Q6. In standard expressions, what is the difference between positive look-ahead and negative look-ahead?"
   ]
  },
  {
   "cell_type": "code",
   "execution_count": 13,
   "id": "364b161c-d806-491c-91d4-b0dceb0a58a7",
   "metadata": {},
   "outputs": [],
   "source": [
    "# Positive Lookahead allows to add a condition for what follows. Negative Lookahead is similar, but it looks behind. That is, it allows to match a pattern only if there’s something before it."
   ]
  },
  {
   "cell_type": "code",
   "execution_count": 14,
   "id": "55a673dc-94a8-4393-affd-58eeca3c50a4",
   "metadata": {},
   "outputs": [],
   "source": [
    "# Q7. What is the benefit of referring to groups by name rather than by number in a standard expression?"
   ]
  },
  {
   "cell_type": "code",
   "execution_count": 15,
   "id": "775208bc-2e0f-402e-b0de-094ed7810a71",
   "metadata": {},
   "outputs": [],
   "source": [
    " # Referring to groups by name rather than by number in a standard expression helps to keep the code clear and easy to understand"
   ]
  },
  {
   "cell_type": "code",
   "execution_count": 16,
   "id": "99600005-f952-4890-b70f-177da42b936c",
   "metadata": {},
   "outputs": [],
   "source": [
    "# Q8. Can you identify repeated items within a target string using named groups, as in \"The cow jumped over the moon\"?"
   ]
  },
  {
   "cell_type": "code",
   "execution_count": 17,
   "id": "a8101619-81dd-4604-8e66-0ef788cc8246",
   "metadata": {},
   "outputs": [
    {
     "data": {
      "text/plain": [
       "['The', 'the']"
      ]
     },
     "execution_count": 17,
     "metadata": {},
     "output_type": "execute_result"
    }
   ],
   "source": [
    "import re\n",
    "text = \"The cow jumped over the moon\"\n",
    "regobj=re.compile(r'(?P<w1>The)',re.I)\n",
    "regobj.findall(text)"
   ]
  },
  {
   "cell_type": "code",
   "execution_count": 18,
   "id": "adbb9579-63e2-40e8-bde5-30e072bcadc6",
   "metadata": {},
   "outputs": [],
   "source": [
    "# Q9. When parsing a string, what is at least one thing that the Scanner interface does for you that the re.findall feature does not?"
   ]
  },
  {
   "cell_type": "code",
   "execution_count": 19,
   "id": "f1e77ace-671e-47df-a479-47dee1ae826b",
   "metadata": {},
   "outputs": [],
   "source": [
    "# re.findall() module is used to search for all occurrences that match a given pattern. In contrast, re.search() will only return the first occurrence that matches the specified pattern. re.findall() will iterate over all the lines of the file and will return all non-overlapping matches of pattern in a single step."
   ]
  },
  {
   "cell_type": "code",
   "execution_count": 20,
   "id": "ecb95ace-af64-4560-8929-06be20ff0f5c",
   "metadata": {},
   "outputs": [],
   "source": [
    "# Q10. Does a scanner object have to be named scanner?"
   ]
  },
  {
   "cell_type": "code",
   "execution_count": 21,
   "id": "27f6a56e-dc37-4e8e-af98-9cba82f25949",
   "metadata": {},
   "outputs": [],
   "source": [
    "# Yes, It may have any name."
   ]
  },
  {
   "cell_type": "code",
   "execution_count": null,
   "id": "6e8abbb7-9511-4c44-a96c-c99ea9dd400f",
   "metadata": {},
   "outputs": [],
   "source": []
  }
 ],
 "metadata": {
  "kernelspec": {
   "display_name": "Python 3 (ipykernel)",
   "language": "python",
   "name": "python3"
  },
  "language_info": {
   "codemirror_mode": {
    "name": "ipython",
    "version": 3
   },
   "file_extension": ".py",
   "mimetype": "text/x-python",
   "name": "python",
   "nbconvert_exporter": "python",
   "pygments_lexer": "ipython3",
   "version": "3.10.6"
  }
 },
 "nbformat": 4,
 "nbformat_minor": 5
}
