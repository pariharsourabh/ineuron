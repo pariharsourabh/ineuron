{
 "cells": [
  {
   "cell_type": "code",
   "execution_count": 1,
   "id": "a3755e5a-ffdb-413b-a006-d31188753368",
   "metadata": {},
   "outputs": [],
   "source": [
    "# Q1. Does assigning a value to a string's indexed character violate Python's string immutability?"
   ]
  },
  {
   "cell_type": "code",
   "execution_count": 2,
   "id": "d45caca4-7e00-40ad-a3ca-749a8a3343b2",
   "metadata": {},
   "outputs": [],
   "source": [
    "# Yes, assigning a value to a string's indexed character in Python violates the string's immutability. Strings in Python are immutable."
   ]
  },
  {
   "cell_type": "code",
   "execution_count": 3,
   "id": "996a8fef-1547-469d-8006-b7a0f4243b46",
   "metadata": {},
   "outputs": [],
   "source": [
    "# Q2. Does using the += operator to concatenate strings violate Python's string immutability? Why or why not?"
   ]
  },
  {
   "cell_type": "code",
   "execution_count": 8,
   "id": "e7f5e7cb-3bd0-420e-82ea-004fc2662368",
   "metadata": {},
   "outputs": [],
   "source": [
    "# when you use the += operator to concatenate strings, it doesn't modify the original string. Instead, it creates a new string object that contains the concatenated result."
   ]
  },
  {
   "cell_type": "code",
   "execution_count": 6,
   "id": "cac6021f-dcd9-4fa4-bb72-3a0114e07b3e",
   "metadata": {},
   "outputs": [],
   "source": [
    "s = \"Hello,\"\n",
    "s += \"world\""
   ]
  },
  {
   "cell_type": "code",
   "execution_count": 7,
   "id": "ffc23c16-0c25-4720-8ec1-27664bca964a",
   "metadata": {},
   "outputs": [
    {
     "data": {
      "text/plain": [
       "'Hello,world'"
      ]
     },
     "execution_count": 7,
     "metadata": {},
     "output_type": "execute_result"
    }
   ],
   "source": [
    "s"
   ]
  },
  {
   "cell_type": "code",
   "execution_count": 9,
   "id": "d8d18c37-89b4-4d12-a51b-1ac295708990",
   "metadata": {},
   "outputs": [],
   "source": [
    "# Q3. In Python, how many different ways are there to index a character?"
   ]
  },
  {
   "cell_type": "code",
   "execution_count": 12,
   "id": "8e4fb815-f281-44da-afcc-b38bb566f8b3",
   "metadata": {},
   "outputs": [
    {
     "data": {
      "text/plain": [
       "'H'"
      ]
     },
     "execution_count": 12,
     "metadata": {},
     "output_type": "execute_result"
    }
   ],
   "source": [
    "# there are several ways to index a character in a string\n",
    "my_string = \"Hello\"\n",
    "char = my_string[0]\n",
    "char"
   ]
  },
  {
   "cell_type": "code",
   "execution_count": 13,
   "id": "ba0f2d19-b19f-46d5-ba1d-f7ed3401d705",
   "metadata": {},
   "outputs": [],
   "source": [
    "char = my_string[-1]"
   ]
  },
  {
   "cell_type": "code",
   "execution_count": 14,
   "id": "ad3adbbf-6201-424a-b4a9-28eb746a759d",
   "metadata": {},
   "outputs": [
    {
     "data": {
      "text/plain": [
       "'o'"
      ]
     },
     "execution_count": 14,
     "metadata": {},
     "output_type": "execute_result"
    }
   ],
   "source": [
    "char"
   ]
  },
  {
   "cell_type": "code",
   "execution_count": 15,
   "id": "cde08081-d395-4f3e-a932-82c0c5cd4c6e",
   "metadata": {},
   "outputs": [],
   "source": [
    "my_string = \"Hello\"\n",
    "substring = my_string[1:4]"
   ]
  },
  {
   "cell_type": "code",
   "execution_count": 16,
   "id": "9b5ca38b-c899-41fc-9968-a7b327e76c5b",
   "metadata": {},
   "outputs": [
    {
     "data": {
      "text/plain": [
       "'ell'"
      ]
     },
     "execution_count": 16,
     "metadata": {},
     "output_type": "execute_result"
    }
   ],
   "source": [
    "substring"
   ]
  },
  {
   "cell_type": "code",
   "execution_count": 17,
   "id": "8fba4214-b1ae-4455-b193-9a0d6728d9d2",
   "metadata": {},
   "outputs": [
    {
     "name": "stdout",
     "output_type": "stream",
     "text": [
      "H\n",
      "e\n",
      "l\n",
      "l\n",
      "o\n"
     ]
    }
   ],
   "source": [
    "my_string = \"Hello\"\n",
    "for char in my_string:\n",
    "    print(char)"
   ]
  },
  {
   "cell_type": "code",
   "execution_count": 18,
   "id": "6f9bd8a1-74d4-49fb-ae35-759d080d82d4",
   "metadata": {},
   "outputs": [],
   "source": [
    "# Q4. What is the relationship between indexing and slicing?"
   ]
  },
  {
   "cell_type": "code",
   "execution_count": 19,
   "id": "df9e9bec-7d59-4e7e-9ed1-c6349dd02aed",
   "metadata": {},
   "outputs": [],
   "source": [
    "#  indexing deals with accessing individual elements, while slicing deals with extracting a range of elements from a sequence. Slicing is a more versatile operation as it allows you to work with substrings and subsequences, while indexing is used for accessing single elements."
   ]
  },
  {
   "cell_type": "code",
   "execution_count": 20,
   "id": "7fea1d26-a7cc-461a-b2f0-6d9769181b5b",
   "metadata": {},
   "outputs": [],
   "source": [
    "# Q5. What is an indexed character's exact data type? What is the data form of a slicing-generated substring?"
   ]
  },
  {
   "cell_type": "code",
   "execution_count": 21,
   "id": "ed1061d7-67ab-4688-84a9-45a77cf9cc58",
   "metadata": {},
   "outputs": [
    {
     "data": {
      "text/plain": [
       "str"
      ]
     },
     "execution_count": 21,
     "metadata": {},
     "output_type": "execute_result"
    }
   ],
   "source": [
    "my_string = \"Hello\"\n",
    "char = my_string[0]\n",
    "type(char)"
   ]
  },
  {
   "cell_type": "code",
   "execution_count": 22,
   "id": "56370a82-c609-4a46-9113-c25afd2508cc",
   "metadata": {},
   "outputs": [
    {
     "data": {
      "text/plain": [
       "str"
      ]
     },
     "execution_count": 22,
     "metadata": {},
     "output_type": "execute_result"
    }
   ],
   "source": [
    "my_string = \"Hello\"\n",
    "substring = my_string[1:4]\n",
    "type(substring)"
   ]
  },
  {
   "cell_type": "code",
   "execution_count": 23,
   "id": "8bf10efd-239b-4501-a0e0-e3944b4be920",
   "metadata": {},
   "outputs": [],
   "source": [
    "# Q6. What is the relationship between string and character \"types\" in Python?"
   ]
  },
  {
   "cell_type": "code",
   "execution_count": 24,
   "id": "3f5d01c2-1df5-4845-80c9-8e021defacbb",
   "metadata": {},
   "outputs": [],
   "source": [
    "# In Python, there is no distinct \"character\" data type; characters are represented as single-character strings."
   ]
  },
  {
   "cell_type": "code",
   "execution_count": 25,
   "id": "e355b75f-c9ca-46bd-a8b5-c1a90e035b7a",
   "metadata": {},
   "outputs": [],
   "source": [
    "# Q7. Identify at least two operators and one method that allow you to combine one or more smaller strings to create a larger string."
   ]
  },
  {
   "cell_type": "code",
   "execution_count": 26,
   "id": "77b6755f-98a4-4e7d-91ea-9ce213713474",
   "metadata": {},
   "outputs": [],
   "source": [
    "# In Python, you can combine smaller strings to create a larger string are\n",
    "# 1. Concatenation Operator (+)\n",
    "# 2. String Formatting"
   ]
  },
  {
   "cell_type": "code",
   "execution_count": 27,
   "id": "c2aa30c4-8a2c-4dc3-98a8-f4bc14f7a8b4",
   "metadata": {},
   "outputs": [],
   "source": [
    "# Q8. What is the benefit of first checking the target string with in or not in before using the index method to find a substring?"
   ]
  },
  {
   "cell_type": "code",
   "execution_count": 29,
   "id": "e525aee9-f34d-416c-b147-1ea0f6aa759b",
   "metadata": {},
   "outputs": [],
   "source": [
    "# Checking the target string with the in or not in operator before using the index method to find a substring offers a significant benefit in terms of avoiding potential exceptions"
   ]
  },
  {
   "cell_type": "code",
   "execution_count": 30,
   "id": "f29132a2-6440-4ccc-a055-63b8076f6460",
   "metadata": {},
   "outputs": [
    {
     "name": "stdout",
     "output_type": "stream",
     "text": [
      "Substring found at index 7\n"
     ]
    }
   ],
   "source": [
    "target_string = \"Hello, World\"\n",
    "substring = \"World\"\n",
    "\n",
    "# Using 'in' to check if the substring exists\n",
    "if substring in target_string:\n",
    "    index = target_string.index(substring)\n",
    "    print(f\"Substring found at index {index}\")\n",
    "else:\n",
    "    print(\"Substring not found\")"
   ]
  },
  {
   "cell_type": "code",
   "execution_count": 31,
   "id": "b9f0def6-3f2f-4655-8807-842ff9dd1dc1",
   "metadata": {},
   "outputs": [],
   "source": [
    "# Q9. Which operators and built-in string methods produce simple Boolean (true/false) results?"
   ]
  },
  {
   "cell_type": "code",
   "execution_count": 32,
   "id": "54c61078-e836-45bf-9dac-fd797cf6acf5",
   "metadata": {},
   "outputs": [],
   "source": [
    "# Several operators and built-in string methods in Python produce simple Boolean (True/False) results. Some of the common ones include:\n",
    "# 1. Comparison Operators\n",
    "# 2. Membership Operators\n",
    "# 3. Built-in String Methods: str.startswith(), str.endswith(), str.isalpha(), str.isnumeric()"
   ]
  },
  {
   "cell_type": "code",
   "execution_count": null,
   "id": "df118598-b090-4b8e-aa68-e7f9ef6cae54",
   "metadata": {},
   "outputs": [],
   "source": []
  }
 ],
 "metadata": {
  "kernelspec": {
   "display_name": "Python 3 (ipykernel)",
   "language": "python",
   "name": "python3"
  },
  "language_info": {
   "codemirror_mode": {
    "name": "ipython",
    "version": 3
   },
   "file_extension": ".py",
   "mimetype": "text/x-python",
   "name": "python",
   "nbconvert_exporter": "python",
   "pygments_lexer": "ipython3",
   "version": "3.10.6"
  }
 },
 "nbformat": 4,
 "nbformat_minor": 5
}
