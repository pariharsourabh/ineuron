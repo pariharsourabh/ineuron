{
 "cells": [
  {
   "cell_type": "code",
   "execution_count": 1,
   "id": "56998eac-3404-4085-bcfc-9725641b2bd0",
   "metadata": {},
   "outputs": [],
   "source": [
    "# Is it permissible to use several import statements to import the same module? What would the goal be? Can you think of a situation where it would be beneficial ?"
   ]
  },
  {
   "cell_type": "code",
   "execution_count": 2,
   "id": "ca511890-f492-4b3b-aa0b-8e617dbb4bb0",
   "metadata": {},
   "outputs": [],
   "source": [
    "# Yes, it is permissible to use several import statements to import the same module. It is used in case when we have to import multiple functions from same module."
   ]
  },
  {
   "cell_type": "code",
   "execution_count": 3,
   "id": "8985689e-9ee7-40c6-807b-625c9e093af2",
   "metadata": {},
   "outputs": [],
   "source": [
    "# Q2. What are some of a module's characteristics? (Name at least one.)"
   ]
  },
  {
   "cell_type": "code",
   "execution_count": 4,
   "id": "795e1da8-b995-4315-9c12-5d0ad4def141",
   "metadata": {},
   "outputs": [],
   "source": [
    "#  The following are some of a module's characteristics:\n",
    "\n",
    "# __name__ : It returns the name of the module\n",
    "# __doc__ : It denotes the documentation string line written in a module code.\n",
    "# __file__ : It holds the name and path of the module file from which it is loaded\n",
    "# __dict__ : It return a dictionary object of module attributes, functions and other definitions and their respective values"
   ]
  },
  {
   "cell_type": "code",
   "execution_count": 5,
   "id": "98a3c6d1-bf4a-4369-aeb9-f119fd30f6e5",
   "metadata": {},
   "outputs": [],
   "source": [
    "# Q3. Circular importing, such as when two modules import each other, can lead to dependencies and bugs that aren't visible. How can you go about creating a program that avoids mutual importing?"
   ]
  },
  {
   "cell_type": "code",
   "execution_count": 6,
   "id": "6633450b-c9a7-49e1-8057-52c1ec4bfc5e",
   "metadata": {},
   "outputs": [],
   "source": [
    "#  Circular importing means importing the two modules in each other. If suppose we are wokring in MOD1.py file and it is importing some function say F2() from some other module say MOD2.PY file or we can do vice-versa. What will happen is: This will give an import error.\n",
    "\n",
    "# This is because when we import F2() function from module MOD2.py, then this will execute MOD2.py file. And in MOD2.py file there is an another statement of importing MOD1.py module.\n",
    "\n",
    "# This will result in endless loop. To avoid this error just do one thingWe can use if __name__ == '__main__'\n",
    "\n",
    "# In the function, you can't directly refer to the function in the program. The addition of this sentence avoids the endless loop of the program ."
   ]
  },
  {
   "cell_type": "code",
   "execution_count": 7,
   "id": "91c55929-4051-4778-9119-2800cecbe3b8",
   "metadata": {},
   "outputs": [],
   "source": [
    "# Q4. Why is __all__ in Python ?"
   ]
  },
  {
   "cell_type": "code",
   "execution_count": 8,
   "id": "e8f597e0-8ee8-47f1-b7f4-2618c52bf209",
   "metadata": {},
   "outputs": [],
   "source": [
    "# It provides list of all modules present in a library."
   ]
  },
  {
   "cell_type": "code",
   "execution_count": 9,
   "id": "91e39e4c-ce71-47fe-a611-fea95c5b8f35",
   "metadata": {},
   "outputs": [],
   "source": [
    "# Q5. In what situation is it useful to refer to the __name__ attribute or the string __main_ _ ?"
   ]
  },
  {
   "cell_type": "code",
   "execution_count": 10,
   "id": "508f5cbe-e818-4638-809e-55bdab7ffac2",
   "metadata": {},
   "outputs": [],
   "source": [
    "# During the time of execution of the code if we want to refer the module in which we are working on then we uses name attribute. In that case it will return the module in which we are working on. Suppose if that moudle is being imported from some other module then name will have the name of that moudle from where the current module has been imported. The current module in which we are working is refer to the string __main __."
   ]
  },
  {
   "cell_type": "code",
   "execution_count": null,
   "id": "f245a907-c6b4-440e-9949-31f3f4dee52c",
   "metadata": {},
   "outputs": [],
   "source": []
  }
 ],
 "metadata": {
  "kernelspec": {
   "display_name": "Python 3 (ipykernel)",
   "language": "python",
   "name": "python3"
  },
  "language_info": {
   "codemirror_mode": {
    "name": "ipython",
    "version": 3
   },
   "file_extension": ".py",
   "mimetype": "text/x-python",
   "name": "python",
   "nbconvert_exporter": "python",
   "pygments_lexer": "ipython3",
   "version": "3.10.6"
  }
 },
 "nbformat": 4,
 "nbformat_minor": 5
}
