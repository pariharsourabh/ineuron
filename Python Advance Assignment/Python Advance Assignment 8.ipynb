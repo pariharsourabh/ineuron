{
 "cells": [
  {
   "cell_type": "code",
   "execution_count": 1,
   "id": "8f6f7f37-cd67-4571-954d-ba51a0d66589",
   "metadata": {},
   "outputs": [],
   "source": [
    "# Q1. What are the two latest user-defined exception constraints in Python 3.X?"
   ]
  },
  {
   "cell_type": "code",
   "execution_count": 2,
   "id": "c857695e-5fa8-4c0a-806a-8c0b0f49f530",
   "metadata": {},
   "outputs": [],
   "source": [
    "# In Python 3.x, two user-defined exception constraints are that exception classes must inherit from the `BaseException` class and have a constructor that accepts at least one argument."
   ]
  },
  {
   "cell_type": "code",
   "execution_count": 3,
   "id": "94af2e0c-cb7e-4fed-82ee-6bd3ace8ad12",
   "metadata": {},
   "outputs": [],
   "source": [
    "# Q2. How are class-based exceptions that have been raised matched to handlers?"
   ]
  },
  {
   "cell_type": "code",
   "execution_count": 4,
   "id": "b03bcbef-e3d4-4462-9c23-bdee1c87f3a2",
   "metadata": {},
   "outputs": [],
   "source": [
    "# Class-based exceptions that have been raised are matched to handlers based on their inheritance hierarchy; Python checks handlers in the order they are defined in the code, and the first matching handler is executed."
   ]
  },
  {
   "cell_type": "code",
   "execution_count": 5,
   "id": "876400f7-97aa-4661-a589-a352764b45c0",
   "metadata": {},
   "outputs": [],
   "source": [
    "# Q3. Describe two methods for attaching context information to exception artefacts."
   ]
  },
  {
   "cell_type": "code",
   "execution_count": 7,
   "id": "4d1d76c6-54b2-461c-b2f8-a0f04229de3a",
   "metadata": {},
   "outputs": [],
   "source": [
    "# Custom Exception\n",
    "class MyException(Exception):\n",
    "    def __init__(self, message, context_data):\n",
    "        super().__init__(message)\n",
    "        self.context_data = context_data"
   ]
  },
  {
   "cell_type": "code",
   "execution_count": 8,
   "id": "aaea0bf9-86b4-4b4b-8e98-8ecd48ff0f88",
   "metadata": {},
   "outputs": [
    {
     "name": "stdout",
     "output_type": "stream",
     "text": [
      "Context information\n"
     ]
    }
   ],
   "source": [
    "# with Statement and Context Managers\n",
    "class ContextManager:\n",
    "    def __enter__(self):\n",
    "        self.context_data = \"Context information\"\n",
    "        return self\n",
    "\n",
    "    def __exit__(self, exc_type, exc_value, traceback):\n",
    "        pass\n",
    "\n",
    "with ContextManager() as cm:\n",
    "    # Code that may raise an exception\n",
    "    print(cm.context_data)"
   ]
  },
  {
   "cell_type": "code",
   "execution_count": 9,
   "id": "b6f2a686-a516-40d7-95f6-1625a6f80023",
   "metadata": {},
   "outputs": [],
   "source": [
    "# Q4. Describe two methods for specifying the text of an exception object's error message."
   ]
  },
  {
   "cell_type": "code",
   "execution_count": 10,
   "id": "43ed8d90-6af9-40a3-8974-05391542cd1f",
   "metadata": {},
   "outputs": [
    {
     "ename": "CustomException",
     "evalue": "This is a custom error message",
     "output_type": "error",
     "traceback": [
      "\u001b[0;31m---------------------------------------------------------------------------\u001b[0m",
      "\u001b[0;31mCustomException\u001b[0m                           Traceback (most recent call last)",
      "Cell \u001b[0;32mIn [10], line 6\u001b[0m\n\u001b[1;32m      3\u001b[0m     \u001b[38;5;28;01mdef\u001b[39;00m \u001b[38;5;21m__init__\u001b[39m(\u001b[38;5;28mself\u001b[39m, message):\n\u001b[1;32m      4\u001b[0m         \u001b[38;5;28msuper\u001b[39m()\u001b[38;5;241m.\u001b[39m\u001b[38;5;21m__init__\u001b[39m(message)\n\u001b[0;32m----> 6\u001b[0m \u001b[38;5;28;01mraise\u001b[39;00m CustomException(\u001b[38;5;124m\"\u001b[39m\u001b[38;5;124mThis is a custom error message\u001b[39m\u001b[38;5;124m\"\u001b[39m)\n",
      "\u001b[0;31mCustomException\u001b[0m: This is a custom error message"
     ]
    }
   ],
   "source": [
    "# Custom Exception Classes\n",
    "class CustomException(Exception):\n",
    "    def __init__(self, message):\n",
    "        super().__init__(message)\n",
    "\n",
    "raise CustomException(\"This is a custom error message\")"
   ]
  },
  {
   "cell_type": "code",
   "execution_count": 11,
   "id": "d61e232c-6f9e-49af-97ad-1c7efc81e105",
   "metadata": {},
   "outputs": [
    {
     "ename": "CustomException",
     "evalue": "Custom error message: ",
     "output_type": "error",
     "traceback": [
      "\u001b[0;31m---------------------------------------------------------------------------\u001b[0m",
      "\u001b[0;31mCustomException\u001b[0m                           Traceback (most recent call last)",
      "Cell \u001b[0;32mIn [11], line 6\u001b[0m\n\u001b[1;32m      3\u001b[0m     \u001b[38;5;28;01mdef\u001b[39;00m \u001b[38;5;21m__str__\u001b[39m(\u001b[38;5;28mself\u001b[39m):\n\u001b[1;32m      4\u001b[0m         \u001b[38;5;28;01mreturn\u001b[39;00m \u001b[38;5;124m\"\u001b[39m\u001b[38;5;124mCustom error message: \u001b[39m\u001b[38;5;124m\"\u001b[39m \u001b[38;5;241m+\u001b[39m \u001b[38;5;28msuper\u001b[39m()\u001b[38;5;241m.\u001b[39m\u001b[38;5;21m__str__\u001b[39m()\n\u001b[0;32m----> 6\u001b[0m \u001b[38;5;28;01mraise\u001b[39;00m CustomException()\n",
      "\u001b[0;31mCustomException\u001b[0m: Custom error message: "
     ]
    }
   ],
   "source": [
    "# str() or repr() Methods\n",
    "class CustomException(Exception):\n",
    "    def __str__(self):\n",
    "        return \"Custom error message: \" + super().__str__()\n",
    "\n",
    "raise CustomException()"
   ]
  },
  {
   "cell_type": "code",
   "execution_count": 12,
   "id": "34125a60-49f2-4225-98a8-155397081a43",
   "metadata": {},
   "outputs": [],
   "source": [
    "# Q5. Why do you no longer use string-based exceptions?"
   ]
  },
  {
   "cell_type": "code",
   "execution_count": 13,
   "id": "91a46e43-d2b7-403e-b140-34b000bc5bac",
   "metadata": {},
   "outputs": [],
   "source": [
    "# String-based exceptions are no longer used because they lack important information and functionality compared to class-based exceptions, which can store additional context, be caught more selectively, and support structured error handling."
   ]
  },
  {
   "cell_type": "code",
   "execution_count": null,
   "id": "013f47a6-57a2-4329-84d4-4fd2f8c0c158",
   "metadata": {},
   "outputs": [],
   "source": []
  }
 ],
 "metadata": {
  "kernelspec": {
   "display_name": "Python 3 (ipykernel)",
   "language": "python",
   "name": "python3"
  },
  "language_info": {
   "codemirror_mode": {
    "name": "ipython",
    "version": 3
   },
   "file_extension": ".py",
   "mimetype": "text/x-python",
   "name": "python",
   "nbconvert_exporter": "python",
   "pygments_lexer": "ipython3",
   "version": "3.10.6"
  }
 },
 "nbformat": 4,
 "nbformat_minor": 5
}
