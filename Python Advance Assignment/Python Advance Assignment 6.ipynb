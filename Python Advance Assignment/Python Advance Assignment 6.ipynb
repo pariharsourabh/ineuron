{
 "cells": [
  {
   "cell_type": "code",
   "execution_count": 1,
   "id": "1163adb1-4522-445d-8310-e5544d2befec",
   "metadata": {},
   "outputs": [],
   "source": [
    "# Q1. Describe three applications for exception processing."
   ]
  },
  {
   "cell_type": "code",
   "execution_count": 2,
   "id": "5fca36dd-2ec2-455a-b220-433cb4696b0e",
   "metadata": {},
   "outputs": [],
   "source": [
    "# Exception processing in programming serves various purposes, including:\n",
    "\n",
    "# 1. **Error Handling**: Exception handling allows you to gracefully handle errors and exceptional situations in your code. For example, you can catch and manage errors like division by zero, file not found, or network connection issues, preventing your program from crashing and providing meaningful error messages to users.\n",
    "\n",
    "# 2. **Robustness and Reliability**: Exceptions enhance the robustness and reliability of software by preventing unexpected issues from causing program termination. This is crucial in critical applications like operating systems, financial systems, and healthcare software, where program stability is paramount.\n",
    "\n",
    "# 3. **Flow Control**: Exception processing can also be used for flow control in specific scenarios. You can design your program to throw and catch exceptions to guide the program's execution based on specific conditions or requirements, making the code more flexible and adaptable.\n",
    "\n",
    "# Overall, exception processing is a powerful tool for handling errors, ensuring reliability, and controlling program flow in various applications."
   ]
  },
  {
   "cell_type": "code",
   "execution_count": 3,
   "id": "c7658c30-b0cc-475e-8b42-bbab6cc259c2",
   "metadata": {},
   "outputs": [],
   "source": [
    "# Q2. What happens if you don't do something extra to treat an exception?"
   ]
  },
  {
   "cell_type": "code",
   "execution_count": 4,
   "id": "4c1fdff2-7b26-4464-9d27-2cf22b550ebd",
   "metadata": {},
   "outputs": [],
   "source": [
    "# If you don't do something extra to treat an exception in your code, it will propagate up the call stack until it is caught and handled somewhere else, or it will cause your program to terminate. In Python, unhandled exceptions result in an error message and can lead to the termination of your program. This can disrupt the normal flow of your program, potentially causing data loss or other undesirable consequences. Therefore, it's important to handle exceptions appropriately to ensure robust and reliable code that can gracefully manage errors and exceptional situations. Handling exceptions typically involves using try and except blocks to provide specific error-handling logic and prevent your program from crashing."
   ]
  },
  {
   "cell_type": "code",
   "execution_count": 5,
   "id": "8921ec10-ed11-429d-935e-ba0f6326ca48",
   "metadata": {},
   "outputs": [],
   "source": [
    "# Q3. What are your options for recovering from an exception in your script?"
   ]
  },
  {
   "cell_type": "code",
   "execution_count": 6,
   "id": "8629141e-7cfc-4310-95e6-ac17af307a10",
   "metadata": {},
   "outputs": [],
   "source": [
    "# When an exception occurs in a script, you have several options for recovering from it:\n",
    "\n",
    "# 1. **Exception Handling (try-except):** You can use a `try` and `except` block to catch and handle the exception. In the `except` block, you can specify the code to execute when the exception occurs, allowing your script to gracefully recover from the error and continue running.\n",
    "\n",
    "# 2. **Logging and Reporting:** You can log the details of the exception, including the error message, stack trace, and any relevant context information. This helps you diagnose the issue and, if possible, take corrective action.\n",
    "\n",
    "# 3. **Retry Mechanism:** Depending on the nature of the exception, you can implement a retry mechanism to reattempt the operation that caused the exception. For example, in network operations, you can retry a connection a certain number of times before giving up.\n",
    "\n",
    "# 4. **Fallback or Default Values:** In some cases, you can use fallback values or default behavior to handle exceptions. If an exception occurs while processing data, you can use default data or behavior instead of failing.\n",
    "\n",
    "# 5. **Graceful Exit:** In certain situations, it might be appropriate to perform cleanup operations and exit the script gracefully, ensuring that any resources are released properly.\n",
    "\n",
    "# 6. **User Interaction:** If your script is running interactively, you can inform the user about the exception and ask for guidance or input to resolve the issue.\n",
    "\n",
    "# The specific approach to recovery will depend on the nature of the exception and the requirements of your script. Effective exception recovery strategies are designed to prevent program crashes, minimize data loss, and provide meaningful feedback to users."
   ]
  },
  {
   "cell_type": "code",
   "execution_count": 7,
   "id": "b8d12904-6ed3-46dd-b81f-cb3904b0610d",
   "metadata": {},
   "outputs": [],
   "source": [
    "# Q4. Describe two methods for triggering exceptions in your script."
   ]
  },
  {
   "cell_type": "code",
   "execution_count": 11,
   "id": "eb2f82b8-9257-4b3a-acfe-6c3e82d8ce34",
   "metadata": {},
   "outputs": [
    {
     "ename": "ValueError",
     "evalue": "This is a custom exception message.",
     "output_type": "error",
     "traceback": [
      "\u001b[0;31m---------------------------------------------------------------------------\u001b[0m",
      "\u001b[0;31mValueError\u001b[0m                                Traceback (most recent call last)",
      "Cell \u001b[0;32mIn [11], line 1\u001b[0m\n\u001b[0;32m----> 1\u001b[0m \u001b[38;5;28;01mraise\u001b[39;00m \u001b[38;5;167;01mValueError\u001b[39;00m(\u001b[38;5;124m\"\u001b[39m\u001b[38;5;124mThis is a custom exception message.\u001b[39m\u001b[38;5;124m\"\u001b[39m)\n",
      "\u001b[0;31mValueError\u001b[0m: This is a custom exception message."
     ]
    }
   ],
   "source": [
    "raise ValueError(\"This is a custom exception message.\")"
   ]
  },
  {
   "cell_type": "code",
   "execution_count": 9,
   "id": "20888a61-9c0d-487b-90f2-32acb74cc002",
   "metadata": {},
   "outputs": [
    {
     "name": "stdout",
     "output_type": "stream",
     "text": [
      "File not found: [Errno 2] No such file or directory: 'nonexistent_file.txt'\n"
     ]
    }
   ],
   "source": [
    "try:\n",
    "    file = open(\"nonexistent_file.txt\", \"r\")\n",
    "except FileNotFoundError as e:\n",
    "    print(f\"File not found: {e}\")"
   ]
  },
  {
   "cell_type": "code",
   "execution_count": 10,
   "id": "94645e11-7b13-4abc-adb6-f698cd47ab3d",
   "metadata": {},
   "outputs": [],
   "source": [
    "# Q5. Identify two methods for specifying actions to be executed at termination time, regardless of whether or not an exception exists."
   ]
  },
  {
   "cell_type": "code",
   "execution_count": 12,
   "id": "13674679-def4-46e8-b5b1-764ac3f9910b",
   "metadata": {},
   "outputs": [
    {
     "name": "stdout",
     "output_type": "stream",
     "text": [
      "Error: Division by zero\n",
      "Cleaning up resources\n"
     ]
    }
   ],
   "source": [
    "try:\n",
    "    # Code that may raise an exception\n",
    "    result = 10 / 0\n",
    "except ZeroDivisionError:\n",
    "    # Handle the exception\n",
    "    print(\"Error: Division by zero\")\n",
    "finally:\n",
    "    # This block always runs, exception or not\n",
    "    print(\"Cleaning up resources\")"
   ]
  },
  {
   "cell_type": "code",
   "execution_count": 13,
   "id": "72820281-b100-4e5e-a21c-e67519f5b3ee",
   "metadata": {},
   "outputs": [
    {
     "ename": "ZeroDivisionError",
     "evalue": "division by zero",
     "output_type": "error",
     "traceback": [
      "\u001b[0;31m---------------------------------------------------------------------------\u001b[0m",
      "\u001b[0;31mZeroDivisionError\u001b[0m                         Traceback (most recent call last)",
      "Cell \u001b[0;32mIn [13], line 11\u001b[0m\n\u001b[1;32m      8\u001b[0m atexit\u001b[38;5;241m.\u001b[39mregister(cleanup)\n\u001b[1;32m     10\u001b[0m \u001b[38;5;66;03m# Code that may raise an exception\u001b[39;00m\n\u001b[0;32m---> 11\u001b[0m result \u001b[38;5;241m=\u001b[39m \u001b[38;5;241;43m10\u001b[39;49m\u001b[43m \u001b[49m\u001b[38;5;241;43m/\u001b[39;49m\u001b[43m \u001b[49m\u001b[38;5;241;43m0\u001b[39;49m\n",
      "\u001b[0;31mZeroDivisionError\u001b[0m: division by zero"
     ]
    }
   ],
   "source": [
    "import atexit\n",
    "\n",
    "def cleanup():\n",
    "    # Perform cleanup actions\n",
    "    print(\"Cleaning up resources\")\n",
    "\n",
    "# Register the cleanup function\n",
    "atexit.register(cleanup)\n",
    "\n",
    "# Code that may raise an exception\n",
    "result = 10 / 0"
   ]
  },
  {
   "cell_type": "code",
   "execution_count": null,
   "id": "bbbcc517-2f97-4ba1-a3b3-d65224b5a442",
   "metadata": {},
   "outputs": [],
   "source": []
  }
 ],
 "metadata": {
  "kernelspec": {
   "display_name": "Python 3 (ipykernel)",
   "language": "python",
   "name": "python3"
  },
  "language_info": {
   "codemirror_mode": {
    "name": "ipython",
    "version": 3
   },
   "file_extension": ".py",
   "mimetype": "text/x-python",
   "name": "python",
   "nbconvert_exporter": "python",
   "pygments_lexer": "ipython3",
   "version": "3.10.6"
  }
 },
 "nbformat": 4,
 "nbformat_minor": 5
}
