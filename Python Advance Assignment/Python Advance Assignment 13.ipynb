{
 "cells": [
  {
   "cell_type": "code",
   "execution_count": 1,
   "id": "d4c84f2e-a41b-4e54-ab5e-e6e799b7ca56",
   "metadata": {},
   "outputs": [],
   "source": [
    "# Q1. Can you create a programme or function that employs both positive and negative indexing? Is there any repercussion if you do so?"
   ]
  },
  {
   "cell_type": "code",
   "execution_count": 2,
   "id": "d56101ab-76c5-4322-9b7f-457621e1f40f",
   "metadata": {},
   "outputs": [
    {
     "name": "stdout",
     "output_type": "stream",
     "text": [
      "First: 1, Last: 5, Third: 3, Second Last: 4\n"
     ]
    }
   ],
   "source": [
    "def access_elements(my_list):\n",
    "    if len(my_list) < 4:\n",
    "        return \"List is too short.\"\n",
    "    \n",
    "    first_element = my_list[0]\n",
    "    last_element = my_list[-1]\n",
    "    third_element = my_list[2]\n",
    "    second_last_element = my_list[-2]\n",
    "\n",
    "    return f\"First: {first_element}, Last: {last_element}, Third: {third_element}, Second Last: {second_last_element}\"\n",
    "\n",
    "my_list = [1, 2, 3, 4, 5]\n",
    "result = access_elements(my_list)\n",
    "print(result)"
   ]
  },
  {
   "cell_type": "code",
   "execution_count": 3,
   "id": "9fd9b7af-83d5-4efe-903c-c62c7faa3986",
   "metadata": {},
   "outputs": [],
   "source": [
    "# Q2. What is the most effective way of starting with 1,000 elements in a Python list? Assume that all elements should be set to the same value."
   ]
  },
  {
   "cell_type": "code",
   "execution_count": 4,
   "id": "dd8a9357-d5bc-4f19-8a3b-239b82911f93",
   "metadata": {},
   "outputs": [],
   "source": [
    "value = 42\n",
    "my_list = [value] * 1000"
   ]
  },
  {
   "cell_type": "code",
   "execution_count": 5,
   "id": "098d1a8d-1eda-49b4-8808-5e00e488a962",
   "metadata": {},
   "outputs": [],
   "source": [
    "# Q3. How do you slice a list to get any other part while missing the rest? (For example, suppose you want to make a new list with the elements first, third, fifth, seventh, and so on.)"
   ]
  },
  {
   "cell_type": "code",
   "execution_count": 6,
   "id": "3141efa8-738f-4e81-88b6-678e27faea45",
   "metadata": {},
   "outputs": [
    {
     "name": "stdout",
     "output_type": "stream",
     "text": [
      "[1, 3, 5, 7, 9]\n"
     ]
    }
   ],
   "source": [
    "original_list = [1, 2, 3, 4, 5, 6, 7, 8, 9]\n",
    "new_list = original_list[::2]\n",
    "\n",
    "print(new_list)"
   ]
  },
  {
   "cell_type": "code",
   "execution_count": 7,
   "id": "29127dd7-6248-4280-b0de-620c059c838b",
   "metadata": {},
   "outputs": [],
   "source": [
    "# Q4. Explain the distinctions between indexing and slicing."
   ]
  },
  {
   "cell_type": "code",
   "execution_count": 8,
   "id": "21065ceb-6976-4778-aac2-8bba8780c86b",
   "metadata": {},
   "outputs": [],
   "source": [
    "# indexing retrieves a single element, while slicing extracts a range of elements to create a new sequence. Slicing is more versatile as it can handle multiple elements, whereas indexing focuses on accessing a specific single element at a given position."
   ]
  },
  {
   "cell_type": "code",
   "execution_count": 9,
   "id": "7c10d243-5b8c-4835-9bd9-c741468e756a",
   "metadata": {},
   "outputs": [],
   "source": [
    "# Q5. What happens if one of the slicing expression's indexes is out of range?"
   ]
  },
  {
   "cell_type": "code",
   "execution_count": 10,
   "id": "2f0bc39a-28d1-40b1-be85-7f134a575527",
   "metadata": {},
   "outputs": [
    {
     "name": "stdout",
     "output_type": "stream",
     "text": [
      "[]\n",
      "[1, 2, 3, 4, 5]\n",
      "[1, 2, 3]\n",
      "[]\n"
     ]
    }
   ],
   "source": [
    "my_list = [1, 2, 3, 4, 5]\n",
    "\n",
    "result1 = my_list[6:]\n",
    "result2 = my_list[:10]\n",
    "result3 = my_list[-10:3]\n",
    "result4 = my_list[2:-10]\n",
    "\n",
    "print(result1)\n",
    "print(result2)\n",
    "print(result3)\n",
    "print(result4)"
   ]
  },
  {
   "cell_type": "code",
   "execution_count": 11,
   "id": "28f32195-782c-45a3-94d2-ed38ceb367f2",
   "metadata": {},
   "outputs": [],
   "source": [
    "# Q6. If you pass a list to a function, and if you want the function to be able to change the values of the list—so that the list is different after the function returns—what action should you avoid?"
   ]
  },
  {
   "cell_type": "code",
   "execution_count": 12,
   "id": "73a6a801-d426-41db-8c76-7995e99f5824",
   "metadata": {},
   "outputs": [
    {
     "name": "stdout",
     "output_type": "stream",
     "text": [
      "[10, 20, 30]\n"
     ]
    }
   ],
   "source": [
    "def modify_list(my_list):\n",
    "    my_list = [1, 2, 3, 4, 5]\n",
    "\n",
    "my_list = [10, 20, 30]\n",
    "modify_list(my_list)\n",
    "print(my_list)"
   ]
  },
  {
   "cell_type": "code",
   "execution_count": 13,
   "id": "790a30fd-7ca8-4888-9855-b6cd846a5a2f",
   "metadata": {},
   "outputs": [],
   "source": [
    "# Q7. What is the concept of an unbalanced matrix?"
   ]
  },
  {
   "cell_type": "code",
   "execution_count": 15,
   "id": "df790996-3a2a-4689-ad49-05e75a061020",
   "metadata": {},
   "outputs": [],
   "source": [
    "# an \"unbalanced matrix\" typically refers to a matrix that does not have the same number of rows and columns, making it irregular or non-square. "
   ]
  },
  {
   "cell_type": "code",
   "execution_count": 14,
   "id": "c5061df0-f07b-4c3b-87e6-0fdbdc757b49",
   "metadata": {},
   "outputs": [
    {
     "name": "stdout",
     "output_type": "stream",
     "text": [
      "[[1 2 3]\n",
      " [4 5 6]]\n"
     ]
    }
   ],
   "source": [
    "import numpy as np\n",
    "\n",
    "unbalanced_matrix = np.array([[1, 2, 3], [4, 5, 6]])\n",
    "\n",
    "print(unbalanced_matrix)"
   ]
  },
  {
   "cell_type": "code",
   "execution_count": 16,
   "id": "3650c27e-b090-4dfe-ade4-1a27a705a065",
   "metadata": {},
   "outputs": [],
   "source": [
    "# Q8. Why is it necessary to use either list comprehension or a loop to create arbitrarily large matrices?"
   ]
  },
  {
   "cell_type": "code",
   "execution_count": 17,
   "id": "ad864361-d810-42cc-abea-51fd888b78af",
   "metadata": {},
   "outputs": [],
   "source": [
    "# When you want to create arbitrarily large matrices in Python, it's essential to use either list comprehension or a loop because it allows you to generate and populate the matrix efficiently without having to write each element individually"
   ]
  },
  {
   "cell_type": "code",
   "execution_count": 18,
   "id": "ee941ef1-f18f-4163-83ec-204c7725353e",
   "metadata": {},
   "outputs": [],
   "source": [
    "matrix = [[i + j for j in range(3)] for i in range(3)]"
   ]
  },
  {
   "cell_type": "code",
   "execution_count": 19,
   "id": "0061590c-cbf7-44fd-8940-bb6fbeda078b",
   "metadata": {},
   "outputs": [
    {
     "data": {
      "text/plain": [
       "[[0, 1, 2], [1, 2, 3], [2, 3, 4]]"
      ]
     },
     "execution_count": 19,
     "metadata": {},
     "output_type": "execute_result"
    }
   ],
   "source": [
    "matrix"
   ]
  },
  {
   "cell_type": "code",
   "execution_count": null,
   "id": "d063df34-4ecb-4aff-a3fc-83717926eaec",
   "metadata": {},
   "outputs": [],
   "source": []
  }
 ],
 "metadata": {
  "kernelspec": {
   "display_name": "Python 3 (ipykernel)",
   "language": "python",
   "name": "python3"
  },
  "language_info": {
   "codemirror_mode": {
    "name": "ipython",
    "version": 3
   },
   "file_extension": ".py",
   "mimetype": "text/x-python",
   "name": "python",
   "nbconvert_exporter": "python",
   "pygments_lexer": "ipython3",
   "version": "3.10.6"
  }
 },
 "nbformat": 4,
 "nbformat_minor": 5
}
