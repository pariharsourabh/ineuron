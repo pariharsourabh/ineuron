{
 "cells": [
  {
   "cell_type": "code",
   "execution_count": 1,
   "id": "693fa766-ff65-4057-a2e6-5bcfb972a8a7",
   "metadata": {},
   "outputs": [],
   "source": [
    "# Write a function that takes a list of numbers as input and returns a new list containing only the even numbers from the input list. Use list comprehension to solve this problem.\n",
    "\n",
    "# Example:\n",
    "\n",
    "# Input: [1, 2, 3, 4, 5, 6, 7, 8, 9, 10]\n",
    "\n",
    "# Output: [2, 4, 6, 8, 10]"
   ]
  },
  {
   "cell_type": "code",
   "execution_count": 5,
   "id": "f6ab4168-43fe-44d3-bf09-735d12c3dcc0",
   "metadata": {},
   "outputs": [],
   "source": [
    "def mylist(lst):\n",
    "    new_list = [i for i in lst if i % 2 ==0]\n",
    "    return new_list"
   ]
  },
  {
   "cell_type": "code",
   "execution_count": 9,
   "id": "db19ae70-a69b-4ccf-b351-602092b66aa6",
   "metadata": {},
   "outputs": [
    {
     "data": {
      "text/plain": [
       "[2, 4, 6, 8, 10]"
      ]
     },
     "execution_count": 9,
     "metadata": {},
     "output_type": "execute_result"
    }
   ],
   "source": [
    "mylist([1, 2, 3, 4, 5, 6, 7, 8, 9, 10])"
   ]
  },
  {
   "cell_type": "code",
   "execution_count": 8,
   "id": "3304c4e4-9911-40d1-b04a-7c0a99c7c5fa",
   "metadata": {},
   "outputs": [],
   "source": [
    "# Implement a decorator function called ‘timer’ that measures the execution time of a function. The ‘timer’ decorator should print the time taken by the decorated function to execute. Use the ‘time’ module in Python to calculate the execution time.\n",
    "\n",
    "# Example:\n",
    "\n",
    "# import time\n",
    "\n",
    "# @timer\n",
    "# def my_function():\n",
    "#     # Function code goes here\n",
    "#     time.sleep(2)\n",
    "\n",
    "# my_function()\n",
    "\n",
    "# Output:\n",
    "# \"Execution time: 2.00123 seconds\""
   ]
  },
  {
   "cell_type": "code",
   "execution_count": 12,
   "id": "dd155874-8f51-4662-a72a-e04d0d773446",
   "metadata": {},
   "outputs": [],
   "source": [
    "import time\n",
    "def timer(func):\n",
    "    def wrapper(*args,**kwargs):\n",
    "        start_time= time.time()\n",
    "        result =func(*args,**kwargs)\n",
    "        end_time =time.time()\n",
    "        execution_time = end_time - start_time\n",
    "        print(f\"Execution time : {execution_time} seconds\")\n",
    "        return result\n",
    "    return wrapper\n"
   ]
  },
  {
   "cell_type": "code",
   "execution_count": 13,
   "id": "ea8d3609-40c6-4d16-b671-42afb203b885",
   "metadata": {},
   "outputs": [
    {
     "name": "stdout",
     "output_type": "stream",
     "text": [
      "Execution time : 2.002065896987915 seconds\n"
     ]
    }
   ],
   "source": [
    "@timer\n",
    "def myfunc():\n",
    "    time.sleep(2)\n",
    "\n",
    "myfunc()"
   ]
  },
  {
   "cell_type": "code",
   "execution_count": 14,
   "id": "a3d7bf6f-509e-44a8-9a3a-d837676da3bb",
   "metadata": {},
   "outputs": [],
   "source": [
    "# Write a function called ‘calculate_mean’ that takes a list of numbers as input and returns the mean (average) of the numbers. The function should calculate the mean using the sum of the numbers divided by the total count.\n",
    "\n",
    "# Example:\n",
    "\n",
    "# def calculate_mean(numbers):\n",
    "#     total = sum(numbers)\n",
    "#     count = len(numbers)\n",
    "#     mean = total / count\n",
    "#     return mean\n",
    "\n",
    "# data = [10, 15, 20, 25, 30]\n",
    "# mean_value = calculate_mean(data)\n",
    "# print(\"Mean:\", mean_value)\n",
    "\n",
    "# Output:\n",
    "# Mean: 20.0"
   ]
  },
  {
   "cell_type": "code",
   "execution_count": 15,
   "id": "5e7f0782-31ff-4d4c-8fd3-5ba561227743",
   "metadata": {},
   "outputs": [],
   "source": [
    "def calculate_mean(num):\n",
    "    total = sum(num)\n",
    "    count = len(num)\n",
    "    mean = total/count\n",
    "    return mean"
   ]
  },
  {
   "cell_type": "code",
   "execution_count": 16,
   "id": "3e81a6c1-0eb4-4328-b4b2-7a74de26e8f0",
   "metadata": {},
   "outputs": [
    {
     "data": {
      "text/plain": [
       "20.0"
      ]
     },
     "execution_count": 16,
     "metadata": {},
     "output_type": "execute_result"
    }
   ],
   "source": [
    "calculate_mean([10, 15, 20, 25, 30])"
   ]
  },
  {
   "cell_type": "code",
   "execution_count": 17,
   "id": "3b1a1da7-eeb4-4f8f-878b-770f266af618",
   "metadata": {},
   "outputs": [],
   "source": [
    "# Write a function called ‘perform_hypothesis_test’ that takes two lists of numbers as input, representing two samples. The function should perform a two-sample t-test and return the p-value. Use the ‘scipy.stats’ module in Python to calculate the t-test and p-value.\n",
    "\n",
    "# Example:\n",
    "\n",
    "# from scipy import stats\n",
    "\n",
    "# def perform_hypothesis_test(sample1, sample2):\n",
    "#     t_statistic, p_value = stats.ttest_ind(sample1, sample2)\n",
    "#     return p_value\n",
    "\n",
    "# sample1 = [5, 10, 15, 20, 25]\n",
    "# sample2 = [10, 20, 30, 40, 50]\n",
    "# p_value = perform_hypothesis_test(sample1, sample2)\n",
    "# print(\"P-value:\", p_value)\n",
    "\n",
    "# Output:\n",
    "# P-value: 0.1064706396450037"
   ]
  },
  {
   "cell_type": "code",
   "execution_count": 18,
   "id": "05dad68e-a364-43e3-9ec7-13f2a9e71c78",
   "metadata": {},
   "outputs": [],
   "source": [
    "from scipy import stats\n",
    "\n",
    "def perform_hypothesis_test(s1, s2):\n",
    "    t_statistic, p_value = stats.ttest_ind(s1, s2)\n",
    "    return p_value"
   ]
  },
  {
   "cell_type": "code",
   "execution_count": 19,
   "id": "ee7ffca0-583c-4032-a314-1f2252e2c16f",
   "metadata": {},
   "outputs": [
    {
     "data": {
      "text/plain": [
       "0.09434977284243756"
      ]
     },
     "execution_count": 19,
     "metadata": {},
     "output_type": "execute_result"
    }
   ],
   "source": [
    "perform_hypothesis_test([5, 10, 15, 20, 25],[10, 20, 30, 40, 50])"
   ]
  },
  {
   "cell_type": "code",
   "execution_count": null,
   "id": "a901a6c1-f96e-45e8-bfa5-239a834ca52c",
   "metadata": {},
   "outputs": [],
   "source": []
  }
 ],
 "metadata": {
  "kernelspec": {
   "display_name": "Python 3 (ipykernel)",
   "language": "python",
   "name": "python3"
  },
  "language_info": {
   "codemirror_mode": {
    "name": "ipython",
    "version": 3
   },
   "file_extension": ".py",
   "mimetype": "text/x-python",
   "name": "python",
   "nbconvert_exporter": "python",
   "pygments_lexer": "ipython3",
   "version": "3.10.6"
  }
 },
 "nbformat": 4,
 "nbformat_minor": 5
}
